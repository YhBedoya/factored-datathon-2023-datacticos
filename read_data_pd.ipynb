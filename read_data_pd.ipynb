{
 "cells": [
  {
   "cell_type": "markdown",
   "metadata": {},
   "source": [
    "## Read data Reviews"
   ]
  },
  {
   "cell_type": "code",
   "execution_count": 1,
   "metadata": {},
   "outputs": [
    {
     "name": "stdout",
     "output_type": "stream",
     "text": [
      "['dummy_data/amazon_reviews\\\\partition_1\\\\part-00000-tid-9136122565017344171-3f98196e-e0c5-4bb5-90cc-d523170ef713-86080-1-c000.json.gz', 'dummy_data/amazon_reviews\\\\partition_2\\\\part-00000-tid-3563586395744623593-6cf89272-204c-4842-8213-a9fededc6c3e-86436-1-c000.json.gz']\n"
     ]
    }
   ],
   "source": [
    "#Read all the json files paths under the folder dummy_data/amazon_reviews\n",
    "from glob2 import glob\n",
    "jsonFiles = glob('dummy_data/amazon_reviews/**/*.json.gz')\n",
    "print(jsonFiles)"
   ]
  },
  {
   "cell_type": "code",
   "execution_count": 23,
   "metadata": {},
   "outputs": [],
   "source": [
    "#Create a single dataframe from all the json files\n",
    "import pandas as pd\n",
    "dfList = []\n",
    "for jsonFile in jsonFiles:\n",
    "    df = pd.read_json(jsonFile, lines=True,compression='gzip')\n",
    "    dfList.append(df)\n",
    "    \n",
    "df_reviews = pd.concat(dfList, axis=0)"
   ]
  },
  {
   "cell_type": "markdown",
   "metadata": {},
   "source": [
    "## Exploratory Data Analysis"
   ]
  },
  {
   "cell_type": "code",
   "execution_count": null,
   "metadata": {},
   "outputs": [],
   "source": [
    "#Meaning of the columns:\n",
    "\n",
    "## amazon_reviews:\n",
    "\n",
    "\"\"\" \n",
    "reviewerID - ID of the reviewer, e.g. A2SUAM1J3GNN3B\n",
    "asin - ID of the product, e.g. 0000013714\n",
    "reviewerName - name of the reviewer\n",
    "vote - helpful votes of the review\n",
    "style - a disctionary of the product metadata, e.g., \"Format\" is \"Hardcover\"\n",
    "reviewText - text of the review\n",
    "overall - rating of the product\n",
    "summary - summary of the review\n",
    "unixReviewTime - time of the review (unix time)\n",
    "reviewTime - time of the review (raw)\n",
    "image - images that users post after they have received the product \n",
    "\"\"\"\n",
    "\n",
    "## amazon_metadata:\n",
    "\n",
    "\"\"\"\n",
    "asin - ID of the product, e.g. 0000031852\n",
    "title - name of the product\n",
    "feature - bullet-point format features of the product\n",
    "description - description of the product\n",
    "price - price in US dollars (at time of crawl)\n",
    "imageURL - url of the product image\n",
    "imageURL - url of the high resolution product image\n",
    "related - related products (also bought, also viewed, bought together, buy after viewing)\n",
    "salesRank - sales rank information\n",
    "brand - brand name\n",
    "categories - list of categories the product belongs to\n",
    "tech1 - the first technical detail table of the product\n",
    "tech2 - the second technical detail table of the product\n",
    "similar - similar product table\n",
    "\"\"\""
   ]
  },
  {
   "cell_type": "code",
   "execution_count": 24,
   "metadata": {},
   "outputs": [
    {
     "data": {
      "text/plain": [
       "(111866, 11)"
      ]
     },
     "execution_count": 24,
     "metadata": {},
     "output_type": "execute_result"
    }
   ],
   "source": [
    "df_reviews.shape"
   ]
  },
  {
   "cell_type": "code",
   "execution_count": 25,
   "metadata": {},
   "outputs": [
    {
     "data": {
      "text/html": [
       "<div>\n",
       "<style scoped>\n",
       "    .dataframe tbody tr th:only-of-type {\n",
       "        vertical-align: middle;\n",
       "    }\n",
       "\n",
       "    .dataframe tbody tr th {\n",
       "        vertical-align: top;\n",
       "    }\n",
       "\n",
       "    .dataframe thead th {\n",
       "        text-align: right;\n",
       "    }\n",
       "</style>\n",
       "<table border=\"1\" class=\"dataframe\">\n",
       "  <thead>\n",
       "    <tr style=\"text-align: right;\">\n",
       "      <th></th>\n",
       "      <th>asin</th>\n",
       "      <th>overall</th>\n",
       "      <th>reviewText</th>\n",
       "      <th>reviewerID</th>\n",
       "      <th>reviewerName</th>\n",
       "      <th>summary</th>\n",
       "      <th>unixReviewTime</th>\n",
       "      <th>verified</th>\n",
       "      <th>style</th>\n",
       "      <th>vote</th>\n",
       "      <th>image</th>\n",
       "    </tr>\n",
       "  </thead>\n",
       "  <tbody>\n",
       "    <tr>\n",
       "      <th>0</th>\n",
       "      <td>B00005QDPX</td>\n",
       "      <td>5</td>\n",
       "      <td>Crazy Taxi is by far one of the best video gam...</td>\n",
       "      <td>A36TDX8DY2XK5Q</td>\n",
       "      <td>Some Kid</td>\n",
       "      <td>It's Party Time! Let's Have Some Fun!</td>\n",
       "      <td>1054252800</td>\n",
       "      <td>false</td>\n",
       "      <td>NaN</td>\n",
       "      <td>NaN</td>\n",
       "      <td>NaN</td>\n",
       "    </tr>\n",
       "    <tr>\n",
       "      <th>1</th>\n",
       "      <td>B000MXIMKK</td>\n",
       "      <td>4</td>\n",
       "      <td>I love these pants!\\n\\nFor those of us who sla...</td>\n",
       "      <td>AZZ1YPRM2FAUH</td>\n",
       "      <td>David Colgrove</td>\n",
       "      <td>Durable, good looking slacks at a reasonable p...</td>\n",
       "      <td>1459900800</td>\n",
       "      <td>true</td>\n",
       "      <td>{\"Size:\":\" 33W x 30L\",\"Color:\":\" Graphite\"}</td>\n",
       "      <td>6.0</td>\n",
       "      <td>NaN</td>\n",
       "    </tr>\n",
       "    <tr>\n",
       "      <th>2</th>\n",
       "      <td>B00005QDPX</td>\n",
       "      <td>2</td>\n",
       "      <td>Anyone who hasn't played this game should rent...</td>\n",
       "      <td>A3PASG15BRR40D</td>\n",
       "      <td>SleepyJD</td>\n",
       "      <td>A fun game that gets old too quickly</td>\n",
       "      <td>1049414400</td>\n",
       "      <td>false</td>\n",
       "      <td>NaN</td>\n",
       "      <td>NaN</td>\n",
       "      <td>NaN</td>\n",
       "    </tr>\n",
       "    <tr>\n",
       "      <th>3</th>\n",
       "      <td>B000MXIMKK</td>\n",
       "      <td>5</td>\n",
       "      <td>Great pants and nice crease.</td>\n",
       "      <td>A388UHKJN07JJT</td>\n",
       "      <td>TJK</td>\n",
       "      <td>Great Product</td>\n",
       "      <td>1459900800</td>\n",
       "      <td>true</td>\n",
       "      <td>{\"Size:\":\" 42W x 30L\",\"Color:\":\" Black\"}</td>\n",
       "      <td>NaN</td>\n",
       "      <td>NaN</td>\n",
       "    </tr>\n",
       "    <tr>\n",
       "      <th>4</th>\n",
       "      <td>B00005QDPX</td>\n",
       "      <td>4</td>\n",
       "      <td>In this game you choose a driver and car then ...</td>\n",
       "      <td>A29YLR71A42A3N</td>\n",
       "      <td>Amazon Customer</td>\n",
       "      <td>Fun and Entertaining</td>\n",
       "      <td>1040860800</td>\n",
       "      <td>false</td>\n",
       "      <td>NaN</td>\n",
       "      <td>3.0</td>\n",
       "      <td>NaN</td>\n",
       "    </tr>\n",
       "  </tbody>\n",
       "</table>\n",
       "</div>"
      ],
      "text/plain": [
       "         asin  overall                                         reviewText  \\\n",
       "0  B00005QDPX        5  Crazy Taxi is by far one of the best video gam...   \n",
       "1  B000MXIMKK        4  I love these pants!\\n\\nFor those of us who sla...   \n",
       "2  B00005QDPX        2  Anyone who hasn't played this game should rent...   \n",
       "3  B000MXIMKK        5                       Great pants and nice crease.   \n",
       "4  B00005QDPX        4  In this game you choose a driver and car then ...   \n",
       "\n",
       "       reviewerID     reviewerName  \\\n",
       "0  A36TDX8DY2XK5Q         Some Kid   \n",
       "1   AZZ1YPRM2FAUH   David Colgrove   \n",
       "2  A3PASG15BRR40D         SleepyJD   \n",
       "3  A388UHKJN07JJT              TJK   \n",
       "4  A29YLR71A42A3N  Amazon Customer   \n",
       "\n",
       "                                             summary  unixReviewTime verified  \\\n",
       "0              It's Party Time! Let's Have Some Fun!      1054252800    false   \n",
       "1  Durable, good looking slacks at a reasonable p...      1459900800     true   \n",
       "2               A fun game that gets old too quickly      1049414400    false   \n",
       "3                                      Great Product      1459900800     true   \n",
       "4                               Fun and Entertaining      1040860800    false   \n",
       "\n",
       "                                         style  vote image  \n",
       "0                                          NaN   NaN   NaN  \n",
       "1  {\"Size:\":\" 33W x 30L\",\"Color:\":\" Graphite\"}   6.0   NaN  \n",
       "2                                          NaN   NaN   NaN  \n",
       "3     {\"Size:\":\" 42W x 30L\",\"Color:\":\" Black\"}   NaN   NaN  \n",
       "4                                          NaN   3.0   NaN  "
      ]
     },
     "execution_count": 25,
     "metadata": {},
     "output_type": "execute_result"
    }
   ],
   "source": [
    "df_reviews.head()"
   ]
  },
  {
   "cell_type": "code",
   "execution_count": 26,
   "metadata": {},
   "outputs": [
    {
     "data": {
      "text/plain": [
       "asin                4421\n",
       "overall                5\n",
       "reviewText        100433\n",
       "reviewerID         91614\n",
       "reviewerName       69822\n",
       "summary            71093\n",
       "unixReviewTime      6043\n",
       "verified               2\n",
       "style               4248\n",
       "vote                 174\n",
       "image                582\n",
       "dtype: int64"
      ]
     },
     "execution_count": 26,
     "metadata": {},
     "output_type": "execute_result"
    }
   ],
   "source": [
    "#Check the number of unique values in each column\n",
    "df_reviews.nunique(axis=0)"
   ]
  },
  {
   "cell_type": "code",
   "execution_count": 27,
   "metadata": {},
   "outputs": [
    {
     "data": {
      "text/plain": [
       "asin                   0\n",
       "overall                0\n",
       "reviewText            52\n",
       "reviewerID             0\n",
       "reviewerName           0\n",
       "summary               22\n",
       "unixReviewTime         0\n",
       "verified               0\n",
       "style              49217\n",
       "vote               88369\n",
       "image             111252\n",
       "dtype: int64"
      ]
     },
     "execution_count": 27,
     "metadata": {},
     "output_type": "execute_result"
    }
   ],
   "source": [
    "#Check for number of missing values in columns\n",
    "df_reviews.isna().sum()"
   ]
  },
  {
   "cell_type": "code",
   "execution_count": 28,
   "metadata": {},
   "outputs": [
    {
     "data": {
      "text/html": [
       "<div>\n",
       "<style scoped>\n",
       "    .dataframe tbody tr th:only-of-type {\n",
       "        vertical-align: middle;\n",
       "    }\n",
       "\n",
       "    .dataframe tbody tr th {\n",
       "        vertical-align: top;\n",
       "    }\n",
       "\n",
       "    .dataframe thead th {\n",
       "        text-align: right;\n",
       "    }\n",
       "</style>\n",
       "<table border=\"1\" class=\"dataframe\">\n",
       "  <thead>\n",
       "    <tr style=\"text-align: right;\">\n",
       "      <th></th>\n",
       "      <th>overall</th>\n",
       "      <th>vote</th>\n",
       "    </tr>\n",
       "  </thead>\n",
       "  <tbody>\n",
       "    <tr>\n",
       "      <th>count</th>\n",
       "      <td>111866.000000</td>\n",
       "      <td>23497.000000</td>\n",
       "    </tr>\n",
       "    <tr>\n",
       "      <th>mean</th>\n",
       "      <td>4.196816</td>\n",
       "      <td>7.710601</td>\n",
       "    </tr>\n",
       "    <tr>\n",
       "      <th>std</th>\n",
       "      <td>1.224286</td>\n",
       "      <td>17.250685</td>\n",
       "    </tr>\n",
       "    <tr>\n",
       "      <th>min</th>\n",
       "      <td>1.000000</td>\n",
       "      <td>2.000000</td>\n",
       "    </tr>\n",
       "    <tr>\n",
       "      <th>25%</th>\n",
       "      <td>4.000000</td>\n",
       "      <td>2.000000</td>\n",
       "    </tr>\n",
       "    <tr>\n",
       "      <th>50%</th>\n",
       "      <td>5.000000</td>\n",
       "      <td>4.000000</td>\n",
       "    </tr>\n",
       "    <tr>\n",
       "      <th>75%</th>\n",
       "      <td>5.000000</td>\n",
       "      <td>7.000000</td>\n",
       "    </tr>\n",
       "    <tr>\n",
       "      <th>max</th>\n",
       "      <td>5.000000</td>\n",
       "      <td>646.000000</td>\n",
       "    </tr>\n",
       "  </tbody>\n",
       "</table>\n",
       "</div>"
      ],
      "text/plain": [
       "             overall          vote\n",
       "count  111866.000000  23497.000000\n",
       "mean        4.196816      7.710601\n",
       "std         1.224286     17.250685\n",
       "min         1.000000      2.000000\n",
       "25%         4.000000      2.000000\n",
       "50%         5.000000      4.000000\n",
       "75%         5.000000      7.000000\n",
       "max         5.000000    646.000000"
      ]
     },
     "execution_count": 28,
     "metadata": {},
     "output_type": "execute_result"
    }
   ],
   "source": [
    "df_reviews[[\"overall\",\"vote\"]].describe()"
   ]
  },
  {
   "cell_type": "code",
   "execution_count": 29,
   "metadata": {},
   "outputs": [
    {
     "data": {
      "image/png": "[encoded data removed]",
      "text/plain": [
       "<Figure size 1000x500 with 2 Axes>"
      ]
     },
     "metadata": {},
     "output_type": "display_data"
    }
   ],
   "source": [
    "#Plot the histogram of the overall ratings and votes\n",
    "df_reviews_hist = df_reviews[[\"overall\",\"vote\"]].hist(bins=10,figsize=(10,5))"
   ]
  },
  {
   "cell_type": "code",
   "execution_count": null,
   "metadata": {},
   "outputs": [],
   "source": []
  },
  {
   "cell_type": "code",
   "execution_count": 20,
   "metadata": {},
   "outputs": [
    {
     "data": {
      "text/html": [
       "<div>\n",
       "<style scoped>\n",
       "    .dataframe tbody tr th:only-of-type {\n",
       "        vertical-align: middle;\n",
       "    }\n",
       "\n",
       "    .dataframe tbody tr th {\n",
       "        vertical-align: top;\n",
       "    }\n",
       "\n",
       "    .dataframe thead th {\n",
       "        text-align: right;\n",
       "    }\n",
       "</style>\n",
       "<table border=\"1\" class=\"dataframe\">\n",
       "  <thead>\n",
       "    <tr style=\"text-align: right;\">\n",
       "      <th></th>\n",
       "      <th>mean</th>\n",
       "      <th>count</th>\n",
       "    </tr>\n",
       "    <tr>\n",
       "      <th>asin</th>\n",
       "      <th></th>\n",
       "      <th></th>\n",
       "    </tr>\n",
       "  </thead>\n",
       "  <tbody>\n",
       "    <tr>\n",
       "      <th>B00002NB7E</th>\n",
       "      <td>5.000000</td>\n",
       "      <td>4</td>\n",
       "    </tr>\n",
       "    <tr>\n",
       "      <th>B00004YMG0</th>\n",
       "      <td>5.000000</td>\n",
       "      <td>1</td>\n",
       "    </tr>\n",
       "    <tr>\n",
       "      <th>B000050AUM</th>\n",
       "      <td>4.000000</td>\n",
       "      <td>1</td>\n",
       "    </tr>\n",
       "    <tr>\n",
       "      <th>B000052Y9J</th>\n",
       "      <td>4.500000</td>\n",
       "      <td>8</td>\n",
       "    </tr>\n",
       "    <tr>\n",
       "      <th>B00005Q8LY</th>\n",
       "      <td>4.231076</td>\n",
       "      <td>251</td>\n",
       "    </tr>\n",
       "    <tr>\n",
       "      <th>...</th>\n",
       "      <td>...</td>\n",
       "      <td>...</td>\n",
       "    </tr>\n",
       "    <tr>\n",
       "      <th>B00EIB2SM0</th>\n",
       "      <td>1.666667</td>\n",
       "      <td>3</td>\n",
       "    </tr>\n",
       "    <tr>\n",
       "      <th>B00EICO25U</th>\n",
       "      <td>1.000000</td>\n",
       "      <td>1</td>\n",
       "    </tr>\n",
       "    <tr>\n",
       "      <th>B00EID8OVC</th>\n",
       "      <td>4.666667</td>\n",
       "      <td>3</td>\n",
       "    </tr>\n",
       "    <tr>\n",
       "      <th>B00EIFUU76</th>\n",
       "      <td>4.777778</td>\n",
       "      <td>9</td>\n",
       "    </tr>\n",
       "    <tr>\n",
       "      <th>B00EIGV7MC</th>\n",
       "      <td>4.666667</td>\n",
       "      <td>9</td>\n",
       "    </tr>\n",
       "  </tbody>\n",
       "</table>\n",
       "<p>4421 rows × 2 columns</p>\n",
       "</div>"
      ],
      "text/plain": [
       "                mean  count\n",
       "asin                       \n",
       "B00002NB7E  5.000000      4\n",
       "B00004YMG0  5.000000      1\n",
       "B000050AUM  4.000000      1\n",
       "B000052Y9J  4.500000      8\n",
       "B00005Q8LY  4.231076    251\n",
       "...              ...    ...\n",
       "B00EIB2SM0  1.666667      3\n",
       "B00EICO25U  1.000000      1\n",
       "B00EID8OVC  4.666667      3\n",
       "B00EIFUU76  4.777778      9\n",
       "B00EIGV7MC  4.666667      9\n",
       "\n",
       "[4421 rows x 2 columns]"
      ]
     },
     "execution_count": 20,
     "metadata": {},
     "output_type": "execute_result"
    }
   ],
   "source": [
    "\n",
    "df_scores = df_reviews.groupby('asin')['overall'].agg(['mean','count'])\n",
    "df_scores"
   ]
  }
 ],
 "metadata": {
  "kernelspec": {
   "display_name": "datathon",
   "language": "python",
   "name": "python3"
  },
  "language_info": {
   "codemirror_mode": {
    "name": "ipython",
    "version": 3
   },
   "file_extension": ".py",
   "mimetype": "text/x-python",
   "name": "python",
   "nbconvert_exporter": "python",
   "pygments_lexer": "ipython3",
   "version": "3.11.2"
  },
  "orig_nbformat": 4
 },
 "nbformat": 4,
 "nbformat_minor": 2
}
