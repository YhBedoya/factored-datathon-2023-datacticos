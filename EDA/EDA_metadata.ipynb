{
 "cells": [
  {
   "cell_type": "code",
   "execution_count": null,
   "metadata": {},
   "outputs": [],
   "source": [
    "#Read all the json files paths under the folder dummy_data/amazon_metadata, glob finds files in a folder\n",
    "from glob2 import glob\n",
    "jsonFiles = glob('dummy_data/amazon_metadata/**/*.json.gz')\n",
    "print(jsonFiles)"
   ]
  },
  {
   "cell_type": "code",
   "execution_count": null,
   "metadata": {},
   "outputs": [],
   "source": [
    "#Create a single dataframe from all the json files\n",
    "import pandas as pd\n",
    "dfList = []\n",
    "for jsonFile in jsonFiles:\n",
    "    df = pd.read_json(jsonFile, lines=True,compression='gzip')\n",
    "    dfList.append(df)\n",
    "    \n",
    "df_metadata = pd.concat(dfList, axis=0)"
   ]
  }
 ],
 "metadata": {
  "language_info": {
   "name": "python"
  },
  "orig_nbformat": 4
 },
 "nbformat": 4,
 "nbformat_minor": 2
}
