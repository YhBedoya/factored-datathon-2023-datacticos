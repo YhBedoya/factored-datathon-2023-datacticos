{
 "cells": [
  {
   "cell_type": "code",
   "execution_count": 1,
   "id": "d5c8c795-5a21-4948-afda-3d6b06a33e26",
   "metadata": {},
   "outputs": [],
   "source": [
    "# Import pyspark library\n",
    "from pyspark.sql import SparkSession"
   ]
  },
  {
   "cell_type": "code",
   "execution_count": 2,
   "id": "12ab5dfe-7680-4329-a44a-f29b5ef0a172",
   "metadata": {},
   "outputs": [],
   "source": [
    "# Create Session\n",
    "spark = SparkSession.builder.appName(\"Gzip JSON files\").getOrCreate()"
   ]
  },
  {
   "cell_type": "code",
   "execution_count": 3,
   "id": "79b92df6-fd5c-47ec-aa0c-c53c93e11c96",
   "metadata": {},
   "outputs": [],
   "source": [
    "from glob2 import glob\n",
    "jsonFiles = glob('amazon_reviews/**/*.json.gz')"
   ]
  },
  {
   "cell_type": "code",
   "execution_count": 4,
   "id": "ad3ed1f7-69c2-4be7-8e2f-9de4eab3c631",
   "metadata": {},
   "outputs": [],
   "source": [
    "# Read json files and create df\n",
    "df = spark.read.option(\"multiline\", \"true\").json(jsonFiles)"
   ]
  },
  {
   "cell_type": "code",
   "execution_count": 8,
   "id": "c7da4788-7f70-4392-8b2f-0406e49eaced",
   "metadata": {},
   "outputs": [
    {
     "name": "stdout",
     "output_type": "stream",
     "text": [
      "root\n",
      " |-- asin: string (nullable = true)\n",
      " |-- image: string (nullable = true)\n",
      " |-- overall: string (nullable = true)\n",
      " |-- reviewText: string (nullable = true)\n",
      " |-- reviewerID: string (nullable = true)\n",
      " |-- reviewerName: string (nullable = true)\n",
      " |-- style: string (nullable = true)\n",
      " |-- summary: string (nullable = true)\n",
      " |-- unixReviewTime: string (nullable = true)\n",
      " |-- verified: string (nullable = true)\n",
      " |-- vote: string (nullable = true)\n",
      "\n"
     ]
    }
   ],
   "source": [
    "df.printSchema()"
   ]
  },
  {
   "cell_type": "code",
   "execution_count": 9,
   "id": "a7b994e3-62e2-4107-8472-be50bdc3c3d3",
   "metadata": {},
   "outputs": [
    {
     "name": "stdout",
     "output_type": "stream",
     "text": [
      "+----------+-----+-------+--------------------+--------------+--------------------+--------------------+--------------------+--------------+--------+----+\n",
      "|      asin|image|overall|          reviewText|    reviewerID|        reviewerName|               style|             summary|unixReviewTime|verified|vote|\n",
      "+----------+-----+-------+--------------------+--------------+--------------------+--------------------+--------------------+--------------+--------+----+\n",
      "|B0180SA5NK| null|    4.0|             F grea!| AE7HNR1HEJAA0|     Amazon Customer|                null|          Four Stars|    1453766400|    true|null|\n",
      "|B00AMR5FGA| null|    5.0|Awesome series!  ...|A25TXJTP4EE5FX|            jmordhjr|{\"Format:\":\" Blu-...|          Five Stars|    1412121600|    true|null|\n",
      "|B001TK3D4A| null|    1.0|We'd had the play...|A1C8XOJPSR7BLG|                Vici|                null|        buyer beware|    1254268800|   false|   2|\n",
      "|B012J07RXG| null|    5.0|I have tried few ...| AOT8K3ESNLEKM|          coolwizkid|                null|Good portable exe...|    1441497600|   false|null|\n",
      "|B001XURP8Q| null|    5.0|                good|A3K1XOV4HTMU8F|         wilson weng|{\"Capacity:\":\" 32...|          Five Stars|    1444003200|    true|null|\n",
      "|1413312713| null|    5.0|This booklet emph...|A29IRZG03C5RKQ|           Lee Maden|{\"Format:\":\" Pape...|          Five Stars|    1462838400|    true|null|\n",
      "|B000CO7Q6U| null|    1.0|Wow! They got som...| AGMUCGE8X1PGF|        Building Guy|                null|        Brass my A$$|    1463270400|    true|   4|\n",
      "|B01FGYIMXG| null|    3.0|Well written but ...|A1CSLX4U5WMBOZ|         Beth Wilson|{\"Format:\":\" Kind...|           Good book|    1492905600|    true|null|\n",
      "|B01AS0D52Q| null|    1.0|Worked well for 4...|A1SPP0N3EXA462|       Marty Muffler|                null|Worked well for 4...|    1490745600|    true|null|\n",
      "|B001OFXONU| null|    4.0|This is a good do...|A2DJ7WDB48BZY8|                Ryan|                null|  good for the price|    1365120000|    true|null|\n",
      "|0356500624| null|    5.0|Fast and furious ...|A2JTP1NBCNPG3E|     Kindle Customer|{\"Format:\":\" Kind...|Mercy Thompson ro...|    1394150400|    true|null|\n",
      "|B00006B82A| null|    3.0|It was ok (asi-as...|A2AWN0MXG8LY0M| Good deal hunter :)|{\"Style:\":\" 2ft C...|          Asi-asi :/|    1414454400|    true|null|\n",
      "|0349408181| null|    5.0|Ive read quite a ...|A2X7EWP10R7K15|           Alexander|{\"Format:\":\" Hard...|An exceptional re...|    1428969600|   false|   9|\n",
      "|B00D5SWDIQ| null|    5.0|Absolutely perfec...| AMU8RRQNF0021|         mandicandi2|                null|          Perfection|    1496966400|    true|null|\n",
      "|B00BCVXUR6| null|    4.0|Needed a product ...|A33OSXKEBT3G0R|                 mp3|{\"Style:\":\" Squee...|Very good non-sti...|    1442707200|    true|null|\n",
      "|0751549959| null|    4.0|at first you don'...|A13DY3NJYNEHK8|   Katelyn Proudfoot|{\"Format:\":\" Kind...|        Amazing book|    1387929600|    true|null|\n",
      "|B00DGQRM4W| null|    5.0|Very pleased with...| AP0S6SXZ913VG|                AGil|                null|          Five Stars|    1423440000|    true|null|\n",
      "|B01DTBK5JC| null|    5.0|Works great. Teen...|A24RPDZ16I5D6A|Just-can&#039;t-s...|                null|Works great. Teen...|    1481846400|    true|null|\n",
      "|B01H1N4PBI| null|    5.0|I do not know how...|A314F8HROMSXZF|           MC Hammen| {\"Color:\":\" Black\"}|Super clock for t...|    1472774400|    true|   3|\n",
      "|B01GQJNDA2| null|    5.0|Very quick delive...| AA5B6GQCGBZ30|   Judith M Faessler|{\"Size:\":\" 14 Pie...|          Five Stars|    1510704000|    true|null|\n",
      "+----------+-----+-------+--------------------+--------------+--------------------+--------------------+--------------------+--------------+--------+----+\n",
      "only showing top 20 rows\n",
      "\n"
     ]
    }
   ],
   "source": [
    "df.show()"
   ]
  },
  {
   "cell_type": "code",
   "execution_count": 11,
   "id": "8fc76719-c609-499e-b159-1cdc7782938f",
   "metadata": {},
   "outputs": [],
   "source": [
    "df.createOrReplaceTempView(\"mi_temporal_reviews\")"
   ]
  },
  {
   "cell_type": "code",
   "execution_count": 12,
   "id": "9fc9c783-1dad-42c7-9563-1c12676b4d27",
   "metadata": {},
   "outputs": [
    {
     "name": "stdout",
     "output_type": "stream",
     "text": [
      "+----------+-----+-------+--------------------+--------------+--------------------+--------------------+--------------------+--------------+--------+----+\n",
      "|      asin|image|overall|          reviewText|    reviewerID|        reviewerName|               style|             summary|unixReviewTime|verified|vote|\n",
      "+----------+-----+-------+--------------------+--------------+--------------------+--------------------+--------------------+--------------+--------+----+\n",
      "|B0180SA5NK| null|    4.0|             F grea!| AE7HNR1HEJAA0|     Amazon Customer|                null|          Four Stars|    1453766400|    true|null|\n",
      "|B00AMR5FGA| null|    5.0|Awesome series!  ...|A25TXJTP4EE5FX|            jmordhjr|{\"Format:\":\" Blu-...|          Five Stars|    1412121600|    true|null|\n",
      "|B001TK3D4A| null|    1.0|We'd had the play...|A1C8XOJPSR7BLG|                Vici|                null|        buyer beware|    1254268800|   false|   2|\n",
      "|B012J07RXG| null|    5.0|I have tried few ...| AOT8K3ESNLEKM|          coolwizkid|                null|Good portable exe...|    1441497600|   false|null|\n",
      "|B001XURP8Q| null|    5.0|                good|A3K1XOV4HTMU8F|         wilson weng|{\"Capacity:\":\" 32...|          Five Stars|    1444003200|    true|null|\n",
      "|1413312713| null|    5.0|This booklet emph...|A29IRZG03C5RKQ|           Lee Maden|{\"Format:\":\" Pape...|          Five Stars|    1462838400|    true|null|\n",
      "|B000CO7Q6U| null|    1.0|Wow! They got som...| AGMUCGE8X1PGF|        Building Guy|                null|        Brass my A$$|    1463270400|    true|   4|\n",
      "|B01FGYIMXG| null|    3.0|Well written but ...|A1CSLX4U5WMBOZ|         Beth Wilson|{\"Format:\":\" Kind...|           Good book|    1492905600|    true|null|\n",
      "|B01AS0D52Q| null|    1.0|Worked well for 4...|A1SPP0N3EXA462|       Marty Muffler|                null|Worked well for 4...|    1490745600|    true|null|\n",
      "|B001OFXONU| null|    4.0|This is a good do...|A2DJ7WDB48BZY8|                Ryan|                null|  good for the price|    1365120000|    true|null|\n",
      "|0356500624| null|    5.0|Fast and furious ...|A2JTP1NBCNPG3E|     Kindle Customer|{\"Format:\":\" Kind...|Mercy Thompson ro...|    1394150400|    true|null|\n",
      "|B00006B82A| null|    3.0|It was ok (asi-as...|A2AWN0MXG8LY0M| Good deal hunter :)|{\"Style:\":\" 2ft C...|          Asi-asi :/|    1414454400|    true|null|\n",
      "|0349408181| null|    5.0|Ive read quite a ...|A2X7EWP10R7K15|           Alexander|{\"Format:\":\" Hard...|An exceptional re...|    1428969600|   false|   9|\n",
      "|B00D5SWDIQ| null|    5.0|Absolutely perfec...| AMU8RRQNF0021|         mandicandi2|                null|          Perfection|    1496966400|    true|null|\n",
      "|B00BCVXUR6| null|    4.0|Needed a product ...|A33OSXKEBT3G0R|                 mp3|{\"Style:\":\" Squee...|Very good non-sti...|    1442707200|    true|null|\n",
      "|0751549959| null|    4.0|at first you don'...|A13DY3NJYNEHK8|   Katelyn Proudfoot|{\"Format:\":\" Kind...|        Amazing book|    1387929600|    true|null|\n",
      "|B00DGQRM4W| null|    5.0|Very pleased with...| AP0S6SXZ913VG|                AGil|                null|          Five Stars|    1423440000|    true|null|\n",
      "|B01DTBK5JC| null|    5.0|Works great. Teen...|A24RPDZ16I5D6A|Just-can&#039;t-s...|                null|Works great. Teen...|    1481846400|    true|null|\n",
      "|B01H1N4PBI| null|    5.0|I do not know how...|A314F8HROMSXZF|           MC Hammen| {\"Color:\":\" Black\"}|Super clock for t...|    1472774400|    true|   3|\n",
      "|B01GQJNDA2| null|    5.0|Very quick delive...| AA5B6GQCGBZ30|   Judith M Faessler|{\"Size:\":\" 14 Pie...|          Five Stars|    1510704000|    true|null|\n",
      "+----------+-----+-------+--------------------+--------------+--------------------+--------------------+--------------------+--------------+--------+----+\n",
      "only showing top 20 rows\n",
      "\n"
     ]
    }
   ],
   "source": [
    "resultado = spark.sql(\"SELECT * FROM mi_temporal_reviews\")\n",
    "resultado.show()"
   ]
  },
  {
   "cell_type": "code",
   "execution_count": null,
   "id": "4f9ee51d-639a-4bd4-9bc6-2520fc547cb1",
   "metadata": {},
   "outputs": [],
   "source": []
  }
 ],
 "metadata": {
  "kernelspec": {
   "display_name": "Python 3 (ipykernel)",
   "language": "python",
   "name": "python3"
  },
  "language_info": {
   "codemirror_mode": {
    "name": "ipython",
    "version": 3
   },
   "file_extension": ".py",
   "mimetype": "text/x-python",
   "name": "python",
   "nbconvert_exporter": "python",
   "pygments_lexer": "ipython3",
   "version": "3.9.7"
  }
 },
 "nbformat": 4,
 "nbformat_minor": 5
}
