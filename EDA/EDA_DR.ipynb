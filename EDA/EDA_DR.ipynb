{
 "cells": [
  {
   "cell_type": "markdown",
   "id": "f3dc0a9a-a6c2-4aef-b43a-f5d8b130493a",
   "metadata": {},
   "source": [
    "# Import Libraries and Create Spark Session"
   ]
  },
  {
   "cell_type": "code",
   "execution_count": 2,
   "id": "c1bddf91-dae1-4e84-b87d-c64f8da0e7b9",
   "metadata": {},
   "outputs": [
    {
     "name": "stdout",
     "output_type": "stream",
     "text": [
      "Collecting glob2\n",
      "  Downloading glob2-0.7.tar.gz (10 kB)\n",
      "  Preparing metadata (setup.py) ... \u001b[?25ldone\n",
      "\u001b[?25hBuilding wheels for collected packages: glob2\n",
      "  Building wheel for glob2 (setup.py) ... \u001b[?25ldone\n",
      "\u001b[?25h  Created wheel for glob2: filename=glob2-0.7-py2.py3-none-any.whl size=9299 sha256=3f944884712229db46a17a3d5b80664b2188daf52fc57c227d2e03fc929fae70\n",
      "  Stored in directory: /home/jovyan/.cache/pip/wheels/96/41/06/9f8fddc6eb1d75bde63db7f491311a4ae26905212617e06eb2\n",
      "Successfully built glob2\n",
      "Installing collected packages: glob2\n",
      "Successfully installed glob2-0.7\n"
     ]
    }
   ],
   "source": [
    "!pip install -r requirements.txt"
   ]
  },
  {
   "cell_type": "code",
   "execution_count": 12,
   "id": "f5f0f7d8-2d2a-45b1-846a-f6b564b3fe7b",
   "metadata": {},
   "outputs": [],
   "source": [
    "import findspark\n",
    "import pyspark\n",
    "findspark.init()\n",
    "\n",
    "import pandas as pd"
   ]
  },
  {
   "cell_type": "code",
   "execution_count": 13,
   "id": "b68e54fe-379e-4bd4-8bfc-e1a4c4b5275b",
   "metadata": {},
   "outputs": [],
   "source": [
    "# Import pyspark library\n",
    "from pyspark.sql import SparkSession"
   ]
  },
  {
   "cell_type": "code",
   "execution_count": 14,
   "id": "01260292-e34d-4327-8f16-fa13749d703e",
   "metadata": {},
   "outputs": [],
   "source": [
    "# Create Session\n",
    "spark = SparkSession.builder.appName(\"AmazonReviewsDatathon\").getOrCreate()"
   ]
  },
  {
   "cell_type": "code",
   "execution_count": 15,
   "id": "00465029-44e4-4c36-900a-0e2102b0779d",
   "metadata": {},
   "outputs": [
    {
     "data": {
      "text/html": [
       "\n",
       "            <div>\n",
       "                <p><b>SparkSession - in-memory</b></p>\n",
       "                \n",
       "        <div>\n",
       "            <p><b>SparkContext</b></p>\n",
       "\n",
       "            <p><a href=\"http://881219df48a9:4042\">Spark UI</a></p>\n",
       "\n",
       "            <dl>\n",
       "              <dt>Version</dt>\n",
       "                <dd><code>v3.4.1</code></dd>\n",
       "              <dt>Master</dt>\n",
       "                <dd><code>local[*]</code></dd>\n",
       "              <dt>AppName</dt>\n",
       "                <dd><code>Gzip JSON files</code></dd>\n",
       "            </dl>\n",
       "        </div>\n",
       "        \n",
       "            </div>\n",
       "        "
      ],
      "text/plain": [
       "<pyspark.sql.session.SparkSession at 0x7f731442dcd0>"
      ]
     },
     "execution_count": 15,
     "metadata": {},
     "output_type": "execute_result"
    }
   ],
   "source": [
    "spark"
   ]
  },
  {
   "cell_type": "markdown",
   "id": "c0132eb5-5ac0-4474-9f22-d962522489a0",
   "metadata": {},
   "source": [
    "# Read Reviews"
   ]
  },
  {
   "cell_type": "code",
   "execution_count": 14,
   "id": "8374a535-d22c-4b38-bb8f-3afbc380936f",
   "metadata": {},
   "outputs": [
    {
     "name": "stdout",
     "output_type": "stream",
     "text": [
      "['amazon_reviews/source-files/amazon_reviews/partition_1/part-00000-tid-9136122565017344171-3f98196e-e0c5-4bb5-90cc-d523170ef713-86080-1-c000.json.gz', 'amazon_reviews/source-files/amazon_reviews/partition_10/part-00000-tid-698064602200227711-29b88890-b701-4ddb-82cf-535e4b44c9cf-89301-1-c000.json.gz', 'amazon_reviews/source-files/amazon_reviews/partition_10/part-00001-tid-698064602200227711-29b88890-b701-4ddb-82cf-535e4b44c9cf-89302-1-c000.json.gz', 'amazon_reviews/source-files/amazon_reviews/partition_100/part-00000-tid-6076830777214137320-043be143-2d8f-4c2a-a619-bb4ab95fa4bb-121464-1-c000.json.gz', 'amazon_reviews/source-files/amazon_reviews/partition_100/part-00011-tid-6076830777214137320-043be143-2d8f-4c2a-a619-bb4ab95fa4bb-121475-1-c000.json.gz', 'amazon_reviews/source-files/amazon_reviews/partition_1000/part-00000-tid-2842518632934034909-b829ca6e-8b72-4ff5-a17d-d11246715eb9-441983-1-c000.json.gz', 'amazon_reviews/source-files/amazon_reviews/partition_1000/part-00101-tid-2842518632934034909-b829ca6e-8b72-4ff5-a17d-d11246715eb9-442084-1-c000.json.gz', 'amazon_reviews/source-files/amazon_reviews/partition_1001/part-00000-tid-5445960799181374531-93ab0d64-6551-4cee-a97f-977a4d31b103-442339-1-c000.json.gz', 'amazon_reviews/source-files/amazon_reviews/partition_1001/part-00101-tid-5445960799181374531-93ab0d64-6551-4cee-a97f-977a4d31b103-442440-1-c000.json.gz', 'amazon_reviews/source-files/amazon_reviews/partition_1002/part-00000-tid-4519266637230119509-00ab53bf-2738-449b-95ab-0a8bd682b595-442695-1-c000.json.gz']\n"
     ]
    }
   ],
   "source": [
<<<<<<< Updated upstream
    "#Read all the json files paths under the folder dummy_data/amazon_reviews, glob finds files in a folder\n",
    "from glob2 import glob\n",
    "jsonFiles = glob('amazon_reviews/source-files/amazon_reviews/**/**/*.json.gz')\n",
    "print(jsonFiles[0:10])"
=======
    "#Check the lists of partitioned json files \n",
    "print(\"jsonFiles_reviews: \")\n",
    "print(jsonFiles_reviews[0:5])\n",
    "print(\"---------------\")\n",
    "print(\"jsonFiles_meta: \")\n",
    "print(jsonFiles_meta[0:5])"
   ]
  },
  {
   "cell_type": "code",
   "execution_count": 182,
   "id": "3c015137-1615-4456-ac00-0d05a24b0b17",
   "metadata": {},
   "outputs": [],
   "source": [
    "#Load the data from Amazon reviews using spark\n",
    "df_reviews = spark.read.option(\"multiline\",\"false\").option(\"compression\", \"gzip\").json(jsonFiles_reviews[0:700])"
>>>>>>> Stashed changes
   ]
  },
  {
   "cell_type": "code",
   "execution_count": 74,
   "id": "065d53e7-2f24-4895-97f3-f42d9df2b3d4",
   "metadata": {},
   "outputs": [],
   "source": [
    "df_reviews = spark.read.option(\"multiline\",\"false\").option(\"compression\", \"gzip\").json(jsonFiles)"
   ]
  },
  {
   "cell_type": "code",
   "execution_count": 75,
   "id": "7276beaa-71fc-43e2-a751-c03ba40222a8",
   "metadata": {},
   "outputs": [
    {
     "name": "stdout",
     "output_type": "stream",
     "text": [
      "root\n",
      " |-- asin: string (nullable = true)\n",
      " |-- image: string (nullable = true)\n",
      " |-- overall: string (nullable = true)\n",
      " |-- reviewText: string (nullable = true)\n",
      " |-- reviewerID: string (nullable = true)\n",
      " |-- reviewerName: string (nullable = true)\n",
      " |-- style: string (nullable = true)\n",
      " |-- summary: string (nullable = true)\n",
      " |-- unixReviewTime: string (nullable = true)\n",
      " |-- verified: string (nullable = true)\n",
      " |-- vote: string (nullable = true)\n",
      "\n"
     ]
    }
   ],
   "source": [
    "# Print Schema\n",
    "df_reviews.printSchema()"
   ]
  },
  {
   "cell_type": "code",
   "execution_count": 76,
   "id": "06bb37cb-f1d4-4859-b567-5e5bc1cb17f5",
   "metadata": {},
   "outputs": [
    {
     "name": "stdout",
     "output_type": "stream",
     "text": [
      "+----------+-----+-------+--------------------+--------------+--------------------+--------------------+--------------------+--------------+--------+----+\n",
      "|      asin|image|overall|          reviewText|    reviewerID|        reviewerName|               style|             summary|unixReviewTime|verified|vote|\n",
      "+----------+-----+-------+--------------------+--------------+--------------------+--------------------+--------------------+--------------+--------+----+\n",
      "|B00JAXLPO8| null|    5.0|Helps tiny wife g...|A27V2CKMKXZWW2|            Hertzair|                null|Handy Step for th...|    1484006400|    true|null|\n",
      "|0373210027| null|    3.0|From the descript...|A2HG7GNP1GEZRY|          Teen Books|{\"Format:\":\" Hard...|Interesting Premi...|    1276732800|   false|null|\n",
      "|B00JAXLPO8| null|    5.0|Was easy to insta...| A15I8WQWFR87X|                 JBK|                null|Was easy to insta...|    1470528000|    true|null|\n",
      "|0373210027| null|    4.0|This book has it ...|A14ZYUOM6A8LY4|             Brianna|{\"Format:\":\" Pape...|Intertwined revie...|    1275091200|    true|null|\n",
      "|B00JAXN9WE| null|    5.0|Easy to install, ...| A2JOLUXY8OD2A|            A. Jones|                null|Fit my 2015 Chevy...|    1529625600|    true|null|\n",
      "|0373210027| null|    5.0|I thought the boo...|A2X8VKL4E5RUR6|      debbie wozniak|{\"Format:\":\" Hard...|         Intertwined|    1272240000|    true|   2|\n",
      "|B00JAXN9WE| null|    2.0|I wish they were ...|A1M5K22SJMGONG|           Brian/Map|                null|I like them, but....|    1488067200|    true|null|\n",
      "|0373210027| null|    3.0|I am so confused ...| AVEOVIRYPMCSN|            Bookworm|{\"Format:\":\" Hard...|  Way too much stuff|    1271289600|   false|null|\n",
      "|B00JAXN9WE| null|    5.0|They pop in no pr...|A3ONB9DSC2JA6H|             J. Lang|                null|        pretty happy|    1461024000|    true|null|\n",
      "|0373210027| null|    5.0|Originally posted...|A13QTZ8CIMHHG4|        LAS Reviewer|{\"Format:\":\" Hard...|One book you defi...|    1271030400|   false|   2|\n",
      "|B00JAXN9WE| null|    5.0|Easy to install &...|A3HPC153O1JBLG|       sebastopolian|                null|       great quality|    1441152000|    true|null|\n",
      "|0373210213| null|    5.0|WOW. An exciting ...|A3GO6636UZJ6FC|              Jadore|{\"Format:\":\" Pape...|     An amazing read|    1298073600|    true|null|\n",
      "|B00JAXQWA0| null|    2.0|Broke 1st time ou...|A1I53NUEFHJER5|               Terry|                null|fortunately, saw ...|    1478217600|    true|null|\n",
      "|0373210213| null|    4.0|Harlequin does th...|A3MQ15651KGVLJ|Richard The Buyin...|{\"Format:\":\" Pape...|           Cute Book|    1296864000|   false|null|\n",
      "|B00JAXQWA0| null|    5.0|Works very well o...| AHR7GSG76KXRW|           Ken Wells|                null|          Five Stars|    1405382400|    true|null|\n",
      "|0373210213| null|    3.0|\"The Oracle Rebou...|A1H88L8X6HM1BQ|               CJ-MO|{\"Format:\":\" Pape...|Okay sequel to Ha...|    1295222400|   false|null|\n",
      "|B00JAXU6MU| null|    5.0| A+++. Fast shipping|A2PR2WBI15LWWH|                Greg|  {\"Color:\":\" Blue\"}|          Five Stars|    1503273600|    true|null|\n",
      "|0373210213| null|    4.0|I'm an adult but ...| AX7QMRXX81L9K|           mskraus2u|{\"Format:\":\" Pape...|I enjoyed this te...|    1292889600|   false|null|\n",
      "|B00JAXU6MU| null|    5.0|             Bad azz|A3RNGVXHSPQKNL|              txnono|  {\"Color:\":\" Blue\"}|          Five Stars|    1414108800|    true|null|\n",
      "|0373210213| null|    3.0|Kayla is the Orac...|A2LDGL943QZXGK|       Rachael Stein|{\"Format:\":\" Pape...|  Cute but not great|    1292544000|   false|null|\n",
      "+----------+-----+-------+--------------------+--------------+--------------------+--------------------+--------------------+--------------+--------+----+\n",
      "only showing top 20 rows\n",
      "\n"
     ]
    }
   ],
   "source": [
    "df_reviews.show()"
   ]
  },
  {
   "cell_type": "code",
   "execution_count": 77,
   "id": "af7e32ef-46be-48b0-b107-26310f3bf481",
   "metadata": {},
   "outputs": [
    {
     "data": {
      "text/plain": [
       "279665000"
      ]
     },
     "execution_count": 77,
     "metadata": {},
     "output_type": "execute_result"
    }
   ],
   "source": [
    "df_reviews.count()"
   ]
  },
  {
   "cell_type": "markdown",
   "id": "217c428c-0a5b-4fb8-a01a-b98c6816731a",
   "metadata": {},
   "source": [
    "# Read Metadata"
   ]
  },
  {
   "cell_type": "code",
   "execution_count": 81,
   "id": "e21e912e-917c-492a-adf4-2e90fb3f6271",
   "metadata": {},
   "outputs": [],
   "source": [
    "jsonFiles_meta = glob('amazon_reviews/source-files/amazon_metadata/**/*.json.gz')"
   ]
  },
  {
   "cell_type": "code",
   "execution_count": 82,
   "id": "0ab5acd6-7ee4-4d71-801e-1095e447defb",
   "metadata": {},
   "outputs": [
    {
     "name": "stdout",
     "output_type": "stream",
     "text": [
      "['amazon_reviews/source-files/amazon_metadata/json_files/part-00000-tid-1001410877349735942-21bdbaae-698f-415f-9a21-69d6c2866481-1675-1-c000.json.gz', 'amazon_reviews/source-files/amazon_metadata/json_files/part-00000-tid-1002626896584644251-74e4b005-c695-4dd8-91a9-144ad6cb0984-1297-1-c000.json.gz', 'amazon_reviews/source-files/amazon_metadata/json_files/part-00000-tid-1010368383141697086-7d789d7d-88e0-480d-8f3d-c5787eeaa7e6-1985-1-c000.json.gz', 'amazon_reviews/source-files/amazon_metadata/json_files/part-00000-tid-1020888417771452694-2db2ed96-b04d-48b8-8295-4607819e25e5-257-1-c000.json.gz', 'amazon_reviews/source-files/amazon_metadata/json_files/part-00000-tid-1029877596195051816-05a06542-f16c-433b-acab-5a2cbb650eab-1439-1-c000.json.gz', 'amazon_reviews/source-files/amazon_metadata/json_files/part-00000-tid-1030056356538253047-31eaa030-92c7-40ff-b4ac-18b86cf2d5d6-2215-1-c000.json.gz', 'amazon_reviews/source-files/amazon_metadata/json_files/part-00000-tid-1037148639206443941-ff89f9a1-bacc-4326-b033-49cef618ea51-25-1-c000.json.gz', 'amazon_reviews/source-files/amazon_metadata/json_files/part-00000-tid-1038310469482823244-b0f4d6f7-d571-419c-a3cd-cf5a9139af96-2153-1-c000.json.gz', 'amazon_reviews/source-files/amazon_metadata/json_files/part-00000-tid-1043028679443248945-4ddda1b8-284e-4469-985a-69e5552e54c9-2293-1-c000.json.gz', 'amazon_reviews/source-files/amazon_metadata/json_files/part-00000-tid-104417607393888289-cb6d7d38-4237-438b-ad56-e9b08fa847fb-267-1-c000.json.gz']\n"
     ]
    }
   ],
   "source": [
    "print(jsonFiles_meta[0:10])"
   ]
  },
  {
   "cell_type": "code",
   "execution_count": 83,
   "id": "a24615cd-3d90-4f20-be16-b70bad94e1b0",
   "metadata": {},
   "outputs": [],
   "source": [
    "df_meta = spark.read.option(\"multiline\",\"false\").option(\"compression\", \"gzip\").json(jsonFiles_meta)"
   ]
  },
  {
   "cell_type": "code",
   "execution_count": 84,
   "id": "cd8be724-44f8-4988-99d5-c74a51e15053",
   "metadata": {},
   "outputs": [
    {
     "name": "stdout",
     "output_type": "stream",
     "text": [
      "root\n",
      " |-- also_buy: array (nullable = true)\n",
      " |    |-- element: string (containsNull = true)\n",
      " |-- also_view: array (nullable = true)\n",
      " |    |-- element: string (containsNull = true)\n",
      " |-- asin: string (nullable = true)\n",
      " |-- brand: string (nullable = true)\n",
      " |-- category: array (nullable = true)\n",
      " |    |-- element: string (containsNull = true)\n",
      " |-- date: string (nullable = true)\n",
      " |-- description: array (nullable = true)\n",
      " |    |-- element: string (containsNull = true)\n",
      " |-- details: struct (nullable = true)\n",
      " |    |-- \\n    Item Weight: \\n    : string (nullable = true)\n",
      " |    |-- \\n    Package Dimensions: \\n    : string (nullable = true)\n",
      " |    |-- \\n    Product Dimensions: \\n    : string (nullable = true)\n",
      " |    |--  Date first listed on Amazon:: string (nullable = true)\n",
      " |    |--  UNSPSC Code:: string (nullable = true)\n",
      " |    |-- 3.5\" and 5.25\" disks:: string (nullable = true)\n",
      " |    |-- 3.5\" disk:: string (nullable = true)\n",
      " |    |-- 5.25\" disk:: string (nullable = true)\n",
      " |    |-- ASIN:: string (nullable = true)\n",
      " |    |-- ASIN: : string (nullable = true)\n",
      " |    |-- Accessory:: string (nullable = true)\n",
      " |    |-- Age Range:: string (nullable = true)\n",
      " |    |-- Album:: string (nullable = true)\n",
      " |    |-- Apparel: string (nullable = true)\n",
      " |    |-- Audible.com Release Date:: string (nullable = true)\n",
      " |    |-- Audio CD: string (nullable = true)\n",
      " |    |-- Audio CD Library Binding:: string (nullable = true)\n",
      " |    |-- Audio CD:: string (nullable = true)\n",
      " |    |-- Audio Cassette: string (nullable = true)\n",
      " |    |-- Audio Cassette:: string (nullable = true)\n",
      " |    |-- Audio Description:: string (nullable = true)\n",
      " |    |-- Audio-Video: string (nullable = true)\n",
      " |    |-- Automotive:: string (nullable = true)\n",
      " |    |-- Baby Product:: string (nullable = true)\n",
      " |    |-- Bargain Book:: string (nullable = true)\n",
      " |    |-- Bath Book:: string (nullable = true)\n",
      " |    |-- Batteries: string (nullable = true)\n",
      " |    |-- Blu-ray: string (nullable = true)\n",
      " |    |-- Blu-ray Audio: string (nullable = true)\n",
      " |    |-- Board book:: string (nullable = true)\n",
      " |    |-- Bonded Leather:: string (nullable = true)\n",
      " |    |-- Bookmark:: string (nullable = true)\n",
      " |    |-- CD-R: string (nullable = true)\n",
      " |    |-- CD-ROM: string (nullable = true)\n",
      " |    |-- CD-ROM:: string (nullable = true)\n",
      " |    |-- Calendar: string (nullable = true)\n",
      " |    |-- Calendar:: string (nullable = true)\n",
      " |    |-- Card Book:: string (nullable = true)\n",
      " |    |-- Cards:: string (nullable = true)\n",
      " |    |-- Comic:: string (nullable = true)\n",
      " |    |-- DCC (Digital Compact Cassette):: string (nullable = true)\n",
      " |    |-- DVD: string (nullable = true)\n",
      " |    |-- DVD Audio: string (nullable = true)\n",
      " |    |-- DVD Audio:: string (nullable = true)\n",
      " |    |-- DVD-R:: string (nullable = true)\n",
      " |    |-- DVD-ROM:: string (nullable = true)\n",
      " |    |-- DVD:: string (nullable = true)\n",
      " |    |-- Diary:: string (nullable = true)\n",
      " |    |-- Digital Copy Expiration Date:: string (nullable = true)\n",
      " |    |-- Discontinued by manufacturer:: string (nullable = true)\n",
      " |    |-- Diskette:: string (nullable = true)\n",
      " |    |-- Domestic Shipping: : string (nullable = true)\n",
      " |    |-- Downloading:: string (nullable = true)\n",
      " |    |-- Dubbed:: string (nullable = true)\n",
      " |    |-- Electronics: string (nullable = true)\n",
      " |    |-- Electronics:: string (nullable = true)\n",
      " |    |-- File Size:: string (nullable = true)\n",
      " |    |-- Flexibound:: string (nullable = true)\n",
      " |    |-- Foam Book:: string (nullable = true)\n",
      " |    |-- Format:: string (nullable = true)\n",
      " |    |-- Game:: string (nullable = true)\n",
      " |    |-- Gift:: string (nullable = true)\n",
      " |    |-- Grade Level:: string (nullable = true)\n",
      " |    |-- Hardcover: string (nullable = true)\n",
      " |    |-- Hardcover Comic:: string (nullable = true)\n",
      " |    |-- Hardcover-spiral:: string (nullable = true)\n",
      " |    |-- Hardcover:: string (nullable = true)\n",
      " |    |-- Health and Beauty: string (nullable = true)\n",
      " |    |-- Health and Beauty:: string (nullable = true)\n",
      " |    |-- ISBN-10:: string (nullable = true)\n",
      " |    |-- ISBN-13:: string (nullable = true)\n",
      " |    |-- Imitation Leather:: string (nullable = true)\n",
      " |    |-- International Shipping: : string (nullable = true)\n",
      " |    |-- Item model number:: string (nullable = true)\n",
      " |    |-- JP Oversized:: string (nullable = true)\n",
      " |    |-- Journal:: string (nullable = true)\n",
      " |    |-- Kindle Edition:: string (nullable = true)\n",
      " |    |-- Kitchen:: string (nullable = true)\n",
      " |    |-- Label:: string (nullable = true)\n",
      " |    |-- Language:: string (nullable = true)\n",
      " |    |-- Lawn & Patio:: string (nullable = true)\n",
      " |    |-- Leather Bound:: string (nullable = true)\n",
      " |    |-- Lending:: string (nullable = true)\n",
      " |    |-- Lexile Measure:: string (nullable = true)\n",
      " |    |-- Library Binding:: string (nullable = true)\n",
      " |    |-- Listening Length:: string (nullable = true)\n",
      " |    |-- Loose Leaf:: string (nullable = true)\n",
      " |    |-- MP3 CD:: string (nullable = true)\n",
      " |    |-- MP3 Music: string (nullable = true)\n",
      " |    |-- Map:: string (nullable = true)\n",
      " |    |-- Mass Market Paperback:: string (nullable = true)\n",
      " |    |-- Microfilm:: string (nullable = true)\n",
      " |    |-- Misc. Supplies:: string (nullable = true)\n",
      " |    |-- Misc.:: string (nullable = true)\n",
      " |    |-- Mook:: string (nullable = true)\n",
      " |    |-- Note on Boxed Sets:: string (nullable = true)\n",
      " |    |-- Note:: string (nullable = true)\n",
      " |    |-- Number of Discs:: string (nullable = true)\n",
      " |    |-- Office Product:: string (nullable = true)\n",
      " |    |-- Online Code:: string (nullable = true)\n",
      " |    |-- Online Game Code:: string (nullable = true)\n",
      " |    |-- Online Map Code:: string (nullable = true)\n",
      " |    |-- Original Release Date:: string (nullable = true)\n",
      " |    |-- Page Numbers Source ISBN:: string (nullable = true)\n",
      " |    |-- Pamphlet:: string (nullable = true)\n",
      " |    |-- Paperback: string (nullable = true)\n",
      " |    |-- Paperback Bunko:: string (nullable = true)\n",
      " |    |-- Paperback Shinsho:: string (nullable = true)\n",
      " |    |-- Paperback:: string (nullable = true)\n",
      " |    |-- Perfect Paperback:: string (nullable = true)\n",
      " |    |-- Personal Computers:: string (nullable = true)\n",
      " |    |-- Plastic Comb:: string (nullable = true)\n",
      " |    |-- Please Note:: string (nullable = true)\n",
      " |    |-- Pocket Book:: string (nullable = true)\n",
      " |    |-- Poster:: string (nullable = true)\n",
      " |    |-- Print Length:: string (nullable = true)\n",
      " |    |-- Print Magazine:: string (nullable = true)\n",
      " |    |-- Print on Demand (Paperback):: string (nullable = true)\n",
      " |    |-- Printed Access Code:: string (nullable = true)\n",
      " |    |-- Program Type:: string (nullable = true)\n",
      " |    |-- Publication Date:: string (nullable = true)\n",
      " |    |-- Publisher:: string (nullable = true)\n",
      " |    |-- Rag Book:: string (nullable = true)\n",
      " |    |-- Release Date:: string (nullable = true)\n",
      " |    |-- Ring-bound:: string (nullable = true)\n",
      " |    |-- Run Time:: string (nullable = true)\n",
      " |    |-- SPARS Code:: string (nullable = true)\n",
      " |    |-- School & Library Binding:: string (nullable = true)\n",
      " |    |-- Series:: string (nullable = true)\n",
      " |    |-- Sheet music:: string (nullable = true)\n",
      " |    |-- Shipping Advisory:: string (nullable = true)\n",
      " |    |-- Shipping Weight:: string (nullable = true)\n",
      " |    |-- Shipping: : string (nullable = true)\n",
      " |    |-- Simultaneous Device Usage:: string (nullable = true)\n",
      " |    |-- Single Issue Magazine:: string (nullable = true)\n",
      " |    |-- Slide:: string (nullable = true)\n",
      " |    |-- Spiral-bound:: string (nullable = true)\n",
      " |    |-- Sports: string (nullable = true)\n",
      " |    |-- Sports:: string (nullable = true)\n",
      " |    |-- Staple Bound:: string (nullable = true)\n",
      " |    |-- Stationery:: string (nullable = true)\n",
      " |    |-- Subtitles for the Hearing Impaired:: string (nullable = true)\n",
      " |    |-- Subtitles:: string (nullable = true)\n",
      " |    |-- Tankobon Hardcover:: string (nullable = true)\n",
      " |    |-- Tankobon Softcover:: string (nullable = true)\n",
      " |    |-- Textbook Binding:: string (nullable = true)\n",
      " |    |-- Toy:: string (nullable = true)\n",
      " |    |-- Transparency:: string (nullable = true)\n",
      " |    |-- Turtleback:: string (nullable = true)\n",
      " |    |-- UPC:: string (nullable = true)\n",
      " |    |-- USB Memory Stick: string (nullable = true)\n",
      " |    |-- Unbound:: string (nullable = true)\n",
      " |    |-- Unknown Binding: string (nullable = true)\n",
      " |    |-- Unknown Binding:: string (nullable = true)\n",
      " |    |-- VHS Tape: string (nullable = true)\n",
      " |    |-- VHS Tape:: string (nullable = true)\n",
      " |    |-- Version:: string (nullable = true)\n",
      " |    |-- Video Game:: string (nullable = true)\n",
      " |    |-- Vinyl: string (nullable = true)\n",
      " |    |-- Vinyl Bound: string (nullable = true)\n",
      " |    |-- Vinyl Bound:: string (nullable = true)\n",
      " |    |-- Wall Chart:: string (nullable = true)\n",
      " |    |-- Watch: string (nullable = true)\n",
      " |    |-- Whispersync for Voice:: string (nullable = true)\n",
      " |    |-- Word Wise:: string (nullable = true)\n",
      " |    |-- Workbook:: string (nullable = true)\n",
      " |-- feature: array (nullable = true)\n",
      " |    |-- element: string (containsNull = true)\n",
      " |-- fit: string (nullable = true)\n",
      " |-- image: array (nullable = true)\n",
      " |    |-- element: string (containsNull = true)\n",
      " |-- main_cat: string (nullable = true)\n",
      " |-- price: string (nullable = true)\n",
      " |-- rank: string (nullable = true)\n",
      " |-- similar_item: string (nullable = true)\n",
      " |-- tech1: string (nullable = true)\n",
      " |-- tech2: string (nullable = true)\n",
      " |-- title: string (nullable = true)\n",
      "\n"
     ]
    }
   ],
   "source": [
    "df_meta.printSchema()"
   ]
  },
  {
   "cell_type": "code",
   "execution_count": 85,
   "id": "b53ac1ae-ecc1-44ad-8e2b-68897bd2d3c4",
   "metadata": {},
   "outputs": [
    {
     "name": "stdout",
     "output_type": "stream",
     "text": [
      "+--------------------+--------------------+----------+-------------+--------------------+----------------+--------------------+--------------------+--------------------+---+--------------------+--------------------+-------+--------------------+--------------------+--------------------+-----+--------------------+\n",
      "|            also_buy|           also_view|      asin|        brand|            category|            date|         description|             details|             feature|fit|               image|            main_cat|  price|                rank|        similar_item|               tech1|tech2|               title|\n",
      "+--------------------+--------------------+----------+-------------+--------------------+----------------+--------------------+--------------------+--------------------+---+--------------------+--------------------+-------+--------------------+--------------------+--------------------+-----+--------------------+\n",
      "|                  []|                  []|B01FVYVI00| NAUTICALMART|[Tools & Home Imp...|    May 19, 2016|[NAUTICALMART CHR...|{null, null, null...|[DECORATIVE FLOOR...|   |                  []|Tools & Home Impr...|$195.00|[\">#3,449,141 in ...| class=\"a-bordere...| class=\"a-keyvalu...|     |NAUTICALMART CHRO...|\n",
      "|[B00TV26C0U, B075...|                  []|B01FVZHGB4|      Daixers|[Tools & Home Imp...|                |[<b>Carrys up to ...|{null, null, null...|[Premium quality:...|   |[https://images-n...|         Amazon Home|  $6.99|[\">#750,363 in Ho...| class=\"a-bordere...|                    |     |Daixers Stainless...|\n",
      "|                  []|                  []|B01FVZQZVG|   Rocky Mars|[Tools & Home Imp...|    May 19, 2016|[<b>Overview</b><...|{null, null, null...|[Auto-Range digit...|   |[https://images-n...|Tools & Home Impr...| $18.99|[\">#2,323,519 in ...| class=\"a-bordere...| class=\"a-keyvalu...|     |Aimometer Digital...|\n",
      "|                  []|                  []|B01FVZHEPM|        DNVEN|[Tools & Home Imp...|                |[<b>IMPORTANT to ...|{null, null, null...|[This wall decal ...|   |[https://images-n...|         Amazon Home|  $7.99|[\">#2,125,215 in ...|                    |                    |     |DNVEN Flower Girl...|\n",
      "|                  []|                  []|B01FVZJGN0|  World Pride|[Tools & Home Imp...|    May 20, 2016|[Durable construc...|{null, null, null...|[Durable construc...|   |[https://images-n...|Tools & Home Impr...|       |[\">#1,440,754 in ...|                    | class=\"a-keyvalu...|     |World Pride Wall-...|\n",
      "|[B00VISRKJC, B007...|[B073XD2FBY, B06X...|B01FW00NI6|     Threetoo|[Tools & Home Imp...|    May 19, 2016|[1. 7 Color chang...|{null, null, null...|[Star Trek Battle...|   |[https://images-n...|Tools & Home Impr...| $15.99|[\">#175,639 in To...| class=\"a-bordere...| class=\"a-keyvalu...|     |LOTOS&reg; Star T...|\n",
      "|                  []|                  []|B01FVZKV98|        XFUNY|[Tools & Home Imp...|December 1, 2017|[<b>XFUNY WiFi Sm...|{null, null, null...|[WIFI & Intellige...|   |[https://images-n...|Tools & Home Impr...| $18.99|                  []|                    | class=\"a-keyvalu...|     |XFUNY Smart Socke...|\n",
      "|[B003HGH3YK, B00B...|[B01I0MUIMO, B01C...|B01FVZMR5Y|     Stalwart|[Tools & Home Imp...|    May 19, 2016|[, Take on any ho...|{null, null, null...|[CONVENIENT STORA...|   |[https://images-n...|Tools & Home Impr...|  $9.28|[\">#197,575 in To...| class=\"a-bordere...| class=\"a-keyvalu...|     |Ratcheting Screwd...|\n",
      "|                  []|[B015SR9I4I, B001...|B01FW16Z64|     Stalwart|[Tools & Home Imp...|    May 19, 2016|[, Take on any ho...|{null, null, null...|[CONVENIENT STORA...|   |[https://images-n...|Tools & Home Impr...| $11.24|[\">#713,959 in To...| class=\"a-bordere...| class=\"a-keyvalu...|     |23 Piece Titanium...|\n",
      "|                  []|                  []|B01FW14DDG|       Honbay|[Tools & Home Imp...|    May 19, 2016|[Product Descript...|{null, null, null...|[Set of 4 plastic...|   |[https://images-n...|Tools & Home Impr...|       |[\">#1,629,569 in ...|                    | class=\"a-keyvalu...|     |Honbay Drain Clea...|\n",
      "|                  []|                  []|B01FW1B4OC|America Hello|[Tools & Home Imp...|    May 19, 2016|[Specification:<b...|{null, null, null...|[100% brand new!!...|   |[https://images-n...|Tools & Home Impr...|       |[\">#2,984,344 in ...|                    | class=\"a-keyvalu...|     |America Hello Tub...|\n",
      "|                  []|                  []|B01FW13WBU|             |                  []|    May 19, 2016|                  []|{null, null, null...|                  []|   |[https://images-n...|Tools & Home Impr...|       |[\">#2,092,515 in ...|                    | class=\"a-keyvalu...|     |6-Pack of MANDOLE...|\n",
      "|[B002RSIUBE, B01G...|                  []|B01FW14UO8|        Graco|[Tools & Home Imp...|    May 19, 2016|[Magnum sprayers ...|{null, null, null...|[Kit is designed ...|   |                  []|Tools & Home Impr...|  $3.92|[\">#164,599 in To...| class=\"a-bordere...| class=\"a-keyvalu...|     |Graco 17J873 Lacq...|\n",
      "|[B07H1L1K62, B07D...|                  []|B01FW170CM|     Stalwart|[Tools & Home Imp...|    May 19, 2016|[This Stalwart 25...|{null, null, null...|[Small Size Tools...|   |[https://images-n...|Tools & Home Impr...| $11.93|[\">#134,597 in To...| class=\"a-bordere...| class=\"a-keyvalu...|     |Stalwart 75-HT402...|\n",
      "|[B01GHWBY5Y, B01E...|                  []|B01FW11Q4K|    Creazydog|[Tools & Home Imp...|    May 19, 2016|[UV WF-501B LED 3...|{null, null, null...|[Flashlight body ...|   |[https://images-n...|Tools & Home Impr...|  $5.90|[\">#149,233 in To...| class=\"a-bordere...| class=\"a-keyvalu...|     |Creazy&reg;UV WF-...|\n",
      "|        [B01FW1MQC6]|                  []|B01FW1MQAI|       Jeslon|[Tools & Home Imp...|                |[<br><b>Jeslon th...|{null, null, null...|[Small knives can...|   |[https://images-n...|   Sports & Outdoors|       |1,028,319 in Spor...| class=\"a-bordere...|                    |     |Jeslon Small Fold...|\n",
      "|[B00L9R6854, B071...|                  []|B01FW16ZY6|     Stalwart|[Tools & Home Imp...|    May 19, 2016|[This Stalwart 13...|{null, null, null...|[Perfect for UAV'...|   |[https://images-n...|Tools & Home Impr...| $11.88|[\">#102,545 in To...|                    | class=\"a-keyvalu...|     |Stalwart 75-HT401...|\n",
      "|                  []|                  []|B01FW1TDPO|     BIBITIME|[Tools & Home Imp...|                |[Size:30 x 30 cm ...|{null, null, null...|[Size1:30 x 30 cm...|   |[https://images-n...|         Amazon Home| $20.99|[\">#4,135,382 in ...|                    |                    |     |BIBITIME 50cm Lum...|\n",
      "|                  []|                  []|B01FW1BTBK|      Dongpai|[Tools & Home Imp...|October 14, 2016|                  []|{null, null, null...|                  []|   |[https://images-n...|Tools & Home Impr...|       |[\">#1,304,445 in ...|                    | class=\"a-keyvalu...|     |Dongpai 3000 Lume...|\n",
      "|[B01MTYSR3K, B01F...|[B07M7PMG68, B01M...|B01FW1MQC6|       Jeslon|[Tools & Home Imp...|                |                  []|{null, null, null...|[Small knives can...|   |[https://images-n...|   Sports & Outdoors|  $6.99|361,673 in Sports...| class=\"a-bordere...|                    |     |Jeslon Pocket Kni...|\n",
      "+--------------------+--------------------+----------+-------------+--------------------+----------------+--------------------+--------------------+--------------------+---+--------------------+--------------------+-------+--------------------+--------------------+--------------------+-----+--------------------+\n",
      "only showing top 20 rows\n",
      "\n"
     ]
    }
   ],
   "source": [
    "df_meta.show()"
   ]
  },
  {
   "cell_type": "code",
<<<<<<< Updated upstream
   "execution_count": 86,
   "id": "683868aa-1614-48ed-8d0e-2dca953d50e6",
=======
   "execution_count": 181,
   "id": "02590c1d-ed94-44cb-adcf-8f1097be872e",
   "metadata": {
    "scrolled": true
   },
   "outputs": [
    {
     "name": "stdout",
     "output_type": "stream",
     "text": [
      "+---------------+--------+\n",
      "|total_reviewers|verified|\n",
      "+---------------+--------+\n",
      "|       10954035|   false|\n",
      "|       28705780|    true|\n",
      "+---------------+--------+\n",
      "\n"
     ]
    }
   ],
   "source": [
    "# Check how many verified and not verified reviewers the dataset has\n",
    "spark.sql(\"\"\"\n",
    "SELECT COUNT(DISTINCT reviewerID) as total_reviewers, verified\n",
    "FROM tempvw_reviews \n",
    "GROUP BY verified\n",
    "\"\"\").show()"
   ]
  },
  {
   "cell_type": "code",
   "execution_count": 23,
   "id": "1c7029c4-0292-4ed8-aa2d-7842f2c853b7",
   "metadata": {},
   "outputs": [
    {
     "name": "stdout",
     "output_type": "stream",
     "text": [
      "+---------------+--------+\n",
      "|total_reviewers|verified|\n",
      "+---------------+--------+\n",
      "|        1831052|   false|\n",
      "|        6478920|    true|\n",
      "+---------------+--------+\n",
      "\n"
     ]
    }
   ],
   "source": [
    "# Check how many verified and not verified reviewers the dataset has\n",
    "spark.sql(\"\"\"\n",
    "SELECT COUNT(DISTINCT reviewerID) as total_reviewers, verified\n",
    "FROM tempvw_reviews \n",
    "GROUP BY verified\n",
    "\"\"\").show()"
   ]
  },
  {
   "cell_type": "code",
   "execution_count": 24,
   "id": "27b2b921-0a2c-404e-9341-391124da01b1",
   "metadata": {},
   "outputs": [
    {
     "data": {
      "text/plain": [
       "['asin',\n",
       " 'image',\n",
       " 'overall',\n",
       " 'reviewText',\n",
       " 'reviewerID',\n",
       " 'reviewerName',\n",
       " 'style',\n",
       " 'summary',\n",
       " 'unixReviewTime',\n",
       " 'verified',\n",
       " 'vote']"
      ]
     },
     "execution_count": 24,
     "metadata": {},
     "output_type": "execute_result"
    }
   ],
   "source": [
    "df_reviews.columns"
   ]
  },
  {
   "cell_type": "code",
   "execution_count": 25,
   "id": "858d258e-2395-437c-9a10-112aa5deae02",
   "metadata": {},
   "outputs": [],
   "source": [
    "# Get the reviewTime converting from unixtime to datetime \n",
    "new_df_reviews = df_reviews.withColumn(\"reviewTime\", from_unixtime(\"unixReviewTime\", \"yyyy-MM-dd\"))"
   ]
  },
  {
   "cell_type": "code",
   "execution_count": 179,
   "id": "6fc56c38-d925-440d-9b40-ae98b874c626",
   "metadata": {},
   "outputs": [
    {
     "name": "stdout",
     "output_type": "stream",
     "text": [
      "+----------+-----+-------+--------------------+--------------+---------------+--------------------+--------------------+--------------+--------+----+----------+\n",
      "|      asin|image|overall|          reviewText|    reviewerID|   reviewerName|               style|             summary|unixReviewTime|verified|vote|reviewTime|\n",
      "+----------+-----+-------+--------------------+--------------+---------------+--------------------+--------------------+--------------+--------+----+----------+\n",
      "|B00005QDPX| null|    5.0|Crazy Taxi is by ...|A36TDX8DY2XK5Q|       Some Kid|                null|It's Party Time! ...|    1054252800|   false|null|2003-05-30|\n",
      "|B000MXIMKK| null|    4.0|I love these pant...| AZZ1YPRM2FAUH| David Colgrove|{\"Size:\":\" 33W x ...|Durable, good loo...|    1459900800|    true|   6|2016-04-06|\n",
      "|B00005QDPX| null|    2.0|Anyone who hasn't...|A3PASG15BRR40D|       SleepyJD|                null|A fun game that g...|    1049414400|   false|null|2003-04-04|\n",
      "|B000MXIMKK| null|    5.0|Great pants and n...|A388UHKJN07JJT|            TJK|{\"Size:\":\" 42W x ...|       Great Product|    1459900800|    true|null|2016-04-06|\n",
      "|B00005QDPX| null|    4.0|In this game you ...|A29YLR71A42A3N|Amazon Customer|                null|Fun and Entertaining|    1040860800|   false|   3|2002-12-26|\n",
      "+----------+-----+-------+--------------------+--------------+---------------+--------------------+--------------------+--------------+--------+----+----------+\n",
      "only showing top 5 rows\n",
      "\n"
     ]
    }
   ],
   "source": [
    "new_df_reviews.show(5)"
   ]
  },
  {
   "cell_type": "code",
   "execution_count": 27,
   "id": "4a31b572-0a65-4a86-8c0b-71f9739ad4c7",
   "metadata": {},
   "outputs": [],
   "source": [
    "# Drop the attributes that we consider least relevant\n",
    "new_df_reviews_2 = new_df_reviews.drop(\"image\", \"style\", \"unixReviewTime\", \"reviewerName\")"
   ]
  },
  {
   "cell_type": "code",
   "execution_count": 181,
   "id": "35042d0e-ac3a-408f-944a-797ee76b5f75",
   "metadata": {},
   "outputs": [
    {
     "name": "stdout",
     "output_type": "stream",
     "text": [
      "+----------+-------+--------------------+--------------+--------------------+--------+----+----------+\n",
      "|      asin|overall|          reviewText|    reviewerID|             summary|verified|vote|reviewTime|\n",
      "+----------+-------+--------------------+--------------+--------------------+--------+----+----------+\n",
      "|B00005QDPX|    5.0|Crazy Taxi is by ...|A36TDX8DY2XK5Q|It's Party Time! ...|   false|null|2003-05-30|\n",
      "|B000MXIMKK|    4.0|I love these pant...| AZZ1YPRM2FAUH|Durable, good loo...|    true|   6|2016-04-06|\n",
      "|B00005QDPX|    2.0|Anyone who hasn't...|A3PASG15BRR40D|A fun game that g...|   false|null|2003-04-04|\n",
      "|B000MXIMKK|    5.0|Great pants and n...|A388UHKJN07JJT|       Great Product|    true|null|2016-04-06|\n",
      "|B00005QDPX|    4.0|In this game you ...|A29YLR71A42A3N|Fun and Entertaining|   false|   3|2002-12-26|\n",
      "+----------+-------+--------------------+--------------+--------------------+--------+----+----------+\n",
      "only showing top 5 rows\n",
      "\n"
     ]
    }
   ],
   "source": [
    "new_df_reviews_2.show(5)"
   ]
  },
  {
   "cell_type": "code",
   "execution_count": 29,
   "id": "5bd7c843-7699-48bb-a114-1a551f2397e4",
   "metadata": {},
   "outputs": [],
   "source": [
    "# Register new_df as Temp table\n",
    "temp_view_name_2 = \"new_tempvw_reviews\"\n",
    "new_df_reviews_2.createOrReplaceTempView(temp_view_name_2)"
   ]
  },
  {
   "cell_type": "code",
   "execution_count": 31,
   "id": "9e8b031f-c12a-4403-9f90-f1aff8761df1",
   "metadata": {},
   "outputs": [],
   "source": [
    "# Check how many verified and not verified reviewers the dataset has\n",
    "df_reviews_final = spark.sql(\"\"\"\n",
    "SELECT DISTINCT asin, overall, reviewText, reviewerID, summary, verified, vote, reviewTime\n",
    "FROM new_tempvw_reviews \n",
    "\"\"\")"
   ]
  },
  {
   "cell_type": "code",
   "execution_count": 32,
   "id": "dad2a40b-0255-4ed5-93ba-df9cb6b2cecc",
   "metadata": {},
   "outputs": [],
   "source": [
    "# Register df as Temp table\n",
    "temp_view_name_final = \"tempvw_reviews_final\"\n",
    "df_reviews_final.createOrReplaceTempView(temp_view_name_final)"
   ]
  },
  {
   "cell_type": "code",
   "execution_count": 33,
   "id": "f0968652-939f-4a1c-b50f-0037355af0b4",
   "metadata": {},
   "outputs": [
    {
     "data": {
      "text/plain": [
       "13336078"
      ]
     },
     "execution_count": 33,
     "metadata": {},
     "output_type": "execute_result"
    }
   ],
   "source": [
    "df_reviews_final.count()"
   ]
  },
  {
   "cell_type": "code",
   "execution_count": 99,
   "id": "09344a46-89d7-4283-aead-0ff8a4aabaeb",
   "metadata": {},
   "outputs": [],
   "source": [
    "df_copy_reviews_final = df_reviews_final.alias(\"df_reviews_final_copy\")"
   ]
  },
  {
   "cell_type": "code",
   "execution_count": 98,
   "id": "1108e79f-edd4-4b4d-b6d2-1be6ccfb5f10",
   "metadata": {},
   "outputs": [],
   "source": [
    "temp_view_name_final_copy = \"tempvw_reviews_final_copy\"\n",
    "df_reviews_final.createOrReplaceTempView(temp_view_name_final_copy)"
   ]
  },
  {
   "cell_type": "code",
   "execution_count": null,
   "id": "161e8cc3-b466-4f0c-a5b6-5f3bd2eea9c9",
   "metadata": {},
   "outputs": [],
   "source": [
    "# Check how many verified and not verified reviewers the dataset has\n",
    "spark.sql(\"\"\"\n",
    "SELECT COUNT(*), verified\n",
    "FROM tempvw_reviews_final_copy \n",
    "GROUP BY verified\n",
    "\"\"\").show()"
   ]
  },
  {
   "cell_type": "code",
   "execution_count": 100,
   "id": "2b3e1c15-5ff1-4ef5-b69b-6e17fd9b9762",
   "metadata": {},
   "outputs": [
    {
     "name": "stdout",
     "output_type": "stream",
     "text": [
      "+----------+-------+--------------------+--------------+--------------------+--------+----+-------------------+\n",
      "|      asin|overall|          reviewText|    reviewerID|             summary|verified|vote|         reviewTime|\n",
      "+----------+-------+--------------------+--------------+--------------------+--------+----+-------------------+\n",
      "|0312538715|    5.0|When my 73 year m...|A2B8IX5KTDI33E|Fantastic for an ...|   false|  12|2008-04-19 00:00:00|\n",
      "|0330462709|    5.0|This was a really...|A1KOGB4O8NDUPY|          Five Stars|    true|null|2017-11-15 00:00:00|\n",
      "|0345504976|    1.0|I have never felt...| AJFAX0DUC2MAZ| Passage To Nowhere!|    true|   8|2010-09-22 00:00:00|\n",
      "|0345504976|    1.0|The first part of...|A24IWZ1KIQQ4V7|            Drags on|    true|   2|2013-04-18 00:00:00|\n",
      "|0345504976|    1.0|This story starte...|A3N0GNIS8PJ51Q| Unbelievably Boring|    true|   4|2013-01-17 00:00:00|\n",
      "|0345504976|    2.0|I have to admit, ...| ADGFHAEZYURLV|Cronin on To The ...|   false|null|2010-07-30 00:00:00|\n",
      "|0345504976|    3.0|Although I like s...| A1D3FCMAB6HIQ|      Like this book|    true|null|2013-03-25 00:00:00|\n",
      "|0345504976|    3.0|Im not a fan of v...| AXECD64VRH92W|    Very...different|    true|null|2013-07-01 00:00:00|\n",
      "|0345504976|    4.0|It is a good stor...|A3Q3RX6UIJ488T|         Good story.|    true|null|2012-11-11 00:00:00|\n",
      "|0345504976|    4.0|Takes a while, du...|A35MT5364NP4V3|         The passage|    true|null|2013-01-26 00:00:00|\n",
      "|0345504976|    5.0|Arrived on time a...|A1NJRJDL514ZVR|      All good here!|    true|null|2012-12-12 00:00:00|\n",
      "|0345504976|    5.0|I love epic novel...|A1GCR47CKZ8R3A|       Riveting!!!!!|    true|null|2010-07-11 00:00:00|\n",
      "|0345504976|    5.0|I saw this book i...| A49VK1LA9QVO1|Great companion f...|   false|null|2011-01-17 00:00:00|\n",
      "|0345504976|    5.0|I started this bo...|A3QNQIZQ7VIYY6|              Cosmic|   false|null|2011-07-20 00:00:00|\n",
      "|0345504976|    5.0|If you have seen ...| ALUR70Z7TW6V0|          I loved it|   false|null|2010-06-24 00:00:00|\n",
      "|0345504976|    5.0|This story certai...|A1FBYVBM8ADB6L|It's a good read,...|    true|null|2010-08-18 00:00:00|\n",
      "|0345504976|    5.0|Vampires. Just th...|A11ARYQ7SS070U|Beautifully write...|   false|null|2010-09-20 00:00:00|\n",
      "|0345504976|    5.0|this is a real fi...|A224637Y4Y6ASZ|                 WOW|    true|null|2012-12-05 00:00:00|\n",
      "|0345511492|    1.0|Gives very little...|A2Y3DG65JKNAN2|Don't waste your ...|    true|   2|2016-12-22 00:00:00|\n",
      "|0345511492|    2.0|Slow read.  I lik...|A2VKV6WYGT91RF|           Slow Read|   false|null|2017-12-26 00:00:00|\n",
      "+----------+-------+--------------------+--------------+--------------------+--------+----+-------------------+\n",
      "only showing top 20 rows\n",
      "\n"
     ]
    }
   ],
   "source": [
    "df_copy_reviews_final.show()"
   ]
  },
  {
   "cell_type": "markdown",
   "id": "f493e42e-ec55-42cd-96ae-10408f585956",
   "metadata": {},
   "source": [
    "### Amazon Meta"
   ]
  },
  {
   "cell_type": "code",
   "execution_count": 51,
   "id": "59614c69-0fc8-43c4-b01b-cb9a8cc7257a",
   "metadata": {},
   "outputs": [
    {
     "name": "stdout",
     "output_type": "stream",
     "text": [
      "root\n",
      " |-- also_buy: array (nullable = true)\n",
      " |    |-- element: string (containsNull = true)\n",
      " |-- also_view: array (nullable = true)\n",
      " |    |-- element: string (containsNull = true)\n",
      " |-- asin: string (nullable = true)\n",
      " |-- brand: string (nullable = true)\n",
      " |-- category: array (nullable = true)\n",
      " |    |-- element: string (containsNull = true)\n",
      " |-- date: string (nullable = true)\n",
      " |-- description: array (nullable = true)\n",
      " |    |-- element: string (containsNull = true)\n",
      " |-- details: struct (nullable = true)\n",
      " |    |-- \\n    Item Weight: \\n    : string (nullable = true)\n",
      " |    |-- \\n    Package Dimensions: \\n    : string (nullable = true)\n",
      " |    |-- \\n    Product Dimensions: \\n    : string (nullable = true)\n",
      " |    |--  Date first listed on Amazon:: string (nullable = true)\n",
      " |    |--  UNSPSC Code:: string (nullable = true)\n",
      " |    |-- ASIN:: string (nullable = true)\n",
      " |    |-- ASIN: : string (nullable = true)\n",
      " |    |-- Accessory:: string (nullable = true)\n",
      " |    |-- Age Range:: string (nullable = true)\n",
      " |    |-- Album:: string (nullable = true)\n",
      " |    |-- Audible.com Release Date:: string (nullable = true)\n",
      " |    |-- Audio CD: string (nullable = true)\n",
      " |    |-- Audio CD:: string (nullable = true)\n",
      " |    |-- Audio Cassette: string (nullable = true)\n",
      " |    |-- Audio Cassette:: string (nullable = true)\n",
      " |    |-- Audio Description:: string (nullable = true)\n",
      " |    |-- Bath Book:: string (nullable = true)\n",
      " |    |-- Batteries: string (nullable = true)\n",
      " |    |-- Blu-ray: string (nullable = true)\n",
      " |    |-- Blu-ray Audio: string (nullable = true)\n",
      " |    |-- Board book:: string (nullable = true)\n",
      " |    |-- Bonded Leather:: string (nullable = true)\n",
      " |    |-- CD-R: string (nullable = true)\n",
      " |    |-- CD-ROM: string (nullable = true)\n",
      " |    |-- CD-ROM:: string (nullable = true)\n",
      " |    |-- Calendar: string (nullable = true)\n",
      " |    |-- Calendar:: string (nullable = true)\n",
      " |    |-- Card Book:: string (nullable = true)\n",
      " |    |-- Cards:: string (nullable = true)\n",
      " |    |-- Comic:: string (nullable = true)\n",
      " |    |-- DVD: string (nullable = true)\n",
      " |    |-- DVD Audio: string (nullable = true)\n",
      " |    |-- DVD-ROM:: string (nullable = true)\n",
      " |    |-- Diary:: string (nullable = true)\n",
      " |    |-- Digital Copy Expiration Date:: string (nullable = true)\n",
      " |    |-- Discontinued by manufacturer:: string (nullable = true)\n",
      " |    |-- Domestic Shipping: : string (nullable = true)\n",
      " |    |-- Downloading:: string (nullable = true)\n",
      " |    |-- Dubbed:: string (nullable = true)\n",
      " |    |-- Electronics:: string (nullable = true)\n",
      " |    |-- File Size:: string (nullable = true)\n",
      " |    |-- Flexibound:: string (nullable = true)\n",
      " |    |-- Foam Book:: string (nullable = true)\n",
      " |    |-- Format:: string (nullable = true)\n",
      " |    |-- Grade Level:: string (nullable = true)\n",
      " |    |-- Hardcover: string (nullable = true)\n",
      " |    |-- Hardcover Comic:: string (nullable = true)\n",
      " |    |-- Hardcover-spiral:: string (nullable = true)\n",
      " |    |-- Hardcover:: string (nullable = true)\n",
      " |    |-- Health and Beauty: string (nullable = true)\n",
      " |    |-- ISBN-10:: string (nullable = true)\n",
      " |    |-- ISBN-13:: string (nullable = true)\n",
      " |    |-- Imitation Leather:: string (nullable = true)\n",
      " |    |-- International Shipping: : string (nullable = true)\n",
      " |    |-- Item model number:: string (nullable = true)\n",
      " |    |-- JP Oversized:: string (nullable = true)\n",
      " |    |-- Journal:: string (nullable = true)\n",
      " |    |-- Label:: string (nullable = true)\n",
      " |    |-- Language:: string (nullable = true)\n",
      " |    |-- Leather Bound:: string (nullable = true)\n",
      " |    |-- Lending:: string (nullable = true)\n",
      " |    |-- Lexile Measure:: string (nullable = true)\n",
      " |    |-- Library Binding:: string (nullable = true)\n",
      " |    |-- Listening Length:: string (nullable = true)\n",
      " |    |-- Loose Leaf:: string (nullable = true)\n",
      " |    |-- MP3 CD:: string (nullable = true)\n",
      " |    |-- Map:: string (nullable = true)\n",
      " |    |-- Mass Market Paperback:: string (nullable = true)\n",
      " |    |-- Misc. Supplies:: string (nullable = true)\n",
      " |    |-- Misc.:: string (nullable = true)\n",
      " |    |-- Mook:: string (nullable = true)\n",
      " |    |-- Note on Boxed Sets:: string (nullable = true)\n",
      " |    |-- Note:: string (nullable = true)\n",
      " |    |-- Number of Discs:: string (nullable = true)\n",
      " |    |-- Online Code:: string (nullable = true)\n",
      " |    |-- Online Map Code:: string (nullable = true)\n",
      " |    |-- Original Release Date:: string (nullable = true)\n",
      " |    |-- Page Numbers Source ISBN:: string (nullable = true)\n",
      " |    |-- Pamphlet:: string (nullable = true)\n",
      " |    |-- Paperback: string (nullable = true)\n",
      " |    |-- Paperback Bunko:: string (nullable = true)\n",
      " |    |-- Paperback:: string (nullable = true)\n",
      " |    |-- Perfect Paperback:: string (nullable = true)\n",
      " |    |-- Plastic Comb:: string (nullable = true)\n",
      " |    |-- Please Note:: string (nullable = true)\n",
      " |    |-- Pocket Book:: string (nullable = true)\n",
      " |    |-- Poster:: string (nullable = true)\n",
      " |    |-- Print Length:: string (nullable = true)\n",
      " |    |-- Print Magazine:: string (nullable = true)\n",
      " |    |-- Print on Demand (Paperback):: string (nullable = true)\n",
      " |    |-- Program Type:: string (nullable = true)\n",
      " |    |-- Publication Date:: string (nullable = true)\n",
      " |    |-- Publisher:: string (nullable = true)\n",
      " |    |-- Release Date:: string (nullable = true)\n",
      " |    |-- Ring-bound:: string (nullable = true)\n",
      " |    |-- Run Time:: string (nullable = true)\n",
      " |    |-- SPARS Code:: string (nullable = true)\n",
      " |    |-- School & Library Binding:: string (nullable = true)\n",
      " |    |-- Series:: string (nullable = true)\n",
      " |    |-- Sheet music:: string (nullable = true)\n",
      " |    |-- Shipping Advisory:: string (nullable = true)\n",
      " |    |-- Shipping Weight:: string (nullable = true)\n",
      " |    |-- Shipping: : string (nullable = true)\n",
      " |    |-- Simultaneous Device Usage:: string (nullable = true)\n",
      " |    |-- Single Issue Magazine:: string (nullable = true)\n",
      " |    |-- Spiral-bound:: string (nullable = true)\n",
      " |    |-- Staple Bound:: string (nullable = true)\n",
      " |    |-- Subtitles for the Hearing Impaired:: string (nullable = true)\n",
      " |    |-- Subtitles:: string (nullable = true)\n",
      " |    |-- Tankobon Hardcover:: string (nullable = true)\n",
      " |    |-- Tankobon Softcover:: string (nullable = true)\n",
      " |    |-- Textbook Binding:: string (nullable = true)\n",
      " |    |-- Transparency:: string (nullable = true)\n",
      " |    |-- Turtleback:: string (nullable = true)\n",
      " |    |-- UPC:: string (nullable = true)\n",
      " |    |-- USB Memory Stick: string (nullable = true)\n",
      " |    |-- Unbound:: string (nullable = true)\n",
      " |    |-- Unknown Binding:: string (nullable = true)\n",
      " |    |-- Version:: string (nullable = true)\n",
      " |    |-- Vinyl: string (nullable = true)\n",
      " |    |-- Vinyl Bound: string (nullable = true)\n",
      " |    |-- Vinyl Bound:: string (nullable = true)\n",
      " |    |-- Wall Chart:: string (nullable = true)\n",
      " |    |-- Whispersync for Voice:: string (nullable = true)\n",
      " |    |-- Word Wise:: string (nullable = true)\n",
      " |    |-- Workbook:: string (nullable = true)\n",
      " |-- feature: array (nullable = true)\n",
      " |    |-- element: string (containsNull = true)\n",
      " |-- fit: string (nullable = true)\n",
      " |-- image: array (nullable = true)\n",
      " |    |-- element: string (containsNull = true)\n",
      " |-- main_cat: string (nullable = true)\n",
      " |-- price: string (nullable = true)\n",
      " |-- rank: string (nullable = true)\n",
      " |-- similar_item: string (nullable = true)\n",
      " |-- tech1: string (nullable = true)\n",
      " |-- tech2: string (nullable = true)\n",
      " |-- title: string (nullable = true)\n",
      "\n"
     ]
    }
   ],
   "source": [
    "# Print df_meta Schema to see what attributes we have and what data type they belong\n",
    "df_meta.printSchema()"
   ]
  },
  {
   "cell_type": "markdown",
   "id": "7186a7fa-45e5-4878-b43e-f19e7adbf1a6",
   "metadata": {},
   "source": [
    "We see `df_meta` offers some relevant description about the products and categories such that we can summarize our data in a structured way, so we need to drop the fields that are unnecessary to our analysis "
   ]
  },
  {
   "cell_type": "code",
   "execution_count": 52,
   "id": "8de03327-6dd1-4af7-89e9-34a3e4137af2",
   "metadata": {},
   "outputs": [
    {
     "name": "stdout",
     "output_type": "stream",
     "text": [
      "+--------------------+---------+----------+-------+--------------------+----------------+--------------------+--------------------+--------------------+---+--------------------+----------+------+--------------------+--------------------+--------------------+-----+--------------------+\n",
      "|            also_buy|also_view|      asin|  brand|            category|            date|         description|             details|             feature|fit|               image|  main_cat| price|                rank|        similar_item|               tech1|tech2|               title|\n",
      "+--------------------+---------+----------+-------+--------------------+----------------+--------------------+--------------------+--------------------+---+--------------------+----------+------+--------------------+--------------------+--------------------+-----+--------------------+\n",
      "|[B000C2AH9K, B000...|       []|B000C2E3PY|Fel-Pro|[Automotive, Repl...|November 8, 2005|[Fel-Pro gaskets ...|{null, null, null...|[PermaTorqueMLS h...|   |                  []|Automotive|$36.14|[\">#952,255 in Au...| class=\"a-bordere...| class=\"a-keyvalu...|     |Fel-Pro 26158 PT-...|\n",
      "|        [B001C6OYYE]|       []|B000C2CN6A|Fel-Pro|[Automotive, Repl...|   July 24, 2006|[Fel-Pro gaskets ...|{null, null, null...|[Meets or exceeds...|   |[https://images-n...|Automotive|$19.09|[\">#1,307,842 in ...| class=\"a-bordere...| class=\"a-keyvalu...|     |Fel-Pro VS50552R ...|\n",
      "|[B000CNJ4A2, B000...|       []|B000C2CLTE|Fel-Pro|[Automotive, Repl...|  August 1, 2006|[Fel-Pro gaskets ...|{null, null, null...|[Meets or exceeds...|   |[https://images-n...|Automotive|$19.04|[\">#1,298,327 in ...| class=\"a-bordere...| class=\"a-keyvalu...|     |Fel-Pro SS72683 V...|\n",
      "|[B000C2S6DY, B003...|       []|B000C2E49O|Fel-Pro|[Automotive, Repl...|  August 1, 2006|[Fel-Pro gaskets ...|{null, null, null...|[Meets or exceeds...|   |                  []|Automotive| $3.70|[\">#856,074 in Au...| class=\"a-bordere...| class=\"a-keyvalu...|     |Fel-Pro 35403 Wat...|\n",
      "|                  []|       []|B000C2CNAG|Fel-Pro|[Automotive, Repl...|November 9, 2005|[Fel-Pro gaskets ...|{null, null, null...|[Meets or exceeds...|   |[https://images-n...|Automotive| $8.10|[\">#2,063,785 in ...|                    | class=\"a-keyvalu...|     |Fel-Pro VS 50439 ...|\n",
      "+--------------------+---------+----------+-------+--------------------+----------------+--------------------+--------------------+--------------------+---+--------------------+----------+------+--------------------+--------------------+--------------------+-----+--------------------+\n",
      "only showing top 5 rows\n",
      "\n"
     ]
    }
   ],
   "source": [
    "# Check the content within df_meta\n",
    "df_meta.show(5)"
   ]
  },
  {
   "cell_type": "code",
   "execution_count": 80,
   "id": "cd00c9b9-1452-4e51-ba98-5f224dcf80d8",
   "metadata": {},
   "outputs": [],
   "source": [
    "# Create temp view to query data\n",
    "temp_view_name = \"tempvw_meta\"\n",
    "df_meta.createOrReplaceTempView(temp_view_name)"
   ]
  },
  {
   "cell_type": "code",
   "execution_count": 81,
   "id": "19543718-67e1-4970-a9fc-2d512b556f2e",
   "metadata": {},
   "outputs": [],
   "source": [
    "filtered_df_meta = spark.sql(\"\"\"\n",
    "SELECT DISTINCT asin, brand, main_cat, price, rank, description, category, title\n",
    "FROM tempvw_meta \n",
    "WHERE main_cat NOT LIKE '%https%' AND main_cat NOT LIKE ''\n",
    "\"\"\")"
   ]
  },
  {
   "cell_type": "code",
   "execution_count": 82,
   "id": "95ac770f-12b4-4894-81f5-b8b9b97fbfc7",
   "metadata": {},
   "outputs": [],
   "source": [
    "filtered_temp_view_name = \"filtered_tempvw_meta\"\n",
    "filtered_df_meta.createOrReplaceTempView(filtered_temp_view_name)"
   ]
  },
  {
   "cell_type": "code",
   "execution_count": 87,
   "id": "afc409f5-7b22-49a7-887d-648c9eb0ddce",
   "metadata": {},
   "outputs": [],
   "source": [
    "resultado_consulta_meta = spark.sql(\"\"\"\n",
    "SELECT main_cat, COUNT(*) as conteo_registros \n",
    "FROM filtered_tempvw_meta \n",
    "GROUP BY main_cat\n",
    "ORDER BY COUNT(*) DESC\n",
    "\"\"\")"
   ]
  },
  {
   "cell_type": "code",
   "execution_count": 110,
   "id": "0eb11a10-1ec3-4ae4-bfd8-6fcdae2003e3",
   "metadata": {},
   "outputs": [
    {
     "name": "stdout",
     "output_type": "stream",
     "text": [
      "+----------------+\n",
      "|conteo_registros|\n",
      "+----------------+\n",
      "|        30046118|\n",
      "+----------------+\n",
      "\n"
     ]
    }
   ],
   "source": [
    "resultado_consulta_meta.show()"
   ]
  },
  {
   "cell_type": "code",
   "execution_count": 84,
   "id": "57e3502d-94cc-4e40-8e43-31076279aae7",
   "metadata": {},
   "outputs": [
    {
     "name": "stdout",
     "output_type": "stream",
     "text": [
      "+----------------+\n",
      "|conteo_registros|\n",
      "+----------------+\n",
      "|         3672407|\n",
      "+----------------+\n",
      "\n"
     ]
    }
   ],
   "source": [
    "resultado_consulta_meta.show()"
   ]
  },
  {
   "cell_type": "code",
   "execution_count": 88,
   "id": "b6052a60-b1a0-40d7-bf46-e0ff6dcca567",
   "metadata": {},
   "outputs": [
    {
     "name": "stdout",
     "output_type": "stream",
     "text": [
      "+--------------------+----------------+\n",
      "|            main_cat|conteo_registros|\n",
      "+--------------------+----------------+\n",
      "|               Books|          865313|\n",
      "|         Amazon Home|          560683|\n",
      "|   Sports & Outdoors|          320070|\n",
      "|        Toys & Games|          266214|\n",
      "|          Automotive|          264249|\n",
      "|Cell Phones & Acc...|          220627|\n",
      "|        Buy a Kindle|          187580|\n",
      "|             Grocery|          143295|\n",
      "|Tools & Home Impr...|          115173|\n",
      "|         Movies & TV|          102242|\n",
      "|           Computers|           97931|\n",
      "|     Office Products|           85375|\n",
      "|     All Electronics|           72880|\n",
      "|Arts, Crafts & Se...|           54483|\n",
      "|      Camera & Photo|           45520|\n",
      "| Musical Instruments|           40240|\n",
      "|Industrial & Scie...|           40172|\n",
      "|        Pet Supplies|           39423|\n",
      "|Home Audio & Theater|           38213|\n",
      "|Health & Personal...|           26557|\n",
      "|         Video Games|           26262|\n",
      "|                Baby|           10884|\n",
      "|            Software|           10362|\n",
      "|     Car Electronics|            9063|\n",
      "|          All Beauty|            7594|\n",
      "|Portable Audio & ...|            3704|\n",
      "|    GPS & Navigation|            3450|\n",
      "|Magazine Subscrip...|            2320|\n",
      "|       Luxury Beauty|            2301|\n",
      "|      Amazon Devices|            2141|\n",
      "+--------------------+----------------+\n",
      "only showing top 30 rows\n",
      "\n"
     ]
    }
   ],
   "source": [
    "resultado_consulta_meta.show(30)"
   ]
  },
  {
   "cell_type": "code",
   "execution_count": 89,
   "id": "831b0c1f-2f97-40e6-a4ff-aa61639b317b",
   "metadata": {},
   "outputs": [
    {
     "name": "stdout",
     "output_type": "stream",
     "text": [
      "+----------+-------------------+--------------------+-------+--------------------+--------------------+--------------------+--------------------+\n",
      "|      asin|              brand|            main_cat|  price|                rank|         description|            category|               title|\n",
      "+----------+-------------------+--------------------+-------+--------------------+--------------------+--------------------+--------------------+\n",
      "|B000BOC9ZO|           Longacre|          Automotive|       |[\">#1,044,295 in ...|[Standard 2&quot ...|[Automotive, Repl...|Longacre 50451 St...|\n",
      "|B000BOYCN6|          Valvoline|          Automotive|  $4.97|[\">#22,706 in Aut...|[Valvoline MaxLif...|[Automotive, Oils...|Valvoline VV324 1...|\n",
      "|B000BPTV3Q|            Unknown|Tools & Home Impr...| $33.85|[\">#3,231,210 in ...|[The Roadcraft<re...|[Automotive, Exte...|Unknown 60111-01 ...|\n",
      "|B000BPVVAM|              Niteo|          Automotive| $10.04|[\">#838,991 in Au...|[Gunk DOT 3 Super...|[Automotive, Oils...|Niteo Motor Medic...|\n",
      "|B000BPZ4FK|Spectre Performance|          Automotive|  $4.48|[\">#90,626 in Aut...|[Spectres 4 inch ...|[Automotive, Repl...|Spectre Performan...|\n",
      "|B000BQL0HK|  UNITED STATES HDW|         Amazon Home| $10.42|[\">#9,066,039 in ...|[For heat distrib...|[Automotive, Inte...|UNITED STATES HDW...|\n",
      "|B000BQMZO2|               Warn|          Automotive| $12.05|[\">#960,939 in Au...|[WARN Wire Rope T...|                  []|WARN 16463 Wire R...|\n",
      "|B000BR3BQ2|                K&N|          Automotive|$361.99|[\">#442,230 in Au...|[The kit replaces...|[Automotive, Repl...|K&amp;N 57-9016-1...|\n",
      "|B000BRJURG|              Dicor|          Automotive| $14.25|[\">#85,900 in Aut...|[Formulated speci...|[Automotive, RV P...|Dicor Corporation...|\n",
      "|B000BSYAX4| Curt Manufacturing|          Automotive|$126.99|[\">#265,254 in Au...|[When an especial...|[Automotive, Exte...|Curt Manufacturin...|\n",
      "|B000BTLLCG|             Energy|          Automotive| $29.99|[\">#6,679,449 in ...|                  []|[Automotive, Repl...|Energy 9.8122R Sw...|\n",
      "|B000BV80Q4|           Prestone|          Automotive|       |[\">#4,933,859 in ...|[Prestone automot...|[Automotive, Repl...|Prestone 630K7 Pr...|\n",
      "|B000BV823K|        Plasticolor|          Automotive|       |[\">#736,592 in Au...|[A Plasticolor bu...|[Automotive, Inte...|Plasticolor Tinke...|\n",
      "|B000BW8NAQ|              ACCEL|          Automotive| $15.21|[\">#3,831,461 in ...|[The Accel 300+ F...|[Automotive, Repl...|ACCEL 7030 Perfor...|\n",
      "|B000BW8NVU|              ACCEL|          Automotive|       |[\">#2,189,402 in ...|[ACCEL spark plug...|[Automotive, Perf...|ACCEL 8177 Perfor...|\n",
      "|B000BW8NYC|              ACCEL|          Automotive| $39.86|[\">#281,900 in Au...|[ACCEL's \"Shorty\"...|[Automotive, Perf...|ACCEL 8198 Perfor...|\n",
      "|B000BW8VW6|         Mr. Gasket|          Automotive| $62.99|[\">#506,865 in Au...|[Mr. Gasket Baby ...|[Automotive, Tire...|Mr. Gasket 4580 B...|\n",
      "|B000BYB0X6|            ACDelco|          Automotive|       |[\">#2,657,384 in ...|[ACDelco GM Origi...|[Automotive, Repl...|ACDelco 616K Spar...|\n",
      "|B000BYEM22|              Bosch|          Automotive| $12.01|[\">#782,145 in Au...|[Just like distri...|[Automotive, Repl...|Bosch 04168 Ignit...|\n",
      "|B000BYEMEA|              Bosch|          Automotive| $19.61|[\">#605,500 in Au...|[All Bosch igniti...|[Automotive, Repl...|Bosch 04272 Ignit...|\n",
      "+----------+-------------------+--------------------+-------+--------------------+--------------------+--------------------+--------------------+\n",
      "only showing top 20 rows\n",
      "\n"
     ]
    }
   ],
   "source": [
    "filtered_df_meta.show()"
   ]
  },
  {
   "cell_type": "code",
   "execution_count": 93,
   "id": "3665f9af-4ce1-453f-a507-fe5562214fb5",
   "metadata": {},
   "outputs": [],
   "source": [
    "#Check if there is any duplicated asin (primary key of meta df)\n",
    "conteo_duplicados = filtered_df_meta.groupBy('asin').count()\n",
    "duplicated = conteo_duplicados.filter(col(\"count\") > 1)"
   ]
  },
  {
   "cell_type": "code",
   "execution_count": 96,
   "id": "138c28c6-d038-4217-be00-a40a581d9f4f",
   "metadata": {},
   "outputs": [
    {
     "name": "stdout",
     "output_type": "stream",
     "text": [
      "+----+-----+\n",
      "|asin|count|\n",
      "+----+-----+\n",
      "+----+-----+\n",
      "\n"
     ]
    }
   ],
   "source": [
    "duplicated.show()"
   ]
  },
  {
   "cell_type": "markdown",
   "id": "d43eb69b-3613-4ea8-aae4-71eecbae4771",
   "metadata": {},
   "source": [
    "## Combine both Amazon Sources (Batch)"
   ]
  },
  {
   "cell_type": "code",
   "execution_count": 103,
   "id": "2232a5ec-71ff-4f5c-9199-70ccf3c603c5",
   "metadata": {},
   "outputs": [],
   "source": [
    "# Inner Join to combine Reviews with Meta\n",
    "df_reviews_master_table = df_copy_reviews_final.join(filtered_df_meta, on=[\"asin\"], how=\"inner\")"
   ]
  },
  {
   "cell_type": "code",
   "execution_count": 104,
   "id": "72ff6aee-fcfe-4515-877b-7e9c42e6940b",
   "metadata": {},
   "outputs": [
    {
     "name": "stdout",
     "output_type": "stream",
     "text": [
      "root\n",
      " |-- asin: string (nullable = true)\n",
      " |-- overall: string (nullable = true)\n",
      " |-- reviewText: string (nullable = true)\n",
      " |-- reviewerID: string (nullable = true)\n",
      " |-- summary: string (nullable = true)\n",
      " |-- verified: string (nullable = true)\n",
      " |-- vote: string (nullable = true)\n",
      " |-- reviewTime: string (nullable = true)\n",
      " |-- brand: string (nullable = true)\n",
      " |-- main_cat: string (nullable = true)\n",
      " |-- price: string (nullable = true)\n",
      " |-- rank: string (nullable = true)\n",
      " |-- description: array (nullable = true)\n",
      " |    |-- element: string (containsNull = true)\n",
      " |-- category: array (nullable = true)\n",
      " |    |-- element: string (containsNull = true)\n",
      " |-- title: string (nullable = true)\n",
      "\n"
     ]
    }
   ],
   "source": [
    "df_reviews_master_table.printSchema()"
   ]
  },
  {
   "cell_type": "code",
   "execution_count": 105,
   "id": "768dab22-aa72-4e2c-9074-27270851bd76",
   "metadata": {},
   "outputs": [
    {
     "name": "stdout",
     "output_type": "stream",
     "text": [
      "+----------+-------+--------------------+--------------+--------------------+--------+----+-------------------+--------------------+--------+------+--------------------+--------------------+--------------------+--------------------+\n",
      "|      asin|overall|          reviewText|    reviewerID|             summary|verified|vote|         reviewTime|               brand|main_cat| price|                rank|         description|            category|               title|\n",
      "+----------+-------+--------------------+--------------+--------------------+--------+----+-------------------+--------------------+--------+------+--------------------+--------------------+--------------------+--------------------+\n",
      "|000727033X|    5.0|So exciting! This...|A3GED6CLCNHWX4|This is the all s...|    true|null|2013-07-08 00:00:00|Visit Amazon's St...|   Books| $6.99|  273,662 in Books (|[, Praise for The...|[Books, Teen & Yo...|Victory and the A...|\n",
      "|000727033X|    5.0|I loved it sooo m...|A2QJJVTC1ZD3UJ|          great book|   false|null|2015-05-18 00:00:00|Visit Amazon's St...|   Books| $6.99|  273,662 in Books (|[, Praise for The...|[Books, Teen & Yo...|Victory and the A...|\n",
      "|000727033X|    5.0|Same as I have sa...|A2PSBHN5BJSJ5L|          great book|    true|null|2013-03-29 00:00:00|Visit Amazon's St...|   Books| $6.99|  273,662 in Books (|[, Praise for The...|[Books, Teen & Yo...|Victory and the A...|\n",
      "|000727033X|    5.0|The book \"victory...|A3NR5C7XD5PB7I|Wicked scenery in...|    true|null|2015-04-05 00:00:00|Visit Amazon's St...|   Books| $6.99|  273,662 in Books (|[, Praise for The...|[Books, Teen & Yo...|Victory and the A...|\n",
      "|000727033X|    5.0|This is my favour...|A25BRG8LAB9EK3|     Best book ever!|   false|null|2011-12-24 00:00:00|Visit Amazon's St...|   Books| $6.99|  273,662 in Books (|[, Praise for The...|[Books, Teen & Yo...|Victory and the A...|\n",
      "|000727033X|    5.0|    I love this book|A1J9B8ZLG7888M|          Five Stars|   false|null|2018-01-03 00:00:00|Visit Amazon's St...|   Books| $6.99|  273,662 in Books (|[, Praise for The...|[Books, Teen & Yo...|Victory and the A...|\n",
      "|0021856532|    3.0|I bought this for...|A3S94KJLKKD0QC|but the word list...|    true|null|2015-07-05 00:00:00|         McGraw-Hill|   Books| $8.26|2,059,743 in Books (|[<br><br><b>Book ...|                  []|Spelling Practice...|\n",
      "|0021938024|    5.0|          Thank you!|A3V0DWNEFIU2V7|          Five Stars|    true|null|2016-09-29 00:00:00|                    |   Books|      |2,917,080 in Books (|[retelling cards ...|                  []|Grade 2 Retelling...|\n",
      "|0027677907|    5.0|Sidney Rella And ...|A2H3F9FHF0I4YI|A modern woman's ...|   false|   5|2000-09-29 00:00:00|Visit Amazon's Be...|   Books| $6.55|2,774,918 in Books (|[Kindergarten-Gra...|[Books, Children'...|Sidney Rella and ...|\n",
      "|0027677907|    5.0|Did a fairytale u...|A22VMDQBBPW5F1|Boy version of Ci...|    true|null|2013-03-16 00:00:00|Visit Amazon's Be...|   Books| $6.55|2,774,918 in Books (|[Kindergarten-Gra...|[Books, Children'...|Sidney Rella and ...|\n",
      "|0027677907|    5.0|        Great book!!| AEKKHZRE4FQ51|          Five Stars|    true|null|2015-06-11 00:00:00|Visit Amazon's Be...|   Books| $6.55|2,774,918 in Books (|[Kindergarten-Gra...|[Books, Children'...|Sidney Rella and ...|\n",
      "|0027677907|    5.0|Although the book...|A3MHHBJKXST5GO|my students loved...|    true|null|2017-06-07 00:00:00|Visit Amazon's Be...|   Books| $6.55|2,774,918 in Books (|[Kindergarten-Gra...|[Books, Children'...|Sidney Rella and ...|\n",
      "|0029328802|    3.0|Roberto Unger's s...|A16DWUZKGFWYYL|Difficult read, y...|   false|   5|2009-03-22 00:00:00|Visit Amazon's Ro...|   Books|      |2,255,593 in Books (|[Will be shipped ...|[Books, New, Used...|Law in Modern Soc...|\n",
      "|0030210313|    5.0|This novel is a g...| ACTFIW2RSQ3SO|How the tragedy o...|    true|   2|2010-02-05 00:00:00|Visit Amazon's Wi...|   Books|      |5,319,993 in Books (|[1979 hardback ed...|                  []|   Shanghai: A Novel|\n",
      "|0030446511|    5.0|This book is one ...| A2EX54145A9TQ|This Story has be...|    true|null|2016-04-02 00:00:00|Visit Amazon's Do...|   Books| $8.05|6,841,498 in Books (|                [, ]|                  []|          Brighteyes|\n",
      "|0078907020|    5.0|Glad to have foun...|A1LETUC5HH4GDW|   teacher's edition|    true|null|2014-06-13 00:00:00|             Glencoe|   Books|$29.85|5,422,244 in Books (|                  []|                  []|Mastering the Ach...|\n",
      "|0091943876|    5.0|Tony Benn has alw...| AMHX25VUDV19A|A remarkable acco...|   false|   5|2014-03-27 00:00:00|Visit Amazon's To...|   Books| $6.00|4,650,523 in Books (|[\"There is a new ...|[Books, Biographi...|A Blaze of Autumn...|\n",
      "|0091943876|    5.0|Difficult to put ...| AY3R5REQE5YBT|         Outstanding|    true|null|2014-04-20 00:00:00|Visit Amazon's To...|   Books| $6.00|4,650,523 in Books (|[\"There is a new ...|[Books, Biographi...|A Blaze of Autumn...|\n",
      "|0124405754|    5.0|I have read sever...|A24XWQCSVD26UE|Finest qualitativ...|   false|   3|2002-10-19 00:00:00|Visit Amazon's Ma...|   Books|      |2,655,736 in Books (|[Margaret D. LeCo...|[Books, Science &...|Ethnography and Q...|\n",
      "|0133721272|    5.0|This math book wi...|A2X2OYY4T2Q8QW|       Math resource|    true|null|2017-01-07 00:00:00|       Prentice Hall|   Books|$27.76|2,523,707 in Books (|[Mathematics Cour...|                  []|Mathematics Cours...|\n",
      "+----------+-------+--------------------+--------------+--------------------+--------+----+-------------------+--------------------+--------+------+--------------------+--------------------+--------------------+--------------------+\n",
      "only showing top 20 rows\n",
      "\n"
     ]
    }
   ],
   "source": [
    "# Check the results \n",
    "df_reviews_master_table.show(5)"
   ]
  },
  {
   "cell_type": "markdown",
   "id": "66c40faa-a2fc-480a-9548-4e794572622d",
   "metadata": {},
   "source": [
    "## Export data to Parquet "
   ]
  },
  {
   "cell_type": "code",
   "execution_count": 92,
   "id": "16e19e27-7947-46d3-9e7d-74362e7cc706",
   "metadata": {},
   "outputs": [],
   "source": [
    "path_parquet = 'parquet_meta'\n",
    "partition_column = 'main_cat'\n",
    "df_reviews_master_table.write.partitionBy(partition_column).option(\"compression\", \"gzip\").parquet(path_parquet)"
   ]
  },
  {
   "cell_type": "markdown",
   "id": "dd5d7b9d-9e26-4d4e-9baf-15b0127c0224",
   "metadata": {},
   "source": [
    "## Read clean master table data with Pandas"
   ]
  },
  {
   "cell_type": "code",
   "execution_count": 112,
   "id": "1628b84f-0874-4855-959e-be53930c4a82",
   "metadata": {},
   "outputs": [],
   "source": [
    "import pandas as pd"
   ]
  },
  {
   "cell_type": "code",
   "execution_count": 4,
   "id": "65317215-41bd-4668-9658-d6946cb0ceb6",
   "metadata": {},
   "outputs": [],
   "source": [
    "# Use pyarrow engine to get data from master table \n",
    "df_test = pd.read_parquet('parquet_meta', engine=\"pyarrow\")"
   ]
  },
  {
   "cell_type": "code",
   "execution_count": 114,
   "id": "3ee92a9f-bcf2-478c-80b2-b496e5219932",
   "metadata": {
    "scrolled": true
   },
   "outputs": [
    {
     "data": {
      "text/plain": [
       "(3742746, 15)"
      ]
     },
     "execution_count": 114,
     "metadata": {},
     "output_type": "execute_result"
    }
   ],
   "source": [
    "df_test.shape"
   ]
  },
  {
   "cell_type": "code",
   "execution_count": 121,
   "id": "3cdbb080-339d-4813-8781-09693dca74b0",
   "metadata": {},
   "outputs": [],
   "source": [
    "df_test['vote'] = df_test['vote'].str.replace(',', '')"
   ]
  },
  {
   "cell_type": "code",
   "execution_count": 139,
   "id": "2659a1c4-2ef0-45f0-820b-f367106d2948",
   "metadata": {},
   "outputs": [
    {
     "data": {
      "text/html": [
       "<div>\n",
       "<style scoped>\n",
       "    .dataframe tbody tr th:only-of-type {\n",
       "        vertical-align: middle;\n",
       "    }\n",
       "\n",
       "    .dataframe tbody tr th {\n",
       "        vertical-align: top;\n",
       "    }\n",
       "\n",
       "    .dataframe thead th {\n",
       "        text-align: right;\n",
       "    }\n",
       "</style>\n",
       "<table border=\"1\" class=\"dataframe\">\n",
       "  <thead>\n",
       "    <tr style=\"text-align: right;\">\n",
       "      <th></th>\n",
       "      <th>asin</th>\n",
       "      <th>overall</th>\n",
       "      <th>reviewText</th>\n",
       "      <th>reviewerID</th>\n",
       "      <th>summary</th>\n",
       "      <th>verified</th>\n",
       "      <th>vote</th>\n",
       "      <th>reviewTime</th>\n",
       "      <th>brand</th>\n",
       "      <th>price</th>\n",
       "      <th>rank</th>\n",
       "      <th>description</th>\n",
       "      <th>category</th>\n",
       "      <th>title</th>\n",
       "      <th>main_cat</th>\n",
       "    </tr>\n",
       "  </thead>\n",
       "  <tbody>\n",
       "    <tr>\n",
       "      <th>27588</th>\n",
       "      <td>B00BZFGNPU</td>\n",
       "      <td>5.0</td>\n",
       "      <td>Received my case and it fits perfectly. The ki...</td>\n",
       "      <td>A31N5BEI8WO2U1</td>\n",
       "      <td>Perfect fit!</td>\n",
       "      <td>true</td>\n",
       "      <td>None</td>\n",
       "      <td>2013-09-04 00:00:00</td>\n",
       "      <td>EMPIRE</td>\n",
       "      <td></td>\n",
       "      <td>[\"&gt;#680,526 in Cell Phones &amp; Accessories (See ...</td>\n",
       "      <td>[]</td>\n",
       "      <td>[Cell Phones &amp; Accessories, Cases, Holsters &amp; ...</td>\n",
       "      <td>MPERO IMPACT X Series Kickstand Case for Motor...</td>\n",
       "      <td>All Electronics</td>\n",
       "    </tr>\n",
       "    <tr>\n",
       "      <th>27590</th>\n",
       "      <td>B00BZFGNPU</td>\n",
       "      <td>5.0</td>\n",
       "      <td>I ordered this case for my Mom since her last ...</td>\n",
       "      <td>ADNPA1CQTBJIL</td>\n",
       "      <td>Awesome Case!</td>\n",
       "      <td>true</td>\n",
       "      <td>None</td>\n",
       "      <td>2014-06-16 00:00:00</td>\n",
       "      <td>EMPIRE</td>\n",
       "      <td></td>\n",
       "      <td>[\"&gt;#680,526 in Cell Phones &amp; Accessories (See ...</td>\n",
       "      <td>[]</td>\n",
       "      <td>[Cell Phones &amp; Accessories, Cases, Holsters &amp; ...</td>\n",
       "      <td>MPERO IMPACT X Series Kickstand Case for Motor...</td>\n",
       "      <td>All Electronics</td>\n",
       "    </tr>\n",
       "    <tr>\n",
       "      <th>27592</th>\n",
       "      <td>B00BZFGNPU</td>\n",
       "      <td>5.0</td>\n",
       "      <td>Great case!</td>\n",
       "      <td>A2UHBES37HEWD8</td>\n",
       "      <td>Five Stars</td>\n",
       "      <td>true</td>\n",
       "      <td>None</td>\n",
       "      <td>2014-10-13 00:00:00</td>\n",
       "      <td>EMPIRE</td>\n",
       "      <td></td>\n",
       "      <td>[\"&gt;#680,526 in Cell Phones &amp; Accessories (See ...</td>\n",
       "      <td>[]</td>\n",
       "      <td>[Cell Phones &amp; Accessories, Cases, Holsters &amp; ...</td>\n",
       "      <td>MPERO IMPACT X Series Kickstand Case for Motor...</td>\n",
       "      <td>All Electronics</td>\n",
       "    </tr>\n",
       "    <tr>\n",
       "      <th>27596</th>\n",
       "      <td>B00BZFGNPU</td>\n",
       "      <td>5.0</td>\n",
       "      <td>perfect</td>\n",
       "      <td>A3VU0JMBMMLNLS</td>\n",
       "      <td>Five Stars</td>\n",
       "      <td>true</td>\n",
       "      <td>None</td>\n",
       "      <td>2014-11-22 00:00:00</td>\n",
       "      <td>EMPIRE</td>\n",
       "      <td></td>\n",
       "      <td>[\"&gt;#680,526 in Cell Phones &amp; Accessories (See ...</td>\n",
       "      <td>[]</td>\n",
       "      <td>[Cell Phones &amp; Accessories, Cases, Holsters &amp; ...</td>\n",
       "      <td>MPERO IMPACT X Series Kickstand Case for Motor...</td>\n",
       "      <td>All Electronics</td>\n",
       "    </tr>\n",
       "    <tr>\n",
       "      <th>27598</th>\n",
       "      <td>B00BZFGNPU</td>\n",
       "      <td>5.0</td>\n",
       "      <td>Great product for the money. I love having a k...</td>\n",
       "      <td>A1IUM56J26HM5J</td>\n",
       "      <td>Awesome</td>\n",
       "      <td>true</td>\n",
       "      <td>None</td>\n",
       "      <td>2013-07-11 00:00:00</td>\n",
       "      <td>EMPIRE</td>\n",
       "      <td></td>\n",
       "      <td>[\"&gt;#680,526 in Cell Phones &amp; Accessories (See ...</td>\n",
       "      <td>[]</td>\n",
       "      <td>[Cell Phones &amp; Accessories, Cases, Holsters &amp; ...</td>\n",
       "      <td>MPERO IMPACT X Series Kickstand Case for Motor...</td>\n",
       "      <td>All Electronics</td>\n",
       "    </tr>\n",
       "  </tbody>\n",
       "</table>\n",
       "</div>"
      ],
      "text/plain": [
       "             asin overall                                         reviewText  \\\n",
       "27588  B00BZFGNPU     5.0  Received my case and it fits perfectly. The ki...   \n",
       "27590  B00BZFGNPU     5.0  I ordered this case for my Mom since her last ...   \n",
       "27592  B00BZFGNPU     5.0                                        Great case!   \n",
       "27596  B00BZFGNPU     5.0                                            perfect   \n",
       "27598  B00BZFGNPU     5.0  Great product for the money. I love having a k...   \n",
       "\n",
       "           reviewerID        summary verified  vote           reviewTime  \\\n",
       "27588  A31N5BEI8WO2U1   Perfect fit!     true  None  2013-09-04 00:00:00   \n",
       "27590   ADNPA1CQTBJIL  Awesome Case!     true  None  2014-06-16 00:00:00   \n",
       "27592  A2UHBES37HEWD8     Five Stars     true  None  2014-10-13 00:00:00   \n",
       "27596  A3VU0JMBMMLNLS     Five Stars     true  None  2014-11-22 00:00:00   \n",
       "27598  A1IUM56J26HM5J        Awesome     true  None  2013-07-11 00:00:00   \n",
       "\n",
       "        brand price                                               rank  \\\n",
       "27588  EMPIRE        [\">#680,526 in Cell Phones & Accessories (See ...   \n",
       "27590  EMPIRE        [\">#680,526 in Cell Phones & Accessories (See ...   \n",
       "27592  EMPIRE        [\">#680,526 in Cell Phones & Accessories (See ...   \n",
       "27596  EMPIRE        [\">#680,526 in Cell Phones & Accessories (See ...   \n",
       "27598  EMPIRE        [\">#680,526 in Cell Phones & Accessories (See ...   \n",
       "\n",
       "      description                                           category  \\\n",
       "27588          []  [Cell Phones & Accessories, Cases, Holsters & ...   \n",
       "27590          []  [Cell Phones & Accessories, Cases, Holsters & ...   \n",
       "27592          []  [Cell Phones & Accessories, Cases, Holsters & ...   \n",
       "27596          []  [Cell Phones & Accessories, Cases, Holsters & ...   \n",
       "27598          []  [Cell Phones & Accessories, Cases, Holsters & ...   \n",
       "\n",
       "                                                   title         main_cat  \n",
       "27588  MPERO IMPACT X Series Kickstand Case for Motor...  All Electronics  \n",
       "27590  MPERO IMPACT X Series Kickstand Case for Motor...  All Electronics  \n",
       "27592  MPERO IMPACT X Series Kickstand Case for Motor...  All Electronics  \n",
       "27596  MPERO IMPACT X Series Kickstand Case for Motor...  All Electronics  \n",
       "27598  MPERO IMPACT X Series Kickstand Case for Motor...  All Electronics  "
      ]
     },
     "execution_count": 139,
     "metadata": {},
     "output_type": "execute_result"
    }
   ],
   "source": [
    "df_test[(df_test['main_cat']=='All Electronics')&(df_test['verified']=='true')].head()"
   ]
  },
  {
   "cell_type": "code",
   "execution_count": 140,
   "id": "3fc74224-7f37-47be-8bbb-e89cc2684a8b",
   "metadata": {},
   "outputs": [
    {
     "name": "stdout",
     "output_type": "stream",
     "text": [
      "(36786, 15)\n"
     ]
    }
   ],
   "source": [
    "print(df_test[(df_test['main_cat']=='All Electronics')&(df_test['verified']=='true')].shape)"
   ]
  },
  {
   "cell_type": "code",
   "execution_count": 147,
   "id": "559d2892-7c59-423e-a63c-70ea18b9e3d3",
   "metadata": {},
   "outputs": [],
   "source": [
    "conteo_reviews = df_test.groupby('vote').count()['asin']"
   ]
  },
  {
   "cell_type": "code",
   "execution_count": 174,
   "id": "45610f00-058c-4222-b2e1-f7d56c4c924b",
   "metadata": {},
   "outputs": [],
   "source": [
    "df_votes_count = conteo_reviews.reset_index(name='count').sort_values(by='count', ascending=False).head(25).reset_index()"
   ]
  },
  {
   "cell_type": "code",
   "execution_count": 177,
   "id": "9d0eebde-5d0d-431e-a7c9-3f1638978052",
   "metadata": {},
   "outputs": [
    {
     "data": {
      "image/png": "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",
      "text/plain": [
       "<Figure size 640x480 with 1 Axes>"
      ]
     },
     "metadata": {},
     "output_type": "display_data"
    }
   ],
   "source": [
    "# Check how is the distribution of relevant reviews (based on the total votes per review)\n",
    "import matplotlib.pyplot as plt\n",
    "df_votes_count.plot.scatter(x='vote', y='count')\n",
    "plt.show()"
   ]
  },
  {
   "cell_type": "code",
   "execution_count": 176,
   "id": "8848dafb-d2f4-4397-b739-6d6b47f6b20c",
>>>>>>> Stashed changes
   "metadata": {},
   "outputs": [
    {
     "data": {
      "text/plain": [
       "30046118"
      ]
     },
     "execution_count": 86,
     "metadata": {},
     "output_type": "execute_result"
    }
   ],
   "source": [
    "df_meta.count()"
   ]
  }
 ],
 "metadata": {
  "kernelspec": {
   "display_name": "Python 3 (ipykernel)",
   "language": "python",
   "name": "python3"
  },
  "language_info": {
   "codemirror_mode": {
    "name": "ipython",
    "version": 3
   },
   "file_extension": ".py",
   "mimetype": "text/x-python",
   "name": "python",
   "nbconvert_exporter": "python",
   "pygments_lexer": "ipython3",
   "version": "3.11.4"
  }
 },
 "nbformat": 4,
 "nbformat_minor": 5
}
