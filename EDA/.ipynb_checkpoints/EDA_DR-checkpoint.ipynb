{
 "cells": [
  {
   "cell_type": "markdown",
   "id": "8f8c091f-1b29-4827-af7c-b4e6ba04ffff",
   "metadata": {},
   "source": [
    "# Generating useful Insights on Amazon Reviews"
   ]
  },
  {
   "cell_type": "markdown",
   "id": "a4b8caad-1784-46a4-9808-fe0049d09d8f",
   "metadata": {},
   "source": [
    "**Business Context:** This notebook show the analysis prior to model building "
   ]
  },
  {
   "cell_type": "markdown",
   "id": "976d430a-2f35-415c-9136-f30318cbff5d",
   "metadata": {},
   "source": [
    "## Import Libraries and Create Spark Session"
   ]
  },
  {
   "cell_type": "code",
   "execution_count": 1,
   "id": "a0d0ef89-052e-4b84-9015-2ce827346be2",
   "metadata": {},
   "outputs": [
    {
     "name": "stdout",
     "output_type": "stream",
     "text": [
      "Collecting glob2 (from -r requirements.txt (line 1))\n",
      "  Downloading glob2-0.7.tar.gz (10 kB)\n",
      "  Preparing metadata (setup.py) ... \u001b[?25ldone\n",
      "\u001b[?25hCollecting azure-eventhub (from -r requirements.txt (line 2))\n",
      "  Obtaining dependency information for azure-eventhub from https://files.pythonhosted.org/packages/66/b2/89671d93ba3c5af4a776350378765582490c3748eef3aa3a4582c3e87488/azure_eventhub-5.11.3-py3-none-any.whl.metadata\n",
      "  Downloading azure_eventhub-5.11.3-py3-none-any.whl.metadata (65 kB)\n",
      "\u001b[2K     \u001b[90m━━━━━━━━━━━━━━━━━━━━━━━━━━━━━━━━━━━━━━━━\u001b[0m \u001b[32m65.3/65.3 kB\u001b[0m \u001b[31m4.5 MB/s\u001b[0m eta \u001b[36m0:00:00\u001b[0m\n",
      "\u001b[?25hCollecting findspark (from -r requirements.txt (line 3))\n",
      "  Downloading findspark-2.0.1-py2.py3-none-any.whl (4.4 kB)\n",
      "Collecting azure-core<2.0.0,>=1.14.0 (from azure-eventhub->-r requirements.txt (line 2))\n",
      "  Obtaining dependency information for azure-core<2.0.0,>=1.14.0 from https://files.pythonhosted.org/packages/c3/0a/32b17d776a6bf5ddaa9dbad0e88de9d28a55bec1d37b8d408cc7d2e5e28d/azure_core-1.28.0-py3-none-any.whl.metadata\n",
      "  Downloading azure_core-1.28.0-py3-none-any.whl.metadata (34 kB)\n",
      "Requirement already satisfied: typing-extensions>=4.0.1 in /opt/conda/lib/python3.11/site-packages (from azure-eventhub->-r requirements.txt (line 2)) (4.7.1)\n",
      "Requirement already satisfied: requests>=2.18.4 in /opt/conda/lib/python3.11/site-packages (from azure-core<2.0.0,>=1.14.0->azure-eventhub->-r requirements.txt (line 2)) (2.31.0)\n",
      "Requirement already satisfied: six>=1.11.0 in /opt/conda/lib/python3.11/site-packages (from azure-core<2.0.0,>=1.14.0->azure-eventhub->-r requirements.txt (line 2)) (1.16.0)\n",
      "Requirement already satisfied: charset-normalizer<4,>=2 in /opt/conda/lib/python3.11/site-packages (from requests>=2.18.4->azure-core<2.0.0,>=1.14.0->azure-eventhub->-r requirements.txt (line 2)) (3.2.0)\n",
      "Requirement already satisfied: idna<4,>=2.5 in /opt/conda/lib/python3.11/site-packages (from requests>=2.18.4->azure-core<2.0.0,>=1.14.0->azure-eventhub->-r requirements.txt (line 2)) (3.4)\n",
      "Requirement already satisfied: urllib3<3,>=1.21.1 in /opt/conda/lib/python3.11/site-packages (from requests>=2.18.4->azure-core<2.0.0,>=1.14.0->azure-eventhub->-r requirements.txt (line 2)) (2.0.4)\n",
      "Requirement already satisfied: certifi>=2017.4.17 in /opt/conda/lib/python3.11/site-packages (from requests>=2.18.4->azure-core<2.0.0,>=1.14.0->azure-eventhub->-r requirements.txt (line 2)) (2023.7.22)\n",
      "Downloading azure_eventhub-5.11.3-py3-none-any.whl (308 kB)\n",
      "\u001b[2K   \u001b[90m━━━━━━━━━━━━━━━━━━━━━━━━━━━━━━━━━━━━━━━━\u001b[0m \u001b[32m308.9/308.9 kB\u001b[0m \u001b[31m6.0 MB/s\u001b[0m eta \u001b[36m0:00:00\u001b[0ma \u001b[36m0:00:01\u001b[0m\n",
      "\u001b[?25hDownloading azure_core-1.28.0-py3-none-any.whl (185 kB)\n",
      "\u001b[2K   \u001b[90m━━━━━━━━━━━━━━━━━━━━━━━━━━━━━━━━━━━━━━━━\u001b[0m \u001b[32m185.4/185.4 kB\u001b[0m \u001b[31m6.8 MB/s\u001b[0m eta \u001b[36m0:00:00\u001b[0m\n",
      "\u001b[?25hBuilding wheels for collected packages: glob2\n",
      "  Building wheel for glob2 (setup.py) ... \u001b[?25ldone\n",
      "\u001b[?25h  Created wheel for glob2: filename=glob2-0.7-py2.py3-none-any.whl size=9299 sha256=fb976b8fab884255708d620fe6d40a5da2f826ec7e081b69bfecb94a3cafbd3e\n",
      "  Stored in directory: /home/jovyan/.cache/pip/wheels/96/41/06/9f8fddc6eb1d75bde63db7f491311a4ae26905212617e06eb2\n",
      "Successfully built glob2\n",
      "Installing collected packages: glob2, findspark, azure-core, azure-eventhub\n",
      "Successfully installed azure-core-1.28.0 azure-eventhub-5.11.3 findspark-2.0.1 glob2-0.7\n"
     ]
    }
   ],
   "source": [
    "!pip install -r requirements.txt"
   ]
  },
  {
   "cell_type": "code",
   "execution_count": 2,
   "id": "9cf42b6e-8f57-4d86-b868-0045fda16c7b",
   "metadata": {},
   "outputs": [],
   "source": [
    "import findspark\n",
    "import pyspark\n",
    "findspark.init()\n",
    "\n",
    "import pandas as pd"
   ]
  },
  {
   "cell_type": "code",
   "execution_count": 3,
   "id": "41ab402f-d659-46a4-8b6b-724de8fe3f88",
   "metadata": {},
   "outputs": [],
   "source": [
    "# Import pyspark.sql library\n",
    "from pyspark.sql import SparkSession\n",
    "from pyspark.sql.functions import *"
   ]
  },
  {
   "cell_type": "code",
   "execution_count": 4,
   "id": "f1af9972-ac64-435f-a743-3e39b3aa1edd",
   "metadata": {},
   "outputs": [],
   "source": [
    "# Create Session\n",
    "spark = SparkSession.builder.appName(\"AmazonReviewsDatathon\").getOrCreate()"
   ]
  },
  {
   "cell_type": "code",
   "execution_count": 5,
   "id": "a0f8ad65-7018-462c-96c6-707e19fb06ff",
   "metadata": {},
   "outputs": [
    {
     "data": {
      "text/html": [
       "\n",
       "            <div>\n",
       "                <p><b>SparkSession - in-memory</b></p>\n",
       "                \n",
       "        <div>\n",
       "            <p><b>SparkContext</b></p>\n",
       "\n",
       "            <p><a href=\"http://87b09c15b88d:4040\">Spark UI</a></p>\n",
       "\n",
       "            <dl>\n",
       "              <dt>Version</dt>\n",
       "                <dd><code>v3.4.1</code></dd>\n",
       "              <dt>Master</dt>\n",
       "                <dd><code>local[*]</code></dd>\n",
       "              <dt>AppName</dt>\n",
       "                <dd><code>AmazonReviewsDatathon</code></dd>\n",
       "            </dl>\n",
       "        </div>\n",
       "        \n",
       "            </div>\n",
       "        "
      ],
      "text/plain": [
       "<pyspark.sql.session.SparkSession at 0x7f6eb73b63d0>"
      ]
     },
     "execution_count": 5,
     "metadata": {},
     "output_type": "execute_result"
    }
   ],
   "source": [
    "spark"
   ]
  },
  {
   "cell_type": "markdown",
   "id": "a476ebef-22bb-4637-9d3f-0cfba0c0fcf4",
   "metadata": {},
   "source": [
    "## Loading Amazon Reviews and Metadata"
   ]
  },
  {
   "cell_type": "code",
   "execution_count": 6,
   "id": "09c51387-a42b-4908-a916-7a2f120c2db3",
   "metadata": {},
   "outputs": [],
   "source": [
    "from glob2 import glob"
   ]
  },
  {
   "cell_type": "code",
   "execution_count": 7,
   "id": "e0a5efa1-bae3-4bde-ab49-0a14a368f557",
   "metadata": {},
   "outputs": [],
   "source": [
    "#Read all the json files from both sources of data\n",
    "jsonFiles_reviews = glob('amazon_reviews/source-files/amazon_reviews/**/**/*.json.gz')\n",
    "jsonFiles_meta = glob('amazon_reviews/source-files/amazon_metadata/**/*.json.gz')"
   ]
  },
  {
   "cell_type": "code",
   "execution_count": 8,
   "id": "70fa015b-252f-4195-b7b7-49c13cfccbfd",
   "metadata": {},
   "outputs": [
    {
     "name": "stdout",
     "output_type": "stream",
     "text": [
      "jsonFiles_reviews: \n",
      "['amazon_reviews/source-files/amazon_reviews/partition_1/part-00000-tid-9136122565017344171-3f98196e-e0c5-4bb5-90cc-d523170ef713-86080-1-c000.json.gz', 'amazon_reviews/source-files/amazon_reviews/partition_10/part-00000-tid-698064602200227711-29b88890-b701-4ddb-82cf-535e4b44c9cf-89301-1-c000.json.gz', 'amazon_reviews/source-files/amazon_reviews/partition_10/part-00001-tid-698064602200227711-29b88890-b701-4ddb-82cf-535e4b44c9cf-89302-1-c000.json.gz', 'amazon_reviews/source-files/amazon_reviews/partition_100/part-00000-tid-6076830777214137320-043be143-2d8f-4c2a-a619-bb4ab95fa4bb-121464-1-c000.json.gz', 'amazon_reviews/source-files/amazon_reviews/partition_100/part-00011-tid-6076830777214137320-043be143-2d8f-4c2a-a619-bb4ab95fa4bb-121475-1-c000.json.gz']\n",
      "---------------\n",
      "jsonFiles_meta: \n",
      "['amazon_reviews/source-files/amazon_metadata/json_files/part-00000-tid-1001410877349735942-21bdbaae-698f-415f-9a21-69d6c2866481-1675-1-c000.json.gz', 'amazon_reviews/source-files/amazon_metadata/json_files/part-00000-tid-1002626896584644251-74e4b005-c695-4dd8-91a9-144ad6cb0984-1297-1-c000.json.gz', 'amazon_reviews/source-files/amazon_metadata/json_files/part-00000-tid-1010368383141697086-7d789d7d-88e0-480d-8f3d-c5787eeaa7e6-1985-1-c000.json.gz', 'amazon_reviews/source-files/amazon_metadata/json_files/part-00000-tid-1020888417771452694-2db2ed96-b04d-48b8-8295-4607819e25e5-257-1-c000.json.gz', 'amazon_reviews/source-files/amazon_metadata/json_files/part-00000-tid-1029877596195051816-05a06542-f16c-433b-acab-5a2cbb650eab-1439-1-c000.json.gz']\n"
     ]
    }
   ],
   "source": [
    "#Check the lists of partitioned json files \n",
    "print(\"jsonFiles_reviews: \")\n",
    "print(jsonFiles_reviews[0:5])\n",
    "print(\"---------------\")\n",
    "print(\"jsonFiles_meta: \")\n",
    "print(jsonFiles_meta[0:5])"
   ]
  },
  {
   "cell_type": "code",
   "execution_count": 14,
   "id": "f194364f-7301-42f7-a325-47df2a94acff",
   "metadata": {},
   "outputs": [],
   "source": [
    "#Load the data from Amazon reviews using spark\n",
    "df_reviews = spark.read.option(\"multiline\",\"false\").option(\"compression\", \"gzip\").json(jsonFiles_reviews)"
   ]
  },
  {
   "cell_type": "code",
   "execution_count": 15,
   "id": "bb251c27-0cf1-417c-9254-769359c35146",
   "metadata": {},
   "outputs": [],
   "source": [
    "#Load the metadata using spark\n",
    "df_meta = spark.read.option(\"multiline\",\"false\").option(\"compression\", \"gzip\").json(jsonFiles_meta)"
   ]
  },
  {
   "cell_type": "markdown",
   "id": "83d98a3f-b957-4c65-a978-6c324051c4fc",
   "metadata": {},
   "source": [
    "## Examining the Data "
   ]
  },
  {
   "cell_type": "markdown",
   "id": "cb66a201-7815-4e4a-9b46-521003bfce63",
   "metadata": {},
   "source": [
    "### Amazon Reviews"
   ]
  },
  {
   "cell_type": "code",
   "execution_count": 16,
   "id": "1173c16d-1ea3-4c54-802d-3d78e3d49f70",
   "metadata": {},
   "outputs": [
    {
     "name": "stdout",
     "output_type": "stream",
     "text": [
      "root\n",
      " |-- asin: string (nullable = true)\n",
      " |-- image: string (nullable = true)\n",
      " |-- overall: string (nullable = true)\n",
      " |-- reviewText: string (nullable = true)\n",
      " |-- reviewerID: string (nullable = true)\n",
      " |-- reviewerName: string (nullable = true)\n",
      " |-- style: string (nullable = true)\n",
      " |-- summary: string (nullable = true)\n",
      " |-- unixReviewTime: string (nullable = true)\n",
      " |-- verified: string (nullable = true)\n",
      " |-- vote: string (nullable = true)\n",
      "\n"
     ]
    }
   ],
   "source": [
    "# Print df_reviews Schema to see what attributes we have and what data type they belong\n",
    "df_reviews.printSchema()"
   ]
  },
  {
   "cell_type": "code",
   "execution_count": 49,
   "id": "ddcc7293-eff4-49f8-aac2-0789eea041fc",
   "metadata": {},
   "outputs": [
    {
     "name": "stdout",
     "output_type": "stream",
     "text": [
      "+----------+-----+-------+--------------------+--------------+---------------+--------------------+--------------------+--------------+--------+----+\n",
      "|      asin|image|overall|          reviewText|    reviewerID|   reviewerName|               style|             summary|unixReviewTime|verified|vote|\n",
      "+----------+-----+-------+--------------------+--------------+---------------+--------------------+--------------------+--------------+--------+----+\n",
      "|B00005QDPX| null|    5.0|Crazy Taxi is by ...|A36TDX8DY2XK5Q|       Some Kid|                null|It's Party Time! ...|    1054252800|   false|null|\n",
      "|B000MXIMKK| null|    4.0|I love these pant...| AZZ1YPRM2FAUH| David Colgrove|{\"Size:\":\" 33W x ...|Durable, good loo...|    1459900800|    true|   6|\n",
      "|B00005QDPX| null|    2.0|Anyone who hasn't...|A3PASG15BRR40D|       SleepyJD|                null|A fun game that g...|    1049414400|   false|null|\n",
      "|B000MXIMKK| null|    5.0|Great pants and n...|A388UHKJN07JJT|            TJK|{\"Size:\":\" 42W x ...|       Great Product|    1459900800|    true|null|\n",
      "|B00005QDPX| null|    4.0|In this game you ...|A29YLR71A42A3N|Amazon Customer|                null|Fun and Entertaining|    1040860800|   false|   3|\n",
      "+----------+-----+-------+--------------------+--------------+---------------+--------------------+--------------------+--------------+--------+----+\n",
      "only showing top 5 rows\n",
      "\n"
     ]
    }
   ],
   "source": [
    "# Check raw data\n",
    "df_reviews.show(5)"
   ]
  },
  {
   "cell_type": "code",
   "execution_count": 18,
   "id": "1f19ca0e-d7f8-4aed-b872-aa9e558ea349",
   "metadata": {},
   "outputs": [
    {
     "data": {
      "text/plain": [
       "13367987"
      ]
     },
     "execution_count": 18,
     "metadata": {},
     "output_type": "execute_result"
    }
   ],
   "source": [
    "# Count records number \n",
    "df_reviews.count()"
   ]
  },
  {
   "cell_type": "markdown",
   "id": "b4f7c407-c2bf-4f86-a3ab-7b4644c5388c",
   "metadata": {},
   "source": [
    "We notice that `df_reviews` is a huge dataset with over 270MM records. We note that some features are categorical so we consider important to make a brief exploration to get the distribution of them (*overall* and *verified*). After that, we consider to drop some columns in order to shorten the shape of data and make our analysis more efficient. "
   ]
  },
  {
   "cell_type": "code",
   "execution_count": 19,
   "id": "f43764f8-528c-423c-bb4d-bec69243392f",
   "metadata": {},
   "outputs": [],
   "source": [
    "# Register df as Temp table\n",
    "temp_view_name = \"tempvw_reviews\"\n",
    "df_reviews.createOrReplaceTempView(temp_view_name)"
   ]
  },
  {
   "cell_type": "code",
   "execution_count": 50,
   "id": "2c1d5945-01a3-40cf-b4b8-4ed1bef512ce",
   "metadata": {},
   "outputs": [],
   "source": [
    "df_filtrado_reviews = df_reviews.filter(df_reviews['asin'] == 'B00005QDPX')"
   ]
  },
  {
   "cell_type": "code",
   "execution_count": 48,
   "id": "8f45a9f7-d953-4c3e-893f-ae1777d8f540",
   "metadata": {},
   "outputs": [
    {
     "name": "stdout",
     "output_type": "stream",
     "text": [
      "+----------+-----+-------+--------------------+--------------+--------------------+-----+--------------------+--------------+--------+----+\n",
      "|      asin|image|overall|          reviewText|    reviewerID|        reviewerName|style|             summary|unixReviewTime|verified|vote|\n",
      "+----------+-----+-------+--------------------+--------------+--------------------+-----+--------------------+--------------+--------+----+\n",
      "|B00005QDPX| null|    5.0|Crazy Taxi is by ...|A36TDX8DY2XK5Q|            Some Kid| null|It's Party Time! ...|    1054252800|   false|null|\n",
      "|B00005QDPX| null|    5.0|I don't own this ...|A26EI47LL1R3ZZ|    Elizabeth Harbor| null|    This game ROCKS!|    1013212800|   false|   2|\n",
      "|B00005QDPX| null|    5.0|The game is chall...|A2T5OC3IBDRV1H|                Nick| null|Fun but slightly ...|    1009929600|   false|null|\n",
      "|B00005QDPX| null|    5.0|This is one of th...| AEIRG3VEMYO52|      Heidi Garofalo| null|Laughs and Endorp...|    1009324800|   false|   2|\n",
      "|B00005QDPX| null|    5.0|If you didn't try...|A2JVEF7CBDZX49|An 11-year old gamer| null|          taxi crazy|    1009324800|   false|null|\n",
      "|B00005QDPX| null|    5.0|I really enjoy th...|A1OCBOMMEMQ49J|            ssneed01| null|            Awesome!|    1008288000|   false|null|\n",
      "|B00005QDPX| null|    5.0|This is one hell ...|A1ZJ80VOY37SEV|    GameCubeGamer999| null|Lets have some Cr...|    1007769600|   false|null|\n",
      "|B00005QDPX| null|    5.0|ZOOM! \"Hey, wanna...|A2HTKKKZ4MXCOJ|     Amazon Customer| null|Crazy gameplay on...|    1007596800|   false|null|\n",
      "|B00005QDPX| null|    5.0|I love this game!...|A29EZR22406PRO|                Josh| null|         Great Game!|    1006646400|   false|   2|\n",
      "|B00005QDPX| null|    5.0|yes it is true. T...|A1KUB9UTPU9ID0|               eddie| null|        its all good|    1005436800|   false|   4|\n",
      "+----------+-----+-------+--------------------+--------------+--------------------+-----+--------------------+--------------+--------+----+\n",
      "\n"
     ]
    }
   ],
   "source": [
    "df_filtrado_reviews.filter(df_filtrado_reviews['overall'] == '5.0').show()"
   ]
  },
  {
   "cell_type": "code",
   "execution_count": 44,
   "id": "d5487c56-cefc-4d3c-95f6-2f43f639260c",
   "metadata": {},
   "outputs": [],
   "source": [
    "num_filas_filtradas = df_filtrado_reviews.count()"
   ]
  },
  {
   "cell_type": "code",
   "execution_count": 42,
   "id": "ada9add2-6f61-4025-9b4a-e8b50c53778d",
   "metadata": {},
   "outputs": [
    {
     "data": {
      "text/plain": [
       "28"
      ]
     },
     "execution_count": 42,
     "metadata": {},
     "output_type": "execute_result"
    }
   ],
   "source": [
    "num_filas_filtradas"
   ]
  },
  {
   "cell_type": "code",
   "execution_count": 20,
   "id": "cb8e6e73-6df0-4d30-b511-2ceee7489f51",
   "metadata": {},
   "outputs": [
    {
     "name": "stdout",
     "output_type": "stream",
     "text": [
      "+-------+-------+\n",
      "|overall|  count|\n",
      "+-------+-------+\n",
      "|    5.0|8641176|\n",
      "|    4.0|2208138|\n",
      "|    3.0|1020280|\n",
      "|    2.0| 592040|\n",
      "|    1.0| 906352|\n",
      "|    0.0|      1|\n",
      "+-------+-------+\n",
      "\n"
     ]
    }
   ],
   "source": [
    "# Check the total rating levels ordered \n",
    "spark.sql(\"\"\"\n",
    "SELECT overall, COUNT(*) as count \n",
    "FROM tempvw_reviews \n",
    "GROUP BY overall \n",
    "ORDER BY overall DESC\n",
    "\"\"\").show()"
   ]
  },
  {
   "cell_type": "code",
   "execution_count": 21,
   "id": "eb13f673-31e2-437d-9899-f3e0052ca0b3",
   "metadata": {},
   "outputs": [],
   "source": [
    "# Check how many reviewers the dataset has\n",
    "result_query_total_reviewers = spark.sql(\"\"\"\n",
    "SELECT COUNT(DISTINCT reviewerID) as total_reviewers\n",
    "FROM tempvw_reviews \n",
    "\"\"\")"
   ]
  },
  {
   "cell_type": "code",
   "execution_count": 173,
   "id": "eceb51d5-2c1e-4164-8fd2-7544e08bdae3",
   "metadata": {},
   "outputs": [
    {
     "name": "stdout",
     "output_type": "stream",
     "text": [
      "+---------------+\n",
      "|total_reviewers|\n",
      "+---------------+\n",
      "|       34105431|\n",
      "+---------------+\n",
      "\n"
     ]
    }
   ],
   "source": [
    "result_query_total_reviewers.show()"
   ]
  },
  {
   "cell_type": "code",
   "execution_count": 181,
   "id": "02590c1d-ed94-44cb-adcf-8f1097be872e",
   "metadata": {
    "scrolled": true
   },
   "outputs": [
    {
     "name": "stdout",
     "output_type": "stream",
     "text": [
      "+---------------+--------+\n",
      "|total_reviewers|verified|\n",
      "+---------------+--------+\n",
      "|       10954035|   false|\n",
      "|       28705780|    true|\n",
      "+---------------+--------+\n",
      "\n"
     ]
    }
   ],
   "source": [
    "# Check how many verified and not verified reviewers the dataset has\n",
    "spark.sql(\"\"\"\n",
    "SELECT COUNT(DISTINCT reviewerID) as total_reviewers, verified\n",
    "FROM tempvw_reviews \n",
    "GROUP BY verified\n",
    "\"\"\").show()"
   ]
  },
  {
   "cell_type": "code",
   "execution_count": 23,
   "id": "1c7029c4-0292-4ed8-aa2d-7842f2c853b7",
   "metadata": {},
   "outputs": [
    {
     "name": "stdout",
     "output_type": "stream",
     "text": [
      "+---------------+--------+\n",
      "|total_reviewers|verified|\n",
      "+---------------+--------+\n",
      "|        1831052|   false|\n",
      "|        6478920|    true|\n",
      "+---------------+--------+\n",
      "\n"
     ]
    }
   ],
   "source": [
    "# Check how many verified and not verified reviewers the dataset has\n",
    "spark.sql(\"\"\"\n",
    "SELECT COUNT(DISTINCT reviewerID) as total_reviewers, verified\n",
    "FROM tempvw_reviews \n",
    "GROUP BY verified\n",
    "\"\"\").show()"
   ]
  },
  {
   "cell_type": "code",
   "execution_count": 24,
   "id": "27b2b921-0a2c-404e-9341-391124da01b1",
   "metadata": {},
   "outputs": [
    {
     "data": {
      "text/plain": [
       "['asin',\n",
       " 'image',\n",
       " 'overall',\n",
       " 'reviewText',\n",
       " 'reviewerID',\n",
       " 'reviewerName',\n",
       " 'style',\n",
       " 'summary',\n",
       " 'unixReviewTime',\n",
       " 'verified',\n",
       " 'vote']"
      ]
     },
     "execution_count": 24,
     "metadata": {},
     "output_type": "execute_result"
    }
   ],
   "source": [
    "df_reviews.columns"
   ]
  },
  {
   "cell_type": "code",
   "execution_count": 25,
   "id": "858d258e-2395-437c-9a10-112aa5deae02",
   "metadata": {},
   "outputs": [],
   "source": [
    "# Get the reviewTime converting from unixtime to datetime \n",
    "new_df_reviews = df_reviews.withColumn(\"reviewTime\", from_unixtime(\"unixReviewTime\", \"yyyy-MM-dd HH:mm:ss\"))"
   ]
  },
  {
   "cell_type": "code",
   "execution_count": 26,
   "id": "8cb5c90f-efa1-4688-adbe-3eb6257f68f8",
   "metadata": {},
   "outputs": [
    {
     "name": "stdout",
     "output_type": "stream",
     "text": [
      "+----------+-----+-------+--------------------+--------------+---------------+--------------------+--------------------+--------------+--------+----+-------------------+\n",
      "|      asin|image|overall|          reviewText|    reviewerID|   reviewerName|               style|             summary|unixReviewTime|verified|vote|         reviewTime|\n",
      "+----------+-----+-------+--------------------+--------------+---------------+--------------------+--------------------+--------------+--------+----+-------------------+\n",
      "|B00005QDPX| null|    5.0|Crazy Taxi is by ...|A36TDX8DY2XK5Q|       Some Kid|                null|It's Party Time! ...|    1054252800|   false|null|2003-05-30 00:00:00|\n",
      "|B000MXIMKK| null|    4.0|I love these pant...| AZZ1YPRM2FAUH| David Colgrove|{\"Size:\":\" 33W x ...|Durable, good loo...|    1459900800|    true|   6|2016-04-06 00:00:00|\n",
      "|B00005QDPX| null|    2.0|Anyone who hasn't...|A3PASG15BRR40D|       SleepyJD|                null|A fun game that g...|    1049414400|   false|null|2003-04-04 00:00:00|\n",
      "|B000MXIMKK| null|    5.0|Great pants and n...|A388UHKJN07JJT|            TJK|{\"Size:\":\" 42W x ...|       Great Product|    1459900800|    true|null|2016-04-06 00:00:00|\n",
      "|B00005QDPX| null|    4.0|In this game you ...|A29YLR71A42A3N|Amazon Customer|                null|Fun and Entertaining|    1040860800|   false|   3|2002-12-26 00:00:00|\n",
      "+----------+-----+-------+--------------------+--------------+---------------+--------------------+--------------------+--------------+--------+----+-------------------+\n",
      "only showing top 5 rows\n",
      "\n"
     ]
    }
   ],
   "source": [
    "new_df_reviews.show(5)"
   ]
  },
  {
   "cell_type": "code",
   "execution_count": 27,
   "id": "4a31b572-0a65-4a86-8c0b-71f9739ad4c7",
   "metadata": {},
   "outputs": [],
   "source": [
    "# Drop the attributes that we consider least relevant\n",
    "new_df_reviews_2 = new_df_reviews.drop(\"image\", \"style\", \"unixReviewTime\", \"reviewerName\")"
   ]
  },
  {
   "cell_type": "code",
   "execution_count": 28,
   "id": "e0d3ff30-6dc4-4f6a-99a8-cc868bea3d6a",
   "metadata": {},
   "outputs": [
    {
     "name": "stdout",
     "output_type": "stream",
     "text": [
      "+----------+-------+--------------------+--------------+--------------------+--------+----+-------------------+\n",
      "|      asin|overall|          reviewText|    reviewerID|             summary|verified|vote|         reviewTime|\n",
      "+----------+-------+--------------------+--------------+--------------------+--------+----+-------------------+\n",
      "|B00005QDPX|    5.0|Crazy Taxi is by ...|A36TDX8DY2XK5Q|It's Party Time! ...|   false|null|2003-05-30 00:00:00|\n",
      "|B000MXIMKK|    4.0|I love these pant...| AZZ1YPRM2FAUH|Durable, good loo...|    true|   6|2016-04-06 00:00:00|\n",
      "|B00005QDPX|    2.0|Anyone who hasn't...|A3PASG15BRR40D|A fun game that g...|   false|null|2003-04-04 00:00:00|\n",
      "|B000MXIMKK|    5.0|Great pants and n...|A388UHKJN07JJT|       Great Product|    true|null|2016-04-06 00:00:00|\n",
      "|B00005QDPX|    4.0|In this game you ...|A29YLR71A42A3N|Fun and Entertaining|   false|   3|2002-12-26 00:00:00|\n",
      "+----------+-------+--------------------+--------------+--------------------+--------+----+-------------------+\n",
      "only showing top 5 rows\n",
      "\n"
     ]
    }
   ],
   "source": [
    "new_df_reviews_2.show(5)"
   ]
  },
  {
   "cell_type": "code",
   "execution_count": 29,
   "id": "5bd7c843-7699-48bb-a114-1a551f2397e4",
   "metadata": {},
   "outputs": [],
   "source": [
    "# Register new_df as Temp table\n",
    "temp_view_name_2 = \"new_tempvw_reviews\"\n",
    "new_df_reviews_2.createOrReplaceTempView(temp_view_name_2)"
   ]
  },
  {
   "cell_type": "code",
   "execution_count": 31,
   "id": "9e8b031f-c12a-4403-9f90-f1aff8761df1",
   "metadata": {},
   "outputs": [],
   "source": [
    "# Check how many verified and not verified reviewers the dataset has\n",
    "df_reviews_final = spark.sql(\"\"\"\n",
    "SELECT DISTINCT asin, overall, reviewText, reviewerID, summary, verified, vote, reviewTime\n",
    "FROM new_tempvw_reviews \n",
    "\"\"\")"
   ]
  },
  {
   "cell_type": "code",
   "execution_count": 32,
   "id": "dad2a40b-0255-4ed5-93ba-df9cb6b2cecc",
   "metadata": {},
   "outputs": [],
   "source": [
    "# Register df as Temp table\n",
    "temp_view_name_final = \"tempvw_reviews_final\"\n",
    "df_reviews_final.createOrReplaceTempView(temp_view_name_final)"
   ]
  },
  {
   "cell_type": "code",
   "execution_count": 33,
   "id": "f0968652-939f-4a1c-b50f-0037355af0b4",
   "metadata": {},
   "outputs": [
    {
     "data": {
      "text/plain": [
       "13336078"
      ]
     },
     "execution_count": 33,
     "metadata": {},
     "output_type": "execute_result"
    }
   ],
   "source": [
    "df_reviews_final.count()"
   ]
  },
  {
   "cell_type": "code",
   "execution_count": 99,
   "id": "09344a46-89d7-4283-aead-0ff8a4aabaeb",
   "metadata": {},
   "outputs": [],
   "source": [
    "df_copy_reviews_final = df_reviews_final.alias(\"df_reviews_final_copy\")"
   ]
  },
  {
   "cell_type": "code",
   "execution_count": 98,
   "id": "1108e79f-edd4-4b4d-b6d2-1be6ccfb5f10",
   "metadata": {},
   "outputs": [],
   "source": [
    "temp_view_name_final_copy = \"tempvw_reviews_final_copy\"\n",
    "df_reviews_final.createOrReplaceTempView(temp_view_name_final_copy)"
   ]
  },
  {
   "cell_type": "code",
   "execution_count": null,
   "id": "161e8cc3-b466-4f0c-a5b6-5f3bd2eea9c9",
   "metadata": {},
   "outputs": [],
   "source": [
    "# Check how many verified and not verified reviewers the dataset has\n",
    "spark.sql(\"\"\"\n",
    "SELECT COUNT(*), verified\n",
    "FROM tempvw_reviews_final_copy \n",
    "GROUP BY verified\n",
    "\"\"\").show()"
   ]
  },
  {
   "cell_type": "code",
   "execution_count": 100,
   "id": "2b3e1c15-5ff1-4ef5-b69b-6e17fd9b9762",
   "metadata": {},
   "outputs": [
    {
     "name": "stdout",
     "output_type": "stream",
     "text": [
      "+----------+-------+--------------------+--------------+--------------------+--------+----+-------------------+\n",
      "|      asin|overall|          reviewText|    reviewerID|             summary|verified|vote|         reviewTime|\n",
      "+----------+-------+--------------------+--------------+--------------------+--------+----+-------------------+\n",
      "|0312538715|    5.0|When my 73 year m...|A2B8IX5KTDI33E|Fantastic for an ...|   false|  12|2008-04-19 00:00:00|\n",
      "|0330462709|    5.0|This was a really...|A1KOGB4O8NDUPY|          Five Stars|    true|null|2017-11-15 00:00:00|\n",
      "|0345504976|    1.0|I have never felt...| AJFAX0DUC2MAZ| Passage To Nowhere!|    true|   8|2010-09-22 00:00:00|\n",
      "|0345504976|    1.0|The first part of...|A24IWZ1KIQQ4V7|            Drags on|    true|   2|2013-04-18 00:00:00|\n",
      "|0345504976|    1.0|This story starte...|A3N0GNIS8PJ51Q| Unbelievably Boring|    true|   4|2013-01-17 00:00:00|\n",
      "|0345504976|    2.0|I have to admit, ...| ADGFHAEZYURLV|Cronin on To The ...|   false|null|2010-07-30 00:00:00|\n",
      "|0345504976|    3.0|Although I like s...| A1D3FCMAB6HIQ|      Like this book|    true|null|2013-03-25 00:00:00|\n",
      "|0345504976|    3.0|Im not a fan of v...| AXECD64VRH92W|    Very...different|    true|null|2013-07-01 00:00:00|\n",
      "|0345504976|    4.0|It is a good stor...|A3Q3RX6UIJ488T|         Good story.|    true|null|2012-11-11 00:00:00|\n",
      "|0345504976|    4.0|Takes a while, du...|A35MT5364NP4V3|         The passage|    true|null|2013-01-26 00:00:00|\n",
      "|0345504976|    5.0|Arrived on time a...|A1NJRJDL514ZVR|      All good here!|    true|null|2012-12-12 00:00:00|\n",
      "|0345504976|    5.0|I love epic novel...|A1GCR47CKZ8R3A|       Riveting!!!!!|    true|null|2010-07-11 00:00:00|\n",
      "|0345504976|    5.0|I saw this book i...| A49VK1LA9QVO1|Great companion f...|   false|null|2011-01-17 00:00:00|\n",
      "|0345504976|    5.0|I started this bo...|A3QNQIZQ7VIYY6|              Cosmic|   false|null|2011-07-20 00:00:00|\n",
      "|0345504976|    5.0|If you have seen ...| ALUR70Z7TW6V0|          I loved it|   false|null|2010-06-24 00:00:00|\n",
      "|0345504976|    5.0|This story certai...|A1FBYVBM8ADB6L|It's a good read,...|    true|null|2010-08-18 00:00:00|\n",
      "|0345504976|    5.0|Vampires. Just th...|A11ARYQ7SS070U|Beautifully write...|   false|null|2010-09-20 00:00:00|\n",
      "|0345504976|    5.0|this is a real fi...|A224637Y4Y6ASZ|                 WOW|    true|null|2012-12-05 00:00:00|\n",
      "|0345511492|    1.0|Gives very little...|A2Y3DG65JKNAN2|Don't waste your ...|    true|   2|2016-12-22 00:00:00|\n",
      "|0345511492|    2.0|Slow read.  I lik...|A2VKV6WYGT91RF|           Slow Read|   false|null|2017-12-26 00:00:00|\n",
      "+----------+-------+--------------------+--------------+--------------------+--------+----+-------------------+\n",
      "only showing top 20 rows\n",
      "\n"
     ]
    }
   ],
   "source": [
    "df_copy_reviews_final.show()"
   ]
  },
  {
   "cell_type": "markdown",
   "id": "f493e42e-ec55-42cd-96ae-10408f585956",
   "metadata": {},
   "source": [
    "### Amazon Meta"
   ]
  },
  {
   "cell_type": "code",
   "execution_count": 51,
   "id": "59614c69-0fc8-43c4-b01b-cb9a8cc7257a",
   "metadata": {},
   "outputs": [
    {
     "name": "stdout",
     "output_type": "stream",
     "text": [
      "root\n",
      " |-- also_buy: array (nullable = true)\n",
      " |    |-- element: string (containsNull = true)\n",
      " |-- also_view: array (nullable = true)\n",
      " |    |-- element: string (containsNull = true)\n",
      " |-- asin: string (nullable = true)\n",
      " |-- brand: string (nullable = true)\n",
      " |-- category: array (nullable = true)\n",
      " |    |-- element: string (containsNull = true)\n",
      " |-- date: string (nullable = true)\n",
      " |-- description: array (nullable = true)\n",
      " |    |-- element: string (containsNull = true)\n",
      " |-- details: struct (nullable = true)\n",
      " |    |-- \\n    Item Weight: \\n    : string (nullable = true)\n",
      " |    |-- \\n    Package Dimensions: \\n    : string (nullable = true)\n",
      " |    |-- \\n    Product Dimensions: \\n    : string (nullable = true)\n",
      " |    |--  Date first listed on Amazon:: string (nullable = true)\n",
      " |    |--  UNSPSC Code:: string (nullable = true)\n",
      " |    |-- ASIN:: string (nullable = true)\n",
      " |    |-- ASIN: : string (nullable = true)\n",
      " |    |-- Accessory:: string (nullable = true)\n",
      " |    |-- Age Range:: string (nullable = true)\n",
      " |    |-- Album:: string (nullable = true)\n",
      " |    |-- Audible.com Release Date:: string (nullable = true)\n",
      " |    |-- Audio CD: string (nullable = true)\n",
      " |    |-- Audio CD:: string (nullable = true)\n",
      " |    |-- Audio Cassette: string (nullable = true)\n",
      " |    |-- Audio Cassette:: string (nullable = true)\n",
      " |    |-- Audio Description:: string (nullable = true)\n",
      " |    |-- Bath Book:: string (nullable = true)\n",
      " |    |-- Batteries: string (nullable = true)\n",
      " |    |-- Blu-ray: string (nullable = true)\n",
      " |    |-- Blu-ray Audio: string (nullable = true)\n",
      " |    |-- Board book:: string (nullable = true)\n",
      " |    |-- Bonded Leather:: string (nullable = true)\n",
      " |    |-- CD-R: string (nullable = true)\n",
      " |    |-- CD-ROM: string (nullable = true)\n",
      " |    |-- CD-ROM:: string (nullable = true)\n",
      " |    |-- Calendar: string (nullable = true)\n",
      " |    |-- Calendar:: string (nullable = true)\n",
      " |    |-- Card Book:: string (nullable = true)\n",
      " |    |-- Cards:: string (nullable = true)\n",
      " |    |-- Comic:: string (nullable = true)\n",
      " |    |-- DVD: string (nullable = true)\n",
      " |    |-- DVD Audio: string (nullable = true)\n",
      " |    |-- DVD-ROM:: string (nullable = true)\n",
      " |    |-- Diary:: string (nullable = true)\n",
      " |    |-- Digital Copy Expiration Date:: string (nullable = true)\n",
      " |    |-- Discontinued by manufacturer:: string (nullable = true)\n",
      " |    |-- Domestic Shipping: : string (nullable = true)\n",
      " |    |-- Downloading:: string (nullable = true)\n",
      " |    |-- Dubbed:: string (nullable = true)\n",
      " |    |-- Electronics:: string (nullable = true)\n",
      " |    |-- File Size:: string (nullable = true)\n",
      " |    |-- Flexibound:: string (nullable = true)\n",
      " |    |-- Foam Book:: string (nullable = true)\n",
      " |    |-- Format:: string (nullable = true)\n",
      " |    |-- Grade Level:: string (nullable = true)\n",
      " |    |-- Hardcover: string (nullable = true)\n",
      " |    |-- Hardcover Comic:: string (nullable = true)\n",
      " |    |-- Hardcover-spiral:: string (nullable = true)\n",
      " |    |-- Hardcover:: string (nullable = true)\n",
      " |    |-- Health and Beauty: string (nullable = true)\n",
      " |    |-- ISBN-10:: string (nullable = true)\n",
      " |    |-- ISBN-13:: string (nullable = true)\n",
      " |    |-- Imitation Leather:: string (nullable = true)\n",
      " |    |-- International Shipping: : string (nullable = true)\n",
      " |    |-- Item model number:: string (nullable = true)\n",
      " |    |-- JP Oversized:: string (nullable = true)\n",
      " |    |-- Journal:: string (nullable = true)\n",
      " |    |-- Label:: string (nullable = true)\n",
      " |    |-- Language:: string (nullable = true)\n",
      " |    |-- Leather Bound:: string (nullable = true)\n",
      " |    |-- Lending:: string (nullable = true)\n",
      " |    |-- Lexile Measure:: string (nullable = true)\n",
      " |    |-- Library Binding:: string (nullable = true)\n",
      " |    |-- Listening Length:: string (nullable = true)\n",
      " |    |-- Loose Leaf:: string (nullable = true)\n",
      " |    |-- MP3 CD:: string (nullable = true)\n",
      " |    |-- Map:: string (nullable = true)\n",
      " |    |-- Mass Market Paperback:: string (nullable = true)\n",
      " |    |-- Misc. Supplies:: string (nullable = true)\n",
      " |    |-- Misc.:: string (nullable = true)\n",
      " |    |-- Mook:: string (nullable = true)\n",
      " |    |-- Note on Boxed Sets:: string (nullable = true)\n",
      " |    |-- Note:: string (nullable = true)\n",
      " |    |-- Number of Discs:: string (nullable = true)\n",
      " |    |-- Online Code:: string (nullable = true)\n",
      " |    |-- Online Map Code:: string (nullable = true)\n",
      " |    |-- Original Release Date:: string (nullable = true)\n",
      " |    |-- Page Numbers Source ISBN:: string (nullable = true)\n",
      " |    |-- Pamphlet:: string (nullable = true)\n",
      " |    |-- Paperback: string (nullable = true)\n",
      " |    |-- Paperback Bunko:: string (nullable = true)\n",
      " |    |-- Paperback:: string (nullable = true)\n",
      " |    |-- Perfect Paperback:: string (nullable = true)\n",
      " |    |-- Plastic Comb:: string (nullable = true)\n",
      " |    |-- Please Note:: string (nullable = true)\n",
      " |    |-- Pocket Book:: string (nullable = true)\n",
      " |    |-- Poster:: string (nullable = true)\n",
      " |    |-- Print Length:: string (nullable = true)\n",
      " |    |-- Print Magazine:: string (nullable = true)\n",
      " |    |-- Print on Demand (Paperback):: string (nullable = true)\n",
      " |    |-- Program Type:: string (nullable = true)\n",
      " |    |-- Publication Date:: string (nullable = true)\n",
      " |    |-- Publisher:: string (nullable = true)\n",
      " |    |-- Release Date:: string (nullable = true)\n",
      " |    |-- Ring-bound:: string (nullable = true)\n",
      " |    |-- Run Time:: string (nullable = true)\n",
      " |    |-- SPARS Code:: string (nullable = true)\n",
      " |    |-- School & Library Binding:: string (nullable = true)\n",
      " |    |-- Series:: string (nullable = true)\n",
      " |    |-- Sheet music:: string (nullable = true)\n",
      " |    |-- Shipping Advisory:: string (nullable = true)\n",
      " |    |-- Shipping Weight:: string (nullable = true)\n",
      " |    |-- Shipping: : string (nullable = true)\n",
      " |    |-- Simultaneous Device Usage:: string (nullable = true)\n",
      " |    |-- Single Issue Magazine:: string (nullable = true)\n",
      " |    |-- Spiral-bound:: string (nullable = true)\n",
      " |    |-- Staple Bound:: string (nullable = true)\n",
      " |    |-- Subtitles for the Hearing Impaired:: string (nullable = true)\n",
      " |    |-- Subtitles:: string (nullable = true)\n",
      " |    |-- Tankobon Hardcover:: string (nullable = true)\n",
      " |    |-- Tankobon Softcover:: string (nullable = true)\n",
      " |    |-- Textbook Binding:: string (nullable = true)\n",
      " |    |-- Transparency:: string (nullable = true)\n",
      " |    |-- Turtleback:: string (nullable = true)\n",
      " |    |-- UPC:: string (nullable = true)\n",
      " |    |-- USB Memory Stick: string (nullable = true)\n",
      " |    |-- Unbound:: string (nullable = true)\n",
      " |    |-- Unknown Binding:: string (nullable = true)\n",
      " |    |-- Version:: string (nullable = true)\n",
      " |    |-- Vinyl: string (nullable = true)\n",
      " |    |-- Vinyl Bound: string (nullable = true)\n",
      " |    |-- Vinyl Bound:: string (nullable = true)\n",
      " |    |-- Wall Chart:: string (nullable = true)\n",
      " |    |-- Whispersync for Voice:: string (nullable = true)\n",
      " |    |-- Word Wise:: string (nullable = true)\n",
      " |    |-- Workbook:: string (nullable = true)\n",
      " |-- feature: array (nullable = true)\n",
      " |    |-- element: string (containsNull = true)\n",
      " |-- fit: string (nullable = true)\n",
      " |-- image: array (nullable = true)\n",
      " |    |-- element: string (containsNull = true)\n",
      " |-- main_cat: string (nullable = true)\n",
      " |-- price: string (nullable = true)\n",
      " |-- rank: string (nullable = true)\n",
      " |-- similar_item: string (nullable = true)\n",
      " |-- tech1: string (nullable = true)\n",
      " |-- tech2: string (nullable = true)\n",
      " |-- title: string (nullable = true)\n",
      "\n"
     ]
    }
   ],
   "source": [
    "# Print df_meta Schema to see what attributes we have and what data type they belong\n",
    "df_meta.printSchema()"
   ]
  },
  {
   "cell_type": "markdown",
   "id": "7186a7fa-45e5-4878-b43e-f19e7adbf1a6",
   "metadata": {},
   "source": [
    "We see `df_meta` offers some relevant description about the products and categories such that we can summarize our data in a structured way, so we need to drop the fields that are unnecessary to our analysis "
   ]
  },
  {
   "cell_type": "code",
   "execution_count": 52,
   "id": "8de03327-6dd1-4af7-89e9-34a3e4137af2",
   "metadata": {},
   "outputs": [
    {
     "name": "stdout",
     "output_type": "stream",
     "text": [
      "+--------------------+---------+----------+-------+--------------------+----------------+--------------------+--------------------+--------------------+---+--------------------+----------+------+--------------------+--------------------+--------------------+-----+--------------------+\n",
      "|            also_buy|also_view|      asin|  brand|            category|            date|         description|             details|             feature|fit|               image|  main_cat| price|                rank|        similar_item|               tech1|tech2|               title|\n",
      "+--------------------+---------+----------+-------+--------------------+----------------+--------------------+--------------------+--------------------+---+--------------------+----------+------+--------------------+--------------------+--------------------+-----+--------------------+\n",
      "|[B000C2AH9K, B000...|       []|B000C2E3PY|Fel-Pro|[Automotive, Repl...|November 8, 2005|[Fel-Pro gaskets ...|{null, null, null...|[PermaTorqueMLS h...|   |                  []|Automotive|$36.14|[\">#952,255 in Au...| class=\"a-bordere...| class=\"a-keyvalu...|     |Fel-Pro 26158 PT-...|\n",
      "|        [B001C6OYYE]|       []|B000C2CN6A|Fel-Pro|[Automotive, Repl...|   July 24, 2006|[Fel-Pro gaskets ...|{null, null, null...|[Meets or exceeds...|   |[https://images-n...|Automotive|$19.09|[\">#1,307,842 in ...| class=\"a-bordere...| class=\"a-keyvalu...|     |Fel-Pro VS50552R ...|\n",
      "|[B000CNJ4A2, B000...|       []|B000C2CLTE|Fel-Pro|[Automotive, Repl...|  August 1, 2006|[Fel-Pro gaskets ...|{null, null, null...|[Meets or exceeds...|   |[https://images-n...|Automotive|$19.04|[\">#1,298,327 in ...| class=\"a-bordere...| class=\"a-keyvalu...|     |Fel-Pro SS72683 V...|\n",
      "|[B000C2S6DY, B003...|       []|B000C2E49O|Fel-Pro|[Automotive, Repl...|  August 1, 2006|[Fel-Pro gaskets ...|{null, null, null...|[Meets or exceeds...|   |                  []|Automotive| $3.70|[\">#856,074 in Au...| class=\"a-bordere...| class=\"a-keyvalu...|     |Fel-Pro 35403 Wat...|\n",
      "|                  []|       []|B000C2CNAG|Fel-Pro|[Automotive, Repl...|November 9, 2005|[Fel-Pro gaskets ...|{null, null, null...|[Meets or exceeds...|   |[https://images-n...|Automotive| $8.10|[\">#2,063,785 in ...|                    | class=\"a-keyvalu...|     |Fel-Pro VS 50439 ...|\n",
      "+--------------------+---------+----------+-------+--------------------+----------------+--------------------+--------------------+--------------------+---+--------------------+----------+------+--------------------+--------------------+--------------------+-----+--------------------+\n",
      "only showing top 5 rows\n",
      "\n"
     ]
    }
   ],
   "source": [
    "# Check the content within df_meta\n",
    "df_meta.show(5)"
   ]
  },
  {
   "cell_type": "code",
   "execution_count": 80,
   "id": "cd00c9b9-1452-4e51-ba98-5f224dcf80d8",
   "metadata": {},
   "outputs": [],
   "source": [
    "# Create temp view to query data\n",
    "temp_view_name = \"tempvw_meta\"\n",
    "df_meta.createOrReplaceTempView(temp_view_name)"
   ]
  },
  {
   "cell_type": "code",
   "execution_count": 81,
   "id": "19543718-67e1-4970-a9fc-2d512b556f2e",
   "metadata": {},
   "outputs": [],
   "source": [
    "filtered_df_meta = spark.sql(\"\"\"\n",
    "SELECT DISTINCT asin, brand, main_cat, price, rank, description, category, title\n",
    "FROM tempvw_meta \n",
    "WHERE main_cat NOT LIKE '%https%' AND main_cat NOT LIKE ''\n",
    "\"\"\")"
   ]
  },
  {
   "cell_type": "code",
   "execution_count": 82,
   "id": "95ac770f-12b4-4894-81f5-b8b9b97fbfc7",
   "metadata": {},
   "outputs": [],
   "source": [
    "filtered_temp_view_name = \"filtered_tempvw_meta\"\n",
    "filtered_df_meta.createOrReplaceTempView(filtered_temp_view_name)"
   ]
  },
  {
   "cell_type": "code",
   "execution_count": 87,
   "id": "afc409f5-7b22-49a7-887d-648c9eb0ddce",
   "metadata": {},
   "outputs": [],
   "source": [
    "resultado_consulta_meta = spark.sql(\"\"\"\n",
    "SELECT main_cat, COUNT(*) as conteo_registros \n",
    "FROM filtered_tempvw_meta \n",
    "GROUP BY main_cat\n",
    "ORDER BY COUNT(*) DESC\n",
    "\"\"\")"
   ]
  },
  {
   "cell_type": "code",
   "execution_count": 110,
   "id": "0eb11a10-1ec3-4ae4-bfd8-6fcdae2003e3",
   "metadata": {},
   "outputs": [
    {
     "name": "stdout",
     "output_type": "stream",
     "text": [
      "+----------------+\n",
      "|conteo_registros|\n",
      "+----------------+\n",
      "|        30046118|\n",
      "+----------------+\n",
      "\n"
     ]
    }
   ],
   "source": [
    "resultado_consulta_meta.show()"
   ]
  },
  {
   "cell_type": "code",
   "execution_count": 84,
   "id": "57e3502d-94cc-4e40-8e43-31076279aae7",
   "metadata": {},
   "outputs": [
    {
     "name": "stdout",
     "output_type": "stream",
     "text": [
      "+----------------+\n",
      "|conteo_registros|\n",
      "+----------------+\n",
      "|         3672407|\n",
      "+----------------+\n",
      "\n"
     ]
    }
   ],
   "source": [
    "resultado_consulta_meta.show()"
   ]
  },
  {
   "cell_type": "code",
   "execution_count": 88,
   "id": "b6052a60-b1a0-40d7-bf46-e0ff6dcca567",
   "metadata": {},
   "outputs": [
    {
     "name": "stdout",
     "output_type": "stream",
     "text": [
      "+--------------------+----------------+\n",
      "|            main_cat|conteo_registros|\n",
      "+--------------------+----------------+\n",
      "|               Books|          865313|\n",
      "|         Amazon Home|          560683|\n",
      "|   Sports & Outdoors|          320070|\n",
      "|        Toys & Games|          266214|\n",
      "|          Automotive|          264249|\n",
      "|Cell Phones & Acc...|          220627|\n",
      "|        Buy a Kindle|          187580|\n",
      "|             Grocery|          143295|\n",
      "|Tools & Home Impr...|          115173|\n",
      "|         Movies & TV|          102242|\n",
      "|           Computers|           97931|\n",
      "|     Office Products|           85375|\n",
      "|     All Electronics|           72880|\n",
      "|Arts, Crafts & Se...|           54483|\n",
      "|      Camera & Photo|           45520|\n",
      "| Musical Instruments|           40240|\n",
      "|Industrial & Scie...|           40172|\n",
      "|        Pet Supplies|           39423|\n",
      "|Home Audio & Theater|           38213|\n",
      "|Health & Personal...|           26557|\n",
      "|         Video Games|           26262|\n",
      "|                Baby|           10884|\n",
      "|            Software|           10362|\n",
      "|     Car Electronics|            9063|\n",
      "|          All Beauty|            7594|\n",
      "|Portable Audio & ...|            3704|\n",
      "|    GPS & Navigation|            3450|\n",
      "|Magazine Subscrip...|            2320|\n",
      "|       Luxury Beauty|            2301|\n",
      "|      Amazon Devices|            2141|\n",
      "+--------------------+----------------+\n",
      "only showing top 30 rows\n",
      "\n"
     ]
    }
   ],
   "source": [
    "resultado_consulta_meta.show(30)"
   ]
  },
  {
   "cell_type": "code",
   "execution_count": 89,
   "id": "831b0c1f-2f97-40e6-a4ff-aa61639b317b",
   "metadata": {},
   "outputs": [
    {
     "name": "stdout",
     "output_type": "stream",
     "text": [
      "+----------+-------------------+--------------------+-------+--------------------+--------------------+--------------------+--------------------+\n",
      "|      asin|              brand|            main_cat|  price|                rank|         description|            category|               title|\n",
      "+----------+-------------------+--------------------+-------+--------------------+--------------------+--------------------+--------------------+\n",
      "|B000BOC9ZO|           Longacre|          Automotive|       |[\">#1,044,295 in ...|[Standard 2&quot ...|[Automotive, Repl...|Longacre 50451 St...|\n",
      "|B000BOYCN6|          Valvoline|          Automotive|  $4.97|[\">#22,706 in Aut...|[Valvoline MaxLif...|[Automotive, Oils...|Valvoline VV324 1...|\n",
      "|B000BPTV3Q|            Unknown|Tools & Home Impr...| $33.85|[\">#3,231,210 in ...|[The Roadcraft<re...|[Automotive, Exte...|Unknown 60111-01 ...|\n",
      "|B000BPVVAM|              Niteo|          Automotive| $10.04|[\">#838,991 in Au...|[Gunk DOT 3 Super...|[Automotive, Oils...|Niteo Motor Medic...|\n",
      "|B000BPZ4FK|Spectre Performance|          Automotive|  $4.48|[\">#90,626 in Aut...|[Spectres 4 inch ...|[Automotive, Repl...|Spectre Performan...|\n",
      "|B000BQL0HK|  UNITED STATES HDW|         Amazon Home| $10.42|[\">#9,066,039 in ...|[For heat distrib...|[Automotive, Inte...|UNITED STATES HDW...|\n",
      "|B000BQMZO2|               Warn|          Automotive| $12.05|[\">#960,939 in Au...|[WARN Wire Rope T...|                  []|WARN 16463 Wire R...|\n",
      "|B000BR3BQ2|                K&N|          Automotive|$361.99|[\">#442,230 in Au...|[The kit replaces...|[Automotive, Repl...|K&amp;N 57-9016-1...|\n",
      "|B000BRJURG|              Dicor|          Automotive| $14.25|[\">#85,900 in Aut...|[Formulated speci...|[Automotive, RV P...|Dicor Corporation...|\n",
      "|B000BSYAX4| Curt Manufacturing|          Automotive|$126.99|[\">#265,254 in Au...|[When an especial...|[Automotive, Exte...|Curt Manufacturin...|\n",
      "|B000BTLLCG|             Energy|          Automotive| $29.99|[\">#6,679,449 in ...|                  []|[Automotive, Repl...|Energy 9.8122R Sw...|\n",
      "|B000BV80Q4|           Prestone|          Automotive|       |[\">#4,933,859 in ...|[Prestone automot...|[Automotive, Repl...|Prestone 630K7 Pr...|\n",
      "|B000BV823K|        Plasticolor|          Automotive|       |[\">#736,592 in Au...|[A Plasticolor bu...|[Automotive, Inte...|Plasticolor Tinke...|\n",
      "|B000BW8NAQ|              ACCEL|          Automotive| $15.21|[\">#3,831,461 in ...|[The Accel 300+ F...|[Automotive, Repl...|ACCEL 7030 Perfor...|\n",
      "|B000BW8NVU|              ACCEL|          Automotive|       |[\">#2,189,402 in ...|[ACCEL spark plug...|[Automotive, Perf...|ACCEL 8177 Perfor...|\n",
      "|B000BW8NYC|              ACCEL|          Automotive| $39.86|[\">#281,900 in Au...|[ACCEL's \"Shorty\"...|[Automotive, Perf...|ACCEL 8198 Perfor...|\n",
      "|B000BW8VW6|         Mr. Gasket|          Automotive| $62.99|[\">#506,865 in Au...|[Mr. Gasket Baby ...|[Automotive, Tire...|Mr. Gasket 4580 B...|\n",
      "|B000BYB0X6|            ACDelco|          Automotive|       |[\">#2,657,384 in ...|[ACDelco GM Origi...|[Automotive, Repl...|ACDelco 616K Spar...|\n",
      "|B000BYEM22|              Bosch|          Automotive| $12.01|[\">#782,145 in Au...|[Just like distri...|[Automotive, Repl...|Bosch 04168 Ignit...|\n",
      "|B000BYEMEA|              Bosch|          Automotive| $19.61|[\">#605,500 in Au...|[All Bosch igniti...|[Automotive, Repl...|Bosch 04272 Ignit...|\n",
      "+----------+-------------------+--------------------+-------+--------------------+--------------------+--------------------+--------------------+\n",
      "only showing top 20 rows\n",
      "\n"
     ]
    }
   ],
   "source": [
    "filtered_df_meta.show()"
   ]
  },
  {
   "cell_type": "code",
   "execution_count": 93,
   "id": "3665f9af-4ce1-453f-a507-fe5562214fb5",
   "metadata": {},
   "outputs": [],
   "source": [
    "#Check if there is any duplicated asin (primary key of meta df)\n",
    "conteo_duplicados = filtered_df_meta.groupBy('asin').count()\n",
    "duplicated = conteo_duplicados.filter(col(\"count\") > 1)"
   ]
  },
  {
   "cell_type": "code",
   "execution_count": 96,
   "id": "138c28c6-d038-4217-be00-a40a581d9f4f",
   "metadata": {},
   "outputs": [
    {
     "name": "stdout",
     "output_type": "stream",
     "text": [
      "+----+-----+\n",
      "|asin|count|\n",
      "+----+-----+\n",
      "+----+-----+\n",
      "\n"
     ]
    }
   ],
   "source": [
    "duplicated.show()"
   ]
  },
  {
   "cell_type": "markdown",
   "id": "d43eb69b-3613-4ea8-aae4-71eecbae4771",
   "metadata": {},
   "source": [
    "## Combine both Amazon Sources (Batch)"
   ]
  },
  {
   "cell_type": "code",
   "execution_count": 103,
   "id": "2232a5ec-71ff-4f5c-9199-70ccf3c603c5",
   "metadata": {},
   "outputs": [],
   "source": [
    "# Inner Join to combine Reviews with Meta\n",
    "df_reviews_master_table = df_copy_reviews_final.join(filtered_df_meta, on=[\"asin\"], how=\"inner\")"
   ]
  },
  {
   "cell_type": "code",
   "execution_count": 104,
   "id": "72ff6aee-fcfe-4515-877b-7e9c42e6940b",
   "metadata": {},
   "outputs": [
    {
     "name": "stdout",
     "output_type": "stream",
     "text": [
      "root\n",
      " |-- asin: string (nullable = true)\n",
      " |-- overall: string (nullable = true)\n",
      " |-- reviewText: string (nullable = true)\n",
      " |-- reviewerID: string (nullable = true)\n",
      " |-- summary: string (nullable = true)\n",
      " |-- verified: string (nullable = true)\n",
      " |-- vote: string (nullable = true)\n",
      " |-- reviewTime: string (nullable = true)\n",
      " |-- brand: string (nullable = true)\n",
      " |-- main_cat: string (nullable = true)\n",
      " |-- price: string (nullable = true)\n",
      " |-- rank: string (nullable = true)\n",
      " |-- description: array (nullable = true)\n",
      " |    |-- element: string (containsNull = true)\n",
      " |-- category: array (nullable = true)\n",
      " |    |-- element: string (containsNull = true)\n",
      " |-- title: string (nullable = true)\n",
      "\n"
     ]
    }
   ],
   "source": [
    "df_reviews_master_table.printSchema()"
   ]
  },
  {
   "cell_type": "code",
   "execution_count": 105,
   "id": "768dab22-aa72-4e2c-9074-27270851bd76",
   "metadata": {},
   "outputs": [
    {
     "name": "stdout",
     "output_type": "stream",
     "text": [
      "+----------+-------+--------------------+--------------+--------------------+--------+----+-------------------+--------------------+--------+------+--------------------+--------------------+--------------------+--------------------+\n",
      "|      asin|overall|          reviewText|    reviewerID|             summary|verified|vote|         reviewTime|               brand|main_cat| price|                rank|         description|            category|               title|\n",
      "+----------+-------+--------------------+--------------+--------------------+--------+----+-------------------+--------------------+--------+------+--------------------+--------------------+--------------------+--------------------+\n",
      "|000727033X|    5.0|So exciting! This...|A3GED6CLCNHWX4|This is the all s...|    true|null|2013-07-08 00:00:00|Visit Amazon's St...|   Books| $6.99|  273,662 in Books (|[, Praise for The...|[Books, Teen & Yo...|Victory and the A...|\n",
      "|000727033X|    5.0|I loved it sooo m...|A2QJJVTC1ZD3UJ|          great book|   false|null|2015-05-18 00:00:00|Visit Amazon's St...|   Books| $6.99|  273,662 in Books (|[, Praise for The...|[Books, Teen & Yo...|Victory and the A...|\n",
      "|000727033X|    5.0|Same as I have sa...|A2PSBHN5BJSJ5L|          great book|    true|null|2013-03-29 00:00:00|Visit Amazon's St...|   Books| $6.99|  273,662 in Books (|[, Praise for The...|[Books, Teen & Yo...|Victory and the A...|\n",
      "|000727033X|    5.0|The book \"victory...|A3NR5C7XD5PB7I|Wicked scenery in...|    true|null|2015-04-05 00:00:00|Visit Amazon's St...|   Books| $6.99|  273,662 in Books (|[, Praise for The...|[Books, Teen & Yo...|Victory and the A...|\n",
      "|000727033X|    5.0|This is my favour...|A25BRG8LAB9EK3|     Best book ever!|   false|null|2011-12-24 00:00:00|Visit Amazon's St...|   Books| $6.99|  273,662 in Books (|[, Praise for The...|[Books, Teen & Yo...|Victory and the A...|\n",
      "|000727033X|    5.0|    I love this book|A1J9B8ZLG7888M|          Five Stars|   false|null|2018-01-03 00:00:00|Visit Amazon's St...|   Books| $6.99|  273,662 in Books (|[, Praise for The...|[Books, Teen & Yo...|Victory and the A...|\n",
      "|0021856532|    3.0|I bought this for...|A3S94KJLKKD0QC|but the word list...|    true|null|2015-07-05 00:00:00|         McGraw-Hill|   Books| $8.26|2,059,743 in Books (|[<br><br><b>Book ...|                  []|Spelling Practice...|\n",
      "|0021938024|    5.0|          Thank you!|A3V0DWNEFIU2V7|          Five Stars|    true|null|2016-09-29 00:00:00|                    |   Books|      |2,917,080 in Books (|[retelling cards ...|                  []|Grade 2 Retelling...|\n",
      "|0027677907|    5.0|Sidney Rella And ...|A2H3F9FHF0I4YI|A modern woman's ...|   false|   5|2000-09-29 00:00:00|Visit Amazon's Be...|   Books| $6.55|2,774,918 in Books (|[Kindergarten-Gra...|[Books, Children'...|Sidney Rella and ...|\n",
      "|0027677907|    5.0|Did a fairytale u...|A22VMDQBBPW5F1|Boy version of Ci...|    true|null|2013-03-16 00:00:00|Visit Amazon's Be...|   Books| $6.55|2,774,918 in Books (|[Kindergarten-Gra...|[Books, Children'...|Sidney Rella and ...|\n",
      "|0027677907|    5.0|        Great book!!| AEKKHZRE4FQ51|          Five Stars|    true|null|2015-06-11 00:00:00|Visit Amazon's Be...|   Books| $6.55|2,774,918 in Books (|[Kindergarten-Gra...|[Books, Children'...|Sidney Rella and ...|\n",
      "|0027677907|    5.0|Although the book...|A3MHHBJKXST5GO|my students loved...|    true|null|2017-06-07 00:00:00|Visit Amazon's Be...|   Books| $6.55|2,774,918 in Books (|[Kindergarten-Gra...|[Books, Children'...|Sidney Rella and ...|\n",
      "|0029328802|    3.0|Roberto Unger's s...|A16DWUZKGFWYYL|Difficult read, y...|   false|   5|2009-03-22 00:00:00|Visit Amazon's Ro...|   Books|      |2,255,593 in Books (|[Will be shipped ...|[Books, New, Used...|Law in Modern Soc...|\n",
      "|0030210313|    5.0|This novel is a g...| ACTFIW2RSQ3SO|How the tragedy o...|    true|   2|2010-02-05 00:00:00|Visit Amazon's Wi...|   Books|      |5,319,993 in Books (|[1979 hardback ed...|                  []|   Shanghai: A Novel|\n",
      "|0030446511|    5.0|This book is one ...| A2EX54145A9TQ|This Story has be...|    true|null|2016-04-02 00:00:00|Visit Amazon's Do...|   Books| $8.05|6,841,498 in Books (|                [, ]|                  []|          Brighteyes|\n",
      "|0078907020|    5.0|Glad to have foun...|A1LETUC5HH4GDW|   teacher's edition|    true|null|2014-06-13 00:00:00|             Glencoe|   Books|$29.85|5,422,244 in Books (|                  []|                  []|Mastering the Ach...|\n",
      "|0091943876|    5.0|Tony Benn has alw...| AMHX25VUDV19A|A remarkable acco...|   false|   5|2014-03-27 00:00:00|Visit Amazon's To...|   Books| $6.00|4,650,523 in Books (|[\"There is a new ...|[Books, Biographi...|A Blaze of Autumn...|\n",
      "|0091943876|    5.0|Difficult to put ...| AY3R5REQE5YBT|         Outstanding|    true|null|2014-04-20 00:00:00|Visit Amazon's To...|   Books| $6.00|4,650,523 in Books (|[\"There is a new ...|[Books, Biographi...|A Blaze of Autumn...|\n",
      "|0124405754|    5.0|I have read sever...|A24XWQCSVD26UE|Finest qualitativ...|   false|   3|2002-10-19 00:00:00|Visit Amazon's Ma...|   Books|      |2,655,736 in Books (|[Margaret D. LeCo...|[Books, Science &...|Ethnography and Q...|\n",
      "|0133721272|    5.0|This math book wi...|A2X2OYY4T2Q8QW|       Math resource|    true|null|2017-01-07 00:00:00|       Prentice Hall|   Books|$27.76|2,523,707 in Books (|[Mathematics Cour...|                  []|Mathematics Cours...|\n",
      "+----------+-------+--------------------+--------------+--------------------+--------+----+-------------------+--------------------+--------+------+--------------------+--------------------+--------------------+--------------------+\n",
      "only showing top 20 rows\n",
      "\n"
     ]
    }
   ],
   "source": [
    "# Check the results \n",
    "df_reviews_master_table.show(5)"
   ]
  },
  {
   "cell_type": "markdown",
   "id": "66c40faa-a2fc-480a-9548-4e794572622d",
   "metadata": {},
   "source": [
    "## Export data to Parquet "
   ]
  },
  {
   "cell_type": "code",
   "execution_count": 92,
   "id": "16e19e27-7947-46d3-9e7d-74362e7cc706",
   "metadata": {},
   "outputs": [],
   "source": [
    "path_parquet = 'parquet_meta'\n",
    "partition_column = 'main_cat'\n",
    "df_reviews_master_table.write.partitionBy(partition_column).option(\"compression\", \"gzip\").parquet(path_parquet)"
   ]
  },
  {
   "cell_type": "markdown",
   "id": "dd5d7b9d-9e26-4d4e-9baf-15b0127c0224",
   "metadata": {},
   "source": [
    "## Read clean master table data with Pandas"
   ]
  },
  {
   "cell_type": "code",
   "execution_count": 112,
   "id": "1628b84f-0874-4855-959e-be53930c4a82",
   "metadata": {},
   "outputs": [],
   "source": [
    "import pandas as pd"
   ]
  },
  {
   "cell_type": "code",
   "execution_count": 113,
   "id": "65317215-41bd-4668-9658-d6946cb0ceb6",
   "metadata": {},
   "outputs": [],
   "source": [
    "# Use pyarrow engine to get data from master table \n",
    "df_test = pd.read_parquet('parquet_meta', engine=\"pyarrow\")"
   ]
  },
  {
   "cell_type": "code",
   "execution_count": 114,
   "id": "3ee92a9f-bcf2-478c-80b2-b496e5219932",
   "metadata": {
    "scrolled": true
   },
   "outputs": [
    {
     "data": {
      "text/plain": [
       "(3742746, 15)"
      ]
     },
     "execution_count": 114,
     "metadata": {},
     "output_type": "execute_result"
    }
   ],
   "source": [
    "df_test.shape"
   ]
  },
  {
   "cell_type": "code",
   "execution_count": 121,
   "id": "3cdbb080-339d-4813-8781-09693dca74b0",
   "metadata": {},
   "outputs": [],
   "source": [
    "df_test['vote'] = df_test['vote'].str.replace(',', '')"
   ]
  },
  {
   "cell_type": "code",
   "execution_count": 139,
   "id": "2659a1c4-2ef0-45f0-820b-f367106d2948",
   "metadata": {},
   "outputs": [
    {
     "data": {
      "text/html": [
       "<div>\n",
       "<style scoped>\n",
       "    .dataframe tbody tr th:only-of-type {\n",
       "        vertical-align: middle;\n",
       "    }\n",
       "\n",
       "    .dataframe tbody tr th {\n",
       "        vertical-align: top;\n",
       "    }\n",
       "\n",
       "    .dataframe thead th {\n",
       "        text-align: right;\n",
       "    }\n",
       "</style>\n",
       "<table border=\"1\" class=\"dataframe\">\n",
       "  <thead>\n",
       "    <tr style=\"text-align: right;\">\n",
       "      <th></th>\n",
       "      <th>asin</th>\n",
       "      <th>overall</th>\n",
       "      <th>reviewText</th>\n",
       "      <th>reviewerID</th>\n",
       "      <th>summary</th>\n",
       "      <th>verified</th>\n",
       "      <th>vote</th>\n",
       "      <th>reviewTime</th>\n",
       "      <th>brand</th>\n",
       "      <th>price</th>\n",
       "      <th>rank</th>\n",
       "      <th>description</th>\n",
       "      <th>category</th>\n",
       "      <th>title</th>\n",
       "      <th>main_cat</th>\n",
       "    </tr>\n",
       "  </thead>\n",
       "  <tbody>\n",
       "    <tr>\n",
       "      <th>27588</th>\n",
       "      <td>B00BZFGNPU</td>\n",
       "      <td>5.0</td>\n",
       "      <td>Received my case and it fits perfectly. The ki...</td>\n",
       "      <td>A31N5BEI8WO2U1</td>\n",
       "      <td>Perfect fit!</td>\n",
       "      <td>true</td>\n",
       "      <td>None</td>\n",
       "      <td>2013-09-04 00:00:00</td>\n",
       "      <td>EMPIRE</td>\n",
       "      <td></td>\n",
       "      <td>[\"&gt;#680,526 in Cell Phones &amp; Accessories (See ...</td>\n",
       "      <td>[]</td>\n",
       "      <td>[Cell Phones &amp; Accessories, Cases, Holsters &amp; ...</td>\n",
       "      <td>MPERO IMPACT X Series Kickstand Case for Motor...</td>\n",
       "      <td>All Electronics</td>\n",
       "    </tr>\n",
       "    <tr>\n",
       "      <th>27590</th>\n",
       "      <td>B00BZFGNPU</td>\n",
       "      <td>5.0</td>\n",
       "      <td>I ordered this case for my Mom since her last ...</td>\n",
       "      <td>ADNPA1CQTBJIL</td>\n",
       "      <td>Awesome Case!</td>\n",
       "      <td>true</td>\n",
       "      <td>None</td>\n",
       "      <td>2014-06-16 00:00:00</td>\n",
       "      <td>EMPIRE</td>\n",
       "      <td></td>\n",
       "      <td>[\"&gt;#680,526 in Cell Phones &amp; Accessories (See ...</td>\n",
       "      <td>[]</td>\n",
       "      <td>[Cell Phones &amp; Accessories, Cases, Holsters &amp; ...</td>\n",
       "      <td>MPERO IMPACT X Series Kickstand Case for Motor...</td>\n",
       "      <td>All Electronics</td>\n",
       "    </tr>\n",
       "    <tr>\n",
       "      <th>27592</th>\n",
       "      <td>B00BZFGNPU</td>\n",
       "      <td>5.0</td>\n",
       "      <td>Great case!</td>\n",
       "      <td>A2UHBES37HEWD8</td>\n",
       "      <td>Five Stars</td>\n",
       "      <td>true</td>\n",
       "      <td>None</td>\n",
       "      <td>2014-10-13 00:00:00</td>\n",
       "      <td>EMPIRE</td>\n",
       "      <td></td>\n",
       "      <td>[\"&gt;#680,526 in Cell Phones &amp; Accessories (See ...</td>\n",
       "      <td>[]</td>\n",
       "      <td>[Cell Phones &amp; Accessories, Cases, Holsters &amp; ...</td>\n",
       "      <td>MPERO IMPACT X Series Kickstand Case for Motor...</td>\n",
       "      <td>All Electronics</td>\n",
       "    </tr>\n",
       "    <tr>\n",
       "      <th>27596</th>\n",
       "      <td>B00BZFGNPU</td>\n",
       "      <td>5.0</td>\n",
       "      <td>perfect</td>\n",
       "      <td>A3VU0JMBMMLNLS</td>\n",
       "      <td>Five Stars</td>\n",
       "      <td>true</td>\n",
       "      <td>None</td>\n",
       "      <td>2014-11-22 00:00:00</td>\n",
       "      <td>EMPIRE</td>\n",
       "      <td></td>\n",
       "      <td>[\"&gt;#680,526 in Cell Phones &amp; Accessories (See ...</td>\n",
       "      <td>[]</td>\n",
       "      <td>[Cell Phones &amp; Accessories, Cases, Holsters &amp; ...</td>\n",
       "      <td>MPERO IMPACT X Series Kickstand Case for Motor...</td>\n",
       "      <td>All Electronics</td>\n",
       "    </tr>\n",
       "    <tr>\n",
       "      <th>27598</th>\n",
       "      <td>B00BZFGNPU</td>\n",
       "      <td>5.0</td>\n",
       "      <td>Great product for the money. I love having a k...</td>\n",
       "      <td>A1IUM56J26HM5J</td>\n",
       "      <td>Awesome</td>\n",
       "      <td>true</td>\n",
       "      <td>None</td>\n",
       "      <td>2013-07-11 00:00:00</td>\n",
       "      <td>EMPIRE</td>\n",
       "      <td></td>\n",
       "      <td>[\"&gt;#680,526 in Cell Phones &amp; Accessories (See ...</td>\n",
       "      <td>[]</td>\n",
       "      <td>[Cell Phones &amp; Accessories, Cases, Holsters &amp; ...</td>\n",
       "      <td>MPERO IMPACT X Series Kickstand Case for Motor...</td>\n",
       "      <td>All Electronics</td>\n",
       "    </tr>\n",
       "  </tbody>\n",
       "</table>\n",
       "</div>"
      ],
      "text/plain": [
       "             asin overall                                         reviewText  \\\n",
       "27588  B00BZFGNPU     5.0  Received my case and it fits perfectly. The ki...   \n",
       "27590  B00BZFGNPU     5.0  I ordered this case for my Mom since her last ...   \n",
       "27592  B00BZFGNPU     5.0                                        Great case!   \n",
       "27596  B00BZFGNPU     5.0                                            perfect   \n",
       "27598  B00BZFGNPU     5.0  Great product for the money. I love having a k...   \n",
       "\n",
       "           reviewerID        summary verified  vote           reviewTime  \\\n",
       "27588  A31N5BEI8WO2U1   Perfect fit!     true  None  2013-09-04 00:00:00   \n",
       "27590   ADNPA1CQTBJIL  Awesome Case!     true  None  2014-06-16 00:00:00   \n",
       "27592  A2UHBES37HEWD8     Five Stars     true  None  2014-10-13 00:00:00   \n",
       "27596  A3VU0JMBMMLNLS     Five Stars     true  None  2014-11-22 00:00:00   \n",
       "27598  A1IUM56J26HM5J        Awesome     true  None  2013-07-11 00:00:00   \n",
       "\n",
       "        brand price                                               rank  \\\n",
       "27588  EMPIRE        [\">#680,526 in Cell Phones & Accessories (See ...   \n",
       "27590  EMPIRE        [\">#680,526 in Cell Phones & Accessories (See ...   \n",
       "27592  EMPIRE        [\">#680,526 in Cell Phones & Accessories (See ...   \n",
       "27596  EMPIRE        [\">#680,526 in Cell Phones & Accessories (See ...   \n",
       "27598  EMPIRE        [\">#680,526 in Cell Phones & Accessories (See ...   \n",
       "\n",
       "      description                                           category  \\\n",
       "27588          []  [Cell Phones & Accessories, Cases, Holsters & ...   \n",
       "27590          []  [Cell Phones & Accessories, Cases, Holsters & ...   \n",
       "27592          []  [Cell Phones & Accessories, Cases, Holsters & ...   \n",
       "27596          []  [Cell Phones & Accessories, Cases, Holsters & ...   \n",
       "27598          []  [Cell Phones & Accessories, Cases, Holsters & ...   \n",
       "\n",
       "                                                   title         main_cat  \n",
       "27588  MPERO IMPACT X Series Kickstand Case for Motor...  All Electronics  \n",
       "27590  MPERO IMPACT X Series Kickstand Case for Motor...  All Electronics  \n",
       "27592  MPERO IMPACT X Series Kickstand Case for Motor...  All Electronics  \n",
       "27596  MPERO IMPACT X Series Kickstand Case for Motor...  All Electronics  \n",
       "27598  MPERO IMPACT X Series Kickstand Case for Motor...  All Electronics  "
      ]
     },
     "execution_count": 139,
     "metadata": {},
     "output_type": "execute_result"
    }
   ],
   "source": [
    "df_test[(df_test['main_cat']=='All Electronics')&(df_test['verified']=='true')].head()"
   ]
  },
  {
   "cell_type": "code",
   "execution_count": 140,
   "id": "3fc74224-7f37-47be-8bbb-e89cc2684a8b",
   "metadata": {},
   "outputs": [
    {
     "name": "stdout",
     "output_type": "stream",
     "text": [
      "(36786, 15)\n"
     ]
    }
   ],
   "source": [
    "print(df_test[(df_test['main_cat']=='All Electronics')&(df_test['verified']=='true')].shape)"
   ]
  },
  {
   "cell_type": "code",
   "execution_count": 147,
   "id": "559d2892-7c59-423e-a63c-70ea18b9e3d3",
   "metadata": {},
   "outputs": [],
   "source": [
    "conteo_reviews = df_test.groupby('vote').count()['asin']"
   ]
  },
  {
   "cell_type": "code",
   "execution_count": 174,
   "id": "45610f00-058c-4222-b2e1-f7d56c4c924b",
   "metadata": {},
   "outputs": [],
   "source": [
    "df_votes_count = conteo_reviews.reset_index(name='count').sort_values(by='count', ascending=False).head(25).reset_index()"
   ]
  },
  {
   "cell_type": "code",
   "execution_count": 177,
   "id": "9d0eebde-5d0d-431e-a7c9-3f1638978052",
   "metadata": {},
   "outputs": [
    {
     "data": {
      "image/png": "[encoded data removed]",
      "text/plain": [
       "<Figure size 640x480 with 1 Axes>"
      ]
     },
     "metadata": {},
     "output_type": "display_data"
    }
   ],
   "source": [
    "# Check how is the distribution of relevant reviews (based on the total votes per review)\n",
    "import matplotlib.pyplot as plt\n",
    "df_votes_count.plot.scatter(x='vote', y='count')\n",
    "plt.show()"
   ]
  },
  {
   "cell_type": "code",
   "execution_count": 176,
   "id": "8848dafb-d2f4-4397-b739-6d6b47f6b20c",
   "metadata": {},
   "outputs": [
    {
     "data": {
      "text/html": [
       "<div>\n",
       "<style scoped>\n",
       "    .dataframe tbody tr th:only-of-type {\n",
       "        vertical-align: middle;\n",
       "    }\n",
       "\n",
       "    .dataframe tbody tr th {\n",
       "        vertical-align: top;\n",
       "    }\n",
       "\n",
       "    .dataframe thead th {\n",
       "        text-align: right;\n",
       "    }\n",
       "</style>\n",
       "<table border=\"1\" class=\"dataframe\">\n",
       "  <thead>\n",
       "    <tr style=\"text-align: right;\">\n",
       "      <th></th>\n",
       "      <th>main_cat</th>\n",
       "      <th>count</th>\n",
       "    </tr>\n",
       "  </thead>\n",
       "  <tbody>\n",
       "    <tr>\n",
       "      <th>11</th>\n",
       "      <td>Books</td>\n",
       "      <td>1511927</td>\n",
       "    </tr>\n",
       "    <tr>\n",
       "      <th>4</th>\n",
       "      <td>Amazon Home</td>\n",
       "      <td>485546</td>\n",
       "    </tr>\n",
       "    <tr>\n",
       "      <th>37</th>\n",
       "      <td>Sports &amp; Outdoors</td>\n",
       "      <td>404794</td>\n",
       "    </tr>\n",
       "    <tr>\n",
       "      <th>30</th>\n",
       "      <td>Movies &amp; TV</td>\n",
       "      <td>252303</td>\n",
       "    </tr>\n",
       "    <tr>\n",
       "      <th>16</th>\n",
       "      <td>Cell Phones &amp; Accessories</td>\n",
       "      <td>245203</td>\n",
       "    </tr>\n",
       "    <tr>\n",
       "      <th>34</th>\n",
       "      <td>Pet Supplies</td>\n",
       "      <td>216963</td>\n",
       "    </tr>\n",
       "    <tr>\n",
       "      <th>6</th>\n",
       "      <td>Arts, Crafts &amp; Sewing</td>\n",
       "      <td>91769</td>\n",
       "    </tr>\n",
       "    <tr>\n",
       "      <th>18</th>\n",
       "      <td>Computers</td>\n",
       "      <td>76135</td>\n",
       "    </tr>\n",
       "    <tr>\n",
       "      <th>40</th>\n",
       "      <td>Tools &amp; Home Improvement</td>\n",
       "      <td>63153</td>\n",
       "    </tr>\n",
       "    <tr>\n",
       "      <th>22</th>\n",
       "      <td>Grocery</td>\n",
       "      <td>47445</td>\n",
       "    </tr>\n",
       "    <tr>\n",
       "      <th>9</th>\n",
       "      <td>Automotive</td>\n",
       "      <td>43435</td>\n",
       "    </tr>\n",
       "    <tr>\n",
       "      <th>2</th>\n",
       "      <td>All Electronics</td>\n",
       "      <td>41111</td>\n",
       "    </tr>\n",
       "    <tr>\n",
       "      <th>33</th>\n",
       "      <td>Office Products</td>\n",
       "      <td>35324</td>\n",
       "    </tr>\n",
       "    <tr>\n",
       "      <th>42</th>\n",
       "      <td>Toys &amp; Games</td>\n",
       "      <td>29875</td>\n",
       "    </tr>\n",
       "    <tr>\n",
       "      <th>36</th>\n",
       "      <td>Software</td>\n",
       "      <td>27978</td>\n",
       "    </tr>\n",
       "    <tr>\n",
       "      <th>44</th>\n",
       "      <td>Video Games</td>\n",
       "      <td>27361</td>\n",
       "    </tr>\n",
       "    <tr>\n",
       "      <th>23</th>\n",
       "      <td>Health &amp; Personal Care</td>\n",
       "      <td>24183</td>\n",
       "    </tr>\n",
       "    <tr>\n",
       "      <th>13</th>\n",
       "      <td>Camera &amp; Photo</td>\n",
       "      <td>23057</td>\n",
       "    </tr>\n",
       "    <tr>\n",
       "      <th>0</th>\n",
       "      <td>Alexa Skills</td>\n",
       "      <td>23021</td>\n",
       "    </tr>\n",
       "    <tr>\n",
       "      <th>25</th>\n",
       "      <td>Home Audio &amp; Theater</td>\n",
       "      <td>21199</td>\n",
       "    </tr>\n",
       "    <tr>\n",
       "      <th>27</th>\n",
       "      <td>Industrial &amp; Scientific</td>\n",
       "      <td>13704</td>\n",
       "    </tr>\n",
       "    <tr>\n",
       "      <th>32</th>\n",
       "      <td>Musical Instruments</td>\n",
       "      <td>8027</td>\n",
       "    </tr>\n",
       "    <tr>\n",
       "      <th>10</th>\n",
       "      <td>Baby</td>\n",
       "      <td>7878</td>\n",
       "    </tr>\n",
       "    <tr>\n",
       "      <th>12</th>\n",
       "      <td>Buy a Kindle</td>\n",
       "      <td>5173</td>\n",
       "    </tr>\n",
       "    <tr>\n",
       "      <th>29</th>\n",
       "      <td>Luxury Beauty</td>\n",
       "      <td>5026</td>\n",
       "    </tr>\n",
       "    <tr>\n",
       "      <th>1</th>\n",
       "      <td>All Beauty</td>\n",
       "      <td>4566</td>\n",
       "    </tr>\n",
       "    <tr>\n",
       "      <th>15</th>\n",
       "      <td>Car Electronics</td>\n",
       "      <td>2876</td>\n",
       "    </tr>\n",
       "    <tr>\n",
       "      <th>35</th>\n",
       "      <td>Portable Audio &amp; Accessories</td>\n",
       "      <td>1352</td>\n",
       "    </tr>\n",
       "    <tr>\n",
       "      <th>3</th>\n",
       "      <td>Amazon Devices</td>\n",
       "      <td>863</td>\n",
       "    </tr>\n",
       "    <tr>\n",
       "      <th>5</th>\n",
       "      <td>Appliances</td>\n",
       "      <td>664</td>\n",
       "    </tr>\n",
       "    <tr>\n",
       "      <th>21</th>\n",
       "      <td>GPS &amp; Navigation</td>\n",
       "      <td>294</td>\n",
       "    </tr>\n",
       "    <tr>\n",
       "      <th>43</th>\n",
       "      <td>Toys &amp;amp; Games</td>\n",
       "      <td>112</td>\n",
       "    </tr>\n",
       "    <tr>\n",
       "      <th>26</th>\n",
       "      <td>Home Audio &amp;amp; Theater</td>\n",
       "      <td>87</td>\n",
       "    </tr>\n",
       "    <tr>\n",
       "      <th>8</th>\n",
       "      <td>Audible Audiobooks</td>\n",
       "      <td>76</td>\n",
       "    </tr>\n",
       "    <tr>\n",
       "      <th>28</th>\n",
       "      <td>Industrial &amp;amp; Scientific</td>\n",
       "      <td>50</td>\n",
       "    </tr>\n",
       "    <tr>\n",
       "      <th>41</th>\n",
       "      <td>Tools &amp;amp; Home Improvement</td>\n",
       "      <td>37</td>\n",
       "    </tr>\n",
       "    <tr>\n",
       "      <th>24</th>\n",
       "      <td>Health &amp;amp; Personal Care</td>\n",
       "      <td>37</td>\n",
       "    </tr>\n",
       "    <tr>\n",
       "      <th>7</th>\n",
       "      <td>Arts, Crafts &amp;amp; Sewing</td>\n",
       "      <td>29</td>\n",
       "    </tr>\n",
       "    <tr>\n",
       "      <th>19</th>\n",
       "      <td>Entertainment</td>\n",
       "      <td>28</td>\n",
       "    </tr>\n",
       "    <tr>\n",
       "      <th>20</th>\n",
       "      <td>Fire Phone</td>\n",
       "      <td>24</td>\n",
       "    </tr>\n",
       "    <tr>\n",
       "      <th>38</th>\n",
       "      <td>Sports &amp;amp; Outdoors</td>\n",
       "      <td>24</td>\n",
       "    </tr>\n",
       "    <tr>\n",
       "      <th>39</th>\n",
       "      <td>Sports Collectibles</td>\n",
       "      <td>19</td>\n",
       "    </tr>\n",
       "    <tr>\n",
       "      <th>17</th>\n",
       "      <td>Cell Phones &amp;amp; Accessories</td>\n",
       "      <td>14</td>\n",
       "    </tr>\n",
       "    <tr>\n",
       "      <th>14</th>\n",
       "      <td>Camera &amp;amp; Photo</td>\n",
       "      <td>2</td>\n",
       "    </tr>\n",
       "    <tr>\n",
       "      <th>31</th>\n",
       "      <td>Movies &amp;amp; TV</td>\n",
       "      <td>2</td>\n",
       "    </tr>\n",
       "  </tbody>\n",
       "</table>\n",
       "</div>"
      ],
      "text/plain": [
       "                         main_cat    count\n",
       "11                          Books  1511927\n",
       "4                     Amazon Home   485546\n",
       "37              Sports & Outdoors   404794\n",
       "30                    Movies & TV   252303\n",
       "16      Cell Phones & Accessories   245203\n",
       "34                   Pet Supplies   216963\n",
       "6           Arts, Crafts & Sewing    91769\n",
       "18                      Computers    76135\n",
       "40       Tools & Home Improvement    63153\n",
       "22                        Grocery    47445\n",
       "9                      Automotive    43435\n",
       "2                 All Electronics    41111\n",
       "33                Office Products    35324\n",
       "42                   Toys & Games    29875\n",
       "36                       Software    27978\n",
       "44                    Video Games    27361\n",
       "23         Health & Personal Care    24183\n",
       "13                 Camera & Photo    23057\n",
       "0                    Alexa Skills    23021\n",
       "25           Home Audio & Theater    21199\n",
       "27        Industrial & Scientific    13704\n",
       "32            Musical Instruments     8027\n",
       "10                           Baby     7878\n",
       "12                   Buy a Kindle     5173\n",
       "29                  Luxury Beauty     5026\n",
       "1                      All Beauty     4566\n",
       "15                Car Electronics     2876\n",
       "35   Portable Audio & Accessories     1352\n",
       "3                  Amazon Devices      863\n",
       "5                      Appliances      664\n",
       "21               GPS & Navigation      294\n",
       "43               Toys &amp; Games      112\n",
       "26       Home Audio &amp; Theater       87\n",
       "8              Audible Audiobooks       76\n",
       "28    Industrial &amp; Scientific       50\n",
       "41   Tools &amp; Home Improvement       37\n",
       "24     Health &amp; Personal Care       37\n",
       "7       Arts, Crafts &amp; Sewing       29\n",
       "19                  Entertainment       28\n",
       "20                     Fire Phone       24\n",
       "38          Sports &amp; Outdoors       24\n",
       "39            Sports Collectibles       19\n",
       "17  Cell Phones &amp; Accessories       14\n",
       "14             Camera &amp; Photo        2\n",
       "31                Movies &amp; TV        2"
      ]
     },
     "execution_count": 176,
     "metadata": {},
     "output_type": "execute_result"
    }
   ],
   "source": [
    "df_test.groupby('main_cat').count()['asin'].reset_index(name='count').sort_values(by='count', ascending=False)"
   ]
  }
 ],
 "metadata": {
  "kernelspec": {
   "display_name": "Python 3 (ipykernel)",
   "language": "python",
   "name": "python3"
  },
  "language_info": {
   "codemirror_mode": {
    "name": "ipython",
    "version": 3
   },
   "file_extension": ".py",
   "mimetype": "text/x-python",
   "name": "python",
   "nbconvert_exporter": "python",
   "pygments_lexer": "ipython3",
   "version": "3.11.4"
  }
 },
 "nbformat": 4,
 "nbformat_minor": 5
}
