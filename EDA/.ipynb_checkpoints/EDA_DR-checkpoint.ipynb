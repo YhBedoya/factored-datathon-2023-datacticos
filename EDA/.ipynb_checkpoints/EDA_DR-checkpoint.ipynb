{
 "cells": [
  {
   "cell_type": "markdown",
   "id": "f3dc0a9a-a6c2-4aef-b43a-f5d8b130493a",
   "metadata": {},
   "source": [
    "# Import Libraries and Create Spark Session"
   ]
  },
  {
   "cell_type": "code",
   "execution_count": 2,
   "id": "c1bddf91-dae1-4e84-b87d-c64f8da0e7b9",
   "metadata": {},
   "outputs": [
    {
     "name": "stdout",
     "output_type": "stream",
     "text": [
      "Collecting glob2\n",
      "  Downloading glob2-0.7.tar.gz (10 kB)\n",
      "  Preparing metadata (setup.py) ... \u001b[?25ldone\n",
      "\u001b[?25hBuilding wheels for collected packages: glob2\n",
      "  Building wheel for glob2 (setup.py) ... \u001b[?25ldone\n",
      "\u001b[?25h  Created wheel for glob2: filename=glob2-0.7-py2.py3-none-any.whl size=9299 sha256=3f944884712229db46a17a3d5b80664b2188daf52fc57c227d2e03fc929fae70\n",
      "  Stored in directory: /home/jovyan/.cache/pip/wheels/96/41/06/9f8fddc6eb1d75bde63db7f491311a4ae26905212617e06eb2\n",
      "Successfully built glob2\n",
      "Installing collected packages: glob2\n",
      "Successfully installed glob2-0.7\n"
     ]
    }
   ],
   "source": [
    "!pip install -r requirements.txt"
   ]
  },
  {
   "cell_type": "code",
   "execution_count": 12,
   "id": "f5f0f7d8-2d2a-45b1-846a-f6b564b3fe7b",
   "metadata": {},
   "outputs": [],
   "source": [
    "import findspark\n",
    "import pyspark\n",
    "findspark.init()\n",
    "\n",
    "import pandas as pd"
   ]
  },
  {
   "cell_type": "code",
   "execution_count": 13,
   "id": "b68e54fe-379e-4bd4-8bfc-e1a4c4b5275b",
   "metadata": {},
   "outputs": [],
   "source": [
    "# Import pyspark library\n",
    "from pyspark.sql import SparkSession"
   ]
  },
  {
   "cell_type": "code",
   "execution_count": 14,
   "id": "01260292-e34d-4327-8f16-fa13749d703e",
   "metadata": {},
   "outputs": [],
   "source": [
    "# Create Session\n",
    "spark = SparkSession.builder.appName(\"AmazonReviewsDatathon\").getOrCreate()"
   ]
  },
  {
   "cell_type": "code",
   "execution_count": 15,
   "id": "00465029-44e4-4c36-900a-0e2102b0779d",
   "metadata": {},
   "outputs": [
    {
     "data": {
      "text/html": [
       "\n",
       "            <div>\n",
       "                <p><b>SparkSession - in-memory</b></p>\n",
       "                \n",
       "        <div>\n",
       "            <p><b>SparkContext</b></p>\n",
       "\n",
       "            <p><a href=\"http://881219df48a9:4042\">Spark UI</a></p>\n",
       "\n",
       "            <dl>\n",
       "              <dt>Version</dt>\n",
       "                <dd><code>v3.4.1</code></dd>\n",
       "              <dt>Master</dt>\n",
       "                <dd><code>local[*]</code></dd>\n",
       "              <dt>AppName</dt>\n",
       "                <dd><code>Gzip JSON files</code></dd>\n",
       "            </dl>\n",
       "        </div>\n",
       "        \n",
       "            </div>\n",
       "        "
      ],
      "text/plain": [
       "<pyspark.sql.session.SparkSession at 0x7f731442dcd0>"
      ]
     },
     "execution_count": 15,
     "metadata": {},
     "output_type": "execute_result"
    }
   ],
   "source": [
    "spark"
   ]
  },
  {
   "cell_type": "markdown",
   "id": "c0132eb5-5ac0-4474-9f22-d962522489a0",
   "metadata": {},
   "source": [
    "# Read Reviews"
   ]
  },
  {
   "cell_type": "code",
   "execution_count": 14,
   "id": "8374a535-d22c-4b38-bb8f-3afbc380936f",
   "metadata": {},
   "outputs": [
    {
     "name": "stdout",
     "output_type": "stream",
     "text": [
      "['amazon_reviews/source-files/amazon_reviews/partition_1/part-00000-tid-9136122565017344171-3f98196e-e0c5-4bb5-90cc-d523170ef713-86080-1-c000.json.gz', 'amazon_reviews/source-files/amazon_reviews/partition_10/part-00000-tid-698064602200227711-29b88890-b701-4ddb-82cf-535e4b44c9cf-89301-1-c000.json.gz', 'amazon_reviews/source-files/amazon_reviews/partition_10/part-00001-tid-698064602200227711-29b88890-b701-4ddb-82cf-535e4b44c9cf-89302-1-c000.json.gz', 'amazon_reviews/source-files/amazon_reviews/partition_100/part-00000-tid-6076830777214137320-043be143-2d8f-4c2a-a619-bb4ab95fa4bb-121464-1-c000.json.gz', 'amazon_reviews/source-files/amazon_reviews/partition_100/part-00011-tid-6076830777214137320-043be143-2d8f-4c2a-a619-bb4ab95fa4bb-121475-1-c000.json.gz', 'amazon_reviews/source-files/amazon_reviews/partition_1000/part-00000-tid-2842518632934034909-b829ca6e-8b72-4ff5-a17d-d11246715eb9-441983-1-c000.json.gz', 'amazon_reviews/source-files/amazon_reviews/partition_1000/part-00101-tid-2842518632934034909-b829ca6e-8b72-4ff5-a17d-d11246715eb9-442084-1-c000.json.gz', 'amazon_reviews/source-files/amazon_reviews/partition_1001/part-00000-tid-5445960799181374531-93ab0d64-6551-4cee-a97f-977a4d31b103-442339-1-c000.json.gz', 'amazon_reviews/source-files/amazon_reviews/partition_1001/part-00101-tid-5445960799181374531-93ab0d64-6551-4cee-a97f-977a4d31b103-442440-1-c000.json.gz', 'amazon_reviews/source-files/amazon_reviews/partition_1002/part-00000-tid-4519266637230119509-00ab53bf-2738-449b-95ab-0a8bd682b595-442695-1-c000.json.gz']\n"
     ]
    }
   ],
   "source": [
    "#Read all the json files paths under the folder dummy_data/amazon_reviews, glob finds files in a folder\n",
    "from glob2 import glob\n",
    "jsonFiles = glob('amazon_reviews/source-files/amazon_reviews/**/**/*.json.gz')\n",
    "print(jsonFiles[0:10])"
   ]
  },
  {
   "cell_type": "code",
   "execution_count": 74,
   "id": "065d53e7-2f24-4895-97f3-f42d9df2b3d4",
   "metadata": {},
   "outputs": [],
   "source": [
    "df_reviews = spark.read.option(\"multiline\",\"false\").option(\"compression\", \"gzip\").json(jsonFiles)"
   ]
  },
  {
   "cell_type": "code",
   "execution_count": 75,
   "id": "7276beaa-71fc-43e2-a751-c03ba40222a8",
   "metadata": {},
   "outputs": [
    {
     "name": "stdout",
     "output_type": "stream",
     "text": [
      "root\n",
      " |-- asin: string (nullable = true)\n",
      " |-- image: string (nullable = true)\n",
      " |-- overall: string (nullable = true)\n",
      " |-- reviewText: string (nullable = true)\n",
      " |-- reviewerID: string (nullable = true)\n",
      " |-- reviewerName: string (nullable = true)\n",
      " |-- style: string (nullable = true)\n",
      " |-- summary: string (nullable = true)\n",
      " |-- unixReviewTime: string (nullable = true)\n",
      " |-- verified: string (nullable = true)\n",
      " |-- vote: string (nullable = true)\n",
      "\n"
     ]
    }
   ],
   "source": [
    "# Print Schema\n",
    "df_reviews.printSchema()"
   ]
  },
  {
   "cell_type": "code",
   "execution_count": 76,
   "id": "06bb37cb-f1d4-4859-b567-5e5bc1cb17f5",
   "metadata": {},
   "outputs": [
    {
     "name": "stdout",
     "output_type": "stream",
     "text": [
      "+----------+-----+-------+--------------------+--------------+--------------------+--------------------+--------------------+--------------+--------+----+\n",
      "|      asin|image|overall|          reviewText|    reviewerID|        reviewerName|               style|             summary|unixReviewTime|verified|vote|\n",
      "+----------+-----+-------+--------------------+--------------+--------------------+--------------------+--------------------+--------------+--------+----+\n",
      "|B00JAXLPO8| null|    5.0|Helps tiny wife g...|A27V2CKMKXZWW2|            Hertzair|                null|Handy Step for th...|    1484006400|    true|null|\n",
      "|0373210027| null|    3.0|From the descript...|A2HG7GNP1GEZRY|          Teen Books|{\"Format:\":\" Hard...|Interesting Premi...|    1276732800|   false|null|\n",
      "|B00JAXLPO8| null|    5.0|Was easy to insta...| A15I8WQWFR87X|                 JBK|                null|Was easy to insta...|    1470528000|    true|null|\n",
      "|0373210027| null|    4.0|This book has it ...|A14ZYUOM6A8LY4|             Brianna|{\"Format:\":\" Pape...|Intertwined revie...|    1275091200|    true|null|\n",
      "|B00JAXN9WE| null|    5.0|Easy to install, ...| A2JOLUXY8OD2A|            A. Jones|                null|Fit my 2015 Chevy...|    1529625600|    true|null|\n",
      "|0373210027| null|    5.0|I thought the boo...|A2X8VKL4E5RUR6|      debbie wozniak|{\"Format:\":\" Hard...|         Intertwined|    1272240000|    true|   2|\n",
      "|B00JAXN9WE| null|    2.0|I wish they were ...|A1M5K22SJMGONG|           Brian/Map|                null|I like them, but....|    1488067200|    true|null|\n",
      "|0373210027| null|    3.0|I am so confused ...| AVEOVIRYPMCSN|            Bookworm|{\"Format:\":\" Hard...|  Way too much stuff|    1271289600|   false|null|\n",
      "|B00JAXN9WE| null|    5.0|They pop in no pr...|A3ONB9DSC2JA6H|             J. Lang|                null|        pretty happy|    1461024000|    true|null|\n",
      "|0373210027| null|    5.0|Originally posted...|A13QTZ8CIMHHG4|        LAS Reviewer|{\"Format:\":\" Hard...|One book you defi...|    1271030400|   false|   2|\n",
      "|B00JAXN9WE| null|    5.0|Easy to install &...|A3HPC153O1JBLG|       sebastopolian|                null|       great quality|    1441152000|    true|null|\n",
      "|0373210213| null|    5.0|WOW. An exciting ...|A3GO6636UZJ6FC|              Jadore|{\"Format:\":\" Pape...|     An amazing read|    1298073600|    true|null|\n",
      "|B00JAXQWA0| null|    2.0|Broke 1st time ou...|A1I53NUEFHJER5|               Terry|                null|fortunately, saw ...|    1478217600|    true|null|\n",
      "|0373210213| null|    4.0|Harlequin does th...|A3MQ15651KGVLJ|Richard The Buyin...|{\"Format:\":\" Pape...|           Cute Book|    1296864000|   false|null|\n",
      "|B00JAXQWA0| null|    5.0|Works very well o...| AHR7GSG76KXRW|           Ken Wells|                null|          Five Stars|    1405382400|    true|null|\n",
      "|0373210213| null|    3.0|\"The Oracle Rebou...|A1H88L8X6HM1BQ|               CJ-MO|{\"Format:\":\" Pape...|Okay sequel to Ha...|    1295222400|   false|null|\n",
      "|B00JAXU6MU| null|    5.0| A+++. Fast shipping|A2PR2WBI15LWWH|                Greg|  {\"Color:\":\" Blue\"}|          Five Stars|    1503273600|    true|null|\n",
      "|0373210213| null|    4.0|I'm an adult but ...| AX7QMRXX81L9K|           mskraus2u|{\"Format:\":\" Pape...|I enjoyed this te...|    1292889600|   false|null|\n",
      "|B00JAXU6MU| null|    5.0|             Bad azz|A3RNGVXHSPQKNL|              txnono|  {\"Color:\":\" Blue\"}|          Five Stars|    1414108800|    true|null|\n",
      "|0373210213| null|    3.0|Kayla is the Orac...|A2LDGL943QZXGK|       Rachael Stein|{\"Format:\":\" Pape...|  Cute but not great|    1292544000|   false|null|\n",
      "+----------+-----+-------+--------------------+--------------+--------------------+--------------------+--------------------+--------------+--------+----+\n",
      "only showing top 20 rows\n",
      "\n"
     ]
    }
   ],
   "source": [
    "df_reviews.show()"
   ]
  },
  {
   "cell_type": "code",
   "execution_count": 77,
   "id": "af7e32ef-46be-48b0-b107-26310f3bf481",
   "metadata": {},
   "outputs": [
    {
     "data": {
      "text/plain": [
       "279665000"
      ]
     },
     "execution_count": 77,
     "metadata": {},
     "output_type": "execute_result"
    }
   ],
   "source": [
    "df_reviews.count()"
   ]
  },
  {
   "cell_type": "markdown",
   "id": "217c428c-0a5b-4fb8-a01a-b98c6816731a",
   "metadata": {},
   "source": [
    "# Read Metadata"
   ]
  },
  {
   "cell_type": "code",
   "execution_count": 81,
   "id": "e21e912e-917c-492a-adf4-2e90fb3f6271",
   "metadata": {},
   "outputs": [],
   "source": [
    "jsonFiles_meta = glob('amazon_reviews/source-files/amazon_metadata/**/*.json.gz')"
   ]
  },
  {
   "cell_type": "code",
   "execution_count": 82,
   "id": "0ab5acd6-7ee4-4d71-801e-1095e447defb",
   "metadata": {},
   "outputs": [
    {
     "name": "stdout",
     "output_type": "stream",
     "text": [
      "['amazon_reviews/source-files/amazon_metadata/json_files/part-00000-tid-1001410877349735942-21bdbaae-698f-415f-9a21-69d6c2866481-1675-1-c000.json.gz', 'amazon_reviews/source-files/amazon_metadata/json_files/part-00000-tid-1002626896584644251-74e4b005-c695-4dd8-91a9-144ad6cb0984-1297-1-c000.json.gz', 'amazon_reviews/source-files/amazon_metadata/json_files/part-00000-tid-1010368383141697086-7d789d7d-88e0-480d-8f3d-c5787eeaa7e6-1985-1-c000.json.gz', 'amazon_reviews/source-files/amazon_metadata/json_files/part-00000-tid-1020888417771452694-2db2ed96-b04d-48b8-8295-4607819e25e5-257-1-c000.json.gz', 'amazon_reviews/source-files/amazon_metadata/json_files/part-00000-tid-1029877596195051816-05a06542-f16c-433b-acab-5a2cbb650eab-1439-1-c000.json.gz', 'amazon_reviews/source-files/amazon_metadata/json_files/part-00000-tid-1030056356538253047-31eaa030-92c7-40ff-b4ac-18b86cf2d5d6-2215-1-c000.json.gz', 'amazon_reviews/source-files/amazon_metadata/json_files/part-00000-tid-1037148639206443941-ff89f9a1-bacc-4326-b033-49cef618ea51-25-1-c000.json.gz', 'amazon_reviews/source-files/amazon_metadata/json_files/part-00000-tid-1038310469482823244-b0f4d6f7-d571-419c-a3cd-cf5a9139af96-2153-1-c000.json.gz', 'amazon_reviews/source-files/amazon_metadata/json_files/part-00000-tid-1043028679443248945-4ddda1b8-284e-4469-985a-69e5552e54c9-2293-1-c000.json.gz', 'amazon_reviews/source-files/amazon_metadata/json_files/part-00000-tid-104417607393888289-cb6d7d38-4237-438b-ad56-e9b08fa847fb-267-1-c000.json.gz']\n"
     ]
    }
   ],
   "source": [
    "print(jsonFiles_meta[0:10])"
   ]
  },
  {
   "cell_type": "code",
   "execution_count": 83,
   "id": "a24615cd-3d90-4f20-be16-b70bad94e1b0",
   "metadata": {},
   "outputs": [],
   "source": [
    "df_meta = spark.read.option(\"multiline\",\"false\").option(\"compression\", \"gzip\").json(jsonFiles_meta)"
   ]
  },
  {
   "cell_type": "code",
   "execution_count": 84,
   "id": "cd8be724-44f8-4988-99d5-c74a51e15053",
   "metadata": {},
   "outputs": [
    {
     "name": "stdout",
     "output_type": "stream",
     "text": [
      "root\n",
      " |-- also_buy: array (nullable = true)\n",
      " |    |-- element: string (containsNull = true)\n",
      " |-- also_view: array (nullable = true)\n",
      " |    |-- element: string (containsNull = true)\n",
      " |-- asin: string (nullable = true)\n",
      " |-- brand: string (nullable = true)\n",
      " |-- category: array (nullable = true)\n",
      " |    |-- element: string (containsNull = true)\n",
      " |-- date: string (nullable = true)\n",
      " |-- description: array (nullable = true)\n",
      " |    |-- element: string (containsNull = true)\n",
      " |-- details: struct (nullable = true)\n",
      " |    |-- \\n    Item Weight: \\n    : string (nullable = true)\n",
      " |    |-- \\n    Package Dimensions: \\n    : string (nullable = true)\n",
      " |    |-- \\n    Product Dimensions: \\n    : string (nullable = true)\n",
      " |    |--  Date first listed on Amazon:: string (nullable = true)\n",
      " |    |--  UNSPSC Code:: string (nullable = true)\n",
      " |    |-- 3.5\" and 5.25\" disks:: string (nullable = true)\n",
      " |    |-- 3.5\" disk:: string (nullable = true)\n",
      " |    |-- 5.25\" disk:: string (nullable = true)\n",
      " |    |-- ASIN:: string (nullable = true)\n",
      " |    |-- ASIN: : string (nullable = true)\n",
      " |    |-- Accessory:: string (nullable = true)\n",
      " |    |-- Age Range:: string (nullable = true)\n",
      " |    |-- Album:: string (nullable = true)\n",
      " |    |-- Apparel: string (nullable = true)\n",
      " |    |-- Audible.com Release Date:: string (nullable = true)\n",
      " |    |-- Audio CD: string (nullable = true)\n",
      " |    |-- Audio CD Library Binding:: string (nullable = true)\n",
      " |    |-- Audio CD:: string (nullable = true)\n",
      " |    |-- Audio Cassette: string (nullable = true)\n",
      " |    |-- Audio Cassette:: string (nullable = true)\n",
      " |    |-- Audio Description:: string (nullable = true)\n",
      " |    |-- Audio-Video: string (nullable = true)\n",
      " |    |-- Automotive:: string (nullable = true)\n",
      " |    |-- Baby Product:: string (nullable = true)\n",
      " |    |-- Bargain Book:: string (nullable = true)\n",
      " |    |-- Bath Book:: string (nullable = true)\n",
      " |    |-- Batteries: string (nullable = true)\n",
      " |    |-- Blu-ray: string (nullable = true)\n",
      " |    |-- Blu-ray Audio: string (nullable = true)\n",
      " |    |-- Board book:: string (nullable = true)\n",
      " |    |-- Bonded Leather:: string (nullable = true)\n",
      " |    |-- Bookmark:: string (nullable = true)\n",
      " |    |-- CD-R: string (nullable = true)\n",
      " |    |-- CD-ROM: string (nullable = true)\n",
      " |    |-- CD-ROM:: string (nullable = true)\n",
      " |    |-- Calendar: string (nullable = true)\n",
      " |    |-- Calendar:: string (nullable = true)\n",
      " |    |-- Card Book:: string (nullable = true)\n",
      " |    |-- Cards:: string (nullable = true)\n",
      " |    |-- Comic:: string (nullable = true)\n",
      " |    |-- DCC (Digital Compact Cassette):: string (nullable = true)\n",
      " |    |-- DVD: string (nullable = true)\n",
      " |    |-- DVD Audio: string (nullable = true)\n",
      " |    |-- DVD Audio:: string (nullable = true)\n",
      " |    |-- DVD-R:: string (nullable = true)\n",
      " |    |-- DVD-ROM:: string (nullable = true)\n",
      " |    |-- DVD:: string (nullable = true)\n",
      " |    |-- Diary:: string (nullable = true)\n",
      " |    |-- Digital Copy Expiration Date:: string (nullable = true)\n",
      " |    |-- Discontinued by manufacturer:: string (nullable = true)\n",
      " |    |-- Diskette:: string (nullable = true)\n",
      " |    |-- Domestic Shipping: : string (nullable = true)\n",
      " |    |-- Downloading:: string (nullable = true)\n",
      " |    |-- Dubbed:: string (nullable = true)\n",
      " |    |-- Electronics: string (nullable = true)\n",
      " |    |-- Electronics:: string (nullable = true)\n",
      " |    |-- File Size:: string (nullable = true)\n",
      " |    |-- Flexibound:: string (nullable = true)\n",
      " |    |-- Foam Book:: string (nullable = true)\n",
      " |    |-- Format:: string (nullable = true)\n",
      " |    |-- Game:: string (nullable = true)\n",
      " |    |-- Gift:: string (nullable = true)\n",
      " |    |-- Grade Level:: string (nullable = true)\n",
      " |    |-- Hardcover: string (nullable = true)\n",
      " |    |-- Hardcover Comic:: string (nullable = true)\n",
      " |    |-- Hardcover-spiral:: string (nullable = true)\n",
      " |    |-- Hardcover:: string (nullable = true)\n",
      " |    |-- Health and Beauty: string (nullable = true)\n",
      " |    |-- Health and Beauty:: string (nullable = true)\n",
      " |    |-- ISBN-10:: string (nullable = true)\n",
      " |    |-- ISBN-13:: string (nullable = true)\n",
      " |    |-- Imitation Leather:: string (nullable = true)\n",
      " |    |-- International Shipping: : string (nullable = true)\n",
      " |    |-- Item model number:: string (nullable = true)\n",
      " |    |-- JP Oversized:: string (nullable = true)\n",
      " |    |-- Journal:: string (nullable = true)\n",
      " |    |-- Kindle Edition:: string (nullable = true)\n",
      " |    |-- Kitchen:: string (nullable = true)\n",
      " |    |-- Label:: string (nullable = true)\n",
      " |    |-- Language:: string (nullable = true)\n",
      " |    |-- Lawn & Patio:: string (nullable = true)\n",
      " |    |-- Leather Bound:: string (nullable = true)\n",
      " |    |-- Lending:: string (nullable = true)\n",
      " |    |-- Lexile Measure:: string (nullable = true)\n",
      " |    |-- Library Binding:: string (nullable = true)\n",
      " |    |-- Listening Length:: string (nullable = true)\n",
      " |    |-- Loose Leaf:: string (nullable = true)\n",
      " |    |-- MP3 CD:: string (nullable = true)\n",
      " |    |-- MP3 Music: string (nullable = true)\n",
      " |    |-- Map:: string (nullable = true)\n",
      " |    |-- Mass Market Paperback:: string (nullable = true)\n",
      " |    |-- Microfilm:: string (nullable = true)\n",
      " |    |-- Misc. Supplies:: string (nullable = true)\n",
      " |    |-- Misc.:: string (nullable = true)\n",
      " |    |-- Mook:: string (nullable = true)\n",
      " |    |-- Note on Boxed Sets:: string (nullable = true)\n",
      " |    |-- Note:: string (nullable = true)\n",
      " |    |-- Number of Discs:: string (nullable = true)\n",
      " |    |-- Office Product:: string (nullable = true)\n",
      " |    |-- Online Code:: string (nullable = true)\n",
      " |    |-- Online Game Code:: string (nullable = true)\n",
      " |    |-- Online Map Code:: string (nullable = true)\n",
      " |    |-- Original Release Date:: string (nullable = true)\n",
      " |    |-- Page Numbers Source ISBN:: string (nullable = true)\n",
      " |    |-- Pamphlet:: string (nullable = true)\n",
      " |    |-- Paperback: string (nullable = true)\n",
      " |    |-- Paperback Bunko:: string (nullable = true)\n",
      " |    |-- Paperback Shinsho:: string (nullable = true)\n",
      " |    |-- Paperback:: string (nullable = true)\n",
      " |    |-- Perfect Paperback:: string (nullable = true)\n",
      " |    |-- Personal Computers:: string (nullable = true)\n",
      " |    |-- Plastic Comb:: string (nullable = true)\n",
      " |    |-- Please Note:: string (nullable = true)\n",
      " |    |-- Pocket Book:: string (nullable = true)\n",
      " |    |-- Poster:: string (nullable = true)\n",
      " |    |-- Print Length:: string (nullable = true)\n",
      " |    |-- Print Magazine:: string (nullable = true)\n",
      " |    |-- Print on Demand (Paperback):: string (nullable = true)\n",
      " |    |-- Printed Access Code:: string (nullable = true)\n",
      " |    |-- Program Type:: string (nullable = true)\n",
      " |    |-- Publication Date:: string (nullable = true)\n",
      " |    |-- Publisher:: string (nullable = true)\n",
      " |    |-- Rag Book:: string (nullable = true)\n",
      " |    |-- Release Date:: string (nullable = true)\n",
      " |    |-- Ring-bound:: string (nullable = true)\n",
      " |    |-- Run Time:: string (nullable = true)\n",
      " |    |-- SPARS Code:: string (nullable = true)\n",
      " |    |-- School & Library Binding:: string (nullable = true)\n",
      " |    |-- Series:: string (nullable = true)\n",
      " |    |-- Sheet music:: string (nullable = true)\n",
      " |    |-- Shipping Advisory:: string (nullable = true)\n",
      " |    |-- Shipping Weight:: string (nullable = true)\n",
      " |    |-- Shipping: : string (nullable = true)\n",
      " |    |-- Simultaneous Device Usage:: string (nullable = true)\n",
      " |    |-- Single Issue Magazine:: string (nullable = true)\n",
      " |    |-- Slide:: string (nullable = true)\n",
      " |    |-- Spiral-bound:: string (nullable = true)\n",
      " |    |-- Sports: string (nullable = true)\n",
      " |    |-- Sports:: string (nullable = true)\n",
      " |    |-- Staple Bound:: string (nullable = true)\n",
      " |    |-- Stationery:: string (nullable = true)\n",
      " |    |-- Subtitles for the Hearing Impaired:: string (nullable = true)\n",
      " |    |-- Subtitles:: string (nullable = true)\n",
      " |    |-- Tankobon Hardcover:: string (nullable = true)\n",
      " |    |-- Tankobon Softcover:: string (nullable = true)\n",
      " |    |-- Textbook Binding:: string (nullable = true)\n",
      " |    |-- Toy:: string (nullable = true)\n",
      " |    |-- Transparency:: string (nullable = true)\n",
      " |    |-- Turtleback:: string (nullable = true)\n",
      " |    |-- UPC:: string (nullable = true)\n",
      " |    |-- USB Memory Stick: string (nullable = true)\n",
      " |    |-- Unbound:: string (nullable = true)\n",
      " |    |-- Unknown Binding: string (nullable = true)\n",
      " |    |-- Unknown Binding:: string (nullable = true)\n",
      " |    |-- VHS Tape: string (nullable = true)\n",
      " |    |-- VHS Tape:: string (nullable = true)\n",
      " |    |-- Version:: string (nullable = true)\n",
      " |    |-- Video Game:: string (nullable = true)\n",
      " |    |-- Vinyl: string (nullable = true)\n",
      " |    |-- Vinyl Bound: string (nullable = true)\n",
      " |    |-- Vinyl Bound:: string (nullable = true)\n",
      " |    |-- Wall Chart:: string (nullable = true)\n",
      " |    |-- Watch: string (nullable = true)\n",
      " |    |-- Whispersync for Voice:: string (nullable = true)\n",
      " |    |-- Word Wise:: string (nullable = true)\n",
      " |    |-- Workbook:: string (nullable = true)\n",
      " |-- feature: array (nullable = true)\n",
      " |    |-- element: string (containsNull = true)\n",
      " |-- fit: string (nullable = true)\n",
      " |-- image: array (nullable = true)\n",
      " |    |-- element: string (containsNull = true)\n",
      " |-- main_cat: string (nullable = true)\n",
      " |-- price: string (nullable = true)\n",
      " |-- rank: string (nullable = true)\n",
      " |-- similar_item: string (nullable = true)\n",
      " |-- tech1: string (nullable = true)\n",
      " |-- tech2: string (nullable = true)\n",
      " |-- title: string (nullable = true)\n",
      "\n"
     ]
    }
   ],
   "source": [
    "df_meta.printSchema()"
   ]
  },
  {
   "cell_type": "code",
   "execution_count": 85,
   "id": "b53ac1ae-ecc1-44ad-8e2b-68897bd2d3c4",
   "metadata": {},
   "outputs": [
    {
     "name": "stdout",
     "output_type": "stream",
     "text": [
      "+--------------------+--------------------+----------+-------------+--------------------+----------------+--------------------+--------------------+--------------------+---+--------------------+--------------------+-------+--------------------+--------------------+--------------------+-----+--------------------+\n",
      "|            also_buy|           also_view|      asin|        brand|            category|            date|         description|             details|             feature|fit|               image|            main_cat|  price|                rank|        similar_item|               tech1|tech2|               title|\n",
      "+--------------------+--------------------+----------+-------------+--------------------+----------------+--------------------+--------------------+--------------------+---+--------------------+--------------------+-------+--------------------+--------------------+--------------------+-----+--------------------+\n",
      "|                  []|                  []|B01FVYVI00| NAUTICALMART|[Tools & Home Imp...|    May 19, 2016|[NAUTICALMART CHR...|{null, null, null...|[DECORATIVE FLOOR...|   |                  []|Tools & Home Impr...|$195.00|[\">#3,449,141 in ...| class=\"a-bordere...| class=\"a-keyvalu...|     |NAUTICALMART CHRO...|\n",
      "|[B00TV26C0U, B075...|                  []|B01FVZHGB4|      Daixers|[Tools & Home Imp...|                |[<b>Carrys up to ...|{null, null, null...|[Premium quality:...|   |[https://images-n...|         Amazon Home|  $6.99|[\">#750,363 in Ho...| class=\"a-bordere...|                    |     |Daixers Stainless...|\n",
      "|                  []|                  []|B01FVZQZVG|   Rocky Mars|[Tools & Home Imp...|    May 19, 2016|[<b>Overview</b><...|{null, null, null...|[Auto-Range digit...|   |[https://images-n...|Tools & Home Impr...| $18.99|[\">#2,323,519 in ...| class=\"a-bordere...| class=\"a-keyvalu...|     |Aimometer Digital...|\n",
      "|                  []|                  []|B01FVZHEPM|        DNVEN|[Tools & Home Imp...|                |[<b>IMPORTANT to ...|{null, null, null...|[This wall decal ...|   |[https://images-n...|         Amazon Home|  $7.99|[\">#2,125,215 in ...|                    |                    |     |DNVEN Flower Girl...|\n",
      "|                  []|                  []|B01FVZJGN0|  World Pride|[Tools & Home Imp...|    May 20, 2016|[Durable construc...|{null, null, null...|[Durable construc...|   |[https://images-n...|Tools & Home Impr...|       |[\">#1,440,754 in ...|                    | class=\"a-keyvalu...|     |World Pride Wall-...|\n",
      "|[B00VISRKJC, B007...|[B073XD2FBY, B06X...|B01FW00NI6|     Threetoo|[Tools & Home Imp...|    May 19, 2016|[1. 7 Color chang...|{null, null, null...|[Star Trek Battle...|   |[https://images-n...|Tools & Home Impr...| $15.99|[\">#175,639 in To...| class=\"a-bordere...| class=\"a-keyvalu...|     |LOTOS&reg; Star T...|\n",
      "|                  []|                  []|B01FVZKV98|        XFUNY|[Tools & Home Imp...|December 1, 2017|[<b>XFUNY WiFi Sm...|{null, null, null...|[WIFI & Intellige...|   |[https://images-n...|Tools & Home Impr...| $18.99|                  []|                    | class=\"a-keyvalu...|     |XFUNY Smart Socke...|\n",
      "|[B003HGH3YK, B00B...|[B01I0MUIMO, B01C...|B01FVZMR5Y|     Stalwart|[Tools & Home Imp...|    May 19, 2016|[, Take on any ho...|{null, null, null...|[CONVENIENT STORA...|   |[https://images-n...|Tools & Home Impr...|  $9.28|[\">#197,575 in To...| class=\"a-bordere...| class=\"a-keyvalu...|     |Ratcheting Screwd...|\n",
      "|                  []|[B015SR9I4I, B001...|B01FW16Z64|     Stalwart|[Tools & Home Imp...|    May 19, 2016|[, Take on any ho...|{null, null, null...|[CONVENIENT STORA...|   |[https://images-n...|Tools & Home Impr...| $11.24|[\">#713,959 in To...| class=\"a-bordere...| class=\"a-keyvalu...|     |23 Piece Titanium...|\n",
      "|                  []|                  []|B01FW14DDG|       Honbay|[Tools & Home Imp...|    May 19, 2016|[Product Descript...|{null, null, null...|[Set of 4 plastic...|   |[https://images-n...|Tools & Home Impr...|       |[\">#1,629,569 in ...|                    | class=\"a-keyvalu...|     |Honbay Drain Clea...|\n",
      "|                  []|                  []|B01FW1B4OC|America Hello|[Tools & Home Imp...|    May 19, 2016|[Specification:<b...|{null, null, null...|[100% brand new!!...|   |[https://images-n...|Tools & Home Impr...|       |[\">#2,984,344 in ...|                    | class=\"a-keyvalu...|     |America Hello Tub...|\n",
      "|                  []|                  []|B01FW13WBU|             |                  []|    May 19, 2016|                  []|{null, null, null...|                  []|   |[https://images-n...|Tools & Home Impr...|       |[\">#2,092,515 in ...|                    | class=\"a-keyvalu...|     |6-Pack of MANDOLE...|\n",
      "|[B002RSIUBE, B01G...|                  []|B01FW14UO8|        Graco|[Tools & Home Imp...|    May 19, 2016|[Magnum sprayers ...|{null, null, null...|[Kit is designed ...|   |                  []|Tools & Home Impr...|  $3.92|[\">#164,599 in To...| class=\"a-bordere...| class=\"a-keyvalu...|     |Graco 17J873 Lacq...|\n",
      "|[B07H1L1K62, B07D...|                  []|B01FW170CM|     Stalwart|[Tools & Home Imp...|    May 19, 2016|[This Stalwart 25...|{null, null, null...|[Small Size Tools...|   |[https://images-n...|Tools & Home Impr...| $11.93|[\">#134,597 in To...| class=\"a-bordere...| class=\"a-keyvalu...|     |Stalwart 75-HT402...|\n",
      "|[B01GHWBY5Y, B01E...|                  []|B01FW11Q4K|    Creazydog|[Tools & Home Imp...|    May 19, 2016|[UV WF-501B LED 3...|{null, null, null...|[Flashlight body ...|   |[https://images-n...|Tools & Home Impr...|  $5.90|[\">#149,233 in To...| class=\"a-bordere...| class=\"a-keyvalu...|     |Creazy&reg;UV WF-...|\n",
      "|        [B01FW1MQC6]|                  []|B01FW1MQAI|       Jeslon|[Tools & Home Imp...|                |[<br><b>Jeslon th...|{null, null, null...|[Small knives can...|   |[https://images-n...|   Sports & Outdoors|       |1,028,319 in Spor...| class=\"a-bordere...|                    |     |Jeslon Small Fold...|\n",
      "|[B00L9R6854, B071...|                  []|B01FW16ZY6|     Stalwart|[Tools & Home Imp...|    May 19, 2016|[This Stalwart 13...|{null, null, null...|[Perfect for UAV'...|   |[https://images-n...|Tools & Home Impr...| $11.88|[\">#102,545 in To...|                    | class=\"a-keyvalu...|     |Stalwart 75-HT401...|\n",
      "|                  []|                  []|B01FW1TDPO|     BIBITIME|[Tools & Home Imp...|                |[Size:30 x 30 cm ...|{null, null, null...|[Size1:30 x 30 cm...|   |[https://images-n...|         Amazon Home| $20.99|[\">#4,135,382 in ...|                    |                    |     |BIBITIME 50cm Lum...|\n",
      "|                  []|                  []|B01FW1BTBK|      Dongpai|[Tools & Home Imp...|October 14, 2016|                  []|{null, null, null...|                  []|   |[https://images-n...|Tools & Home Impr...|       |[\">#1,304,445 in ...|                    | class=\"a-keyvalu...|     |Dongpai 3000 Lume...|\n",
      "|[B01MTYSR3K, B01F...|[B07M7PMG68, B01M...|B01FW1MQC6|       Jeslon|[Tools & Home Imp...|                |                  []|{null, null, null...|[Small knives can...|   |[https://images-n...|   Sports & Outdoors|  $6.99|361,673 in Sports...| class=\"a-bordere...|                    |     |Jeslon Pocket Kni...|\n",
      "+--------------------+--------------------+----------+-------------+--------------------+----------------+--------------------+--------------------+--------------------+---+--------------------+--------------------+-------+--------------------+--------------------+--------------------+-----+--------------------+\n",
      "only showing top 20 rows\n",
      "\n"
     ]
    }
   ],
   "source": [
    "df_meta.show()"
   ]
  },
  {
   "cell_type": "code",
   "execution_count": 86,
   "id": "683868aa-1614-48ed-8d0e-2dca953d50e6",
   "metadata": {},
   "outputs": [
    {
     "data": {
      "text/plain": [
       "30046118"
      ]
     },
     "execution_count": 86,
     "metadata": {},
     "output_type": "execute_result"
    }
   ],
   "source": [
    "df_meta.count()"
   ]
  }
 ],
 "metadata": {
  "kernelspec": {
   "display_name": "Python 3 (ipykernel)",
   "language": "python",
   "name": "python3"
  },
  "language_info": {
   "codemirror_mode": {
    "name": "ipython",
    "version": 3
   },
   "file_extension": ".py",
   "mimetype": "text/x-python",
   "name": "python",
   "nbconvert_exporter": "python",
   "pygments_lexer": "ipython3",
   "version": "3.11.4"
  }
 },
 "nbformat": 4,
 "nbformat_minor": 5
}
