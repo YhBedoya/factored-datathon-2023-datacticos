{
 "cells": [
  {
   "cell_type": "markdown",
<<<<<<< Updated upstream
   "id": "8f8c091f-1b29-4827-af7c-b4e6ba04ffff",
=======
   "id": "0ca13869-d542-4af7-b85a-674106ff6390",
>>>>>>> Stashed changes
   "metadata": {},
   "source": [
    "# Generating useful Insights on Amazon Reviews"
   ]
  },
  {
   "cell_type": "markdown",
<<<<<<< Updated upstream
   "id": "3573c573-6b29-4d53-ab57-d158e1123c85",
=======
   "id": "c161f0e3-6a71-4f42-a91b-8841f69befb6",
>>>>>>> Stashed changes
   "metadata": {},
   "source": [
    "**Analytical Context:** This notebook shows the analysis prior to model building using a large dataset stored in batch about customer reviews on Amazon. We will find some useful features to address an outlook about what kind of brands and products are prone to get good or bad reviews, so to give an insight we are going to develop certain methods to determine in which cases some product is filling up expectations or not.\n",
    "\n",
    "**Business Problem:** Our main task with this exercise will be to answer the following questions. What has the most impact on customer satisfaction? Can we infer customer segment based on their review patterns?. According to our analysis and the available data: It's possible to build a recommendation system based on historical reviews about some product/brand? "
   ]
  },
  {
   "cell_type": "markdown",
<<<<<<< Updated upstream
   "id": "976d430a-2f35-415c-9136-f30318cbff5d",
=======
   "id": "1bcc1c03-a4ad-4e3f-8850-8034737c529f",
>>>>>>> Stashed changes
   "metadata": {},
   "source": [
    "## Import Libraries and Create Spark Session"
   ]
  },
  {
   "cell_type": "code",
   "execution_count": 1,
<<<<<<< Updated upstream
   "id": "a0d0ef89-052e-4b84-9015-2ce827346be2",
=======
   "id": "0ab003f4-c69c-429c-84fd-8aaf1ce18f1a",
>>>>>>> Stashed changes
   "metadata": {},
   "outputs": [
    {
     "name": "stdout",
     "output_type": "stream",
     "text": [
      "Collecting glob2 (from -r requirements.txt (line 1))\n",
      "  Downloading glob2-0.7.tar.gz (10 kB)\n",
      "  Preparing metadata (setup.py) ... \u001b[?25ldone\n",
      "\u001b[?25hCollecting azure-eventhub (from -r requirements.txt (line 2))\n",
      "  Obtaining dependency information for azure-eventhub from https://files.pythonhosted.org/packages/66/b2/89671d93ba3c5af4a776350378765582490c3748eef3aa3a4582c3e87488/azure_eventhub-5.11.3-py3-none-any.whl.metadata\n",
      "  Downloading azure_eventhub-5.11.3-py3-none-any.whl.metadata (65 kB)\n",
<<<<<<< Updated upstream
      "\u001b[2K     \u001b[90m━━━━━━━━━━━━━━━━━━━━━━━━━━━━━━━━━━━━━━━━\u001b[0m \u001b[32m65.3/65.3 kB\u001b[0m \u001b[31m4.5 MB/s\u001b[0m eta \u001b[36m0:00:00\u001b[0m\n",
=======
      "\u001b[2K     \u001b[90m━━━━━━━━━━━━━━━━━━━━━━━━━━━━━━━━━━━━━━━━\u001b[0m \u001b[32m65.3/65.3 kB\u001b[0m \u001b[31m3.1 MB/s\u001b[0m eta \u001b[36m0:00:00\u001b[0m\n",
>>>>>>> Stashed changes
      "\u001b[?25hCollecting findspark (from -r requirements.txt (line 3))\n",
      "  Downloading findspark-2.0.1-py2.py3-none-any.whl (4.4 kB)\n",
      "Collecting azure-core<2.0.0,>=1.14.0 (from azure-eventhub->-r requirements.txt (line 2))\n",
      "  Obtaining dependency information for azure-core<2.0.0,>=1.14.0 from https://files.pythonhosted.org/packages/c3/0a/32b17d776a6bf5ddaa9dbad0e88de9d28a55bec1d37b8d408cc7d2e5e28d/azure_core-1.28.0-py3-none-any.whl.metadata\n",
      "  Downloading azure_core-1.28.0-py3-none-any.whl.metadata (34 kB)\n",
      "Requirement already satisfied: typing-extensions>=4.0.1 in /opt/conda/lib/python3.11/site-packages (from azure-eventhub->-r requirements.txt (line 2)) (4.7.1)\n",
      "Requirement already satisfied: requests>=2.18.4 in /opt/conda/lib/python3.11/site-packages (from azure-core<2.0.0,>=1.14.0->azure-eventhub->-r requirements.txt (line 2)) (2.31.0)\n",
      "Requirement already satisfied: six>=1.11.0 in /opt/conda/lib/python3.11/site-packages (from azure-core<2.0.0,>=1.14.0->azure-eventhub->-r requirements.txt (line 2)) (1.16.0)\n",
      "Requirement already satisfied: charset-normalizer<4,>=2 in /opt/conda/lib/python3.11/site-packages (from requests>=2.18.4->azure-core<2.0.0,>=1.14.0->azure-eventhub->-r requirements.txt (line 2)) (3.2.0)\n",
      "Requirement already satisfied: idna<4,>=2.5 in /opt/conda/lib/python3.11/site-packages (from requests>=2.18.4->azure-core<2.0.0,>=1.14.0->azure-eventhub->-r requirements.txt (line 2)) (3.4)\n",
      "Requirement already satisfied: urllib3<3,>=1.21.1 in /opt/conda/lib/python3.11/site-packages (from requests>=2.18.4->azure-core<2.0.0,>=1.14.0->azure-eventhub->-r requirements.txt (line 2)) (2.0.4)\n",
      "Requirement already satisfied: certifi>=2017.4.17 in /opt/conda/lib/python3.11/site-packages (from requests>=2.18.4->azure-core<2.0.0,>=1.14.0->azure-eventhub->-r requirements.txt (line 2)) (2023.7.22)\n",
      "Downloading azure_eventhub-5.11.3-py3-none-any.whl (308 kB)\n",
<<<<<<< Updated upstream
      "\u001b[2K   \u001b[90m━━━━━━━━━━━━━━━━━━━━━━━━━━━━━━━━━━━━━━━━\u001b[0m \u001b[32m308.9/308.9 kB\u001b[0m \u001b[31m6.0 MB/s\u001b[0m eta \u001b[36m0:00:00\u001b[0ma \u001b[36m0:00:01\u001b[0m\n",
      "\u001b[?25hDownloading azure_core-1.28.0-py3-none-any.whl (185 kB)\n",
      "\u001b[2K   \u001b[90m━━━━━━━━━━━━━━━━━━━━━━━━━━━━━━━━━━━━━━━━\u001b[0m \u001b[32m185.4/185.4 kB\u001b[0m \u001b[31m6.8 MB/s\u001b[0m eta \u001b[36m0:00:00\u001b[0m\n",
      "\u001b[?25hBuilding wheels for collected packages: glob2\n",
      "  Building wheel for glob2 (setup.py) ... \u001b[?25ldone\n",
      "\u001b[?25h  Created wheel for glob2: filename=glob2-0.7-py2.py3-none-any.whl size=9299 sha256=fb976b8fab884255708d620fe6d40a5da2f826ec7e081b69bfecb94a3cafbd3e\n",
=======
      "\u001b[2K   \u001b[90m━━━━━━━━━━━━━━━━━━━━━━━━━━━━━━━━━━━━━━━━\u001b[0m \u001b[32m308.9/308.9 kB\u001b[0m \u001b[31m1.4 MB/s\u001b[0m eta \u001b[36m0:00:00\u001b[0m00:01\u001b[0m00:01\u001b[0m\n",
      "\u001b[?25hDownloading azure_core-1.28.0-py3-none-any.whl (185 kB)\n",
      "\u001b[2K   \u001b[90m━━━━━━━━━━━━━━━━━━━━━━━━━━━━━━━━━━━━━━━━\u001b[0m \u001b[32m185.4/185.4 kB\u001b[0m \u001b[31m5.4 MB/s\u001b[0m eta \u001b[36m0:00:00\u001b[0m\n",
      "\u001b[?25hBuilding wheels for collected packages: glob2\n",
      "  Building wheel for glob2 (setup.py) ... \u001b[?25ldone\n",
      "\u001b[?25h  Created wheel for glob2: filename=glob2-0.7-py2.py3-none-any.whl size=9299 sha256=5f194f2e133771f03e6ab9ff8b613e3921599d832ae1b307be00692b5e136686\n",
>>>>>>> Stashed changes
      "  Stored in directory: /home/jovyan/.cache/pip/wheels/96/41/06/9f8fddc6eb1d75bde63db7f491311a4ae26905212617e06eb2\n",
      "Successfully built glob2\n",
      "Installing collected packages: glob2, findspark, azure-core, azure-eventhub\n",
      "Successfully installed azure-core-1.28.0 azure-eventhub-5.11.3 findspark-2.0.1 glob2-0.7\n"
     ]
    }
   ],
   "source": [
    "!pip install -r requirements.txt"
   ]
  },
  {
   "cell_type": "code",
   "execution_count": 2,
<<<<<<< Updated upstream
   "id": "9cf42b6e-8f57-4d86-b868-0045fda16c7b",
=======
   "id": "f2ab5581-81bd-4ffe-b846-7c9e137421d8",
>>>>>>> Stashed changes
   "metadata": {},
   "outputs": [],
   "source": [
    "import findspark\n",
    "import pyspark\n",
    "\n",
    "from pyspark.sql import SparkSession\n",
    "from pyspark.sql.functions import *\n",
    "\n",
    "import pandas as pd"
   ]
  },
  {
   "cell_type": "code",
   "execution_count": 3,
<<<<<<< Updated upstream
   "id": "41ab402f-d659-46a4-8b6b-724de8fe3f88",
   "metadata": {},
   "outputs": [],
   "source": [
    "# Import pyspark.sql library\n",
    "from pyspark.sql import SparkSession\n",
    "from pyspark.sql.functions import *"
   ]
  },
  {
   "cell_type": "code",
   "execution_count": 4,
   "id": "f1af9972-ac64-435f-a743-3e39b3aa1edd",
=======
   "id": "0393aef0-2eed-4a9a-bb78-882724e261b2",
>>>>>>> Stashed changes
   "metadata": {},
   "outputs": [],
   "source": [
    "# Create Session\n",
    "findspark.init()\n",
    "\n",
    "spark = SparkSession.builder.appName(\"AmazonReviewsDatathon\").getOrCreate()"
   ]
  },
  {
   "cell_type": "code",
<<<<<<< Updated upstream
   "execution_count": 5,
   "id": "a0f8ad65-7018-462c-96c6-707e19fb06ff",
=======
   "execution_count": 4,
   "id": "3b37a532-dba2-483a-95ca-826cbee8f814",
>>>>>>> Stashed changes
   "metadata": {},
   "outputs": [
    {
     "data": {
      "text/html": [
       "\n",
       "            <div>\n",
       "                <p><b>SparkSession - in-memory</b></p>\n",
       "                \n",
       "        <div>\n",
       "            <p><b>SparkContext</b></p>\n",
       "\n",
<<<<<<< Updated upstream
       "            <p><a href=\"http://87b09c15b88d:4040\">Spark UI</a></p>\n",
=======
       "            <p><a href=\"http://d2f0c56165a8:4040\">Spark UI</a></p>\n",
>>>>>>> Stashed changes
       "\n",
       "            <dl>\n",
       "              <dt>Version</dt>\n",
       "                <dd><code>v3.4.1</code></dd>\n",
       "              <dt>Master</dt>\n",
       "                <dd><code>local[*]</code></dd>\n",
       "              <dt>AppName</dt>\n",
       "                <dd><code>AmazonReviewsDatathon</code></dd>\n",
       "            </dl>\n",
       "        </div>\n",
       "        \n",
       "            </div>\n",
       "        "
      ],
      "text/plain": [
<<<<<<< Updated upstream
       "<pyspark.sql.session.SparkSession at 0x7f6eb73b63d0>"
      ]
     },
     "execution_count": 5,
=======
       "<pyspark.sql.session.SparkSession at 0x7f4f00fb8a90>"
      ]
     },
     "execution_count": 4,
>>>>>>> Stashed changes
     "metadata": {},
     "output_type": "execute_result"
    }
   ],
   "source": [
    "spark"
   ]
  },
  {
   "cell_type": "markdown",
<<<<<<< Updated upstream
   "id": "a476ebef-22bb-4637-9d3f-0cfba0c0fcf4",
=======
   "id": "a43ae79a-91cf-4657-b2a2-3aad7405be2a",
>>>>>>> Stashed changes
   "metadata": {},
   "source": [
    "## Loading Amazon Reviews and Metadata"
   ]
  },
  {
   "cell_type": "markdown",
<<<<<<< Updated upstream
   "id": "c045b591-dab6-41fa-8fcd-b754486c62db",
=======
   "id": "009894db-9be5-4251-aa38-28c6d8008f29",
>>>>>>> Stashed changes
   "metadata": {},
   "source": [
    "#### *General Note*: \n",
    "*We get the Batch Data stored in Azure Data Lake Storage (ADLS), download and store every json gzip file in a local path. Then, we use a docker image https://hub.docker.com/r/jupyter/pyspark-notebook* *to read all data using spark within a container. Datacticos Team decided to choose this additional step in order to reduce costs in this initial phase*"
   ]
  },
  {
   "cell_type": "code",
<<<<<<< Updated upstream
   "execution_count": 7,
   "id": "e0a5efa1-bae3-4bde-ab49-0a14a368f557",
=======
   "execution_count": 5,
   "id": "a8af9960-b200-42c6-b03b-f58b30e3ee82",
>>>>>>> Stashed changes
   "metadata": {},
   "outputs": [],
   "source": [
    "from glob2 import glob\n",
    "#Read all the json files from both sources of data\n",
    "jsonFiles_reviews = glob('amazon_reviews/source-files/amazon_reviews/**/**/*.json.gz')\n",
    "jsonFiles_meta = glob('amazon_reviews/source-files/amazon_metadata/**/*.json.gz')"
   ]
  },
  {
   "cell_type": "code",
<<<<<<< Updated upstream
   "execution_count": 8,
   "id": "70fa015b-252f-4195-b7b7-49c13cfccbfd",
=======
   "execution_count": 6,
   "id": "68d7265a-f8a0-4b10-b65c-eaec67b65e11",
>>>>>>> Stashed changes
   "metadata": {},
   "outputs": [
    {
     "name": "stdout",
     "output_type": "stream",
     "text": [
      "jsonFiles_reviews: \n",
      "['amazon_reviews/source-files/amazon_reviews/partition_1/part-00000-tid-9136122565017344171-3f98196e-e0c5-4bb5-90cc-d523170ef713-86080-1-c000.json.gz', 'amazon_reviews/source-files/amazon_reviews/partition_10/part-00000-tid-698064602200227711-29b88890-b701-4ddb-82cf-535e4b44c9cf-89301-1-c000.json.gz', 'amazon_reviews/source-files/amazon_reviews/partition_10/part-00001-tid-698064602200227711-29b88890-b701-4ddb-82cf-535e4b44c9cf-89302-1-c000.json.gz', 'amazon_reviews/source-files/amazon_reviews/partition_100/part-00000-tid-6076830777214137320-043be143-2d8f-4c2a-a619-bb4ab95fa4bb-121464-1-c000.json.gz', 'amazon_reviews/source-files/amazon_reviews/partition_100/part-00011-tid-6076830777214137320-043be143-2d8f-4c2a-a619-bb4ab95fa4bb-121475-1-c000.json.gz']\n",
      "---------------\n",
      "jsonFiles_meta: \n",
      "['amazon_reviews/source-files/amazon_metadata/json_files/part-00000-tid-1001410877349735942-21bdbaae-698f-415f-9a21-69d6c2866481-1675-1-c000.json.gz', 'amazon_reviews/source-files/amazon_metadata/json_files/part-00000-tid-1002626896584644251-74e4b005-c695-4dd8-91a9-144ad6cb0984-1297-1-c000.json.gz', 'amazon_reviews/source-files/amazon_metadata/json_files/part-00000-tid-1010368383141697086-7d789d7d-88e0-480d-8f3d-c5787eeaa7e6-1985-1-c000.json.gz', 'amazon_reviews/source-files/amazon_metadata/json_files/part-00000-tid-1020888417771452694-2db2ed96-b04d-48b8-8295-4607819e25e5-257-1-c000.json.gz', 'amazon_reviews/source-files/amazon_metadata/json_files/part-00000-tid-1029877596195051816-05a06542-f16c-433b-acab-5a2cbb650eab-1439-1-c000.json.gz']\n"
     ]
    }
   ],
   "source": [
    "#Check the lists of partitioned json files \n",
    "print(\"jsonFiles_reviews: \")\n",
    "print(jsonFiles_reviews[0:5])\n",
    "print(\"---------------\")\n",
    "print(\"jsonFiles_meta: \")\n",
    "print(jsonFiles_meta[0:5])"
   ]
  },
  {
   "cell_type": "code",
<<<<<<< Updated upstream
   "execution_count": 14,
   "id": "f194364f-7301-42f7-a325-47df2a94acff",
=======
   "execution_count": 7,
   "id": "2e69321f-7db4-4650-894b-9d53e75a4f64",
>>>>>>> Stashed changes
   "metadata": {},
   "outputs": [],
   "source": [
    "#Load the data from Amazon reviews using spark\n",
    "df_reviews = spark.read.option(\"multiline\",\"false\").option(\"compression\", \"gzip\").json(jsonFiles_reviews)"
   ]
  },
  {
   "cell_type": "code",
<<<<<<< Updated upstream
   "execution_count": 15,
   "id": "bb251c27-0cf1-417c-9254-769359c35146",
=======
   "execution_count": 8,
   "id": "5e5852f7-239a-4cff-bf2f-b1cf65e04724",
>>>>>>> Stashed changes
   "metadata": {},
   "outputs": [],
   "source": [
    "#Load the metadata using spark\n",
    "df_meta = spark.read.option(\"multiline\",\"false\").option(\"compression\", \"gzip\").json(jsonFiles_meta)"
   ]
  },
  {
   "cell_type": "markdown",
<<<<<<< Updated upstream
   "id": "83d98a3f-b957-4c65-a978-6c324051c4fc",
=======
   "id": "58e3f247-740b-41af-97b4-8dc72e8a238a",
>>>>>>> Stashed changes
   "metadata": {},
   "source": [
    "## Examining the Data "
   ]
  },
  {
   "cell_type": "markdown",
<<<<<<< Updated upstream
   "id": "cb66a201-7815-4e4a-9b46-521003bfce63",
   "metadata": {},
   "source": [
    "### Amazon Reviews"
=======
   "id": "5483410e-4360-4dce-bb81-aebbf3a6eb89",
   "metadata": {},
   "source": [
    "In the following steps, we are going to get closer to the data, this will help us to understand what we can use, see some properties and discard some aspects that we might consider not necessary to fulfill our main business target."
   ]
  },
  {
   "cell_type": "markdown",
   "id": "2eff7972-6d11-4f76-83d5-d6843b376843",
   "metadata": {},
   "source": [
    "### Amazon Reviews"
   ]
  },
  {
   "cell_type": "markdown",
   "id": "f3a39c49-e37a-4709-b3e3-56ce273f9a42",
   "metadata": {},
   "source": [
    "#### **Get Familiar with the Data**"
>>>>>>> Stashed changes
   ]
  },
  {
   "cell_type": "code",
<<<<<<< Updated upstream
   "execution_count": 16,
   "id": "1173c16d-1ea3-4c54-802d-3d78e3d49f70",
=======
   "execution_count": 9,
   "id": "ff40f85c-8c4f-458f-8bcb-b01901a52749",
>>>>>>> Stashed changes
   "metadata": {},
   "outputs": [
    {
     "name": "stdout",
     "output_type": "stream",
     "text": [
      "root\n",
      " |-- asin: string (nullable = true)\n",
      " |-- image: string (nullable = true)\n",
      " |-- overall: string (nullable = true)\n",
      " |-- reviewText: string (nullable = true)\n",
      " |-- reviewerID: string (nullable = true)\n",
      " |-- reviewerName: string (nullable = true)\n",
      " |-- style: string (nullable = true)\n",
      " |-- summary: string (nullable = true)\n",
      " |-- unixReviewTime: string (nullable = true)\n",
      " |-- verified: string (nullable = true)\n",
      " |-- vote: string (nullable = true)\n",
      "\n"
     ]
    }
   ],
   "source": [
    "# Print df_reviews Schema to see what attributes we have and what data type they belong\n",
    "df_reviews.printSchema()"
   ]
  },
  {
   "cell_type": "code",
<<<<<<< Updated upstream
   "execution_count": 49,
   "id": "ddcc7293-eff4-49f8-aac2-0789eea041fc",
=======
   "execution_count": 10,
   "id": "e308ef73-6f8e-4ab1-bb7e-7c317b93287f",
>>>>>>> Stashed changes
   "metadata": {},
   "outputs": [
    {
     "name": "stdout",
     "output_type": "stream",
     "text": [
      "+----------+-----+-------+--------------------+--------------+---------------+--------------------+--------------------+--------------+--------+----+\n",
      "|      asin|image|overall|          reviewText|    reviewerID|   reviewerName|               style|             summary|unixReviewTime|verified|vote|\n",
      "+----------+-----+-------+--------------------+--------------+---------------+--------------------+--------------------+--------------+--------+----+\n",
      "|B00005QDPX| null|    5.0|Crazy Taxi is by ...|A36TDX8DY2XK5Q|       Some Kid|                null|It's Party Time! ...|    1054252800|   false|null|\n",
      "|B000MXIMKK| null|    4.0|I love these pant...| AZZ1YPRM2FAUH| David Colgrove|{\"Size:\":\" 33W x ...|Durable, good loo...|    1459900800|    true|   6|\n",
      "|B00005QDPX| null|    2.0|Anyone who hasn't...|A3PASG15BRR40D|       SleepyJD|                null|A fun game that g...|    1049414400|   false|null|\n",
      "|B000MXIMKK| null|    5.0|Great pants and n...|A388UHKJN07JJT|            TJK|{\"Size:\":\" 42W x ...|       Great Product|    1459900800|    true|null|\n",
      "|B00005QDPX| null|    4.0|In this game you ...|A29YLR71A42A3N|Amazon Customer|                null|Fun and Entertaining|    1040860800|   false|   3|\n",
      "+----------+-----+-------+--------------------+--------------+---------------+--------------------+--------------------+--------------+--------+----+\n",
      "only showing top 5 rows\n",
      "\n"
     ]
    }
   ],
   "source": [
    "# Check raw data\n",
    "df_reviews.show(5)"
   ]
  },
  {
   "cell_type": "code",
<<<<<<< Updated upstream
   "execution_count": 18,
   "id": "1f19ca0e-d7f8-4aed-b872-aa9e558ea349",
=======
   "execution_count": 10,
   "id": "e863504e-a76e-4126-8ace-30e2cc0253d7",
>>>>>>> Stashed changes
   "metadata": {},
   "outputs": [
    {
     "data": {
      "text/plain": [
       "13367987"
      ]
     },
<<<<<<< Updated upstream
     "execution_count": 18,
=======
     "execution_count": 10,
>>>>>>> Stashed changes
     "metadata": {},
     "output_type": "execute_result"
    }
   ],
   "source": [
    "# Count records number \n",
    "df_reviews.count()"
   ]
  },
  {
   "cell_type": "markdown",
<<<<<<< Updated upstream
   "id": "b4f7c407-c2bf-4f86-a3ab-7b4644c5388c",
=======
   "id": "3025a0af-a902-4d24-a11a-3fa77b3e1a64",
>>>>>>> Stashed changes
   "metadata": {},
   "source": [
    "We notice that `df_reviews` is a huge dataset with over 270MM records. We note that some features are categorical so we consider important to make a brief exploration to get the distribution of them (*overall* and *verified*). After that, we consider to drop some columns in order to shorten the shape of data and make our analysis more efficient. "
   ]
  },
  {
   "cell_type": "code",
<<<<<<< Updated upstream
   "execution_count": 19,
   "id": "f43764f8-528c-423c-bb4d-bec69243392f",
=======
   "execution_count": 11,
   "id": "abf1a7d5-4e52-4640-8065-567f11bb083a",
>>>>>>> Stashed changes
   "metadata": {},
   "outputs": [],
   "source": [
    "# Register df as Temp table\n",
    "temp_view_name = \"tempvw_reviews\"\n",
    "df_reviews.createOrReplaceTempView(temp_view_name)"
   ]
  },
  {
   "cell_type": "code",
<<<<<<< Updated upstream
   "execution_count": 50,
   "id": "2c1d5945-01a3-40cf-b4b8-4ed1bef512ce",
   "metadata": {},
   "outputs": [],
   "source": [
    "df_filtrado_reviews = df_reviews.filter(df_reviews['asin'] == 'B00005QDPX')"
   ]
  },
  {
   "cell_type": "code",
   "execution_count": 48,
   "id": "8f45a9f7-d953-4c3e-893f-ae1777d8f540",
=======
   "execution_count": 12,
   "id": "e870a626-7a55-40fa-822c-3974c29e9f4e",
>>>>>>> Stashed changes
   "metadata": {},
   "outputs": [
    {
     "name": "stdout",
     "output_type": "stream",
     "text": [
<<<<<<< Updated upstream
      "+----------+-----+-------+--------------------+--------------+--------------------+-----+--------------------+--------------+--------+----+\n",
      "|      asin|image|overall|          reviewText|    reviewerID|        reviewerName|style|             summary|unixReviewTime|verified|vote|\n",
      "+----------+-----+-------+--------------------+--------------+--------------------+-----+--------------------+--------------+--------+----+\n",
      "|B00005QDPX| null|    5.0|Crazy Taxi is by ...|A36TDX8DY2XK5Q|            Some Kid| null|It's Party Time! ...|    1054252800|   false|null|\n",
      "|B00005QDPX| null|    5.0|I don't own this ...|A26EI47LL1R3ZZ|    Elizabeth Harbor| null|    This game ROCKS!|    1013212800|   false|   2|\n",
      "|B00005QDPX| null|    5.0|The game is chall...|A2T5OC3IBDRV1H|                Nick| null|Fun but slightly ...|    1009929600|   false|null|\n",
      "|B00005QDPX| null|    5.0|This is one of th...| AEIRG3VEMYO52|      Heidi Garofalo| null|Laughs and Endorp...|    1009324800|   false|   2|\n",
      "|B00005QDPX| null|    5.0|If you didn't try...|A2JVEF7CBDZX49|An 11-year old gamer| null|          taxi crazy|    1009324800|   false|null|\n",
      "|B00005QDPX| null|    5.0|I really enjoy th...|A1OCBOMMEMQ49J|            ssneed01| null|            Awesome!|    1008288000|   false|null|\n",
      "|B00005QDPX| null|    5.0|This is one hell ...|A1ZJ80VOY37SEV|    GameCubeGamer999| null|Lets have some Cr...|    1007769600|   false|null|\n",
      "|B00005QDPX| null|    5.0|ZOOM! \"Hey, wanna...|A2HTKKKZ4MXCOJ|     Amazon Customer| null|Crazy gameplay on...|    1007596800|   false|null|\n",
      "|B00005QDPX| null|    5.0|I love this game!...|A29EZR22406PRO|                Josh| null|         Great Game!|    1006646400|   false|   2|\n",
      "|B00005QDPX| null|    5.0|yes it is true. T...|A1KUB9UTPU9ID0|               eddie| null|        its all good|    1005436800|   false|   4|\n",
      "+----------+-----+-------+--------------------+--------------+--------------------+-----+--------------------+--------------+--------+----+\n",
=======
      "+-------+---------+\n",
      "|overall|    count|\n",
      "+-------+---------+\n",
      "|    5.0|179369728|\n",
      "|    4.0| 46643396|\n",
      "|    3.0| 21573678|\n",
      "|    2.0| 12577806|\n",
      "|    1.0| 19500378|\n",
      "|    0.0|       14|\n",
      "+-------+---------+\n",
>>>>>>> Stashed changes
      "\n"
     ]
    }
   ],
   "source": [
<<<<<<< Updated upstream
    "df_filtrado_reviews.filter(df_filtrado_reviews['overall'] == '5.0').show()"
   ]
  },
  {
   "cell_type": "code",
   "execution_count": 44,
   "id": "d5487c56-cefc-4d3c-95f6-2f43f639260c",
=======
    "# Check the total rating levels ordered \n",
    "spark.sql(\"\"\"\n",
    "SELECT overall, COUNT(*) as count \n",
    "FROM tempvw_reviews \n",
    "GROUP BY overall \n",
    "ORDER BY overall DESC\n",
    "\"\"\").show()"
   ]
  },
  {
   "cell_type": "markdown",
   "id": "42689a3a-6f89-4d3d-8003-09addf532f61",
>>>>>>> Stashed changes
   "metadata": {},
   "source": [
<<<<<<< Updated upstream
    "num_filas_filtradas = df_filtrado_reviews.count()"
=======
    "We note that more than half of the reviews are good, so for our analysis we get that most of the products are well reviewed."
>>>>>>> Stashed changes
   ]
  },
  {
   "cell_type": "code",
<<<<<<< Updated upstream
   "execution_count": 42,
   "id": "ada9add2-6f61-4025-9b4a-e8b50c53778d",
   "metadata": {},
   "outputs": [
    {
     "data": {
      "text/plain": [
       "28"
      ]
     },
     "execution_count": 42,
     "metadata": {},
     "output_type": "execute_result"
    }
   ],
   "source": [
    "num_filas_filtradas"
   ]
  },
  {
   "cell_type": "code",
   "execution_count": 20,
   "id": "cb8e6e73-6df0-4d30-b511-2ceee7489f51",
   "metadata": {},
   "outputs": [
    {
     "name": "stdout",
     "output_type": "stream",
     "text": [
      "+-------+-------+\n",
      "|overall|  count|\n",
      "+-------+-------+\n",
      "|    5.0|8641176|\n",
      "|    4.0|2208138|\n",
      "|    3.0|1020280|\n",
      "|    2.0| 592040|\n",
      "|    1.0| 906352|\n",
      "|    0.0|      1|\n",
      "+-------+-------+\n",
      "\n"
     ]
    }
   ],
   "source": [
    "# Check the total rating levels ordered \n",
    "spark.sql(\"\"\"\n",
    "SELECT overall, COUNT(*) as count \n",
    "FROM tempvw_reviews \n",
    "GROUP BY overall \n",
    "ORDER BY overall DESC\n",
    "\"\"\").show()"
=======
   "execution_count": 13,
   "id": "c2def9ce-6305-482c-95c3-5d29828cfe22",
   "metadata": {},
   "outputs": [],
   "source": [
    "# Check how many reviewers the dataset has\n",
    "result_query_total_reviewers = spark.sql(\"\"\"\n",
    "SELECT COUNT(DISTINCT reviewerID) as total_reviewers\n",
    "FROM tempvw_reviews \n",
    "\"\"\")"
>>>>>>> Stashed changes
   ]
  },
  {
   "cell_type": "code",
<<<<<<< Updated upstream
   "execution_count": 21,
   "id": "eb13f673-31e2-437d-9899-f3e0052ca0b3",
   "metadata": {},
   "outputs": [],
   "source": [
    "# Check how many reviewers the dataset has\n",
    "result_query_total_reviewers = spark.sql(\"\"\"\n",
    "SELECT COUNT(DISTINCT reviewerID) as total_reviewers\n",
    "FROM tempvw_reviews \n",
    "\"\"\")"
   ]
  },
  {
   "cell_type": "code",
   "execution_count": 173,
   "id": "eceb51d5-2c1e-4164-8fd2-7544e08bdae3",
=======
   "execution_count": 14,
   "id": "95f436ae-e765-4ec1-8d05-71234b110e2d",
>>>>>>> Stashed changes
   "metadata": {},
   "outputs": [
    {
     "name": "stdout",
     "output_type": "stream",
     "text": [
      "+---------------+\n",
      "|total_reviewers|\n",
      "+---------------+\n",
      "|       34105431|\n",
      "+---------------+\n",
      "\n"
     ]
    }
   ],
   "source": [
    "result_query_total_reviewers.show()"
   ]
  },
  {
   "cell_type": "code",
<<<<<<< Updated upstream
   "execution_count": 181,
   "id": "02590c1d-ed94-44cb-adcf-8f1097be872e",
   "metadata": {
    "scrolled": true
   },
=======
   "execution_count": 15,
   "id": "74e4c338-75aa-4574-b6e0-85e5bdd185a8",
   "metadata": {},
>>>>>>> Stashed changes
   "outputs": [
    {
     "name": "stdout",
     "output_type": "stream",
     "text": [
      "+---------------+--------+\n",
      "|total_reviewers|verified|\n",
      "+---------------+--------+\n",
      "|       10954035|   false|\n",
      "|       28705780|    true|\n",
      "+---------------+--------+\n",
      "\n"
     ]
    }
   ],
   "source": [
    "# Check how many verified and not verified reviewers the dataset has\n",
    "spark.sql(\"\"\"\n",
    "SELECT COUNT(DISTINCT reviewerID) as total_reviewers, verified\n",
    "FROM tempvw_reviews \n",
    "GROUP BY verified\n",
    "\"\"\").show()"
   ]
  },
  {
   "cell_type": "markdown",
   "id": "20cf4fe4-e8a6-40ec-ba7e-863717e2ebb3",
   "metadata": {},
   "source": [
    "We see that most of the reviewers are true, so we focus our analysis only with verified due to the fact that they represent effective orders and an opinion more sensible. (e.g. customer used the product)"
   ]
  },
  {
   "cell_type": "markdown",
   "id": "d47be346-8e56-43ab-9ce2-9488d455faf4",
   "metadata": {},
   "source": [
    "#### **Data Cleaning**"
   ]
  },
  {
   "cell_type": "markdown",
   "id": "b8f5d27f-8196-416f-8aff-3fbf03c9e0af",
   "metadata": {},
   "source": [
    "#### Selecting, Filtering and Casting"
   ]
  },
  {
   "cell_type": "code",
   "execution_count": 16,
   "id": "548b4a45-986e-49e2-9235-63ca071e6480",
   "metadata": {},
   "outputs": [],
   "source": [
    "# Get only verified reviews\n",
    "new_df_reviews_filtered = df_reviews.filter(df_reviews[\"verified\"] == \"true\")"
   ]
  },
  {
   "cell_type": "code",
   "execution_count": 17,
   "id": "301bcfd7-6764-46be-a772-1b5f38709a49",
   "metadata": {},
   "outputs": [],
   "source": [
    "# Get the reviewTime converting from unixtime to datetime \n",
    "new_df_reviews = new_df_reviews_filtered.withColumn(\"reviewTime\", from_unixtime(\"unixReviewTime\", \"yyyy-MM-dd\"))"
   ]
  },
  {
   "cell_type": "code",
   "execution_count": 20,
   "id": "ab9f44d6-68c8-4a8e-9fb1-6862be6d9744",
   "metadata": {},
   "outputs": [
    {
     "name": "stdout",
     "output_type": "stream",
     "text": [
      "+----------+-----+-------+--------------------+--------------+--------------+--------------------+--------------------+--------------+--------+----+----------+\n",
      "|      asin|image|overall|          reviewText|    reviewerID|  reviewerName|               style|             summary|unixReviewTime|verified|vote|reviewTime|\n",
      "+----------+-----+-------+--------------------+--------------+--------------+--------------------+--------------------+--------------+--------+----+----------+\n",
      "|B000MXIMKK| null|    4.0|I love these pant...| AZZ1YPRM2FAUH|David Colgrove|{\"Size:\":\" 33W x ...|Durable, good loo...|    1459900800|    true|   6|2016-04-06|\n",
      "|B000MXIMKK| null|    5.0|Great pants and n...|A388UHKJN07JJT|           TJK|{\"Size:\":\" 42W x ...|       Great Product|    1459900800|    true|null|2016-04-06|\n",
      "|B000MXIMKK| null|    4.0|These are pretty ...|A1361PH7D34W8R|          Kyle|{\"Size:\":\" 36W x ...|  Good Overall Value|    1459900800|    true|null|2016-04-06|\n",
      "|B000MXIMKK| null|    1.0|I purchased two p...| ALBKZQ7DWPMC6|       cecray3|{\"Size:\":\" 36W x ...|but I'm definitel...|    1459900800|    true|null|2016-04-06|\n",
      "|B000MXIMKK| null|    4.0|       great product|A3GBAA7OEESH78|    David Rose|{\"Size:\":\" 40W x ...|          Four Stars|    1459814400|    true|null|2016-04-05|\n",
      "+----------+-----+-------+--------------------+--------------+--------------+--------------------+--------------------+--------------+--------+----+----------+\n",
      "only showing top 5 rows\n",
      "\n"
     ]
    }
   ],
   "source": [
    "new_df_reviews.show(5)"
   ]
  },
  {
   "cell_type": "code",
   "execution_count": 18,
   "id": "1355e580-8a95-49c1-80fa-26157b9d86ef",
   "metadata": {},
   "outputs": [],
   "source": [
    "# Drop the attributes that we consider least relevant\n",
    "new_df_reviews_2 = new_df_reviews.drop(\"image\", \"style\", \"unixReviewTime\", \"reviewerName\", \"verified\")"
   ]
  },
  {
   "cell_type": "code",
   "execution_count": 22,
   "id": "cfd1e1c0-feea-4a95-929e-b4713dfec8f5",
   "metadata": {},
   "outputs": [
    {
     "name": "stdout",
     "output_type": "stream",
     "text": [
      "+----------+-------+--------------------+--------------+--------------------+----+----------+\n",
      "|      asin|overall|          reviewText|    reviewerID|             summary|vote|reviewTime|\n",
      "+----------+-------+--------------------+--------------+--------------------+----+----------+\n",
      "|B000MXIMKK|    4.0|I love these pant...| AZZ1YPRM2FAUH|Durable, good loo...|   6|2016-04-06|\n",
      "|B000MXIMKK|    5.0|Great pants and n...|A388UHKJN07JJT|       Great Product|null|2016-04-06|\n",
      "|B000MXIMKK|    4.0|These are pretty ...|A1361PH7D34W8R|  Good Overall Value|null|2016-04-06|\n",
      "|B000MXIMKK|    1.0|I purchased two p...| ALBKZQ7DWPMC6|but I'm definitel...|null|2016-04-06|\n",
      "|B000MXIMKK|    4.0|       great product|A3GBAA7OEESH78|          Four Stars|null|2016-04-05|\n",
      "+----------+-------+--------------------+--------------+--------------------+----+----------+\n",
      "only showing top 5 rows\n",
      "\n"
     ]
    }
   ],
   "source": [
    "new_df_reviews_2.show(5)"
   ]
  },
  {
   "cell_type": "code",
   "execution_count": 19,
   "id": "30682921-8c39-48bc-9d17-9c3a0b461935",
   "metadata": {},
   "outputs": [],
   "source": [
    "# Convert overall and vote fields to integer and reviewTime to date format\n",
    "new_df_reviews_cast = new_df_reviews_2.withColumn(\"overall\", col(\"overall\").cast(\"integer\"))\\\n",
    ".withColumn(\"vote\", col(\"vote\").cast(\"integer\")).withColumn(\"reviewTime\", to_date(col(\"reviewTime\"), \"yyyy-MM-dd\"))"
   ]
  },
  {
   "cell_type": "code",
   "execution_count": 24,
   "id": "ca07057e-faee-48f1-a55d-bccd51e3cc30",
   "metadata": {},
   "outputs": [
    {
     "name": "stdout",
     "output_type": "stream",
     "text": [
      "+----------+-------+--------------------+--------------+--------------------+----+----------+\n",
      "|      asin|overall|          reviewText|    reviewerID|             summary|vote|reviewTime|\n",
      "+----------+-------+--------------------+--------------+--------------------+----+----------+\n",
      "|B000MXIMKK|      4|I love these pant...| AZZ1YPRM2FAUH|Durable, good loo...|   6|2016-04-06|\n",
      "|B000MXIMKK|      5|Great pants and n...|A388UHKJN07JJT|       Great Product|null|2016-04-06|\n",
      "|B000MXIMKK|      4|These are pretty ...|A1361PH7D34W8R|  Good Overall Value|null|2016-04-06|\n",
      "|B000MXIMKK|      1|I purchased two p...| ALBKZQ7DWPMC6|but I'm definitel...|null|2016-04-06|\n",
      "|B000MXIMKK|      4|       great product|A3GBAA7OEESH78|          Four Stars|null|2016-04-05|\n",
      "+----------+-------+--------------------+--------------+--------------------+----+----------+\n",
      "only showing top 5 rows\n",
      "\n"
     ]
    }
   ],
   "source": [
    "new_df_reviews_cast.show(5)"
   ]
  },
  {
   "cell_type": "code",
   "execution_count": 25,
   "id": "bc8b71b8-8c7b-4a55-a365-01056ffe89be",
   "metadata": {},
   "outputs": [
    {
     "name": "stdout",
     "output_type": "stream",
     "text": [
      "root\n",
      " |-- asin: string (nullable = true)\n",
      " |-- overall: integer (nullable = true)\n",
      " |-- reviewText: string (nullable = true)\n",
      " |-- reviewerID: string (nullable = true)\n",
      " |-- summary: string (nullable = true)\n",
      " |-- vote: integer (nullable = true)\n",
      " |-- reviewTime: date (nullable = true)\n",
      "\n"
     ]
    }
   ],
   "source": [
    "new_df_reviews_cast.printSchema()"
   ]
  },
  {
   "cell_type": "code",
   "execution_count": 20,
   "id": "44775fda-1430-4c97-822d-dd346f2c219c",
   "metadata": {},
   "outputs": [],
   "source": [
    "# Drop duplicates from our df_reviews \n",
    "new_df_reviews_cast_unique = new_df_reviews_cast.dropDuplicates()"
   ]
  },
  {
   "cell_type": "code",
   "execution_count": 21,
   "id": "7dd8837e-b92e-4d9f-864e-5ec2fd674204",
   "metadata": {},
   "outputs": [],
   "source": [
    "# Register df as Temp table\n",
    "temp_view_name = \"tempvw_df_reviews\"\n",
    "new_df_reviews_cast_unique.createOrReplaceTempView(temp_view_name)"
   ]
  },
  {
   "cell_type": "markdown",
   "id": "e0520d6b-7701-4445-a91e-d404d9777e60",
   "metadata": {},
   "source": [
    "Given the huge amount of reviews available, we determine to shorten the size of data without losing some relevant aspects of data, we pick out one random case with a product to see how many reviews, overall and votes it has to be able to determine if could be better get a mean of the overall rating. "
   ]
  },
  {
   "cell_type": "code",
   "execution_count": 59,
   "id": "b830e271-d741-4104-9d32-9c9dfb89561f",
   "metadata": {},
   "outputs": [],
   "source": [
    "condition_1 = col(\"asin\") == \"0007232535\"\n",
    "new_df_reviews_filtered = new_df_reviews_cast_unique.filter(condition_1)"
   ]
  },
  {
   "cell_type": "code",
   "execution_count": 60,
   "id": "3bfaffbb-a15c-49ea-a7b2-b0c4528219ca",
   "metadata": {},
   "outputs": [
    {
     "name": "stdout",
     "output_type": "stream",
     "text": [
      "+----------+-------+--------------------+--------------+--------------------+----+----------+\n",
      "|      asin|overall|          reviewText|    reviewerID|             summary|vote|reviewTime|\n",
      "+----------+-------+--------------------+--------------+--------------------+----+----------+\n",
      "|0007232535|      1|Just want to issu...|A12JDACBRFSWJ6|Buyer Beware -- T...|  10|2007-04-17|\n",
      "+----------+-------+--------------------+--------------+--------------------+----+----------+\n",
      "\n"
     ]
    }
   ],
   "source": [
    "new_df_reviews_filtered.show()"
   ]
  },
  {
   "cell_type": "markdown",
   "id": "e4491a60-83d2-428e-b7e1-f77ff19e1923",
   "metadata": {},
   "source": [
    "As we get deeper in data we note that some products has many reviews nonetheless some reviews are not popular, so in order to get most relevant without losing overall score from reviews that do not have any votes, we decide to make an average per asin and drop reviews that were not voted to keep the most popular ones. Furthermore, we consider they might cause noise to our analysis."
   ]
  },
  {
   "cell_type": "code",
   "execution_count": 22,
   "id": "bcb0d7d7-56e6-4e55-b1d2-c1af5d38bd89",
   "metadata": {},
   "outputs": [],
   "source": [
    "# We get the average overall score before filtering only the most relevant reviews in order to reduce the possible noise in data\n",
    "average_scores_df = new_df_reviews_cast_unique.groupBy(\"asin\").agg(round(avg(col(\"overall\")),3).alias(\"avg_overall\"))"
   ]
  },
  {
   "cell_type": "code",
   "execution_count": 23,
   "id": "eb7c981b-f676-48db-86ff-e74ac6618723",
   "metadata": {},
   "outputs": [],
   "source": [
    "# Filtered only reviews with more than two votes\n",
    "df_filtered_relevant_reviews = spark.sql(\"\"\"\n",
    "SELECT asin, reviewText, reviewerID, summary, vote, reviewTime\n",
    "FROM tempvw_df_reviews \n",
    "WHERE vote > 2\n",
    "\"\"\")"
   ]
  },
  {
   "cell_type": "code",
   "execution_count": 24,
   "id": "e32c7bf3-0408-4142-b4a4-a93f97f78b7d",
   "metadata": {},
   "outputs": [],
   "source": [
    "# Inner Join to combine average overall scores and relevant reviews \n",
    "df_reviews_final = df_filtered_relevant_reviews.join(average_scores_df, on=[\"asin\"], how=\"inner\")"
   ]
  },
  {
   "cell_type": "code",
   "execution_count": 58,
   "id": "8809f21d-86c6-4bc5-b1f2-1e6e3f8e6383",
   "metadata": {},
   "outputs": [
    {
     "name": "stdout",
     "output_type": "stream",
     "text": [
      "+----------+--------------------+--------------+--------------------+----+----------+-----------------+\n",
      "|      asin|          reviewText|    reviewerID|             summary|vote|reviewTime|      avg_overall|\n",
      "+----------+--------------------+--------------+--------------------+----+----------+-----------------+\n",
      "|0007148941|This book is goin...|A21YH1OMDSPASA|A pleasing end to...|   8|2008-09-21|4.148148148148148|\n",
      "|0007148941|Kim, another disa...| AZ9N3928BGQ0E|\"Not with A Bang,...|   3|2007-08-31|4.148148148148148|\n",
      "|0007148941|I have been ticki...| AC31II9459P5G|     All About Frank|   4|2008-01-06|4.148148148148148|\n",
      "|0007148941|Robinson's books ...|A2MAB5Q4XA209W|Sixty Days to Now...|  18|2007-08-07|4.148148148148148|\n",
      "|0007148941|I liked this book...|A3LGFJUC82N8TZ|Better than its p...|   9|2007-03-30|4.148148148148148|\n",
      "|0007148941|For Kim Stanley R...|A20U46SJZNTVYP|Disappointing Fin...|  71|2007-03-11|4.148148148148148|\n",
      "|0007232535|Just want to issu...|A12JDACBRFSWJ6|Buyer Beware -- T...|  10|2007-04-17|              1.0|\n",
      "|0007260962|This is my favour...|A1K873JI1GKD8S|              Hidden|   5|2011-04-11|4.795180722891566|\n",
      "|0007260962|Not only is this ...|A1RZK2GAB7Q0Q4|     Excellent read!|   6|2012-02-13|4.795180722891566|\n",
      "|0007260962|\"Cathy Glass\" nev...|A1E5DMJ3DQVLE5|              Awsome|   6|2012-07-10|4.795180722891566|\n",
      "|0007260962|Cathy glass books...|A2SM9DQBSRKLTT|    Intresting read.|   3|2011-08-10|4.795180722891566|\n",
      "|0007260962|Cathy Glass is my...| AVVBMT3XVMWIA|              Hidden|  13|2011-02-28|4.795180722891566|\n",
      "|0007260962|Excellent book by...|A1QWZI0ZB4935J|                Book|   3|2010-12-29|4.795180722891566|\n",
      "|0007260962|This book has led...|A1T7X69HOG05JP|Prepare Yourself ...|   6|2011-06-17|4.795180722891566|\n",
      "|0007354282|I met the author ...|A1U7D3F7D26Y1G|In My Dreams is a...|   5|2011-01-13|              5.0|\n",
      "|0007556527|I had one of Coll...|A3KA6BTE097QJ3|The best English-...|   3|2017-05-10|              5.0|\n",
      "|0008127603|don't bother, wou...|A3PLLGQAGWOAV3|would love my mon...|   3|2016-12-12|              3.0|\n",
      "|0050025392|Luther is a great...|A2Z2VUFWT34SEN|         Great stuff|   3|2009-02-16|              5.0|\n",
      "|0060100168|I love the photos...|A2Q6VBGNIZ79MU|          Nostalgic!|   3|2011-10-17|              5.0|\n",
      "|0060100168|If you are a Slim...|A2H0896TRID395|Another stellar S...|   3|2013-01-03|              5.0|\n",
      "+----------+--------------------+--------------+--------------------+----+----------+-----------------+\n",
      "only showing top 20 rows\n",
      "\n"
     ]
    }
   ],
   "source": [
    "df_reviews_final.show()"
   ]
  },
  {
   "cell_type": "markdown",
   "id": "0b9211f1-95bf-47f5-b36b-0d9b3903fcd4",
   "metadata": {},
   "source": [
    "### Amazon Meta"
   ]
  },
  {
   "cell_type": "markdown",
   "id": "76ba535e-3974-43e6-ba4f-b75971f693ac",
   "metadata": {},
   "source": [
    "#### **Get Familiar with the Data**"
   ]
  },
  {
   "cell_type": "code",
   "execution_count": 25,
   "id": "503a2057-2c25-4162-a16f-fb912f097e63",
   "metadata": {},
   "outputs": [
    {
     "name": "stdout",
     "output_type": "stream",
     "text": [
      "root\n",
      " |-- also_buy: array (nullable = true)\n",
      " |    |-- element: string (containsNull = true)\n",
      " |-- also_view: array (nullable = true)\n",
      " |    |-- element: string (containsNull = true)\n",
      " |-- asin: string (nullable = true)\n",
      " |-- brand: string (nullable = true)\n",
      " |-- category: array (nullable = true)\n",
      " |    |-- element: string (containsNull = true)\n",
      " |-- date: string (nullable = true)\n",
      " |-- description: array (nullable = true)\n",
      " |    |-- element: string (containsNull = true)\n",
      " |-- details: struct (nullable = true)\n",
      " |    |-- \\n    Item Weight: \\n    : string (nullable = true)\n",
      " |    |-- \\n    Package Dimensions: \\n    : string (nullable = true)\n",
      " |    |-- \\n    Product Dimensions: \\n    : string (nullable = true)\n",
      " |    |--  Date first listed on Amazon:: string (nullable = true)\n",
      " |    |--  UNSPSC Code:: string (nullable = true)\n",
      " |    |-- 3.5\" and 5.25\" disks:: string (nullable = true)\n",
      " |    |-- 3.5\" disk:: string (nullable = true)\n",
      " |    |-- 5.25\" disk:: string (nullable = true)\n",
      " |    |-- ASIN:: string (nullable = true)\n",
      " |    |-- ASIN: : string (nullable = true)\n",
      " |    |-- Accessory:: string (nullable = true)\n",
      " |    |-- Age Range:: string (nullable = true)\n",
      " |    |-- Album:: string (nullable = true)\n",
      " |    |-- Apparel: string (nullable = true)\n",
      " |    |-- Audible.com Release Date:: string (nullable = true)\n",
      " |    |-- Audio CD: string (nullable = true)\n",
      " |    |-- Audio CD Library Binding:: string (nullable = true)\n",
      " |    |-- Audio CD:: string (nullable = true)\n",
      " |    |-- Audio Cassette: string (nullable = true)\n",
      " |    |-- Audio Cassette:: string (nullable = true)\n",
      " |    |-- Audio Description:: string (nullable = true)\n",
      " |    |-- Audio-Video: string (nullable = true)\n",
      " |    |-- Automotive:: string (nullable = true)\n",
      " |    |-- Baby Product:: string (nullable = true)\n",
      " |    |-- Bargain Book:: string (nullable = true)\n",
      " |    |-- Bath Book:: string (nullable = true)\n",
      " |    |-- Batteries: string (nullable = true)\n",
      " |    |-- Blu-ray: string (nullable = true)\n",
      " |    |-- Blu-ray Audio: string (nullable = true)\n",
      " |    |-- Board book:: string (nullable = true)\n",
      " |    |-- Bonded Leather:: string (nullable = true)\n",
      " |    |-- Bookmark:: string (nullable = true)\n",
      " |    |-- CD-R: string (nullable = true)\n",
      " |    |-- CD-ROM: string (nullable = true)\n",
      " |    |-- CD-ROM:: string (nullable = true)\n",
      " |    |-- Calendar: string (nullable = true)\n",
      " |    |-- Calendar:: string (nullable = true)\n",
      " |    |-- Card Book:: string (nullable = true)\n",
      " |    |-- Cards:: string (nullable = true)\n",
      " |    |-- Comic:: string (nullable = true)\n",
      " |    |-- DCC (Digital Compact Cassette):: string (nullable = true)\n",
      " |    |-- DVD: string (nullable = true)\n",
      " |    |-- DVD Audio: string (nullable = true)\n",
      " |    |-- DVD Audio:: string (nullable = true)\n",
      " |    |-- DVD-R:: string (nullable = true)\n",
      " |    |-- DVD-ROM:: string (nullable = true)\n",
      " |    |-- DVD:: string (nullable = true)\n",
      " |    |-- Diary:: string (nullable = true)\n",
      " |    |-- Digital Copy Expiration Date:: string (nullable = true)\n",
      " |    |-- Discontinued by manufacturer:: string (nullable = true)\n",
      " |    |-- Diskette:: string (nullable = true)\n",
      " |    |-- Domestic Shipping: : string (nullable = true)\n",
      " |    |-- Downloading:: string (nullable = true)\n",
      " |    |-- Dubbed:: string (nullable = true)\n",
      " |    |-- Electronics: string (nullable = true)\n",
      " |    |-- Electronics:: string (nullable = true)\n",
      " |    |-- File Size:: string (nullable = true)\n",
      " |    |-- Flexibound:: string (nullable = true)\n",
      " |    |-- Foam Book:: string (nullable = true)\n",
      " |    |-- Format:: string (nullable = true)\n",
      " |    |-- Game:: string (nullable = true)\n",
      " |    |-- Gift:: string (nullable = true)\n",
      " |    |-- Grade Level:: string (nullable = true)\n",
      " |    |-- Hardcover: string (nullable = true)\n",
      " |    |-- Hardcover Comic:: string (nullable = true)\n",
      " |    |-- Hardcover-spiral:: string (nullable = true)\n",
      " |    |-- Hardcover:: string (nullable = true)\n",
      " |    |-- Health and Beauty: string (nullable = true)\n",
      " |    |-- Health and Beauty:: string (nullable = true)\n",
      " |    |-- ISBN-10:: string (nullable = true)\n",
      " |    |-- ISBN-13:: string (nullable = true)\n",
      " |    |-- Imitation Leather:: string (nullable = true)\n",
      " |    |-- International Shipping: : string (nullable = true)\n",
      " |    |-- Item model number:: string (nullable = true)\n",
      " |    |-- JP Oversized:: string (nullable = true)\n",
      " |    |-- Journal:: string (nullable = true)\n",
      " |    |-- Kindle Edition:: string (nullable = true)\n",
      " |    |-- Kitchen:: string (nullable = true)\n",
      " |    |-- Label:: string (nullable = true)\n",
      " |    |-- Language:: string (nullable = true)\n",
      " |    |-- Lawn & Patio:: string (nullable = true)\n",
      " |    |-- Leather Bound:: string (nullable = true)\n",
      " |    |-- Lending:: string (nullable = true)\n",
      " |    |-- Lexile Measure:: string (nullable = true)\n",
      " |    |-- Library Binding:: string (nullable = true)\n",
      " |    |-- Listening Length:: string (nullable = true)\n",
      " |    |-- Loose Leaf:: string (nullable = true)\n",
      " |    |-- MP3 CD:: string (nullable = true)\n",
      " |    |-- MP3 Music: string (nullable = true)\n",
      " |    |-- Map:: string (nullable = true)\n",
      " |    |-- Mass Market Paperback:: string (nullable = true)\n",
      " |    |-- Microfilm:: string (nullable = true)\n",
      " |    |-- Misc. Supplies:: string (nullable = true)\n",
      " |    |-- Misc.:: string (nullable = true)\n",
      " |    |-- Mook:: string (nullable = true)\n",
      " |    |-- Note on Boxed Sets:: string (nullable = true)\n",
      " |    |-- Note:: string (nullable = true)\n",
      " |    |-- Number of Discs:: string (nullable = true)\n",
      " |    |-- Office Product:: string (nullable = true)\n",
      " |    |-- Online Code:: string (nullable = true)\n",
      " |    |-- Online Game Code:: string (nullable = true)\n",
      " |    |-- Online Map Code:: string (nullable = true)\n",
      " |    |-- Original Release Date:: string (nullable = true)\n",
      " |    |-- Page Numbers Source ISBN:: string (nullable = true)\n",
      " |    |-- Pamphlet:: string (nullable = true)\n",
      " |    |-- Paperback: string (nullable = true)\n",
      " |    |-- Paperback Bunko:: string (nullable = true)\n",
      " |    |-- Paperback Shinsho:: string (nullable = true)\n",
      " |    |-- Paperback:: string (nullable = true)\n",
      " |    |-- Perfect Paperback:: string (nullable = true)\n",
      " |    |-- Personal Computers:: string (nullable = true)\n",
      " |    |-- Plastic Comb:: string (nullable = true)\n",
      " |    |-- Please Note:: string (nullable = true)\n",
      " |    |-- Pocket Book:: string (nullable = true)\n",
      " |    |-- Poster:: string (nullable = true)\n",
      " |    |-- Print Length:: string (nullable = true)\n",
      " |    |-- Print Magazine:: string (nullable = true)\n",
      " |    |-- Print on Demand (Paperback):: string (nullable = true)\n",
      " |    |-- Printed Access Code:: string (nullable = true)\n",
      " |    |-- Program Type:: string (nullable = true)\n",
      " |    |-- Publication Date:: string (nullable = true)\n",
      " |    |-- Publisher:: string (nullable = true)\n",
      " |    |-- Rag Book:: string (nullable = true)\n",
      " |    |-- Release Date:: string (nullable = true)\n",
      " |    |-- Ring-bound:: string (nullable = true)\n",
      " |    |-- Run Time:: string (nullable = true)\n",
      " |    |-- SPARS Code:: string (nullable = true)\n",
      " |    |-- School & Library Binding:: string (nullable = true)\n",
      " |    |-- Series:: string (nullable = true)\n",
      " |    |-- Sheet music:: string (nullable = true)\n",
      " |    |-- Shipping Advisory:: string (nullable = true)\n",
      " |    |-- Shipping Weight:: string (nullable = true)\n",
      " |    |-- Shipping: : string (nullable = true)\n",
      " |    |-- Simultaneous Device Usage:: string (nullable = true)\n",
      " |    |-- Single Issue Magazine:: string (nullable = true)\n",
      " |    |-- Slide:: string (nullable = true)\n",
      " |    |-- Spiral-bound:: string (nullable = true)\n",
      " |    |-- Sports: string (nullable = true)\n",
      " |    |-- Sports:: string (nullable = true)\n",
      " |    |-- Staple Bound:: string (nullable = true)\n",
      " |    |-- Stationery:: string (nullable = true)\n",
      " |    |-- Subtitles for the Hearing Impaired:: string (nullable = true)\n",
      " |    |-- Subtitles:: string (nullable = true)\n",
      " |    |-- Tankobon Hardcover:: string (nullable = true)\n",
      " |    |-- Tankobon Softcover:: string (nullable = true)\n",
      " |    |-- Textbook Binding:: string (nullable = true)\n",
      " |    |-- Toy:: string (nullable = true)\n",
      " |    |-- Transparency:: string (nullable = true)\n",
      " |    |-- Turtleback:: string (nullable = true)\n",
      " |    |-- UPC:: string (nullable = true)\n",
      " |    |-- USB Memory Stick: string (nullable = true)\n",
      " |    |-- Unbound:: string (nullable = true)\n",
      " |    |-- Unknown Binding: string (nullable = true)\n",
      " |    |-- Unknown Binding:: string (nullable = true)\n",
      " |    |-- VHS Tape: string (nullable = true)\n",
      " |    |-- VHS Tape:: string (nullable = true)\n",
      " |    |-- Version:: string (nullable = true)\n",
      " |    |-- Video Game:: string (nullable = true)\n",
      " |    |-- Vinyl: string (nullable = true)\n",
      " |    |-- Vinyl Bound: string (nullable = true)\n",
      " |    |-- Vinyl Bound:: string (nullable = true)\n",
      " |    |-- Wall Chart:: string (nullable = true)\n",
      " |    |-- Watch: string (nullable = true)\n",
      " |    |-- Whispersync for Voice:: string (nullable = true)\n",
      " |    |-- Word Wise:: string (nullable = true)\n",
      " |    |-- Workbook:: string (nullable = true)\n",
      " |-- feature: array (nullable = true)\n",
      " |    |-- element: string (containsNull = true)\n",
      " |-- fit: string (nullable = true)\n",
      " |-- image: array (nullable = true)\n",
      " |    |-- element: string (containsNull = true)\n",
      " |-- main_cat: string (nullable = true)\n",
      " |-- price: string (nullable = true)\n",
      " |-- rank: string (nullable = true)\n",
      " |-- similar_item: string (nullable = true)\n",
      " |-- tech1: string (nullable = true)\n",
      " |-- tech2: string (nullable = true)\n",
      " |-- title: string (nullable = true)\n",
      "\n"
     ]
    }
   ],
   "source": [
    "# Print df_meta Schema to see what attributes we have and what data type they belong\n",
    "df_meta.printSchema()"
   ]
  },
  {
   "cell_type": "markdown",
   "id": "8ceaa191-e709-4bf9-870c-c45cbbc31ffc",
   "metadata": {},
   "source": [
    "We see `df_meta` offers some relevant description about the products and categories such that we can summarize our data in a structured way, so we need to drop the fields that are unnecessary to our analysis "
   ]
  },
  {
   "cell_type": "code",
   "execution_count": 62,
   "id": "3096a05a-ad88-46dd-a710-898d2594a353",
   "metadata": {},
   "outputs": [
    {
     "name": "stdout",
     "output_type": "stream",
     "text": [
      "+--------------------+---------+----------+------------+--------------------+------------+--------------------+--------------------+--------------------+---+--------------------+--------------------+-------+--------------------+--------------------+--------------------+-----+--------------------+\n",
      "|            also_buy|also_view|      asin|       brand|            category|        date|         description|             details|             feature|fit|               image|            main_cat|  price|                rank|        similar_item|               tech1|tech2|               title|\n",
      "+--------------------+---------+----------+------------+--------------------+------------+--------------------+--------------------+--------------------+---+--------------------+--------------------+-------+--------------------+--------------------+--------------------+-----+--------------------+\n",
      "|                  []|       []|B01FVYVI00|NAUTICALMART|[Tools & Home Imp...|May 19, 2016|[NAUTICALMART CHR...|{null, null, null...|[DECORATIVE FLOOR...|   |                  []|Tools & Home Impr...|$195.00|[\">#3,449,141 in ...| class=\"a-bordere...| class=\"a-keyvalu...|     |NAUTICALMART CHRO...|\n",
      "|[B00TV26C0U, B075...|       []|B01FVZHGB4|     Daixers|[Tools & Home Imp...|            |[<b>Carrys up to ...|{null, null, null...|[Premium quality:...|   |[https://images-n...|         Amazon Home|  $6.99|[\">#750,363 in Ho...| class=\"a-bordere...|                    |     |Daixers Stainless...|\n",
      "|                  []|       []|B01FVZQZVG|  Rocky Mars|[Tools & Home Imp...|May 19, 2016|[<b>Overview</b><...|{null, null, null...|[Auto-Range digit...|   |[https://images-n...|Tools & Home Impr...| $18.99|[\">#2,323,519 in ...| class=\"a-bordere...| class=\"a-keyvalu...|     |Aimometer Digital...|\n",
      "|                  []|       []|B01FVZHEPM|       DNVEN|[Tools & Home Imp...|            |[<b>IMPORTANT to ...|{null, null, null...|[This wall decal ...|   |[https://images-n...|         Amazon Home|  $7.99|[\">#2,125,215 in ...|                    |                    |     |DNVEN Flower Girl...|\n",
      "|                  []|       []|B01FVZJGN0| World Pride|[Tools & Home Imp...|May 20, 2016|[Durable construc...|{null, null, null...|[Durable construc...|   |[https://images-n...|Tools & Home Impr...|       |[\">#1,440,754 in ...|                    | class=\"a-keyvalu...|     |World Pride Wall-...|\n",
      "+--------------------+---------+----------+------------+--------------------+------------+--------------------+--------------------+--------------------+---+--------------------+--------------------+-------+--------------------+--------------------+--------------------+-----+--------------------+\n",
      "only showing top 5 rows\n",
      "\n"
     ]
    }
   ],
   "source": [
    "# Check the content within df_meta\n",
    "df_meta.show(5)"
   ]
  },
  {
   "cell_type": "markdown",
   "id": "09e3b250-3de4-4046-8e8c-bac114c72bdc",
   "metadata": {},
   "source": [
    "#### **Data Cleaning**"
   ]
  },
  {
   "cell_type": "markdown",
   "id": "51a6f2e5-943a-453a-b79c-b10f9a400073",
   "metadata": {},
   "source": [
    "#### Selecting, Filtering and Casting"
   ]
  },
  {
   "cell_type": "code",
   "execution_count": 26,
   "id": "9770c0b0-e18c-425c-af64-193f6faaa948",
   "metadata": {},
   "outputs": [],
   "source": [
    "# Create temp view to query data\n",
    "temp_view_name = \"tempvw_meta\"\n",
    "df_meta.createOrReplaceTempView(temp_view_name)"
   ]
  },
  {
   "cell_type": "code",
   "execution_count": 27,
   "id": "a2f07dd2-fe05-4421-8149-d3f86b86e8b7",
   "metadata": {},
   "outputs": [],
   "source": [
    "# Filter data to avoid urls and empty records (without category)\n",
    "filtered_df_meta = spark.sql(\"\"\"\n",
    "SELECT DISTINCT asin, brand, main_cat, price, rank, description, category, title\n",
    "FROM tempvw_meta \n",
    "WHERE main_cat NOT LIKE '%https%' AND main_cat NOT LIKE ''\n",
    "\"\"\")"
   ]
  },
  {
   "cell_type": "code",
   "execution_count": 28,
   "id": "94e14793-dd1a-4242-968a-6b4ff98268fa",
   "metadata": {},
   "outputs": [],
   "source": [
    "filtered_temp_view_name = \"filtered_tempvw_meta\"\n",
    "filtered_df_meta.createOrReplaceTempView(filtered_temp_view_name)"
   ]
  },
  {
   "cell_type": "code",
   "execution_count": 66,
   "id": "7bc83ae8-5b50-40ef-951f-dc23117b0e9c",
   "metadata": {},
   "outputs": [],
   "source": [
    "# We query data to get the distribution of reviews per main category\n",
    "query_main_cat = spark.sql(\"\"\"\n",
    "SELECT main_cat, COUNT(*) as count \n",
    "FROM filtered_tempvw_meta \n",
    "GROUP BY main_cat\n",
    "ORDER BY COUNT(*) DESC\n",
    "\"\"\")"
   ]
  },
  {
   "cell_type": "code",
   "execution_count": 67,
   "id": "3bc88a02-84f1-4913-a096-34107f42dd49",
   "metadata": {},
   "outputs": [
    {
     "name": "stdout",
     "output_type": "stream",
     "text": [
      "+--------------------+----------------+\n",
      "|            main_cat|conteo_registros|\n",
      "+--------------------+----------------+\n",
      "|               Books|         1258544|\n",
      "|         Amazon Home|          807383|\n",
      "|   Sports & Outdoors|          424575|\n",
      "|          Automotive|          392778|\n",
      "|        Toys & Games|          357354|\n",
      "|Cell Phones & Acc...|          303785|\n",
      "|        Buy a Kindle|          266455|\n",
      "|Tools & Home Impr...|          201019|\n",
      "|             Grocery|          153057|\n",
      "|           Computers|          141038|\n",
      "|     Office Products|          114194|\n",
      "|         Movies & TV|          112838|\n",
      "|Arts, Crafts & Se...|          107778|\n",
      "|     All Electronics|           97700|\n",
      "|Industrial & Scie...|           70171|\n",
      "| Musical Instruments|           70085|\n",
      "|        Pet Supplies|           68867|\n",
      "|      Camera & Photo|           64581|\n",
      "|Home Audio & Theater|           54908|\n",
      "|         Video Games|           46302|\n",
      "+--------------------+----------------+\n",
      "only showing top 20 rows\n",
      "\n"
     ]
    }
   ],
   "source": [
    "query_main_cat.show()"
   ]
  },
  {
   "cell_type": "code",
   "execution_count": 29,
   "id": "e05c69be-15f8-410f-a7f6-96246b23ed48",
   "metadata": {},
   "outputs": [],
   "source": [
    "# Replace money sign to cast price to float\n",
    "value_to_replace = \"\\\\$\"\n",
    "replacement_value = \"\"\n",
    "df_meta_clean = filtered_df_meta.withColumn(\"price\", regexp_replace(col(\"price\"), value_to_replace, replacement_value).cast(\"float\"))"
   ]
  },
  {
   "cell_type": "code",
   "execution_count": 74,
   "id": "6f54b66a-2a87-4b6a-9f7c-90a54de75a80",
   "metadata": {},
   "outputs": [
    {
     "name": "stdout",
     "output_type": "stream",
     "text": [
      "+----------+--------------------+----------+-----+--------------------+--------------------+--------------------+--------------------+\n",
      "|      asin|               brand|  main_cat|price|                rank|         description|            category|               title|\n",
      "+----------+--------------------+----------+-----+--------------------+--------------------+--------------------+--------------------+\n",
      "|B000C2E6HE|             Fel-Pro|Automotive| 6.29|[\">#804,748 in Au...|[Fel-Pro gaskets ...|[Automotive, Repl...|Fel-Pro 61093 Thr...|\n",
      "|B000C2EAZW|             Fel-Pro|Automotive|58.99|[\">#743,066 in Au...|[This Fel-Pro hea...|[Automotive, Repl...|Fel-Pro HS9170PT1...|\n",
      "|B000C2GI52|             Fel-Pro|Automotive|14.73|[\">#150,455 in Au...|[Fel-Pro gaskets ...|[Automotive, Repl...|Fel-Pro VS50500R ...|\n",
      "|B000C2M8LA|        Four Seasons|Automotive| 9.06|[\">#397,901 in Au...|[Air Conditioning...|[Automotive, Repl...|Four Seasons 2670...|\n",
      "|B000C2M8VA|Four Seasons/Trumark|Automotive|35.88|[\">#443,626 in Au...|[This product mee...|[Automotive, Repl...|Four Seasons/Trum...|\n",
      "|B000C2MANG|        Four Seasons|Automotive|20.17|[\">#1,175,134 in ...|   [Expansion Valve]|[Automotive, Repl...|Four Seasons 3884...|\n",
      "|B000C2NWS8|              Bendix|Automotive|53.41|[\">#2,274,552 in ...|[Bendix TitaniuMe...|[Automotive, Repl...|Bendix MKD781 Sem...|\n",
      "|B000C2STCM|        Four Seasons|Automotive| 8.18|[\">#1,421,543 in ...|[Suction And Disc...|[Automotive, Repl...|Four Seasons 5643...|\n",
      "|B000C2UJY8|               Gates|Automotive|16.15|[\">#232,054 in Au...|   [Serpentine Belt]|[Automotive, Repl...|Gates K040372 Mul...|\n",
      "|B000C2WEEG|               Gates|Automotive|12.96|[\">#492,052 in Au...|       [Heater Hose]|[Automotive, Repl...|Gates 28472 Heate...|\n",
      "|B000C2WIYW|               Gates|Automotive| 11.8|[\">#154,672 in Au...|[Accessory Drive ...|[Automotive, Repl...|   Gates 7420 V-Belt|\n",
      "|B000C2WLZS|               Gates|Automotive|19.58|[\">#1,565,889 in ...|       [Timing Belt]|[Automotive, Repl...|Gates T303 Timing...|\n",
      "|B000C2YA7K|               Gates|Automotive|30.32|[\">#6,237,811 in ...|[Power Steering P...|[Automotive, Repl...|Gates 369300 Pres...|\n",
      "|B000C34JUM|   Continental Elite|Automotive| null|[\">#2,682,914 in ...|[Continental Elit...|[Automotive, Repl...|Continental Elite...|\n",
      "|B000C36CFC|   Continental Elite|Automotive|14.31|[\">#1,980,516 in ...|[Continental Elit...|[Automotive, Repl...|Continental Elite...|\n",
      "|B000C3PY9M|NuGeon Auto Compo...|Automotive| null|[\">#3,472,619 in ...|[BRAKE CALIPER - ...|[Automotive, Repl...|NuGeon 22-01624L ...|\n",
      "|B000C3ZC8U|                 KYB|Automotive| 8.18|[\">#1,224,737 in ...|[Ride Comfort may...|[Automotive, Repl...|KYB 234024 Excel-...|\n",
      "|B000C3ZDV6|                 KYB|Automotive|37.68|[\">#119,423 in Au...|[The KYB Gas-a-Ju...|[Automotive, Repl...|KYB KG5562 Gas-a-...|\n",
      "|B000C41HJC|          A1 Cardone|Automotive| null|[\">#4,223,933 in ...|[A1 CARDONE Reman...|[Automotive, Repl...|Cardone 21-5887 R...|\n",
      "|B000C42QS8|                 KYB|Automotive| 8.18|[\">#81,540 in Aut...|[Ride Comfort may...|[Automotive, Repl...|KYB 235629 Excel-...|\n",
      "+----------+--------------------+----------+-----+--------------------+--------------------+--------------------+--------------------+\n",
      "only showing top 20 rows\n",
      "\n"
     ]
    }
   ],
   "source": [
    "df_meta_clean.show(5)"
   ]
  },
  {
   "cell_type": "code",
   "execution_count": 30,
   "id": "6c3de984-dcd1-499c-8715-cdb798498f54",
   "metadata": {},
   "outputs": [
    {
     "name": "stdout",
     "output_type": "stream",
     "text": [
      "root\n",
      " |-- asin: string (nullable = true)\n",
      " |-- brand: string (nullable = true)\n",
      " |-- main_cat: string (nullable = true)\n",
      " |-- price: float (nullable = true)\n",
      " |-- rank: string (nullable = true)\n",
      " |-- description: array (nullable = true)\n",
      " |    |-- element: string (containsNull = true)\n",
      " |-- category: array (nullable = true)\n",
      " |    |-- element: string (containsNull = true)\n",
      " |-- title: string (nullable = true)\n",
      "\n"
     ]
    }
   ],
   "source": [
    "# Print df_meta_clean Schema to see what attributes we have and what data type they belong\n",
    "df_meta_clean.printSchema()"
   ]
  },
  {
   "cell_type": "markdown",
   "id": "236f0d68-2d2a-44d7-9c9e-39cd47258f43",
   "metadata": {},
   "source": [
    "## Combine both Amazon Sources (Batch)"
   ]
  },
  {
   "cell_type": "code",
   "execution_count": 31,
   "id": "4774bf13-2066-412b-a10d-ee380e830015",
   "metadata": {},
   "outputs": [],
   "source": [
    "# Inner Join to combine Reviews with Meta (Get our master table)\n",
    "df_reviews_master_table = df_reviews_final.join(df_meta_clean, on=[\"asin\"], how=\"inner\")"
   ]
  },
  {
   "cell_type": "code",
   "execution_count": 4,
   "id": "5b8d319b-ec41-436f-b1ea-20c50a442272",
   "metadata": {},
   "outputs": [],
   "source": [
    "df_reviews_master_table.printSchema()"
   ]
  },
  {
   "cell_type": "code",
   "execution_count": 80,
   "id": "7fe61a78-fb7c-461c-b98b-9bd22b8587b4",
   "metadata": {},
   "outputs": [
    {
     "name": "stdout",
     "output_type": "stream",
     "text": [
      "+----------+--------------------+--------------+--------------------+----+----------+-----------------+--------------------+--------+-----+--------------------+--------------------+--------------------+--------------------+\n",
      "|      asin|          reviewText|    reviewerID|             summary|vote|reviewTime|      avg_overall|               brand|main_cat|price|                rank|         description|            category|               title|\n",
      "+----------+--------------------+--------------+--------------------+----+----------+-----------------+--------------------+--------+-----+--------------------+--------------------+--------------------+--------------------+\n",
      "|0143142291|I don't often wri...|A3VF02EFNIMFCX|Not my favourite,...|   3|2012-11-28|4.208333333333333|Visit Amazon's De...|   Books|16.66|3,402,820 in Books (|[Golden Voice Geo...|[Books, Literatur...|The Door to December|\n",
      "|0143142690|I would recommend...|A3NSJ94VPH2XYG|If applied, this ...|   3|2015-09-21|4.497287522603978|Visit Amazon's Wa...|   Books|19.95|1,434,674 in Books (|[Born in 1860 in ...|[Books, Business ...|The Science of Ge...|\n",
      "|0143142690|Dr. Wattles takes...|A2L1KD4GMI4RB9|          Not For Me|   5|2015-01-22|4.497287522603978|Visit Amazon's Wa...|   Books|19.95|1,434,674 in Books (|[Born in 1860 in ...|[Books, Business ...|The Science of Ge...|\n",
      "|0143142690|If you are going ...|A2ZZHMT58ZMVCZ|The wisdom of gre...| 166|2007-03-15|4.497287522603978|Visit Amazon's Wa...|   Books|19.95|1,434,674 in Books (|[Born in 1860 in ...|[Books, Business ...|The Science of Ge...|\n",
      "|0143142690|This book is inte...| AAJHY9UR22GD6|I hope you enjoy ...|   4|2015-06-18|4.497287522603978|Visit Amazon's Wa...|   Books|19.95|1,434,674 in Books (|[Born in 1860 in ...|[Books, Business ...|The Science of Ge...|\n",
      "+----------+--------------------+--------------+--------------------+----+----------+-----------------+--------------------+--------+-----+--------------------+--------------------+--------------------+--------------------+\n",
      "only showing top 5 rows\n",
      "\n"
     ]
    }
   ],
   "source": [
    "# Check the results \n",
    "df_reviews_master_table.show(5)"
   ]
  },
  {
   "cell_type": "markdown",
   "id": "2dcfa03e-6036-44fa-9959-2bc478e0765f",
   "metadata": {},
   "source": [
    "## Export master table to Parquet "
   ]
  },
  {
   "cell_type": "code",
   "execution_count": 5,
   "id": "8c07e141-2ea2-4874-986a-a99874bc5694",
   "metadata": {},
   "outputs": [],
   "source": [
    "path_parquet = 'reviews_master_parquet'\n",
    "partition_column = 'main_cat'\n",
    "df_reviews_master_table.write.partitionBy(partition_column).option(\"compression\", \"gzip\").parquet(path_parquet)"
   ]
  },
  {
   "cell_type": "markdown",
   "id": "0018d5a2-c635-446c-a06c-4d4e42d80663",
   "metadata": {},
   "source": [
    "## Read clean master table data with Pandas"
   ]
  },
  {
   "cell_type": "code",
<<<<<<< Updated upstream
   "execution_count": 112,
   "id": "1628b84f-0874-4855-959e-be53930c4a82",
   "metadata": {},
   "outputs": [],
   "source": [
    "import pandas as pd"
   ]
  },
  {
   "cell_type": "code",
   "execution_count": 113,
   "id": "65317215-41bd-4668-9658-d6946cb0ceb6",
=======
   "execution_count": null,
   "id": "0d605af0-db33-4fc0-b76b-1045be49c50d",
>>>>>>> Stashed changes
   "metadata": {},
   "outputs": [],
   "source": [
    "# Use pyarrow engine to get data from master table \n",
    "df_test = pd.read_parquet('parquet', engine=\"pyarrow\")"
   ]
  },
  {
   "cell_type": "code",
   "execution_count": null,
   "id": "4fd4e925-4253-4062-aff4-81b55cbcdcd9",
   "metadata": {
    "scrolled": true
   },
   "outputs": [],
   "source": [
    "df_test.shape"
   ]
  },
  {
   "cell_type": "code",
   "execution_count": 121,
   "id": "3548d80e-134c-4fda-bdff-67553fef6ada",
   "metadata": {},
   "outputs": [],
   "source": [
    "df_test['vote'] = df_test['vote'].str.replace(',', '')"
   ]
  },
  {
   "cell_type": "code",
   "execution_count": 139,
   "id": "98bb00cc-19e3-41a1-ae34-a6bb96b2e40f",
   "metadata": {},
   "outputs": [
    {
     "data": {
      "text/html": [
       "<div>\n",
       "<style scoped>\n",
       "    .dataframe tbody tr th:only-of-type {\n",
       "        vertical-align: middle;\n",
       "    }\n",
       "\n",
       "    .dataframe tbody tr th {\n",
       "        vertical-align: top;\n",
       "    }\n",
       "\n",
       "    .dataframe thead th {\n",
       "        text-align: right;\n",
       "    }\n",
       "</style>\n",
       "<table border=\"1\" class=\"dataframe\">\n",
       "  <thead>\n",
       "    <tr style=\"text-align: right;\">\n",
       "      <th></th>\n",
       "      <th>asin</th>\n",
       "      <th>overall</th>\n",
       "      <th>reviewText</th>\n",
       "      <th>reviewerID</th>\n",
       "      <th>summary</th>\n",
       "      <th>verified</th>\n",
       "      <th>vote</th>\n",
       "      <th>reviewTime</th>\n",
       "      <th>brand</th>\n",
       "      <th>price</th>\n",
       "      <th>rank</th>\n",
       "      <th>description</th>\n",
       "      <th>category</th>\n",
       "      <th>title</th>\n",
       "      <th>main_cat</th>\n",
       "    </tr>\n",
       "  </thead>\n",
       "  <tbody>\n",
       "    <tr>\n",
       "      <th>27588</th>\n",
       "      <td>B00BZFGNPU</td>\n",
       "      <td>5.0</td>\n",
       "      <td>Received my case and it fits perfectly. The ki...</td>\n",
       "      <td>A31N5BEI8WO2U1</td>\n",
       "      <td>Perfect fit!</td>\n",
       "      <td>true</td>\n",
       "      <td>None</td>\n",
       "      <td>2013-09-04 00:00:00</td>\n",
       "      <td>EMPIRE</td>\n",
       "      <td></td>\n",
       "      <td>[\"&gt;#680,526 in Cell Phones &amp; Accessories (See ...</td>\n",
       "      <td>[]</td>\n",
       "      <td>[Cell Phones &amp; Accessories, Cases, Holsters &amp; ...</td>\n",
       "      <td>MPERO IMPACT X Series Kickstand Case for Motor...</td>\n",
       "      <td>All Electronics</td>\n",
       "    </tr>\n",
       "    <tr>\n",
       "      <th>27590</th>\n",
       "      <td>B00BZFGNPU</td>\n",
       "      <td>5.0</td>\n",
       "      <td>I ordered this case for my Mom since her last ...</td>\n",
       "      <td>ADNPA1CQTBJIL</td>\n",
       "      <td>Awesome Case!</td>\n",
       "      <td>true</td>\n",
       "      <td>None</td>\n",
       "      <td>2014-06-16 00:00:00</td>\n",
       "      <td>EMPIRE</td>\n",
       "      <td></td>\n",
       "      <td>[\"&gt;#680,526 in Cell Phones &amp; Accessories (See ...</td>\n",
       "      <td>[]</td>\n",
       "      <td>[Cell Phones &amp; Accessories, Cases, Holsters &amp; ...</td>\n",
       "      <td>MPERO IMPACT X Series Kickstand Case for Motor...</td>\n",
       "      <td>All Electronics</td>\n",
       "    </tr>\n",
       "    <tr>\n",
       "      <th>27592</th>\n",
       "      <td>B00BZFGNPU</td>\n",
       "      <td>5.0</td>\n",
       "      <td>Great case!</td>\n",
       "      <td>A2UHBES37HEWD8</td>\n",
       "      <td>Five Stars</td>\n",
       "      <td>true</td>\n",
       "      <td>None</td>\n",
       "      <td>2014-10-13 00:00:00</td>\n",
       "      <td>EMPIRE</td>\n",
       "      <td></td>\n",
       "      <td>[\"&gt;#680,526 in Cell Phones &amp; Accessories (See ...</td>\n",
       "      <td>[]</td>\n",
       "      <td>[Cell Phones &amp; Accessories, Cases, Holsters &amp; ...</td>\n",
       "      <td>MPERO IMPACT X Series Kickstand Case for Motor...</td>\n",
       "      <td>All Electronics</td>\n",
       "    </tr>\n",
       "    <tr>\n",
       "      <th>27596</th>\n",
       "      <td>B00BZFGNPU</td>\n",
       "      <td>5.0</td>\n",
       "      <td>perfect</td>\n",
       "      <td>A3VU0JMBMMLNLS</td>\n",
       "      <td>Five Stars</td>\n",
       "      <td>true</td>\n",
       "      <td>None</td>\n",
       "      <td>2014-11-22 00:00:00</td>\n",
       "      <td>EMPIRE</td>\n",
       "      <td></td>\n",
       "      <td>[\"&gt;#680,526 in Cell Phones &amp; Accessories (See ...</td>\n",
       "      <td>[]</td>\n",
       "      <td>[Cell Phones &amp; Accessories, Cases, Holsters &amp; ...</td>\n",
       "      <td>MPERO IMPACT X Series Kickstand Case for Motor...</td>\n",
       "      <td>All Electronics</td>\n",
       "    </tr>\n",
       "    <tr>\n",
       "      <th>27598</th>\n",
       "      <td>B00BZFGNPU</td>\n",
       "      <td>5.0</td>\n",
       "      <td>Great product for the money. I love having a k...</td>\n",
       "      <td>A1IUM56J26HM5J</td>\n",
       "      <td>Awesome</td>\n",
       "      <td>true</td>\n",
       "      <td>None</td>\n",
       "      <td>2013-07-11 00:00:00</td>\n",
       "      <td>EMPIRE</td>\n",
       "      <td></td>\n",
       "      <td>[\"&gt;#680,526 in Cell Phones &amp; Accessories (See ...</td>\n",
       "      <td>[]</td>\n",
       "      <td>[Cell Phones &amp; Accessories, Cases, Holsters &amp; ...</td>\n",
       "      <td>MPERO IMPACT X Series Kickstand Case for Motor...</td>\n",
       "      <td>All Electronics</td>\n",
       "    </tr>\n",
       "  </tbody>\n",
       "</table>\n",
       "</div>"
      ],
      "text/plain": [
       "             asin overall                                         reviewText  \\\n",
       "27588  B00BZFGNPU     5.0  Received my case and it fits perfectly. The ki...   \n",
       "27590  B00BZFGNPU     5.0  I ordered this case for my Mom since her last ...   \n",
       "27592  B00BZFGNPU     5.0                                        Great case!   \n",
       "27596  B00BZFGNPU     5.0                                            perfect   \n",
       "27598  B00BZFGNPU     5.0  Great product for the money. I love having a k...   \n",
       "\n",
       "           reviewerID        summary verified  vote           reviewTime  \\\n",
       "27588  A31N5BEI8WO2U1   Perfect fit!     true  None  2013-09-04 00:00:00   \n",
       "27590   ADNPA1CQTBJIL  Awesome Case!     true  None  2014-06-16 00:00:00   \n",
       "27592  A2UHBES37HEWD8     Five Stars     true  None  2014-10-13 00:00:00   \n",
       "27596  A3VU0JMBMMLNLS     Five Stars     true  None  2014-11-22 00:00:00   \n",
       "27598  A1IUM56J26HM5J        Awesome     true  None  2013-07-11 00:00:00   \n",
       "\n",
       "        brand price                                               rank  \\\n",
       "27588  EMPIRE        [\">#680,526 in Cell Phones & Accessories (See ...   \n",
       "27590  EMPIRE        [\">#680,526 in Cell Phones & Accessories (See ...   \n",
       "27592  EMPIRE        [\">#680,526 in Cell Phones & Accessories (See ...   \n",
       "27596  EMPIRE        [\">#680,526 in Cell Phones & Accessories (See ...   \n",
       "27598  EMPIRE        [\">#680,526 in Cell Phones & Accessories (See ...   \n",
       "\n",
       "      description                                           category  \\\n",
       "27588          []  [Cell Phones & Accessories, Cases, Holsters & ...   \n",
       "27590          []  [Cell Phones & Accessories, Cases, Holsters & ...   \n",
       "27592          []  [Cell Phones & Accessories, Cases, Holsters & ...   \n",
       "27596          []  [Cell Phones & Accessories, Cases, Holsters & ...   \n",
       "27598          []  [Cell Phones & Accessories, Cases, Holsters & ...   \n",
       "\n",
       "                                                   title         main_cat  \n",
       "27588  MPERO IMPACT X Series Kickstand Case for Motor...  All Electronics  \n",
       "27590  MPERO IMPACT X Series Kickstand Case for Motor...  All Electronics  \n",
       "27592  MPERO IMPACT X Series Kickstand Case for Motor...  All Electronics  \n",
       "27596  MPERO IMPACT X Series Kickstand Case for Motor...  All Electronics  \n",
       "27598  MPERO IMPACT X Series Kickstand Case for Motor...  All Electronics  "
      ]
     },
     "execution_count": 139,
     "metadata": {},
     "output_type": "execute_result"
    }
   ],
   "source": [
    "df_test[(df_test['main_cat']=='All Electronics')&(df_test['verified']=='true')].head()"
   ]
  },
  {
   "cell_type": "code",
   "execution_count": 140,
   "id": "de67d8ed-ff4f-412e-83f8-fa6661f8508e",
   "metadata": {},
   "outputs": [
    {
     "name": "stdout",
     "output_type": "stream",
     "text": [
      "(36786, 15)\n"
     ]
    }
   ],
   "source": [
    "print(df_test[(df_test['main_cat']=='All Electronics')&(df_test['verified']=='true')].shape)"
   ]
  },
  {
   "cell_type": "code",
   "execution_count": 147,
   "id": "8edb1777-d6f0-4a06-99b4-ae9e1b1ef9b5",
   "metadata": {},
   "outputs": [],
   "source": [
    "conteo_reviews = df_test.groupby('vote').count()['asin']"
   ]
  },
  {
   "cell_type": "code",
   "execution_count": 174,
   "id": "200cd538-0e5d-4b1d-8452-5c87e6b10541",
   "metadata": {},
   "outputs": [],
   "source": [
    "df_votes_count = conteo_reviews.reset_index(name='count').sort_values(by='count', ascending=False).head(25).reset_index()"
   ]
  },
  {
   "cell_type": "code",
   "execution_count": 177,
   "id": "fc91a03d-4382-4833-9e91-f00a66b6e2b0",
   "metadata": {},
   "outputs": [
    {
     "data": {
      "image/png": "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",
      "text/plain": [
       "<Figure size 640x480 with 1 Axes>"
      ]
     },
     "metadata": {},
     "output_type": "display_data"
    }
   ],
   "source": [
    "# Check how is the distribution of relevant reviews (based on the total votes per review)\n",
    "import matplotlib.pyplot as plt\n",
    "df_votes_count.plot.scatter(x='vote', y='count')\n",
    "plt.show()"
   ]
  },
  {
   "cell_type": "code",
   "execution_count": 176,
<<<<<<< Updated upstream
   "id": "8848dafb-d2f4-4397-b739-6d6b47f6b20c",
=======
   "id": "8d051db2-a3d3-4af9-8772-6a43c6d4e13d",
>>>>>>> Stashed changes
   "metadata": {},
   "outputs": [
    {
     "data": {
      "text/html": [
       "<div>\n",
       "<style scoped>\n",
       "    .dataframe tbody tr th:only-of-type {\n",
       "        vertical-align: middle;\n",
       "    }\n",
       "\n",
       "    .dataframe tbody tr th {\n",
       "        vertical-align: top;\n",
       "    }\n",
       "\n",
       "    .dataframe thead th {\n",
       "        text-align: right;\n",
       "    }\n",
       "</style>\n",
       "<table border=\"1\" class=\"dataframe\">\n",
       "  <thead>\n",
       "    <tr style=\"text-align: right;\">\n",
       "      <th></th>\n",
       "      <th>main_cat</th>\n",
       "      <th>count</th>\n",
       "    </tr>\n",
       "  </thead>\n",
       "  <tbody>\n",
       "    <tr>\n",
       "      <th>11</th>\n",
       "      <td>Books</td>\n",
       "      <td>1511927</td>\n",
       "    </tr>\n",
       "    <tr>\n",
       "      <th>4</th>\n",
       "      <td>Amazon Home</td>\n",
       "      <td>485546</td>\n",
       "    </tr>\n",
       "    <tr>\n",
       "      <th>37</th>\n",
       "      <td>Sports &amp; Outdoors</td>\n",
       "      <td>404794</td>\n",
       "    </tr>\n",
       "    <tr>\n",
       "      <th>30</th>\n",
       "      <td>Movies &amp; TV</td>\n",
       "      <td>252303</td>\n",
       "    </tr>\n",
       "    <tr>\n",
       "      <th>16</th>\n",
       "      <td>Cell Phones &amp; Accessories</td>\n",
       "      <td>245203</td>\n",
       "    </tr>\n",
       "    <tr>\n",
       "      <th>34</th>\n",
       "      <td>Pet Supplies</td>\n",
       "      <td>216963</td>\n",
       "    </tr>\n",
       "    <tr>\n",
       "      <th>6</th>\n",
       "      <td>Arts, Crafts &amp; Sewing</td>\n",
       "      <td>91769</td>\n",
       "    </tr>\n",
       "    <tr>\n",
       "      <th>18</th>\n",
       "      <td>Computers</td>\n",
       "      <td>76135</td>\n",
       "    </tr>\n",
       "    <tr>\n",
       "      <th>40</th>\n",
       "      <td>Tools &amp; Home Improvement</td>\n",
       "      <td>63153</td>\n",
       "    </tr>\n",
       "    <tr>\n",
       "      <th>22</th>\n",
       "      <td>Grocery</td>\n",
       "      <td>47445</td>\n",
       "    </tr>\n",
       "    <tr>\n",
       "      <th>9</th>\n",
       "      <td>Automotive</td>\n",
       "      <td>43435</td>\n",
       "    </tr>\n",
       "    <tr>\n",
       "      <th>2</th>\n",
       "      <td>All Electronics</td>\n",
       "      <td>41111</td>\n",
       "    </tr>\n",
       "    <tr>\n",
       "      <th>33</th>\n",
       "      <td>Office Products</td>\n",
       "      <td>35324</td>\n",
       "    </tr>\n",
       "    <tr>\n",
       "      <th>42</th>\n",
       "      <td>Toys &amp; Games</td>\n",
       "      <td>29875</td>\n",
       "    </tr>\n",
       "    <tr>\n",
       "      <th>36</th>\n",
       "      <td>Software</td>\n",
       "      <td>27978</td>\n",
       "    </tr>\n",
       "    <tr>\n",
       "      <th>44</th>\n",
       "      <td>Video Games</td>\n",
       "      <td>27361</td>\n",
       "    </tr>\n",
       "    <tr>\n",
       "      <th>23</th>\n",
       "      <td>Health &amp; Personal Care</td>\n",
       "      <td>24183</td>\n",
       "    </tr>\n",
       "    <tr>\n",
       "      <th>13</th>\n",
       "      <td>Camera &amp; Photo</td>\n",
       "      <td>23057</td>\n",
       "    </tr>\n",
       "    <tr>\n",
       "      <th>0</th>\n",
       "      <td>Alexa Skills</td>\n",
       "      <td>23021</td>\n",
       "    </tr>\n",
       "    <tr>\n",
       "      <th>25</th>\n",
       "      <td>Home Audio &amp; Theater</td>\n",
       "      <td>21199</td>\n",
       "    </tr>\n",
       "    <tr>\n",
       "      <th>27</th>\n",
       "      <td>Industrial &amp; Scientific</td>\n",
       "      <td>13704</td>\n",
       "    </tr>\n",
       "    <tr>\n",
       "      <th>32</th>\n",
       "      <td>Musical Instruments</td>\n",
       "      <td>8027</td>\n",
       "    </tr>\n",
       "    <tr>\n",
       "      <th>10</th>\n",
       "      <td>Baby</td>\n",
       "      <td>7878</td>\n",
       "    </tr>\n",
       "    <tr>\n",
       "      <th>12</th>\n",
       "      <td>Buy a Kindle</td>\n",
       "      <td>5173</td>\n",
       "    </tr>\n",
       "    <tr>\n",
       "      <th>29</th>\n",
       "      <td>Luxury Beauty</td>\n",
       "      <td>5026</td>\n",
       "    </tr>\n",
       "    <tr>\n",
       "      <th>1</th>\n",
       "      <td>All Beauty</td>\n",
       "      <td>4566</td>\n",
       "    </tr>\n",
       "    <tr>\n",
       "      <th>15</th>\n",
       "      <td>Car Electronics</td>\n",
       "      <td>2876</td>\n",
       "    </tr>\n",
       "    <tr>\n",
       "      <th>35</th>\n",
       "      <td>Portable Audio &amp; Accessories</td>\n",
       "      <td>1352</td>\n",
       "    </tr>\n",
       "    <tr>\n",
       "      <th>3</th>\n",
       "      <td>Amazon Devices</td>\n",
       "      <td>863</td>\n",
       "    </tr>\n",
       "    <tr>\n",
       "      <th>5</th>\n",
       "      <td>Appliances</td>\n",
       "      <td>664</td>\n",
       "    </tr>\n",
       "    <tr>\n",
       "      <th>21</th>\n",
       "      <td>GPS &amp; Navigation</td>\n",
       "      <td>294</td>\n",
       "    </tr>\n",
       "    <tr>\n",
       "      <th>43</th>\n",
       "      <td>Toys &amp;amp; Games</td>\n",
       "      <td>112</td>\n",
       "    </tr>\n",
       "    <tr>\n",
       "      <th>26</th>\n",
       "      <td>Home Audio &amp;amp; Theater</td>\n",
       "      <td>87</td>\n",
       "    </tr>\n",
       "    <tr>\n",
       "      <th>8</th>\n",
       "      <td>Audible Audiobooks</td>\n",
       "      <td>76</td>\n",
       "    </tr>\n",
       "    <tr>\n",
       "      <th>28</th>\n",
       "      <td>Industrial &amp;amp; Scientific</td>\n",
       "      <td>50</td>\n",
       "    </tr>\n",
       "    <tr>\n",
       "      <th>41</th>\n",
       "      <td>Tools &amp;amp; Home Improvement</td>\n",
       "      <td>37</td>\n",
       "    </tr>\n",
       "    <tr>\n",
       "      <th>24</th>\n",
       "      <td>Health &amp;amp; Personal Care</td>\n",
       "      <td>37</td>\n",
       "    </tr>\n",
       "    <tr>\n",
       "      <th>7</th>\n",
       "      <td>Arts, Crafts &amp;amp; Sewing</td>\n",
       "      <td>29</td>\n",
       "    </tr>\n",
       "    <tr>\n",
       "      <th>19</th>\n",
       "      <td>Entertainment</td>\n",
       "      <td>28</td>\n",
       "    </tr>\n",
       "    <tr>\n",
       "      <th>20</th>\n",
       "      <td>Fire Phone</td>\n",
       "      <td>24</td>\n",
       "    </tr>\n",
       "    <tr>\n",
       "      <th>38</th>\n",
       "      <td>Sports &amp;amp; Outdoors</td>\n",
       "      <td>24</td>\n",
       "    </tr>\n",
       "    <tr>\n",
       "      <th>39</th>\n",
       "      <td>Sports Collectibles</td>\n",
       "      <td>19</td>\n",
       "    </tr>\n",
       "    <tr>\n",
       "      <th>17</th>\n",
       "      <td>Cell Phones &amp;amp; Accessories</td>\n",
       "      <td>14</td>\n",
       "    </tr>\n",
       "    <tr>\n",
       "      <th>14</th>\n",
       "      <td>Camera &amp;amp; Photo</td>\n",
       "      <td>2</td>\n",
       "    </tr>\n",
       "    <tr>\n",
       "      <th>31</th>\n",
       "      <td>Movies &amp;amp; TV</td>\n",
       "      <td>2</td>\n",
       "    </tr>\n",
       "  </tbody>\n",
       "</table>\n",
       "</div>"
      ],
      "text/plain": [
       "                         main_cat    count\n",
       "11                          Books  1511927\n",
       "4                     Amazon Home   485546\n",
       "37              Sports & Outdoors   404794\n",
       "30                    Movies & TV   252303\n",
       "16      Cell Phones & Accessories   245203\n",
       "34                   Pet Supplies   216963\n",
       "6           Arts, Crafts & Sewing    91769\n",
       "18                      Computers    76135\n",
       "40       Tools & Home Improvement    63153\n",
       "22                        Grocery    47445\n",
       "9                      Automotive    43435\n",
       "2                 All Electronics    41111\n",
       "33                Office Products    35324\n",
       "42                   Toys & Games    29875\n",
       "36                       Software    27978\n",
       "44                    Video Games    27361\n",
       "23         Health & Personal Care    24183\n",
       "13                 Camera & Photo    23057\n",
       "0                    Alexa Skills    23021\n",
       "25           Home Audio & Theater    21199\n",
       "27        Industrial & Scientific    13704\n",
       "32            Musical Instruments     8027\n",
       "10                           Baby     7878\n",
       "12                   Buy a Kindle     5173\n",
       "29                  Luxury Beauty     5026\n",
       "1                      All Beauty     4566\n",
       "15                Car Electronics     2876\n",
       "35   Portable Audio & Accessories     1352\n",
       "3                  Amazon Devices      863\n",
       "5                      Appliances      664\n",
       "21               GPS & Navigation      294\n",
       "43               Toys &amp; Games      112\n",
       "26       Home Audio &amp; Theater       87\n",
       "8              Audible Audiobooks       76\n",
       "28    Industrial &amp; Scientific       50\n",
       "41   Tools &amp; Home Improvement       37\n",
       "24     Health &amp; Personal Care       37\n",
       "7       Arts, Crafts &amp; Sewing       29\n",
       "19                  Entertainment       28\n",
       "20                     Fire Phone       24\n",
       "38          Sports &amp; Outdoors       24\n",
       "39            Sports Collectibles       19\n",
       "17  Cell Phones &amp; Accessories       14\n",
       "14             Camera &amp; Photo        2\n",
       "31                Movies &amp; TV        2"
      ]
     },
     "execution_count": 176,
     "metadata": {},
     "output_type": "execute_result"
    }
   ],
   "source": [
    "df_test.groupby('main_cat').count()['asin'].reset_index(name='count').sort_values(by='count', ascending=False)"
   ]
  }
 ],
 "metadata": {
  "kernelspec": {
   "display_name": "Python 3 (ipykernel)",
   "language": "python",
   "name": "python3"
  },
  "language_info": {
   "codemirror_mode": {
    "name": "ipython",
    "version": 3
   },
   "file_extension": ".py",
   "mimetype": "text/x-python",
   "name": "python",
   "nbconvert_exporter": "python",
   "pygments_lexer": "ipython3",
   "version": "3.11.4"
  }
 },
 "nbformat": 4,
 "nbformat_minor": 5
}
