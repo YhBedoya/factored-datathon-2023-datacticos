{
 "cells": [
  {
   "cell_type": "code",
   "execution_count": 20,
   "metadata": {},
   "outputs": [
    {
     "name": "stdout",
     "output_type": "stream",
     "text": [
      "['dummy_data/amazon_reviews\\\\partition_1\\\\part-00000-tid-9136122565017344171-3f98196e-e0c5-4bb5-90cc-d523170ef713-86080-1-c000.json.gz', 'dummy_data/amazon_reviews\\\\partition_2\\\\part-00000-tid-3563586395744623593-6cf89272-204c-4842-8213-a9fededc6c3e-86436-1-c000.json.gz']\n"
     ]
    }
   ],
   "source": [
    "from glob2 import glob\n",
    "jsonFiles = glob('dummy_data/amazon_reviews/**/*.json.gz')\n",
    "print(jsonFiles)"
   ]
  },
  {
   "cell_type": "code",
   "execution_count": 21,
   "metadata": {},
   "outputs": [],
   "source": [
    "import pandas as pd\n",
    "dfList = []\n",
    "for jsonFile in jsonFiles:\n",
    "    df = pd.read_json(jsonFile, lines=True,compression='gzip')\n",
    "    dfList.append(df)\n",
    "    \n",
    "dfAll = pd.concat(dfList, axis=0)"
   ]
  },
  {
   "cell_type": "code",
   "execution_count": 22,
   "metadata": {},
   "outputs": [
    {
     "data": {
      "text/plain": [
       "111866"
      ]
     },
     "execution_count": 22,
     "metadata": {},
     "output_type": "execute_result"
    }
   ],
   "source": [
    "len(dfAll)"
   ]
  },
  {
   "cell_type": "code",
   "execution_count": 23,
   "metadata": {},
   "outputs": [
    {
     "data": {
      "text/html": [
       "<div>\n",
       "<style scoped>\n",
       "    .dataframe tbody tr th:only-of-type {\n",
       "        vertical-align: middle;\n",
       "    }\n",
       "\n",
       "    .dataframe tbody tr th {\n",
       "        vertical-align: top;\n",
       "    }\n",
       "\n",
       "    .dataframe thead th {\n",
       "        text-align: right;\n",
       "    }\n",
       "</style>\n",
       "<table border=\"1\" class=\"dataframe\">\n",
       "  <thead>\n",
       "    <tr style=\"text-align: right;\">\n",
       "      <th></th>\n",
       "      <th>asin</th>\n",
       "      <th>overall</th>\n",
       "      <th>reviewText</th>\n",
       "      <th>reviewerID</th>\n",
       "      <th>reviewerName</th>\n",
       "      <th>summary</th>\n",
       "      <th>unixReviewTime</th>\n",
       "      <th>verified</th>\n",
       "      <th>style</th>\n",
       "      <th>vote</th>\n",
       "      <th>image</th>\n",
       "    </tr>\n",
       "  </thead>\n",
       "  <tbody>\n",
       "    <tr>\n",
       "      <th>0</th>\n",
       "      <td>B00005QDPX</td>\n",
       "      <td>5</td>\n",
       "      <td>Crazy Taxi is by far one of the best video gam...</td>\n",
       "      <td>A36TDX8DY2XK5Q</td>\n",
       "      <td>Some Kid</td>\n",
       "      <td>It's Party Time! Let's Have Some Fun!</td>\n",
       "      <td>1054252800</td>\n",
       "      <td>false</td>\n",
       "      <td>NaN</td>\n",
       "      <td>NaN</td>\n",
       "      <td>NaN</td>\n",
       "    </tr>\n",
       "    <tr>\n",
       "      <th>1</th>\n",
       "      <td>B000MXIMKK</td>\n",
       "      <td>4</td>\n",
       "      <td>I love these pants!\\n\\nFor those of us who sla...</td>\n",
       "      <td>AZZ1YPRM2FAUH</td>\n",
       "      <td>David Colgrove</td>\n",
       "      <td>Durable, good looking slacks at a reasonable p...</td>\n",
       "      <td>1459900800</td>\n",
       "      <td>true</td>\n",
       "      <td>{\"Size:\":\" 33W x 30L\",\"Color:\":\" Graphite\"}</td>\n",
       "      <td>6.0</td>\n",
       "      <td>NaN</td>\n",
       "    </tr>\n",
       "    <tr>\n",
       "      <th>2</th>\n",
       "      <td>B00005QDPX</td>\n",
       "      <td>2</td>\n",
       "      <td>Anyone who hasn't played this game should rent...</td>\n",
       "      <td>A3PASG15BRR40D</td>\n",
       "      <td>SleepyJD</td>\n",
       "      <td>A fun game that gets old too quickly</td>\n",
       "      <td>1049414400</td>\n",
       "      <td>false</td>\n",
       "      <td>NaN</td>\n",
       "      <td>NaN</td>\n",
       "      <td>NaN</td>\n",
       "    </tr>\n",
       "    <tr>\n",
       "      <th>3</th>\n",
       "      <td>B000MXIMKK</td>\n",
       "      <td>5</td>\n",
       "      <td>Great pants and nice crease.</td>\n",
       "      <td>A388UHKJN07JJT</td>\n",
       "      <td>TJK</td>\n",
       "      <td>Great Product</td>\n",
       "      <td>1459900800</td>\n",
       "      <td>true</td>\n",
       "      <td>{\"Size:\":\" 42W x 30L\",\"Color:\":\" Black\"}</td>\n",
       "      <td>NaN</td>\n",
       "      <td>NaN</td>\n",
       "    </tr>\n",
       "    <tr>\n",
       "      <th>4</th>\n",
       "      <td>B00005QDPX</td>\n",
       "      <td>4</td>\n",
       "      <td>In this game you choose a driver and car then ...</td>\n",
       "      <td>A29YLR71A42A3N</td>\n",
       "      <td>Amazon Customer</td>\n",
       "      <td>Fun and Entertaining</td>\n",
       "      <td>1040860800</td>\n",
       "      <td>false</td>\n",
       "      <td>NaN</td>\n",
       "      <td>3.0</td>\n",
       "      <td>NaN</td>\n",
       "    </tr>\n",
       "  </tbody>\n",
       "</table>\n",
       "</div>"
      ],
      "text/plain": [
       "         asin  overall                                         reviewText  \\\n",
       "0  B00005QDPX        5  Crazy Taxi is by far one of the best video gam...   \n",
       "1  B000MXIMKK        4  I love these pants!\\n\\nFor those of us who sla...   \n",
       "2  B00005QDPX        2  Anyone who hasn't played this game should rent...   \n",
       "3  B000MXIMKK        5                       Great pants and nice crease.   \n",
       "4  B00005QDPX        4  In this game you choose a driver and car then ...   \n",
       "\n",
       "       reviewerID     reviewerName  \\\n",
       "0  A36TDX8DY2XK5Q         Some Kid   \n",
       "1   AZZ1YPRM2FAUH   David Colgrove   \n",
       "2  A3PASG15BRR40D         SleepyJD   \n",
       "3  A388UHKJN07JJT              TJK   \n",
       "4  A29YLR71A42A3N  Amazon Customer   \n",
       "\n",
       "                                             summary  unixReviewTime verified  \\\n",
       "0              It's Party Time! Let's Have Some Fun!      1054252800    false   \n",
       "1  Durable, good looking slacks at a reasonable p...      1459900800     true   \n",
       "2               A fun game that gets old too quickly      1049414400    false   \n",
       "3                                      Great Product      1459900800     true   \n",
       "4                               Fun and Entertaining      1040860800    false   \n",
       "\n",
       "                                         style  vote image  \n",
       "0                                          NaN   NaN   NaN  \n",
       "1  {\"Size:\":\" 33W x 30L\",\"Color:\":\" Graphite\"}   6.0   NaN  \n",
       "2                                          NaN   NaN   NaN  \n",
       "3     {\"Size:\":\" 42W x 30L\",\"Color:\":\" Black\"}   NaN   NaN  \n",
       "4                                          NaN   3.0   NaN  "
      ]
     },
     "execution_count": 23,
     "metadata": {},
     "output_type": "execute_result"
    }
   ],
   "source": [
    "dfAll.head()"
   ]
  },
  {
   "cell_type": "code",
   "execution_count": 24,
   "metadata": {},
   "outputs": [
    {
     "data": {
      "text/plain": [
       "asin                   0\n",
       "overall                0\n",
       "reviewText            52\n",
       "reviewerID             0\n",
       "reviewerName           0\n",
       "summary               22\n",
       "unixReviewTime         0\n",
       "verified               0\n",
       "style              49217\n",
       "vote               88369\n",
       "image             111252\n",
       "dtype: int64"
      ]
     },
     "execution_count": 24,
     "metadata": {},
     "output_type": "execute_result"
    }
   ],
   "source": [
    "dfAll.isna().sum()"
   ]
  },
  {
   "cell_type": "code",
   "execution_count": null,
   "metadata": {},
   "outputs": [],
   "source": []
  }
 ],
 "metadata": {
  "kernelspec": {
   "display_name": "datathon",
   "language": "python",
   "name": "python3"
  },
  "language_info": {
   "codemirror_mode": {
    "name": "ipython",
    "version": 3
   },
   "file_extension": ".py",
   "mimetype": "text/x-python",
   "name": "python",
   "nbconvert_exporter": "python",
   "pygments_lexer": "ipython3",
   "version": "3.11.2"
  },
  "orig_nbformat": 4
 },
 "nbformat": 4,
 "nbformat_minor": 2
}
