{
 "cells": [
  {
   "cell_type": "markdown",
   "metadata": {},
   "source": [
    "# Streaming Connection "
   ]
  },
  {
   "cell_type": "code",
   "execution_count": 3,
   "metadata": {},
   "outputs": [
    {
     "name": "stderr",
     "output_type": "stream",
     "text": [
      "INFO:azure.eventhub._eventprocessor.event_processor:EventProcessor '8eb6742c-b537-44dc-ba0e-d754544ba1a7' is being started\n",
      "INFO:azure.eventhub._pyamqp._connection:Connection state changed: None -> <ConnectionState.START: 0>\n",
      "INFO:azure.eventhub._pyamqp._connection:Connection state changed: <ConnectionState.START: 0> -> <ConnectionState.HDR_SENT: 2>\n",
      "INFO:azure.eventhub._pyamqp._connection:Connection state changed: <ConnectionState.HDR_SENT: 2> -> <ConnectionState.HDR_SENT: 2>\n",
      "INFO:azure.eventhub._pyamqp._connection:Connection state changed: <ConnectionState.HDR_SENT: 2> -> <ConnectionState.OPEN_PIPE: 4>\n",
      "INFO:azure.eventhub._pyamqp.session:Session state changed: <SessionState.UNMAPPED: 0> -> <SessionState.BEGIN_SENT: 1>\n",
      "INFO:azure.eventhub._pyamqp.link:Link state changed: <LinkState.DETACHED: 0> -> <LinkState.ATTACH_SENT: 1>\n",
      "INFO:azure.eventhub._pyamqp.management_link:Management link receiver state changed: <LinkState.DETACHED: 0> -> <LinkState.ATTACH_SENT: 1>\n",
      "INFO:azure.eventhub._pyamqp.link:Link state changed: <LinkState.DETACHED: 0> -> <LinkState.ATTACH_SENT: 1>\n",
      "INFO:azure.eventhub._pyamqp.management_link:Management link sender state changed: <LinkState.DETACHED: 0> -> <LinkState.ATTACH_SENT: 1>\n",
      "INFO:azure.eventhub._pyamqp._connection:Connection state changed: <ConnectionState.OPEN_PIPE: 4> -> <ConnectionState.OPEN_SENT: 7>\n",
      "INFO:azure.eventhub._pyamqp._connection:Connection state changed: <ConnectionState.OPEN_SENT: 7> -> <ConnectionState.OPENED: 9>\n",
      "INFO:azure.eventhub._pyamqp.session:Session state changed: <SessionState.BEGIN_SENT: 1> -> <SessionState.MAPPED: 3>\n",
      "INFO:azure.eventhub._pyamqp.link:Link state changed: <LinkState.ATTACH_SENT: 1> -> <LinkState.ATTACHED: 3>\n",
      "INFO:azure.eventhub._pyamqp.management_link:Management link receiver state changed: <LinkState.ATTACH_SENT: 1> -> <LinkState.ATTACHED: 3>\n",
      "INFO:azure.eventhub._pyamqp.link:Link state changed: <LinkState.ATTACH_SENT: 1> -> <LinkState.ATTACHED: 3>\n",
      "INFO:azure.eventhub._pyamqp.management_link:Management link sender state changed: <LinkState.ATTACH_SENT: 1> -> <LinkState.ATTACHED: 3>\n",
      "INFO:azure.eventhub._pyamqp.link:Link state changed: <LinkState.DETACHED: 0> -> <LinkState.ATTACH_SENT: 1>\n",
      "INFO:azure.eventhub._pyamqp.management_link:Management link receiver state changed: <LinkState.DETACHED: 0> -> <LinkState.ATTACH_SENT: 1>\n",
      "INFO:azure.eventhub._pyamqp.link:Link state changed: <LinkState.DETACHED: 0> -> <LinkState.ATTACH_SENT: 1>\n",
      "INFO:azure.eventhub._pyamqp.management_link:Management link sender state changed: <LinkState.DETACHED: 0> -> <LinkState.ATTACH_SENT: 1>\n",
      "INFO:azure.eventhub._pyamqp.link:Link state changed: <LinkState.ATTACH_SENT: 1> -> <LinkState.ATTACHED: 3>\n",
      "INFO:azure.eventhub._pyamqp.management_link:Management link receiver state changed: <LinkState.ATTACH_SENT: 1> -> <LinkState.ATTACHED: 3>\n",
      "INFO:azure.eventhub._pyamqp.link:Link state changed: <LinkState.ATTACH_SENT: 1> -> <LinkState.ATTACHED: 3>\n",
      "INFO:azure.eventhub._pyamqp.management_link:Management link sender state changed: <LinkState.ATTACH_SENT: 1> -> <LinkState.ATTACHED: 3>\n",
      "INFO:azure.eventhub._pyamqp.link:Link state changed: <LinkState.ATTACHED: 3> -> <LinkState.DETACH_SENT: 4>\n",
      "INFO:azure.eventhub._pyamqp.management_link:Management link receiver state changed: <LinkState.ATTACHED: 3> -> <LinkState.DETACH_SENT: 4>\n",
      "INFO:azure.eventhub._pyamqp.link:Link state changed: <LinkState.ATTACHED: 3> -> <LinkState.DETACH_SENT: 4>\n",
      "INFO:azure.eventhub._pyamqp.management_link:Management link sender state changed: <LinkState.ATTACHED: 3> -> <LinkState.DETACH_SENT: 4>\n",
      "INFO:azure.eventhub._pyamqp.link:Link state changed: <LinkState.ATTACHED: 3> -> <LinkState.DETACH_SENT: 4>\n",
      "INFO:azure.eventhub._pyamqp.management_link:Management link sender state changed: <LinkState.ATTACHED: 3> -> <LinkState.DETACH_SENT: 4>\n",
      "INFO:azure.eventhub._pyamqp.link:Link state changed: <LinkState.ATTACHED: 3> -> <LinkState.DETACH_SENT: 4>\n",
      "INFO:azure.eventhub._pyamqp.management_link:Management link receiver state changed: <LinkState.ATTACHED: 3> -> <LinkState.DETACH_SENT: 4>\n",
      "INFO:azure.eventhub._pyamqp.session:Session state changed: <SessionState.MAPPED: 3> -> <SessionState.END_SENT: 4>\n",
      "INFO:azure.eventhub._pyamqp._connection:Connection state changed: <ConnectionState.OPENED: 9> -> <ConnectionState.CLOSE_SENT: 11>\n",
      "INFO:azure.eventhub._pyamqp._connection:Connection state changed: <ConnectionState.CLOSE_SENT: 11> -> <ConnectionState.END: 13>\n",
      "INFO:azure.eventhub._pyamqp.session:Session state changed: <SessionState.END_SENT: 4> -> <SessionState.DISCARDING: 6>\n",
      "INFO:azure.eventhub._pyamqp.link:Link state changed: <LinkState.DETACH_SENT: 4> -> <LinkState.DETACHED: 0>\n",
      "INFO:azure.eventhub._pyamqp.management_link:Management link sender state changed: <LinkState.DETACH_SENT: 4> -> <LinkState.DETACHED: 0>\n",
      "INFO:azure.eventhub._pyamqp.link:Link state changed: <LinkState.DETACH_SENT: 4> -> <LinkState.DETACHED: 0>\n",
      "INFO:azure.eventhub._pyamqp.management_link:Management link receiver state changed: <LinkState.DETACH_SENT: 4> -> <LinkState.DETACHED: 0>\n",
      "INFO:azure.eventhub._pyamqp.link:Link state changed: <LinkState.DETACH_SENT: 4> -> <LinkState.DETACHED: 0>\n",
      "INFO:azure.eventhub._pyamqp.management_link:Management link sender state changed: <LinkState.DETACH_SENT: 4> -> <LinkState.DETACHED: 0>\n",
      "INFO:azure.eventhub._pyamqp.link:Link state changed: <LinkState.DETACH_SENT: 4> -> <LinkState.DETACHED: 0>\n",
      "INFO:azure.eventhub._pyamqp.management_link:Management link receiver state changed: <LinkState.DETACH_SENT: 4> -> <LinkState.DETACHED: 0>\n",
      "INFO:azure.eventhub._eventprocessor.event_processor:EventProcessor '8eb6742c-b537-44dc-ba0e-d754544ba1a7' has claimed partition '0'\n",
      "INFO:azure.eventhub._pyamqp._connection:Connection state changed: None -> <ConnectionState.START: 0>\n",
      "INFO:azure.eventhub._pyamqp._connection:Connection state changed: <ConnectionState.START: 0> -> <ConnectionState.HDR_SENT: 2>\n",
      "INFO:azure.eventhub._pyamqp._connection:Connection state changed: <ConnectionState.HDR_SENT: 2> -> <ConnectionState.HDR_SENT: 2>\n",
      "INFO:azure.eventhub._pyamqp._connection:Connection state changed: <ConnectionState.HDR_SENT: 2> -> <ConnectionState.OPEN_PIPE: 4>\n",
      "INFO:azure.eventhub._pyamqp.session:Session state changed: <SessionState.UNMAPPED: 0> -> <SessionState.BEGIN_SENT: 1>\n",
      "INFO:azure.eventhub._pyamqp.link:Link state changed: <LinkState.DETACHED: 0> -> <LinkState.ATTACH_SENT: 1>\n",
      "INFO:azure.eventhub._pyamqp.management_link:Management link receiver state changed: <LinkState.DETACHED: 0> -> <LinkState.ATTACH_SENT: 1>\n",
      "INFO:azure.eventhub._pyamqp.link:Link state changed: <LinkState.DETACHED: 0> -> <LinkState.ATTACH_SENT: 1>\n",
      "INFO:azure.eventhub._pyamqp.management_link:Management link sender state changed: <LinkState.DETACHED: 0> -> <LinkState.ATTACH_SENT: 1>\n",
      "INFO:azure.eventhub._pyamqp._connection:Connection state changed: <ConnectionState.OPEN_PIPE: 4> -> <ConnectionState.OPEN_SENT: 7>\n",
      "INFO:azure.eventhub._pyamqp._connection:Connection state changed: <ConnectionState.OPEN_SENT: 7> -> <ConnectionState.OPENED: 9>\n",
      "INFO:azure.eventhub._pyamqp.session:Session state changed: <SessionState.BEGIN_SENT: 1> -> <SessionState.MAPPED: 3>\n",
      "INFO:azure.eventhub._pyamqp.link:Link state changed: <LinkState.ATTACH_SENT: 1> -> <LinkState.ATTACHED: 3>\n",
      "INFO:azure.eventhub._pyamqp.management_link:Management link receiver state changed: <LinkState.ATTACH_SENT: 1> -> <LinkState.ATTACHED: 3>\n",
      "INFO:azure.eventhub._pyamqp.link:Link state changed: <LinkState.ATTACH_SENT: 1> -> <LinkState.ATTACHED: 3>\n",
      "INFO:azure.eventhub._pyamqp.management_link:Management link sender state changed: <LinkState.ATTACH_SENT: 1> -> <LinkState.ATTACHED: 3>\n",
      "INFO:azure.eventhub._pyamqp.link:Link state changed: <LinkState.DETACHED: 0> -> <LinkState.ATTACH_SENT: 1>\n",
      "INFO:azure.eventhub._pyamqp.link:Link state changed: <LinkState.ATTACH_SENT: 1> -> <LinkState.ATTACHED: 3>\n",
      "WARNING:azure.eventhub._eventprocessor.event_processor:EventProcessor instance '8eb6742c-b537-44dc-ba0e-d754544ba1a7' of eventhub 'factored_datathon_amazon_reviews_1' partition '0' consumer group 'datacticos'. An error occurred while receiving. The exception is Exception('Stop reading after receiving one event').\n",
      "INFO:azure.eventhub._pyamqp.link:Link state changed: <LinkState.ATTACHED: 3> -> <LinkState.DETACH_SENT: 4>\n",
      "INFO:azure.eventhub._pyamqp.link:Link state changed: <LinkState.ATTACHED: 3> -> <LinkState.DETACH_SENT: 4>\n",
      "INFO:azure.eventhub._pyamqp.management_link:Management link receiver state changed: <LinkState.ATTACHED: 3> -> <LinkState.DETACH_SENT: 4>\n",
      "INFO:azure.eventhub._pyamqp.link:Link state changed: <LinkState.ATTACHED: 3> -> <LinkState.DETACH_SENT: 4>\n",
      "INFO:azure.eventhub._pyamqp.management_link:Management link sender state changed: <LinkState.ATTACHED: 3> -> <LinkState.DETACH_SENT: 4>\n",
      "INFO:azure.eventhub._pyamqp.session:Session state changed: <SessionState.MAPPED: 3> -> <SessionState.END_SENT: 4>\n",
      "INFO:azure.eventhub._pyamqp._connection:Connection state changed: <ConnectionState.OPENED: 9> -> <ConnectionState.CLOSE_SENT: 11>\n",
      "INFO:azure.eventhub._pyamqp._connection:Connection state changed: <ConnectionState.CLOSE_SENT: 11> -> <ConnectionState.END: 13>\n",
      "INFO:azure.eventhub._pyamqp.session:Session state changed: <SessionState.END_SENT: 4> -> <SessionState.DISCARDING: 6>\n",
      "INFO:azure.eventhub._pyamqp.link:Link state changed: <LinkState.DETACH_SENT: 4> -> <LinkState.DETACHED: 0>\n",
      "INFO:azure.eventhub._pyamqp.management_link:Management link sender state changed: <LinkState.DETACH_SENT: 4> -> <LinkState.DETACHED: 0>\n",
      "INFO:azure.eventhub._pyamqp.link:Link state changed: <LinkState.DETACH_SENT: 4> -> <LinkState.DETACHED: 0>\n",
      "INFO:azure.eventhub._pyamqp.management_link:Management link receiver state changed: <LinkState.DETACH_SENT: 4> -> <LinkState.DETACHED: 0>\n",
      "INFO:azure.eventhub._pyamqp.link:Link state changed: <LinkState.DETACH_SENT: 4> -> <LinkState.DETACHED: 0>\n",
      "INFO:azure.eventhub._eventprocessor.event_processor:PartitionProcessor of EventProcessor instance '8eb6742c-b537-44dc-ba0e-d754544ba1a7' of eventhub 'factored_datathon_amazon_reviews_1' partition '0' consumer group 'datacticos' is being closed. Reason is: <CloseReason.OWNERSHIP_LOST: 1>\n",
      "INFO:azure.eventhub:Stopping event reception..\n",
      "INFO:azure.eventhub._eventprocessor.event_processor:EventProcessor '8eb6742c-b537-44dc-ba0e-d754544ba1a7' has been stopped.\n",
      "INFO:azure.eventhub._eventprocessor.event_processor:EventProcessor '8eb6742c-b537-44dc-ba0e-d754544ba1a7' has already been stopped.\n"
     ]
    }
   ],
   "source": [
    "import logging\n",
    "from azure.eventhub import EventHubConsumerClient\n",
    "import pandas as pd\n",
    "import threading\n",
    "#Create empty dataframe\n",
    "list_stream = []\n",
    "\n",
    "connection_str = 'Endpoint=sb://factored-datathon.servicebus.windows.net/;SharedAccessKeyName=datathon_group_1;SharedAccessKey=2GETvVt0FxyM0bo0Qau4inlmC/w3t4Uut+AEhAnAEgk=;EntityPath=factored_datathon_amazon_reviews_1'\n",
    "consumer_group = \"datacticos\"\n",
    "eventhub_name = \"factored_datathon_amazon_reviews_1\"\n",
    "client = EventHubConsumerClient.from_connection_string(connection_str, consumer_group, eventhub_name=eventhub_name)\n",
    "\n",
    "logger = logging.getLogger(\"azure.eventhub\")\n",
    "logging.basicConfig(level=logging.INFO)\n",
    "\n",
    "def on_event(partition_context, event):\n",
    "    #logger.info(\"Received event from partition {}\".format(partition_context.partition_id))\n",
    "    data_str=list(event.body)[0].decode('utf-8')\n",
    "    #convert string to json\n",
    "    list_stream.append(data_str)\n",
    "    #logger.info(data)\n",
    "    partition_context.update_checkpoint(event)\n",
    "    raise Exception(\"Stop reading after receiving one event\")\n",
    "\n",
    "def stop_reception():\n",
    "    logger.info(\"Stopping event reception..\")\n",
    "    client.close()\n",
    "    \n",
    "with client:\n",
    "    timer = threading.Timer(10.0, stop_reception)\n",
    "    timer.start()\n",
    "    \n",
    "    try:\n",
    "        client.receive(\n",
    "            on_event=on_event,\n",
    "            starting_position=\"-1\",  # \"-1\" is from the beginning of the partition.\n",
    "            max_wait_time=5,  # Timeout in seconds\n",
    "        )\n",
    "        # receive events from specified partition:\n",
    "        # client.receive(on_event=on_event, partition_id='0')\n",
    "    except KeyboardInterrupt:\n",
    "        logger.info(\"KeyboardInterrupt received. Stoping the client.\")\n",
    "    finally:\n",
    "        timer.cancel()"
   ]
  },
  {
   "cell_type": "code",
   "execution_count": 4,
   "metadata": {},
   "outputs": [
    {
     "data": {
      "text/plain": [
       "['{\"asin\":\"B0002F5GZW\",\"overall\":\"5.0\",\"reviewText\":\"Love this glock block!!! I use it when i tech color guard. Has a great piercing sound that carries throughout a football field. Totally worth the buy and does a way better job than just clapping or clicking sticks.\",\"reviewerID\":\"A2MLPDZBJ0CC7Q\",\"reviewerName\":\"Grants peranda\",\"summary\":\"5 & 6, 5, 6, 7, 8!\",\"verified\":\"true\",\"internal_partition\":\"0\",\"partition_number\":140006625}']"
      ]
     },
     "execution_count": 4,
     "metadata": {},
     "output_type": "execute_result"
    }
   ],
   "source": [
    "list_stream"
   ]
  }
 ],
 "metadata": {
  "kernelspec": {
   "display_name": "Python 3 (ipykernel)",
   "language": "python",
   "name": "python3"
  },
  "language_info": {
   "codemirror_mode": {
    "name": "ipython",
    "version": 3
   },
   "file_extension": ".py",
   "mimetype": "text/x-python",
   "name": "python",
   "nbconvert_exporter": "python",
   "pygments_lexer": "ipython3",
   "version": "3.11.4"
  }
 },
 "nbformat": 4,
 "nbformat_minor": 4
}
