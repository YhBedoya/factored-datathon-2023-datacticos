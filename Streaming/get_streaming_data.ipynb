{
 "cells": [
  {
   "cell_type": "code",
   "execution_count": null,
   "metadata": {},
   "outputs": [],
   "source": [
    "EVENT_HUB_CONN_STR=\"Endpoint=sb://factored-datathon.servicebus.windows.net/;SharedAccessKeyName=datathon_listener;SharedAccessKey=sJJnyi8GGTBAa55jY89kacoT6hXAzWx2B+AEhCPEKYE=;EntityPath=factored_datathon_amazon_review\"\n",
    "EVENTHUB_NAME=\"factored-datathon\""
   ]
  },
  {
   "cell_type": "code",
   "execution_count": null,
   "metadata": {},
   "outputs": [],
   "source": [
    "import os\n",
    "from azure.eventhub import EventHubConsumerClient\n",
    "\n",
    "\n",
    "consumer_client = EventHubConsumerClient.from_connection_string(\n",
    "    conn_str=EVENT_HUB_CONN_STR,\n",
    "    consumer_group='$Default',\n",
    "    eventhub_name=EVENTHUB_NAME,\n",
    ")\n",
    "\n",
    "with consumer_client:\n",
    "    # consumer_client is now ready to be used.\n",
    "    consumer_client.get_eventhub_properties()"
   ]
  },
  {
   "cell_type": "code",
   "execution_count": null,
   "metadata": {},
   "outputs": [],
   "source": [
    "import logging\n",
    "from azure.eventhub import EventHubConsumerClient\n",
    "\n",
    "client = EventHubConsumerClient.from_connection_string(\n",
    "    conn_str=EVENT_HUB_CONN_STR,\n",
    "    consumer_group='$Default',\n",
    "    eventhub_name=EVENTHUB_NAME,\n",
    ")\n",
    "\n",
    "logger = logging.getLogger(\"azure.eventhub\")\n",
    "logging.basicConfig(level=logging.INFO)\n",
    "\n",
    "def on_event(partition_context, event):\n",
    "    logger.info(\"Received event from partition {}\".format(partition_context.partition_id))\n",
    "    partition_context.update_checkpoint(event)\n",
    "    print(\"Received event from partition {}\".format(partition_context.partition_id))\n",
    "\n",
    "with client:\n",
    "    client.receive(\n",
    "        on_event=on_event,\n",
    "        starting_position=\"-1\",  # \"-1\" is from the beginning of the partition.\n",
    "    )\n",
    "    # receive events from specified partition:\n",
    "    # client.receive(on_event=on_event, partition_id='0')"
   ]
  },
  {
   "cell_type": "code",
   "execution_count": null,
   "metadata": {},
   "outputs": [],
   "source": [
    "import nest_asyncio\n",
    "nest_asyncio.apply()"
   ]
  },
  {
   "cell_type": "code",
   "execution_count": null,
   "metadata": {},
   "outputs": [],
   "source": [
    "import logging\n",
    "import asyncio\n",
    "from azure.eventhub.aio import EventHubConsumerClient\n",
    "\n",
    "logger = logging.getLogger(\"azure.eventhub\")\n",
    "logging.basicConfig(level=logging.INFO)\n",
    "\n",
    "async def on_event(partition_context, event):\n",
    "    logger.info(\"Received event from partition {}\".format(partition_context.partition_id))\n",
    "    print(\"Received event from partition {}\".format(partition_context.partition_id))\n",
    "    await partition_context.update_checkpoint(event)\n",
    "\n",
    "async def receive():\n",
    "    client = consumer_client = EventHubConsumerClient.from_connection_string(conn_str=EVENT_HUB_CONN_STR,consumer_group='$Default',eventhub_name=EVENTHUB_NAME,)\n",
    "    async with client:\n",
    "        await client.receive(\n",
    "            on_event=on_event,\n",
    "            starting_position=\"-1\",  # \"-1\" is from the beginning of the partition.\n",
    "        )\n",
    "        # receive events from specified partition:\n",
    "        # await client.receive(on_event=on_event, partition_id='0')\n",
    "\n",
    "if __name__ == '__main__':\n",
    "    loop = asyncio.get_event_loop()\n",
    "    loop.run_until_complete(receive())"
   ]
  },
  {
   "cell_type": "code",
   "execution_count": null,
   "metadata": {},
   "outputs": [],
   "source": []
  }
 ],
 "metadata": {
  "kernelspec": {
   "display_name": "datathon",
   "language": "python",
   "name": "python3"
  },
  "language_info": {
   "codemirror_mode": {
    "name": "ipython",
    "version": 3
   },
   "file_extension": ".py",
   "mimetype": "text/x-python",
   "name": "python",
   "nbconvert_exporter": "python",
   "pygments_lexer": "ipython3",
   "version": "3.11.2"
  },
  "orig_nbformat": 4
 },
 "nbformat": 4,
 "nbformat_minor": 2
}
