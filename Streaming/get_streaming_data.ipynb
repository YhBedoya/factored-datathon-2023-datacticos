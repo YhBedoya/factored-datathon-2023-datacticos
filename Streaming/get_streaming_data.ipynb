{
 "cells": [
  {
   "cell_type": "markdown",
   "metadata": {},
   "source": [
    "Async Connection"
   ]
  },
  {
   "cell_type": "code",
   "execution_count": null,
   "metadata": {},
   "outputs": [],
   "source": [
    "EVENT_HUB_CONN_STR='Endpoint=sb://factored-datathon.servicebus.windows.net/;SharedAccessKeyName=datathon_group_1;SharedAccessKey=2GETvVt0FxyM0bo0Qau4inlmC/w3t4Uut+AEhAnAEgk=;EntityPath=factored_datathon_amazon_reviews_1'\n",
    "EVENTHUB_NAME=\"factored_datathon_amazon_reviews_1\"\n",
    "CONSUMER_GROUP=\"datacticos\""
   ]
  },
  {
   "cell_type": "code",
   "execution_count": null,
   "metadata": {},
   "outputs": [],
   "source": [
    "import logging\n",
    "import asyncio\n",
    "from azure.eventhub.aio import EventHubConsumerClient\n",
    "\n",
    "import nest_asyncio\n",
    "nest_asyncio.apply()\n",
    "\n",
    "logger = logging.getLogger(\"azure.eventhub\")\n",
    "logging.basicConfig(level=logging.INFO)\n",
    "\n",
    "output_file = \"output_file_2.txt\"\n",
    "\n",
    "async def on_event(partition_context, event):\n",
    "    logger.info(\"Received event from partition {}\".format(partition_context.partition_id))\n",
    "    print(\"Received event from partition {}\".format(partition_context.partition_id))\n",
    "    \n",
    "    with open(output_file, \"a+\") as file:\n",
    "        file.write(f\"{list(event.body)}\\n\")\n",
    "\n",
    "    await partition_context.update_checkpoint(event)\n",
    "\n",
    "async def receive():\n",
    "    client =  EventHubConsumerClient.from_connection_string(conn_str=EVENT_HUB_CONN_STR,consumer_group=CONSUMER_GROUP,eventhub_name=EVENTHUB_NAME,)\n",
    "    async with client:\n",
    "        await client.receive(\n",
    "            on_event=on_event,\n",
    "            starting_position=\"-1\",  # \"-1\" is from the beginning of the partition.\n",
    "        )\n",
    "        # receive events from specified partition:\n",
    "        # await client.receive(on_event=on_event, partition_id='0')\n",
    "\n",
    "if __name__ == '__main__':\n",
    "    loop = asyncio.get_event_loop()\n",
    "    loop.run_until_complete(receive())"
   ]
  }
 ],
 "metadata": {
  "kernelspec": {
   "display_name": "datathon",
   "language": "python",
   "name": "python3"
  },
  "language_info": {
   "codemirror_mode": {
    "name": "ipython",
    "version": 3
   },
   "file_extension": ".py",
   "mimetype": "text/x-python",
   "name": "python",
   "nbconvert_exporter": "python",
   "pygments_lexer": "ipython3",
   "version": "3.11.2"
  },
  "orig_nbformat": 4
 },
 "nbformat": 4,
 "nbformat_minor": 2
}
