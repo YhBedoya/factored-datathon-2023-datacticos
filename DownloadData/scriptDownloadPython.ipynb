{
 "cells": [
  {
   "cell_type": "code",
   "execution_count": 17,
   "metadata": {},
   "outputs": [
    {
     "name": "stdout",
     "output_type": "stream",
     "text": [
      "File {'name': 'amazon_metadata', 'owner': '$superuser', 'group': '$superuser', 'permissions': 'rwxr-x---', 'last_modified': datetime.datetime(2023, 7, 18, 16, 26, 14), 'is_directory': True, 'etag': '0x8DB87ABB4F211B0', 'content_length': 0, 'creation_time': datetime.datetime(2023, 7, 18, 16, 26, 14, 797727, tzinfo=datetime.timezone.utc), 'expiry_time': None, 'encryption_scope': None, 'encryption_context': None} not downloadable\n",
      "File {'name': 'amazon_metadata/partition_1', 'owner': '$superuser', 'group': '$superuser', 'permissions': 'rwxr-x---', 'last_modified': datetime.datetime(2023, 7, 18, 16, 26, 14), 'is_directory': True, 'etag': '0x8DB87ABB4FDB088', 'content_length': 0, 'creation_time': datetime.datetime(2023, 7, 18, 16, 26, 14, 873894, tzinfo=datetime.timezone.utc), 'expiry_time': None, 'encryption_scope': None, 'encryption_context': None} not downloadable\n",
      "File downloaded: {'name': 'amazon_metadata/partition_1/part-00000-tid-3344574289433532396-3f817a27-d835-4855-8b64-d13674426898-1-1-c000.json.gz', 'owner': '$superuser', 'group': '$superuser', 'permissions': 'rw-r--r--', 'last_modified': datetime.datetime(2023, 7, 18, 16, 26, 19), 'is_directory': False, 'etag': '0x8DB87ABB78847CE', 'content_length': 6841288, 'creation_time': datetime.datetime(2023, 7, 18, 16, 26, 14, 986691, tzinfo=datetime.timezone.utc), 'expiry_time': None, 'encryption_scope': None, 'encryption_context': None}\n"
     ]
    }
   ],
   "source": [
    "from azure.storage.filedatalake import DataLakeServiceClient\n",
    "\n",
    "account_url = \"https://safactoreddatathon.dfs.core.windows.net\"\n",
    "sas_token = \"sp=rle&st=2023-07-25T18:12:36Z&se=2023-08-13T02:12:36Z&sv=2022-11-02&sr=c&sig=l2TCTwPWN8LSM922lR%2Fw78mZWQK2ErEOQDUaCJosIaw%3D\"\n",
    "\n",
    "data_lake_service_client = DataLakeServiceClient(account_url=account_url, credential=sas_token)\n",
    "file_system_client = data_lake_service_client.get_file_system_client(file_system=\"source-files\")\n",
    "directory_client = file_system_client.get_directory_client(\"/\")\n",
    "\n",
    "file_paths = file_system_client.get_paths()\n",
    "\n",
    "# Assuming file_paths is a list of file paths you want to download\n",
    "for file_path in file_paths:\n",
    "\n",
    "    try:\n",
    "        file_path_parts = file_path.name.split(\"/\")\n",
    "        file_name = file_path_parts[2]\n",
    "        if file_name[:4] == \"part\":\n",
    "\n",
    "            # Get the file client for the current file path\n",
    "            file_client = directory_client.get_file_client(file_path)\n",
    "\n",
    "            # Replace 'local_destination_path' with the path where you want to save the downloaded file\n",
    "            local_destination_path = \"/home/yhbedoya/Datathon/\" + file_path.name.split(\"/\")[-1]\n",
    "\n",
    "            # Download the file content\n",
    "            download = file_client.download_file()\n",
    "            file_content = download.readall()\n",
    "\n",
    "            # Save the file content to the local destination path\n",
    "            with open(local_destination_path, \"wb\") as file:\n",
    "                file.write(file_content)\n",
    "\n",
    "            print(f\"File downloaded: {file_path}\")\n",
    "            break\n",
    "    except:\n",
    "        pass"
   ]
  }
 ],
 "metadata": {
  "kernelspec": {
   "display_name": "DatacticosDT",
   "language": "python",
   "name": "python3"
  },
  "language_info": {
   "codemirror_mode": {
    "name": "ipython",
    "version": 3
   },
   "file_extension": ".py",
   "mimetype": "text/x-python",
   "name": "python",
   "nbconvert_exporter": "python",
   "pygments_lexer": "ipython3",
   "version": "3.10.12"
  },
  "orig_nbformat": 4
 },
 "nbformat": 4,
 "nbformat_minor": 2
}
